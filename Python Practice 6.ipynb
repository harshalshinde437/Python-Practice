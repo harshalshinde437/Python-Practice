{
 "cells": [
  {
   "cell_type": "markdown",
   "id": "8ddce59a",
   "metadata": {},
   "source": [
    "# 11th April Live Class \n",
    "## Classes and Object (OOP Concepts)\n",
    "---\n",
    "### Class\n",
    "* A class is a blueprint for the object.\n",
    "\n",
    "* We can think of class as a car with labels. It contains all the details about the name, milage, year, model etc. Based on these descriptions, we can study about the car. Here, a audiQ7 is an object.\n",
    "\n",
    "* The example for class of car can be :"
   ]
  },
  {
   "cell_type": "code",
   "execution_count": 1,
   "id": "8c475c29",
   "metadata": {},
   "outputs": [],
   "source": [
    "class car:\n",
    "    pass"
   ]
  },
  {
   "cell_type": "markdown",
   "id": "90aee700",
   "metadata": {},
   "source": [
    "* Here, we use the **`class`** keyword to define an empty class Car. From class, we construct instances. \n",
    "* An **instance** is a specific object created from a particular class.\n",
    "---\n",
    "### Object / Instance\n",
    "* An object (instance) is an instantiation of a class. When class is defined, only the description for the object is defined. Therefore, no memory or storage is allocated.\n",
    "\n",
    "* The example for object of car class can be:"
   ]
  },
  {
   "cell_type": "code",
   "execution_count": 2,
   "id": "77871644",
   "metadata": {},
   "outputs": [],
   "source": [
    "# here we are trying to create an variable(object) of car class\n",
    "audiQ7 = car()"
   ]
  },
  {
   "cell_type": "markdown",
   "id": "7d7fff3b",
   "metadata": {},
   "source": [
    "* Here, obj is an object of class Parrot.\n",
    "\n",
    "* Suppose we have details of car. Now, we are going to show how to build the class and objects of car.\n",
    "---\n",
    "### Attributes\n",
    "* The attributes are a characteristic of an object.\n",
    "* in below example, we can see the various attributes of object like: milage, year, make, model etc.\n",
    "* but in below example we defined attributes outside of the car class, this is the bad practice to define a attributes. we have to define the attributes of class with in the class.\n"
   ]
  },
  {
   "cell_type": "code",
   "execution_count": 3,
   "id": "60d9e213",
   "metadata": {},
   "outputs": [],
   "source": [
    "audiQ7.milage = 10\n",
    "audiQ7.year = 2021\n",
    "audiQ7.make = 342\n",
    "audiQ7.model = 'Hatchback Sedan'"
   ]
  },
  {
   "cell_type": "markdown",
   "id": "6b7b085e",
   "metadata": {},
   "source": [
    "* These attributes are defined inside the **`__init__()`** method of the class. It is the initializer method that is first run as soon as the object is created.\n",
    "* this is how we used to define attribute inside the class.. \n",
    "```\n",
    "class car:\n",
    "    def __init__(self, milage, year, make, model):\n",
    "        self.milage = milage\n",
    "        self.year = year\n",
    "        self.make = make\n",
    "        self.model = model\n",
    "```"
   ]
  },
  {
   "cell_type": "code",
   "execution_count": 4,
   "id": "05e71728",
   "metadata": {},
   "outputs": [
    {
     "data": {
      "text/plain": [
       "10"
      ]
     },
     "execution_count": 4,
     "metadata": {},
     "output_type": "execute_result"
    }
   ],
   "source": [
    "audiQ7.milage"
   ]
  },
  {
   "cell_type": "code",
   "execution_count": 5,
   "id": "7188a376",
   "metadata": {},
   "outputs": [
    {
     "data": {
      "text/plain": [
       "2021"
      ]
     },
     "execution_count": 5,
     "metadata": {},
     "output_type": "execute_result"
    }
   ],
   "source": [
    "audiQ7.year"
   ]
  },
  {
   "cell_type": "code",
   "execution_count": 6,
   "id": "27e6a8d2",
   "metadata": {},
   "outputs": [],
   "source": [
    "nano = car()"
   ]
  },
  {
   "cell_type": "code",
   "execution_count": 7,
   "id": "4167cc27",
   "metadata": {},
   "outputs": [],
   "source": [
    "# but this a bad way of programming practice\n",
    "nano.milage = 28\n",
    "nano.year = 2020\n",
    "nano.make = 242\n",
    "nano.model = 'hatchback car'\n",
    "nano.enginno = '23M2356XZ096D'"
   ]
  },
  {
   "cell_type": "code",
   "execution_count": 8,
   "id": "3b084d6c",
   "metadata": {},
   "outputs": [
    {
     "name": "stdout",
     "output_type": "stream",
     "text": [
      "28 hatchback car 10 Hatchback Sedan\n"
     ]
    }
   ],
   "source": [
    "print(nano.milage,nano.model, audiQ7.milage,audiQ7.model)"
   ]
  },
  {
   "cell_type": "markdown",
   "id": "532cc401",
   "metadata": {},
   "source": [
    "### The self Parameter\n",
    "* The self parameter is a reference to the current instance of the class, and is used to access variables that belongs to the class.\n",
    "\n",
    "* It does not have to be named self , you can call it whatever you like, but it has to be the first parameter of any function in the class:"
   ]
  },
  {
   "cell_type": "code",
   "execution_count": 9,
   "id": "788f0446",
   "metadata": {},
   "outputs": [],
   "source": [
    "# This is the good way of programming practice\n",
    "# python don't have concept of CONSTRUCTOR\n",
    "# __init__() is an in-built function\n",
    "# This operation is called initilization of object\n",
    "\n",
    "class car:\n",
    "    def __init__(self, milage, year, make, model):\n",
    "        self.milage = milage\n",
    "        self.year = year\n",
    "        self.make = make\n",
    "        self.model = model"
   ]
  },
  {
   "cell_type": "code",
   "execution_count": 10,
   "id": "d0e6c6c5",
   "metadata": {},
   "outputs": [
    {
     "name": "stdout",
     "output_type": "stream",
     "text": [
      "__init__() missing 4 required positional arguments: 'milage', 'year', 'make', and 'model'\n"
     ]
    }
   ],
   "source": [
    "try:\n",
    "    nano1 = car()\n",
    "except Exception as e:\n",
    "    print(e)"
   ]
  },
  {
   "cell_type": "code",
   "execution_count": 11,
   "id": "3fcde7d1",
   "metadata": {},
   "outputs": [],
   "source": [
    "nano1 = car(23,2021,345,'Hatchback car')"
   ]
  },
  {
   "cell_type": "code",
   "execution_count": 12,
   "id": "51352c8b",
   "metadata": {},
   "outputs": [],
   "source": [
    "audiQ71 = car(10,2019,3845,'Hatchback SUV Sedan')"
   ]
  },
  {
   "cell_type": "code",
   "execution_count": 13,
   "id": "228f71db",
   "metadata": {},
   "outputs": [
    {
     "data": {
      "text/plain": [
       "23"
      ]
     },
     "execution_count": 13,
     "metadata": {},
     "output_type": "execute_result"
    }
   ],
   "source": [
    "nano1.milage"
   ]
  },
  {
   "cell_type": "code",
   "execution_count": 14,
   "id": "3b544c4d",
   "metadata": {},
   "outputs": [],
   "source": [
    "# we can create 'n' no. of object using one class\n",
    "\n",
    "nano2 = car(23,2021,345,'Hatchback car')\n",
    "audiQ72 = car(10,2019,3845,'Hatchback SUV Sedan')\n",
    "nano3 = car(23,2021,345,'Hatchback car')\n",
    "audiQ73 = car(10,2019,3845,'Hatchback SUV Sedan')\n",
    "nano4 = car(23,2021,345,'Hatchback car')\n",
    "audiQ74 = car(10,2019,3845,'Hatchback SUV Sedan')\n",
    "nano5 = car(23,2021,345,'Hatchback car')\n",
    "audiQ75 = car(10,2019,3845,'Hatchback SUV Sedan')\n",
    "nano6 = car(23,2021,345,'Hatchback car')\n",
    "audiQ76 = car(10,2019,3845,'Hatchback SUV Sedan')\n",
    "nano7 = car(23,2021,345,'Hatchback car')\n",
    "audiQ77 = car(10,2019,3845,'Hatchback SUV Sedan')"
   ]
  },
  {
   "cell_type": "code",
   "execution_count": 15,
   "id": "261f9b7b",
   "metadata": {},
   "outputs": [
    {
     "name": "stdout",
     "output_type": "stream",
     "text": [
      "23\n",
      "Hatchback SUV Sedan\n"
     ]
    }
   ],
   "source": [
    "print(nano2.milage)\n",
    "print(audiQ74.model)"
   ]
  },
  {
   "cell_type": "code",
   "execution_count": 16,
   "id": "a8f133c6",
   "metadata": {},
   "outputs": [
    {
     "name": "stdout",
     "output_type": "stream",
     "text": [
      "Now here we making changes, we are removing self\n",
      "parameter from class.\n",
      "\n",
      "\"Still its working\"\n",
      "because 'milage' is behaveing as self.\n",
      "in python classes, every first parameter is act as a self pointer,\n",
      "even if we not defined a self parameter.. so it's better\n",
      "to remove confusion, define a first parameter as 'self'\n",
      "\n"
     ]
    }
   ],
   "source": [
    "print(\"\"\"Now here we making changes, we are removing self\n",
    "parameter from class.\n",
    "\n",
    "\"Still its working\"\n",
    "because 'milage' is behaveing as self.\n",
    "in python classes, every first parameter is act as a self pointer,\n",
    "even if we not defined a self parameter.. so it's better\n",
    "to remove confusion, define a first parameter as 'self'\n",
    "\"\"\")\n",
    "\n",
    "class car:\n",
    "    def __init__(milage, year, make, model):\n",
    "        self.milage = milage\n",
    "        self.year = year\n",
    "        self.make = make\n",
    "        self.model = model"
   ]
  },
  {
   "cell_type": "code",
   "execution_count": 17,
   "id": "3790b2e5",
   "metadata": {},
   "outputs": [
    {
     "name": "stdout",
     "output_type": "stream",
     "text": [
      "We can use an any other variable insted of 'self' here we are defining 'a' as a pointer to class.\n",
      "Still it will be work fine..\n"
     ]
    }
   ],
   "source": [
    "print(\"\"\"We can use an any other variable insted of 'self' here we are defining 'a' as a pointer to class.\n",
    "Still it will be work fine..\"\"\")\n",
    "class car:\n",
    "    def __init__(a, m, y, ma, mo): # These parameters are called 'Argument'\n",
    "        a.milage = m\n",
    "        a.year = y\n",
    "        a.make = ma\n",
    "        a.model = mo"
   ]
  },
  {
   "cell_type": "code",
   "execution_count": 18,
   "id": "69f2942e",
   "metadata": {},
   "outputs": [],
   "source": [
    "nano_car = car(23,2009,2353,\"Hatchback car\")"
   ]
  },
  {
   "cell_type": "code",
   "execution_count": 19,
   "id": "018a864c",
   "metadata": {},
   "outputs": [],
   "source": [
    "# nano_car.m "
   ]
  },
  {
   "cell_type": "code",
   "execution_count": 20,
   "id": "5dd6c07c",
   "metadata": {},
   "outputs": [
    {
     "data": {
      "text/plain": [
       "23"
      ]
     },
     "execution_count": 20,
     "metadata": {},
     "output_type": "execute_result"
    }
   ],
   "source": [
    "nano_car.milage"
   ]
  },
  {
   "cell_type": "code",
   "execution_count": 21,
   "id": "4e063c02",
   "metadata": {},
   "outputs": [],
   "source": [
    "class car:\n",
    "# any function with in the class is called as \"Method\"\n",
    "    def __init__(a, m, y, ma, mo): # These parameters are called 'Argument'\n",
    "        a.milage = m\n",
    "        a.year = y\n",
    "        a.make = ma\n",
    "        a.model = mo\n",
    "        \n",
    "# here we are created a another method 'age'\n",
    "    def age(b, cur_year):\n",
    "        return cur_year - b.year\n",
    "    \n",
    "# adding another method called as a milage\n",
    "    def milage1(c):\n",
    "        print(f\"Milage of a car is:{c.milage}\")\n",
    "        \n",
    "# We are defining another built-in method\n",
    "    def __str__(d):\n",
    "        return \"This is a car class i have created\""
   ]
  },
  {
   "cell_type": "code",
   "execution_count": 22,
   "id": "cdecc3bd",
   "metadata": {},
   "outputs": [],
   "source": [
    "nano_car = car(23,2009,2353,\"Hatchback car\")"
   ]
  },
  {
   "cell_type": "code",
   "execution_count": 23,
   "id": "01c787e1",
   "metadata": {},
   "outputs": [
    {
     "data": {
      "text/plain": [
       "12"
      ]
     },
     "execution_count": 23,
     "metadata": {},
     "output_type": "execute_result"
    }
   ],
   "source": [
    "nano_car.age(2021)"
   ]
  },
  {
   "cell_type": "code",
   "execution_count": 24,
   "id": "4e97117c",
   "metadata": {},
   "outputs": [
    {
     "name": "stdout",
     "output_type": "stream",
     "text": [
      "Milage of a car is:23\n"
     ]
    }
   ],
   "source": [
    "nano_car.milage1()"
   ]
  },
  {
   "cell_type": "code",
   "execution_count": 25,
   "id": "8028ceb3",
   "metadata": {},
   "outputs": [
    {
     "name": "stdout",
     "output_type": "stream",
     "text": [
      "This is a car class i have created\n"
     ]
    }
   ],
   "source": [
    "print(nano_car)"
   ]
  },
  {
   "cell_type": "code",
   "execution_count": 26,
   "id": "f2495fe5",
   "metadata": {},
   "outputs": [],
   "source": [
    "class student:\n",
    "    \n",
    "    def __init__(a_self, name, roll_no,joining_date,cur_topic):\n",
    "        a_self.stud_name = name\n",
    "        a_self.rollNo = roll_no\n",
    "        a_self.join_date = joining_date\n",
    "        a_self.current_topic = cur_topic\n",
    "        \n",
    "    def name_pars(self):\n",
    "        if type(self.stud_name) == list:\n",
    "            for i in self.stud_name:\n",
    "                print(f\"name of student: {i}\")\n",
    "        else:\n",
    "            print(\"Provided name is not in a form of list\")\n",
    "    \n",
    "    def crt_topic(b_self):\n",
    "        print(\"current topic discussed in class is\",b_self.cur_topic)\n",
    "        \n",
    "    def str_rno(c_self):\n",
    "        try:\n",
    "            if type(c_self.rollNo) == str:\n",
    "                print(\"Roll no is not an String Type..\")\n",
    "            else:\n",
    "                return str(c_self.rollNo)\n",
    "        except Exception as e:\n",
    "            print(f\"This is an error msg: {e}\")      \n",
    "\n",
    "    def dur(d_self, current_date):\n",
    "        print(f\"Duration of student in my class is {current_date-d_self.join_date} year.\")\n",
    "        \n",
    "    def __str__(self):\n",
    "        return \"This is a student class\""
   ]
  },
  {
   "cell_type": "code",
   "execution_count": 27,
   "id": "9aaf6955",
   "metadata": {},
   "outputs": [],
   "source": [
    "harshal = student(\"Harshal\", 22 , 2020,\"Python oop concepts\")"
   ]
  },
  {
   "cell_type": "code",
   "execution_count": 28,
   "id": "c84d299d",
   "metadata": {},
   "outputs": [
    {
     "name": "stdout",
     "output_type": "stream",
     "text": [
      "Duration of student in my class is 4 year.\n"
     ]
    }
   ],
   "source": [
    "harshal.dur(2024)"
   ]
  },
  {
   "cell_type": "code",
   "execution_count": 29,
   "id": "a2fee62d",
   "metadata": {},
   "outputs": [
    {
     "data": {
      "text/plain": [
       "'22'"
      ]
     },
     "execution_count": 29,
     "metadata": {},
     "output_type": "execute_result"
    }
   ],
   "source": [
    "harshal.str_rno()"
   ]
  },
  {
   "cell_type": "code",
   "execution_count": 30,
   "id": "ca5585b3",
   "metadata": {},
   "outputs": [
    {
     "name": "stdout",
     "output_type": "stream",
     "text": [
      "This is a student class\n"
     ]
    }
   ],
   "source": [
    "print(harshal)"
   ]
  },
  {
   "cell_type": "code",
   "execution_count": 31,
   "id": "67a83f53",
   "metadata": {},
   "outputs": [],
   "source": [
    "neha = student(\"neha\",21,2020,'Exception Handling')"
   ]
  },
  {
   "cell_type": "code",
   "execution_count": 32,
   "id": "341ab1d9",
   "metadata": {},
   "outputs": [
    {
     "name": "stdout",
     "output_type": "stream",
     "text": [
      "Duration of student in my class is 1 year.\n"
     ]
    }
   ],
   "source": [
    "neha.dur(2021)"
   ]
  },
  {
   "cell_type": "code",
   "execution_count": 33,
   "id": "bb9e12b0",
   "metadata": {},
   "outputs": [],
   "source": [
    "team = student([\"Virat\",\"MSD\",'Pant',\"R Sharma\"],[24,25,26,27],2021,\"OOPs Concept\")"
   ]
  },
  {
   "cell_type": "code",
   "execution_count": 34,
   "id": "0cc53798",
   "metadata": {},
   "outputs": [
    {
     "name": "stdout",
     "output_type": "stream",
     "text": [
      "name of student: Virat\n",
      "name of student: MSD\n",
      "name of student: Pant\n",
      "name of student: R Sharma\n"
     ]
    }
   ],
   "source": [
    "team.name_pars()"
   ]
  },
  {
   "cell_type": "code",
   "execution_count": 35,
   "id": "01bd0729",
   "metadata": {},
   "outputs": [
    {
     "name": "stdout",
     "output_type": "stream",
     "text": [
      "Provided name is not in a form of list\n"
     ]
    }
   ],
   "source": [
    "harshal.name_pars()"
   ]
  },
  {
   "cell_type": "code",
   "execution_count": 36,
   "id": "1c2abfb4",
   "metadata": {},
   "outputs": [
    {
     "name": "stdout",
     "output_type": "stream",
     "text": [
      "This is a student class\n"
     ]
    }
   ],
   "source": [
    "print(harshal)"
   ]
  },
  {
   "cell_type": "markdown",
   "id": "a07e8332",
   "metadata": {},
   "source": [
    "---\n",
    "## Quick Quiz 1\n",
    "#### Level 1 Task\n",
    "1. Create a `class data:`\n",
    "2. create a class variable `(filename,file_type,date,size)`\n",
    "3. create a function `file_open():` in this function, write a set of instruction which can help to create a new file incase of file is not exist, and write something in the file.\n",
    "4. create a function `file_read()` which can help to read the content of the file.\n",
    "5. create a another function `file_append()` which can help to append new data in a same file and try to show data.\n",
    "\n",
    "#### Level 2 Task\n",
    "1. Impliment Exception Handling\n",
    "2. create a logger, try to create a logger function inside a class."
   ]
  },
  {
   "cell_type": "code",
   "execution_count": 37,
   "id": "596cb914",
   "metadata": {},
   "outputs": [
    {
     "name": "stdout",
     "output_type": "stream",
     "text": [
      "D:\\iNeuron\\Python\\Task_related_to_PP6\n"
     ]
    }
   ],
   "source": [
    "import os\n",
    "# os.mkdir(\"Task_related_to_PP6\")\n",
    "os.chdir(\"Task_related_to_PP6/\")\n",
    "print(os.getcwd())"
   ]
  },
  {
   "cell_type": "code",
   "execution_count": 38,
   "id": "036f5aea",
   "metadata": {},
   "outputs": [],
   "source": [
    "# This is the level one solution\n",
    "\n",
    "class data:\n",
    "    def __init__(self, filename,file_type,date,size):\n",
    "        self.filename = filename\n",
    "        self.fileType = file_type\n",
    "        self.date = date\n",
    "        self.size = size\n",
    "        \n",
    "    def file_open(self):\n",
    "        if type(self.filename) == list:\n",
    "            print(f\"filename {self.filename} in a list format..\")\n",
    "            for i in self.filename:\n",
    "                f = open(i,'w')\n",
    "                f.write(\"This is the data we have written inside the file..\")\n",
    "                f.close()\n",
    "                print(f\"{i} is created in {self.fileType} format\")\n",
    "        else:\n",
    "            f = open(self.filename,'w')\n",
    "            f.write(\"This is the data we have written inside the file..\")\n",
    "            f.close()\n",
    "            return f\"{self.filename} is created in {self.fileType} format\"\n",
    "\n",
    "        \n",
    "    def file_read(self,fname):\n",
    "        self.fname = fname\n",
    "        f = open(self.fname,'r')\n",
    "        f.seek(0)\n",
    "        a = f.read()\n",
    "        f.close()\n",
    "        return a\n",
    "    \n",
    "    def file_append(self,fname):\n",
    "        self.fname = fname\n",
    "        f = open(self.fname,\"a+\")\n",
    "        f.write(\"\\nThis is the appended text inside the file\")\n",
    "        f.seek(0)\n",
    "        b = f.read()\n",
    "        f.close()\n",
    "        return b"
   ]
  },
  {
   "cell_type": "code",
   "execution_count": 39,
   "id": "600226d6",
   "metadata": {},
   "outputs": [],
   "source": [
    "new1 = data('datafile1','.txt','21-07-2021',0)"
   ]
  },
  {
   "cell_type": "code",
   "execution_count": 40,
   "id": "3f329e31",
   "metadata": {},
   "outputs": [
    {
     "data": {
      "text/plain": [
       "'21-07-2021'"
      ]
     },
     "execution_count": 40,
     "metadata": {},
     "output_type": "execute_result"
    }
   ],
   "source": [
    "new1.date"
   ]
  },
  {
   "cell_type": "code",
   "execution_count": 41,
   "id": "27ff1522",
   "metadata": {},
   "outputs": [
    {
     "data": {
      "text/plain": [
       "'datafile1'"
      ]
     },
     "execution_count": 41,
     "metadata": {},
     "output_type": "execute_result"
    }
   ],
   "source": [
    "new1.filename"
   ]
  },
  {
   "cell_type": "code",
   "execution_count": 42,
   "id": "3840f41b",
   "metadata": {},
   "outputs": [
    {
     "data": {
      "text/plain": [
       "'datafile1 is created in .txt format'"
      ]
     },
     "execution_count": 42,
     "metadata": {},
     "output_type": "execute_result"
    }
   ],
   "source": [
    "new1.file_open()"
   ]
  },
  {
   "cell_type": "code",
   "execution_count": 43,
   "id": "aceb6766",
   "metadata": {},
   "outputs": [
    {
     "data": {
      "text/plain": [
       "'This is the data we have written inside the file..'"
      ]
     },
     "execution_count": 43,
     "metadata": {},
     "output_type": "execute_result"
    }
   ],
   "source": [
    "new1.file_read('datafile1')"
   ]
  },
  {
   "cell_type": "code",
   "execution_count": 44,
   "id": "c6fd02e8",
   "metadata": {},
   "outputs": [
    {
     "name": "stdout",
     "output_type": "stream",
     "text": [
      "This is the data we have written inside the file..\n",
      "This is the appended text inside the file\n"
     ]
    }
   ],
   "source": [
    "print(new1.file_append('datafile1'))"
   ]
  },
  {
   "cell_type": "code",
   "execution_count": 45,
   "id": "b19048b2",
   "metadata": {},
   "outputs": [],
   "source": [
    "new2 = data(['f1','f2','f3'],'.txt','22-07-2021',0)"
   ]
  },
  {
   "cell_type": "code",
   "execution_count": 46,
   "id": "3075c6dc",
   "metadata": {},
   "outputs": [
    {
     "name": "stdout",
     "output_type": "stream",
     "text": [
      "filename ['f1', 'f2', 'f3'] in a list format..\n",
      "f1 is created in .txt format\n",
      "f2 is created in .txt format\n",
      "f3 is created in .txt format\n"
     ]
    }
   ],
   "source": [
    "new2.file_open()"
   ]
  },
  {
   "cell_type": "code",
   "execution_count": 47,
   "id": "91bd2f03",
   "metadata": {},
   "outputs": [
    {
     "data": {
      "text/plain": [
       "'This is the data we have written inside the file..\\nThis is the appended text inside the file'"
      ]
     },
     "execution_count": 47,
     "metadata": {},
     "output_type": "execute_result"
    }
   ],
   "source": [
    "new2.file_append('f1')"
   ]
  },
  {
   "cell_type": "code",
   "execution_count": 48,
   "id": "d4659d8f",
   "metadata": {},
   "outputs": [
    {
     "name": "stdout",
     "output_type": "stream",
     "text": [
      "This is the data we have written inside the file..\n"
     ]
    }
   ],
   "source": [
    "print(new2.file_read('f2'))"
   ]
  },
  {
   "cell_type": "code",
   "execution_count": 49,
   "id": "fd989f86",
   "metadata": {},
   "outputs": [],
   "source": [
    "# This is the level two solution\n",
    "\n",
    "class data:    \n",
    "    def __init__(self, filename,file_type,date,size):\n",
    "        self.filename = filename\n",
    "        self.fileType = file_type\n",
    "        self.date = date\n",
    "        self.size = size\n",
    "        \n",
    "    def log(self,log1):\n",
    "        import logging as lg\n",
    "        import os\n",
    "        lg.basicConfig(filename = \"logs.log\", format = \"%(asctime)s [%(levelname)s]: >> %(message)s\")\n",
    "        lg.error(log1)\n",
    "\n",
    "    def file_open(self):\n",
    "        try:\n",
    "            if type(self.filename) == list:\n",
    "                print(f\"filename {self.filename} in a list format..\")\n",
    "                for i in self.filename:\n",
    "                    f = open(i+self.fileType,'w')\n",
    "                    f.write(\"This is the data we have written inside the file..\")\n",
    "                    f.close()\n",
    "                    print(f\"{i} is created in {self.fileType} format\")\n",
    "            else:\n",
    "                f = open(self.filename,'w')\n",
    "                f.write(\"This is the data we have written inside the file..\")\n",
    "                f.close()\n",
    "                return f\"{self.filename} is created in {self.fileType} format\"\n",
    "        except Exception as e:\n",
    "            print(f\"error is occured:{e}\")\n",
    "            self.log(e)\n",
    "\n",
    "        \n",
    "    def file_read(self,fname):\n",
    "        self.fname = fname\n",
    "        try:\n",
    "            f = open(self.fname,'r')\n",
    "        except Exception as e:\n",
    "            print(f\"This Error is Occurred: \\n{e}\")\n",
    "            self.log(e)\n",
    "            print(f\"Try first with file_open() method with '{self.fname}'\")\n",
    "        else:\n",
    "            f.seek(0)\n",
    "            a = f.read()\n",
    "            f.close()\n",
    "            return a\n",
    "    \n",
    "    def file_append(self,fname):\n",
    "        self.fname = fname\n",
    "        try:\n",
    "            f = open(self.fname,\"a+\")\n",
    "        except Exception as e:\n",
    "            print(f\"This error is occurred: {e}\")\n",
    "            self.log(e)\n",
    "        else:\n",
    "            data = input(f\"Enter a data which you want to append inside file {self.fname}:\\n\")\n",
    "            f.write(f\"\\n{data}\")\n",
    "            print(\"Data is successfully written in file..!\")\n",
    "            f.seek(0)\n",
    "            b = f.read()\n",
    "#             f.close()\n",
    "            return (f\"\\nData is :\\n{b}\")\n",
    "        finally:\n",
    "            try:\n",
    "                f.close()\n",
    "            except Exception as e:\n",
    "                print(f\"This error is occurred: {e}\")\n",
    "                self.log(e)\n",
    "                print(\"Try to write a file name in paranthesis..\")\n"
   ]
  },
  {
   "cell_type": "code",
   "execution_count": 50,
   "id": "f988d2d7",
   "metadata": {},
   "outputs": [],
   "source": [
    "new3 = data('xyz','.txt','23-07-2021',1)"
   ]
  },
  {
   "cell_type": "code",
   "execution_count": 51,
   "id": "5e2b84e7",
   "metadata": {},
   "outputs": [
    {
     "data": {
      "text/plain": [
       "'xyz'"
      ]
     },
     "execution_count": 51,
     "metadata": {},
     "output_type": "execute_result"
    }
   ],
   "source": [
    "new3.filename"
   ]
  },
  {
   "cell_type": "code",
   "execution_count": 52,
   "id": "b37cffdd",
   "metadata": {},
   "outputs": [
    {
     "data": {
      "text/plain": [
       "'xyz is created in .txt format'"
      ]
     },
     "execution_count": 52,
     "metadata": {},
     "output_type": "execute_result"
    }
   ],
   "source": [
    "new3.file_open()"
   ]
  },
  {
   "cell_type": "code",
   "execution_count": 53,
   "id": "42834f74",
   "metadata": {},
   "outputs": [],
   "source": [
    "new4 = data(['a1','b2','c3'],'.txt','22-07-2021',0)"
   ]
  },
  {
   "cell_type": "code",
   "execution_count": 54,
   "id": "08b816f5",
   "metadata": {},
   "outputs": [
    {
     "name": "stdout",
     "output_type": "stream",
     "text": [
      "filename ['a1', 'b2', 'c3'] in a list format..\n",
      "a1 is created in .txt format\n",
      "b2 is created in .txt format\n",
      "c3 is created in .txt format\n"
     ]
    }
   ],
   "source": [
    "new4.file_open()"
   ]
  },
  {
   "cell_type": "code",
   "execution_count": 55,
   "id": "da101721",
   "metadata": {},
   "outputs": [
    {
     "name": "stdout",
     "output_type": "stream",
     "text": [
      "This Error is Occurred: \n",
      "[Errno 2] No such file or directory: 'f122'\n",
      "Try first with file_open() method with 'f122'\n"
     ]
    }
   ],
   "source": [
    "new3.file_read('f122')"
   ]
  },
  {
   "cell_type": "markdown",
   "id": "5529af26",
   "metadata": {},
   "source": [
    "---"
   ]
  },
  {
   "cell_type": "code",
   "execution_count": 56,
   "id": "672fb38a",
   "metadata": {},
   "outputs": [
    {
     "name": "stdout",
     "output_type": "stream",
     "text": [
      "This error is occurred: [Errno 2] No such file or directory: ''\n",
      "This error is occurred: local variable 'f' referenced before assignment\n",
      "Try to write a file name in paranthesis..\n",
      "None\n"
     ]
    }
   ],
   "source": [
    "print(new3.file_append(''))"
   ]
  },
  {
   "cell_type": "code",
   "execution_count": 60,
   "id": "fa3a0ff6",
   "metadata": {},
   "outputs": [
    {
     "name": "stdout",
     "output_type": "stream",
     "text": [
      "Enter a data which you want to append inside file a1:\n",
      "Hey, This is new appended text..\n",
      "Data is successfully written in file..!\n"
     ]
    }
   ],
   "source": [
    "a = new3.file_append('a1')"
   ]
  },
  {
   "cell_type": "code",
   "execution_count": 65,
   "id": "cfa51cd6",
   "metadata": {},
   "outputs": [],
   "source": [
    "a = a + 'Harshal'"
   ]
  },
  {
   "cell_type": "code",
   "execution_count": 66,
   "id": "2677b077",
   "metadata": {},
   "outputs": [
    {
     "name": "stdout",
     "output_type": "stream",
     "text": [
      "\n",
      "Data is :\n",
      "\n",
      "Hey, This is new appended text..Harshal\n"
     ]
    }
   ],
   "source": [
    "print(a)"
   ]
  },
  {
   "cell_type": "code",
   "execution_count": null,
   "id": "0a01f9ee",
   "metadata": {},
   "outputs": [],
   "source": []
  }
 ],
 "metadata": {
  "kernelspec": {
   "display_name": "Python 3",
   "language": "python",
   "name": "python3"
  },
  "language_info": {
   "codemirror_mode": {
    "name": "ipython",
    "version": 3
   },
   "file_extension": ".py",
   "mimetype": "text/x-python",
   "name": "python",
   "nbconvert_exporter": "python",
   "pygments_lexer": "ipython3",
   "version": "3.7.9"
  }
 },
 "nbformat": 4,
 "nbformat_minor": 5
}
