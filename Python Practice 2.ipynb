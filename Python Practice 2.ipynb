{
 "cells": [
  {
   "cell_type": "markdown",
   "id": "4f11314e",
   "metadata": {},
   "source": [
    "# 13th March Live class\n",
    "## String and List Manipulation\n",
    "-----\n",
    "## List\n",
    "* List is a array kind of data structure in which we can store hetrogenius types of data in one variable."
   ]
  },
  {
   "cell_type": "code",
   "execution_count": 1,
   "id": "fb9c2ae8",
   "metadata": {},
   "outputs": [],
   "source": [
    "# to create a blank list\n",
    "# we can create a blank list in both way\n",
    "l1 =[]\n",
    "l2 = list()"
   ]
  },
  {
   "cell_type": "code",
   "execution_count": 2,
   "id": "f7d1b291",
   "metadata": {},
   "outputs": [
    {
     "data": {
      "text/plain": [
       "list"
      ]
     },
     "execution_count": 2,
     "metadata": {},
     "output_type": "execute_result"
    }
   ],
   "source": [
    "type(l2)"
   ]
  },
  {
   "cell_type": "code",
   "execution_count": 3,
   "id": "6032d6be",
   "metadata": {},
   "outputs": [],
   "source": [
    "name = 'Harshal'\n",
    "phone = 12342133\n",
    "addr = 'asdfasdfas'\n",
    "\n",
    "name , phone, addr = 'Harshal',23432134,'adfasdfas'\n",
    "\n",
    "# here we created a multiple variable to store a multiple values\n",
    "# But I don't want to create a multiple variables"
   ]
  },
  {
   "cell_type": "code",
   "execution_count": 4,
   "id": "6cdf6a6a",
   "metadata": {},
   "outputs": [],
   "source": [
    "l = ['Harshal',2341234, True, 23+5j,[23,25,'sdfsd'],2.434]"
   ]
  },
  {
   "cell_type": "code",
   "execution_count": 5,
   "id": "6f6fcb1a",
   "metadata": {},
   "outputs": [
    {
     "name": "stdout",
     "output_type": "stream",
     "text": [
      "6\n",
      "['Harshal', 2341234, True, (23+5j), [23, 25, 'sdfsd'], 2.434]\n"
     ]
    }
   ],
   "source": [
    "print(len(l))\n",
    "print(l)"
   ]
  },
  {
   "cell_type": "code",
   "execution_count": 6,
   "id": "8507f2d1",
   "metadata": {},
   "outputs": [
    {
     "data": {
      "text/plain": [
       "[2.434, [23, 25, 'sdfsd']]"
      ]
     },
     "execution_count": 6,
     "metadata": {},
     "output_type": "execute_result"
    }
   ],
   "source": [
    "# we can do string operation on list as well\n",
    "# its range traversal operation\n",
    "l[8:3:-1] "
   ]
  },
  {
   "cell_type": "code",
   "execution_count": 7,
   "id": "7d9a549e",
   "metadata": {},
   "outputs": [
    {
     "name": "stdout",
     "output_type": "stream",
     "text": [
      "<class 'str'>\n",
      "<class 'int'>\n",
      "<class 'bool'>\n",
      "<class 'complex'>\n",
      "<class 'list'>\n",
      "<class 'float'>\n"
     ]
    }
   ],
   "source": [
    "for i in l:\n",
    "    print(type(i))"
   ]
  },
  {
   "cell_type": "markdown",
   "id": "6edd464c",
   "metadata": {},
   "source": [
    "* **Below is the program for a task in which I want to check their is another list is present in list l, and if it present, then check weather int in that list or not if int is present, then do addition of that int and print it**"
   ]
  },
  {
   "cell_type": "code",
   "execution_count": 8,
   "id": "bb3efd29",
   "metadata": {},
   "outputs": [
    {
     "name": "stdout",
     "output_type": "stream",
     "text": [
      "Another list is present in this list\n",
      "Addition is: 48\n",
      "<class 'str'>\n"
     ]
    }
   ],
   "source": [
    "for i in l:\n",
    "    if type(i)== list:\n",
    "        print('Another list is present in this list')\n",
    "        n = 0\n",
    "        for j in i:\n",
    "            if type(j) == int:\n",
    "                n = n + j\n",
    "        print(f'Addition is: {n}')\n",
    "        print(type(j))   "
   ]
  },
  {
   "cell_type": "code",
   "execution_count": 9,
   "id": "98127987",
   "metadata": {},
   "outputs": [
    {
     "data": {
      "text/plain": [
       "[0, 1, 2, 3, 4, 5, 6, 7, 8, 9]"
      ]
     },
     "execution_count": 9,
     "metadata": {},
     "output_type": "execute_result"
    }
   ],
   "source": [
    "# we can store a range in list as well\n",
    "list(range(10))"
   ]
  },
  {
   "cell_type": "code",
   "execution_count": 10,
   "id": "a9dd0b95",
   "metadata": {},
   "outputs": [],
   "source": [
    " s1 = '''This is my first class for full stack data science\n",
    "that's why i have joined this class'''"
   ]
  },
  {
   "cell_type": "code",
   "execution_count": 11,
   "id": "5172af4e",
   "metadata": {},
   "outputs": [
    {
     "data": {
      "text/plain": [
       "\"This is my first class for full stack data science\\nthat's why i have joined this class\""
      ]
     },
     "execution_count": 11,
     "metadata": {},
     "output_type": "execute_result"
    }
   ],
   "source": [
    "s1"
   ]
  },
  {
   "cell_type": "code",
   "execution_count": 12,
   "id": "f39c182c",
   "metadata": {},
   "outputs": [
    {
     "data": {
      "text/plain": [
       "86"
      ]
     },
     "execution_count": 12,
     "metadata": {},
     "output_type": "execute_result"
    }
   ],
   "source": [
    "# this used to find the length of data in variable\n",
    "len(s1)"
   ]
  },
  {
   "cell_type": "code",
   "execution_count": 13,
   "id": "90003782",
   "metadata": {},
   "outputs": [
    {
     "data": {
      "text/plain": [
       "\"ssalc siht denioj evah i yhw s'taht\\necneics atad kcats lluf rof ssalc tsrif ym si sihT\""
      ]
     },
     "execution_count": 13,
     "metadata": {},
     "output_type": "execute_result"
    }
   ],
   "source": [
    "# this is how we can reverse a string\n",
    "s1[::-1]"
   ]
  },
  {
   "cell_type": "code",
   "execution_count": 14,
   "id": "9f79f4c1",
   "metadata": {},
   "outputs": [
    {
     "data": {
      "text/plain": [
       "'is my'"
      ]
     },
     "execution_count": 14,
     "metadata": {},
     "output_type": "execute_result"
    }
   ],
   "source": [
    "# this will gives the output as including upper bound(4) and exluding lower bound(10)\n",
    "s1[5:10]\n",
    "# it will be start printing from [4] and end at printing [9]"
   ]
  },
  {
   "cell_type": "code",
   "execution_count": 15,
   "id": "c9759991",
   "metadata": {},
   "outputs": [],
   "source": [
    "s = 'This is full stack class'"
   ]
  },
  {
   "cell_type": "code",
   "execution_count": 16,
   "id": "9fb78cef",
   "metadata": {},
   "outputs": [
    {
     "name": "stdout",
     "output_type": "stream",
     "text": [
      "T\n",
      "h\n",
      "i\n",
      "s\n",
      " \n",
      "i\n",
      "s\n",
      " \n",
      "f\n",
      "u\n",
      "l\n",
      "l\n",
      " \n",
      "s\n",
      "t\n",
      "a\n",
      "c\n",
      "k\n",
      " \n",
      "c\n",
      "l\n",
      "a\n",
      "s\n",
      "s\n"
     ]
    }
   ],
   "source": [
    "for i in range(len(s)):\n",
    "    print(s[i])"
   ]
  },
  {
   "cell_type": "markdown",
   "id": "6f458204",
   "metadata": {},
   "source": [
    "---\n",
    "### Concept of mutablity and immutablity"
   ]
  },
  {
   "cell_type": "code",
   "execution_count": 17,
   "id": "f7017096",
   "metadata": {},
   "outputs": [
    {
     "name": "stdout",
     "output_type": "stream",
     "text": [
      "We can't do it in this way, it will give you an error\n",
      "TypeError: 'str' object does not support item assignment\n",
      "\"String is Immutable object\"\n"
     ]
    }
   ],
   "source": [
    "# if u want to change value of s[0] with 'x'\n",
    "# s[0] = 'x'\n",
    "print('''We can't do it in this way, it will give you an error\n",
    "TypeError: 'str' object does not support item assignment\n",
    "\"String is Immutable object\"''')"
   ]
  },
  {
   "cell_type": "code",
   "execution_count": 18,
   "id": "815e0406",
   "metadata": {},
   "outputs": [],
   "source": [
    "l = ['xyz',234,56,23,True]"
   ]
  },
  {
   "cell_type": "code",
   "execution_count": 19,
   "id": "aa9ed859",
   "metadata": {},
   "outputs": [
    {
     "name": "stdout",
     "output_type": "stream",
     "text": [
      "if we want to do same thing with list Then it work totally fine..!\n",
      "\"Because List is mutable object\"\n"
     ]
    },
    {
     "data": {
      "text/plain": [
       "['Harsh', 234, 56, 23, True]"
      ]
     },
     "execution_count": 19,
     "metadata": {},
     "output_type": "execute_result"
    }
   ],
   "source": [
    "print('''if we want to do same thing with list Then it work totally fine..!\n",
    "\"Because List is mutable object\"''')\n",
    "l[0] = 'Harsh'\n",
    "l"
   ]
  },
  {
   "cell_type": "markdown",
   "id": "051ddc4b",
   "metadata": {},
   "source": [
    "---"
   ]
  },
  {
   "cell_type": "code",
   "execution_count": 20,
   "id": "4c11cf2e",
   "metadata": {},
   "outputs": [
    {
     "data": {
      "text/plain": [
       "'This is full stack class'"
      ]
     },
     "execution_count": 20,
     "metadata": {},
     "output_type": "execute_result"
    }
   ],
   "source": [
    "s"
   ]
  },
  {
   "cell_type": "code",
   "execution_count": 21,
   "id": "ebe31823",
   "metadata": {},
   "outputs": [
    {
     "data": {
      "text/plain": [
       "13"
      ]
     },
     "execution_count": 21,
     "metadata": {},
     "output_type": "execute_result"
    }
   ],
   "source": [
    "# This method help to find perticular character or set of characters in string\n",
    "# if substring is found, it will give you the first occurence of that character or substring\n",
    "# if substring is not found, it will return -1\n",
    "s.find('stack')"
   ]
  },
  {
   "cell_type": "markdown",
   "id": "60681510",
   "metadata": {},
   "source": [
    "### Quick quiz\n",
    "* s = \"my name is \"\n",
    "* you have to extract index each character present in substring 'name' inside the data present in s."
   ]
  },
  {
   "cell_type": "code",
   "execution_count": 22,
   "id": "8f4b16f5",
   "metadata": {},
   "outputs": [
    {
     "name": "stdout",
     "output_type": "stream",
     "text": [
      "3\n",
      "4\n",
      "5\n",
      "6\n"
     ]
    }
   ],
   "source": [
    "s = \"my name is xyz\"\n",
    "a = s.find('name')\n",
    "for i in range(len('name')):\n",
    "    print(a+i)\n",
    "    "
   ]
  },
  {
   "cell_type": "code",
   "execution_count": 23,
   "id": "b03dedf0",
   "metadata": {},
   "outputs": [
    {
     "data": {
      "text/plain": [
       "2"
      ]
     },
     "execution_count": 23,
     "metadata": {},
     "output_type": "execute_result"
    }
   ],
   "source": [
    "# this will gives you the occurences of \"m\" in string\n",
    "s.count('m')"
   ]
  },
  {
   "cell_type": "code",
   "execution_count": 24,
   "id": "35eabf5a",
   "metadata": {},
   "outputs": [
    {
     "data": {
      "text/plain": [
       "['my', 'name', 'is', 'xyz']"
      ]
     },
     "execution_count": 24,
     "metadata": {},
     "output_type": "execute_result"
    }
   ],
   "source": [
    "# it split the data using a character given by user and creates a list\n",
    "# by default it will split using white space\n",
    "s.split()"
   ]
  },
  {
   "cell_type": "code",
   "execution_count": 25,
   "id": "34f9568d",
   "metadata": {},
   "outputs": [
    {
     "data": {
      "text/plain": [
       "'MY NAME IS XYZ'"
      ]
     },
     "execution_count": 25,
     "metadata": {},
     "output_type": "execute_result"
    }
   ],
   "source": [
    "# Return a copy of the string converted to uppercase.\n",
    "s.upper()"
   ]
  },
  {
   "cell_type": "code",
   "execution_count": 26,
   "id": "9a896c8f",
   "metadata": {},
   "outputs": [
    {
     "data": {
      "text/plain": [
       "'my name is xyz'"
      ]
     },
     "execution_count": 26,
     "metadata": {},
     "output_type": "execute_result"
    }
   ],
   "source": [
    "# Return a copy of the string converted to uppercase.\n",
    "s.lower()"
   ]
  },
  {
   "cell_type": "code",
   "execution_count": 27,
   "id": "70f97432",
   "metadata": {},
   "outputs": [
    {
     "data": {
      "text/plain": [
       "'mY nAME iS hARSHAL'"
      ]
     },
     "execution_count": 27,
     "metadata": {},
     "output_type": "execute_result"
    }
   ],
   "source": [
    "s = 'My Name Is Harshal'\n",
    "# Convert uppercase characters to lowercase and lowercase characters to uppercase.\n",
    "s.swapcase()"
   ]
  },
  {
   "cell_type": "code",
   "execution_count": 28,
   "id": "65451fe9",
   "metadata": {},
   "outputs": [
    {
     "data": {
      "text/plain": [
       "'M_y_ _N_a_m_e_ _I_s_ _H_a_r_s_h_a_l'"
      ]
     },
     "execution_count": 28,
     "metadata": {},
     "output_type": "execute_result"
    }
   ],
   "source": [
    "# it joins anything which mentioned in quotes.\n",
    "'_'.join(s)"
   ]
  },
  {
   "cell_type": "code",
   "execution_count": 29,
   "id": "5f4d800b",
   "metadata": {},
   "outputs": [
    {
     "name": "stdout",
     "output_type": "stream",
     "text": [
      "l\n",
      "a\n",
      "h\n",
      "s\n",
      "r\n",
      "a\n",
      "H\n",
      " \n",
      "s\n",
      "I\n",
      " \n",
      "e\n",
      "m\n",
      "a\n",
      "N\n",
      " \n",
      "y\n",
      "M\n"
     ]
    }
   ],
   "source": [
    "# Return a reverse iterator over the values of the given sequence.\n",
    "for i in reversed(s):\n",
    "    print(i)"
   ]
  },
  {
   "cell_type": "code",
   "execution_count": 30,
   "id": "17221255",
   "metadata": {},
   "outputs": [
    {
     "name": "stdout",
     "output_type": "stream",
     "text": [
      "l\n",
      "a\n",
      "h\n",
      "s\n",
      "r\n",
      "a\n",
      "H\n",
      " \n",
      "s\n",
      "I\n",
      " \n",
      "e\n",
      "m\n",
      "a\n",
      "N\n",
      " \n",
      "y\n",
      "M\n"
     ]
    }
   ],
   "source": [
    "for i in range(len(s)):\n",
    "    print(s[-i-1])"
   ]
  },
  {
   "cell_type": "code",
   "execution_count": 31,
   "id": "e38a10f1",
   "metadata": {},
   "outputs": [
    {
     "data": {
      "text/plain": [
       "'asdf asd dd asdfasdasd asdfasdf'"
      ]
     },
     "execution_count": 31,
     "metadata": {},
     "output_type": "execute_result"
    }
   ],
   "source": [
    "# Return a copy of the string with leading and trailing whitespace removed.\n",
    "a = '   asdf asd dd asdfasdasd asdfasdf    '\n",
    "a.strip()"
   ]
  },
  {
   "cell_type": "code",
   "execution_count": 32,
   "id": "13afdeb1",
   "metadata": {},
   "outputs": [],
   "source": [
    "a = 'greeting from harshal'"
   ]
  },
  {
   "cell_type": "code",
   "execution_count": 33,
   "id": "1130d1be",
   "metadata": {},
   "outputs": [
    {
     "data": {
      "text/plain": [
       "'greeting from dipali'"
      ]
     },
     "execution_count": 33,
     "metadata": {},
     "output_type": "execute_result"
    }
   ],
   "source": [
    "# Return a copy with all occurrences of substring old replaced by new.\n",
    "a.replace(\"harshal\",'dipali')"
   ]
  },
  {
   "cell_type": "code",
   "execution_count": 34,
   "id": "6ce8e128",
   "metadata": {},
   "outputs": [
    {
     "data": {
      "text/plain": [
       "'greeting from harshal'"
      ]
     },
     "execution_count": 34,
     "metadata": {},
     "output_type": "execute_result"
    }
   ],
   "source": [
    "a"
   ]
  },
  {
   "cell_type": "code",
   "execution_count": 35,
   "id": "24c0ba76",
   "metadata": {},
   "outputs": [
    {
     "data": {
      "text/plain": [
       "'=====================My Name Is Harshal====================='"
      ]
     },
     "execution_count": 35,
     "metadata": {},
     "output_type": "execute_result"
    }
   ],
   "source": [
    "# Return a centered string of length width.\n",
    "s.center(60,'=')"
   ]
  },
  {
   "cell_type": "code",
   "execution_count": 36,
   "id": "2bba1a16",
   "metadata": {},
   "outputs": [
    {
     "data": {
      "text/plain": [
       "'My       Name    Is      Harshal'"
      ]
     },
     "execution_count": 36,
     "metadata": {},
     "output_type": "execute_result"
    }
   ],
   "source": [
    "# Return a copy where all tab characters are expanded using spaces.\n",
    "s1 = 'My \\t Name \\t Is \\t Harshal'\n",
    "s1.expandtabs()"
   ]
  },
  {
   "cell_type": "markdown",
   "id": "03c006f2",
   "metadata": {},
   "source": [
    "---\n",
    "### Quick Quiz\n",
    "**a = \"We All Are A Part of Full Stack\"**\n",
    "1. normalize all the string in lower case\n",
    "2. Find number of all occurences of 'a' in entire data\n",
    "3. Find all the index of 'a'\n",
    "4. replace all the \"a\" with \"ineuron\"\n",
    "5. print all the word as a list"
   ]
  },
  {
   "cell_type": "code",
   "execution_count": 37,
   "id": "79af180f",
   "metadata": {},
   "outputs": [
    {
     "name": "stdout",
     "output_type": "stream",
     "text": [
      "we all are a part of full stack data science\n",
      "\n",
      "Occurences of 'a': 7\n",
      "\n",
      "Location of 'a' in data: [3, 7, 11, 14, 28, 33, 35]\n",
      "\n",
      "String after replacing 'a' with 'iNeuron':\n",
      " we ineuronll ineuronre ineuron pineuronrt of full stineuronck dineurontineuron science\n",
      "\n",
      "list of all words in data:\n",
      " ['we', 'ineuronll', 'ineuronre', 'ineuron', 'pineuronrt', 'of', 'full', 'stineuronck', 'dineurontineuron', 'science']\n"
     ]
    }
   ],
   "source": [
    "a = \"We All Are A Part of Full Stack data science\"\n",
    "\n",
    "# 1st task = 'normalize all the string in lower case'\n",
    "a = a.lower()\n",
    "print(a)\n",
    "\n",
    "# 2nd task = 'Find number of all occurrences of 'a' in entire data\n",
    "print(f\"\\nOccurences of 'a': {a.count('a')}\")\n",
    "\n",
    "# 3rd task = 'Find all the index of \"a\" in data'\n",
    "index = []\n",
    "for i in range(len(a)):\n",
    "    if a[i] == 'a':\n",
    "        index.append(i)\n",
    "        \n",
    "print(\"\\nLocation of 'a' in data:\",index)\n",
    "        \n",
    "# 4th task = 'replace all the \"a\" with \"iNeuron\"'\n",
    "s = a.replace('a','ineuron')\n",
    "print(\"\\nString after replacing 'a' with 'iNeuron':\\n\",s)\n",
    "\n",
    "# 5th task = 'print all the word as list'\n",
    "l = s.split()\n",
    "print('\\nlist of all words in data:\\n',l)"
   ]
  },
  {
   "cell_type": "markdown",
   "id": "0f5c0c96",
   "metadata": {},
   "source": [
    "---"
   ]
  },
  {
   "cell_type": "code",
   "execution_count": 38,
   "id": "3d300a55",
   "metadata": {},
   "outputs": [
    {
     "data": {
      "text/plain": [
       "True"
      ]
     },
     "execution_count": 38,
     "metadata": {},
     "output_type": "execute_result"
    }
   ],
   "source": [
    "# Return True if the string is an uppercase string, False otherwise.\n",
    "s='HARSHAL'\n",
    "s.isupper()"
   ]
  },
  {
   "cell_type": "code",
   "execution_count": 39,
   "id": "8e70728b",
   "metadata": {},
   "outputs": [
    {
     "data": {
      "text/plain": [
       "False"
      ]
     },
     "execution_count": 39,
     "metadata": {},
     "output_type": "execute_result"
    }
   ],
   "source": [
    "# Return True if the string is a lowercase string, False otherwise.\n",
    "s.islower()"
   ]
  },
  {
   "cell_type": "code",
   "execution_count": 40,
   "id": "c3c726d9",
   "metadata": {},
   "outputs": [
    {
     "data": {
      "text/plain": [
       "True"
      ]
     },
     "execution_count": 40,
     "metadata": {},
     "output_type": "execute_result"
    }
   ],
   "source": [
    "# Return True if the string is a whitespace string, False otherwise\n",
    "s = '        '\n",
    "s.isspace()"
   ]
  },
  {
   "cell_type": "code",
   "execution_count": 41,
   "id": "d3aecab3",
   "metadata": {},
   "outputs": [
    {
     "name": "stdout",
     "output_type": "stream",
     "text": [
      "True\n",
      "True\n"
     ]
    }
   ],
   "source": [
    "# Return True if S ends with the specified suffix, False otherwise.\n",
    "print(a.endswith('e'))\n",
    "\n",
    "# Return True if S starts with the specified prefix, False otherwise.\n",
    "print(a.startswith('w'))\n"
   ]
  },
  {
   "cell_type": "code",
   "execution_count": 42,
   "id": "5da298f2",
   "metadata": {},
   "outputs": [
    {
     "name": "stdout",
     "output_type": "stream",
     "text": [
      "we all are a part of full stack data science\n"
     ]
    },
    {
     "data": {
      "text/plain": [
       "44"
      ]
     },
     "execution_count": 42,
     "metadata": {},
     "output_type": "execute_result"
    }
   ],
   "source": [
    "print(a)\n",
    "len(a)"
   ]
  },
  {
   "cell_type": "code",
   "execution_count": 43,
   "id": "23059565",
   "metadata": {},
   "outputs": [
    {
     "name": "stdout",
     "output_type": "stream",
     "text": [
      "44\n"
     ]
    }
   ],
   "source": [
    "# write a program for count the no of data in 's' without using len() function\n",
    "\n",
    "count = 0\n",
    "for i in a:\n",
    "    count = count+1\n",
    "print(count)"
   ]
  },
  {
   "cell_type": "code",
   "execution_count": 44,
   "id": "91312572",
   "metadata": {},
   "outputs": [
    {
     "name": "stdout",
     "output_type": "stream",
     "text": [
      "l\n",
      "a\n",
      "h\n",
      "s\n",
      "r\n",
      "a\n",
      "h\n"
     ]
    }
   ],
   "source": [
    "# string reverse using for loop\n",
    "a = 'harshal'\n",
    "\n",
    "for i in range(len(a)):\n",
    "    print(a[-i-1])"
   ]
  },
  {
   "cell_type": "code",
   "execution_count": 45,
   "id": "87d000bc",
   "metadata": {},
   "outputs": [
    {
     "name": "stdout",
     "output_type": "stream",
     "text": [
      "l\n",
      "a\n",
      "h\n",
      "s\n",
      "r\n",
      "a\n",
      "h\n"
     ]
    }
   ],
   "source": [
    "# string reverse using while loop\n",
    "i = len(a) -1\n",
    "while i>= 0:\n",
    "    print(a[i])\n",
    "    i = i -1"
   ]
  },
  {
   "cell_type": "code",
   "execution_count": 46,
   "id": "646ed452",
   "metadata": {},
   "outputs": [
    {
     "name": "stdout",
     "output_type": "stream",
     "text": [
      "'i' is vovel\n",
      "'n' is not vovel\n",
      "'e' is vovel\n",
      "'u' is vovel\n",
      "'r' is not vovel\n",
      "'o' is vovel\n",
      "'n' is not vovel\n"
     ]
    }
   ],
   "source": [
    "name = 'ineuron'\n",
    "vovels = 'AaEeIiOoUu'\n",
    "\n",
    "for i in name:\n",
    "    if i in vovels :\n",
    "        print(f\"'{i}' is vovel\")\n",
    "    else:\n",
    "        print(f\"'{i}' is not vovel\")"
   ]
  },
  {
   "cell_type": "code",
   "execution_count": 47,
   "id": "95ae31c9",
   "metadata": {},
   "outputs": [
    {
     "name": "stdout",
     "output_type": "stream",
     "text": [
      "Enter a name:nitin\n",
      "String 'NITIN' is palindrome..\n"
     ]
    }
   ],
   "source": [
    "name = input('Enter a name:')\n",
    "name = name.upper()\n",
    "\n",
    "if name[::-1] == name[::1]:\n",
    "    print(f\"String '{name}' is palindrome..\")\n",
    "else:\n",
    "    print(f\"String '{name}' is not palindrome..!\")"
   ]
  },
  {
   "cell_type": "markdown",
   "id": "ea2a1950",
   "metadata": {},
   "source": [
    "# 14th March Live class\n",
    "## List Manipulation and Tuples\n",
    "---"
   ]
  },
  {
   "cell_type": "code",
   "execution_count": 48,
   "id": "6f190b03",
   "metadata": {},
   "outputs": [],
   "source": [
    "l = ['Harsh', 23,5,32,[56,73]]"
   ]
  },
  {
   "cell_type": "code",
   "execution_count": 49,
   "id": "ad161989",
   "metadata": {},
   "outputs": [
    {
     "data": {
      "text/plain": [
       "[56, 73]"
      ]
     },
     "execution_count": 49,
     "metadata": {},
     "output_type": "execute_result"
    }
   ],
   "source": [
    "l[4]"
   ]
  },
  {
   "cell_type": "code",
   "execution_count": 50,
   "id": "172dc832",
   "metadata": {},
   "outputs": [
    {
     "data": {
      "text/plain": [
       "['Harsh', 23, 5]"
      ]
     },
     "execution_count": 50,
     "metadata": {},
     "output_type": "execute_result"
    }
   ],
   "source": [
    "l[0:3]"
   ]
  },
  {
   "cell_type": "code",
   "execution_count": 51,
   "id": "9aa26ef0",
   "metadata": {},
   "outputs": [
    {
     "data": {
      "text/plain": [
       "[32, 5, 23]"
      ]
     },
     "execution_count": 51,
     "metadata": {},
     "output_type": "execute_result"
    }
   ],
   "source": [
    "l[3:0:-1]"
   ]
  },
  {
   "cell_type": "code",
   "execution_count": 52,
   "id": "0ee8f230",
   "metadata": {},
   "outputs": [
    {
     "data": {
      "text/plain": [
       "[[56, 73], 32, 5, 23, 'Harsh']"
      ]
     },
     "execution_count": 52,
     "metadata": {},
     "output_type": "execute_result"
    }
   ],
   "source": [
    "l[::-1]"
   ]
  },
  {
   "cell_type": "code",
   "execution_count": 53,
   "id": "b02da1ab",
   "metadata": {},
   "outputs": [
    {
     "data": {
      "text/plain": [
       "['h', 'a', 'r', 's', 'h', 'a', 'l']"
      ]
     },
     "execution_count": 53,
     "metadata": {},
     "output_type": "execute_result"
    }
   ],
   "source": [
    "s = 'harshal'\n",
    "s = list(s)\n",
    "s"
   ]
  },
  {
   "cell_type": "code",
   "execution_count": 54,
   "id": "0aa24ed6",
   "metadata": {},
   "outputs": [],
   "source": [
    "s = ['harshal']"
   ]
  },
  {
   "cell_type": "code",
   "execution_count": 55,
   "id": "3e3f99e7",
   "metadata": {},
   "outputs": [
    {
     "data": {
      "text/plain": [
       "['Harsh', 23, 5, 32, [56, 73], 'harshal']"
      ]
     },
     "execution_count": 55,
     "metadata": {},
     "output_type": "execute_result"
    }
   ],
   "source": [
    "l + s"
   ]
  },
  {
   "cell_type": "code",
   "execution_count": 56,
   "id": "006b3f65",
   "metadata": {},
   "outputs": [
    {
     "data": {
      "text/plain": [
       "['Harsh', 23, 5, 32, [56, 73], 'Harsh', 23, 5, 32, [56, 73]]"
      ]
     },
     "execution_count": 56,
     "metadata": {},
     "output_type": "execute_result"
    }
   ],
   "source": [
    "l*2"
   ]
  },
  {
   "cell_type": "code",
   "execution_count": 57,
   "id": "59e45895",
   "metadata": {},
   "outputs": [
    {
     "data": {
      "text/plain": [
       "True"
      ]
     },
     "execution_count": 57,
     "metadata": {},
     "output_type": "execute_result"
    }
   ],
   "source": [
    "23 in l"
   ]
  },
  {
   "cell_type": "code",
   "execution_count": 58,
   "id": "334b28e4",
   "metadata": {},
   "outputs": [
    {
     "name": "stdout",
     "output_type": "stream",
     "text": [
      "Harsh\n",
      "23\n",
      "5\n",
      "32\n",
      "[56, 73]\n"
     ]
    }
   ],
   "source": [
    "for i in l:\n",
    "    print(i)"
   ]
  },
  {
   "cell_type": "code",
   "execution_count": 59,
   "id": "85b13058",
   "metadata": {},
   "outputs": [
    {
     "data": {
      "text/plain": [
       "73"
      ]
     },
     "execution_count": 59,
     "metadata": {},
     "output_type": "execute_result"
    }
   ],
   "source": [
    "max(i)"
   ]
  },
  {
   "cell_type": "code",
   "execution_count": 60,
   "id": "e6cd8e5b",
   "metadata": {},
   "outputs": [
    {
     "data": {
      "text/plain": [
       "'ok'"
      ]
     },
     "execution_count": 60,
     "metadata": {},
     "output_type": "execute_result"
    }
   ],
   "source": [
    "max(['harsh','ok','233'])"
   ]
  },
  {
   "cell_type": "code",
   "execution_count": 61,
   "id": "543e3596",
   "metadata": {},
   "outputs": [
    {
     "data": {
      "text/plain": [
       "345"
      ]
     },
     "execution_count": 61,
     "metadata": {},
     "output_type": "execute_result"
    }
   ],
   "source": [
    "max([234,345,65,23])"
   ]
  },
  {
   "cell_type": "code",
   "execution_count": 62,
   "id": "4ab44cfa",
   "metadata": {},
   "outputs": [],
   "source": [
    "l = [2,4,5,1]"
   ]
  },
  {
   "cell_type": "code",
   "execution_count": 63,
   "id": "909e900d",
   "metadata": {},
   "outputs": [],
   "source": [
    "# Append object to the end of the list.\n",
    "l.append(\"harsh\")"
   ]
  },
  {
   "cell_type": "code",
   "execution_count": 64,
   "id": "28e39e84",
   "metadata": {},
   "outputs": [
    {
     "data": {
      "text/plain": [
       "[2, 4, 5, 1, 'harsh']"
      ]
     },
     "execution_count": 64,
     "metadata": {},
     "output_type": "execute_result"
    }
   ],
   "source": [
    "l"
   ]
  },
  {
   "cell_type": "code",
   "execution_count": 65,
   "id": "5de2d96c",
   "metadata": {},
   "outputs": [],
   "source": [
    "# Extend list by appending elements from the iterable.\n",
    "l.extend('hey')"
   ]
  },
  {
   "cell_type": "code",
   "execution_count": 66,
   "id": "f7e8d4c9",
   "metadata": {},
   "outputs": [
    {
     "data": {
      "text/plain": [
       "[2, 4, 5, 1, 'harsh', 'h', 'e', 'y']"
      ]
     },
     "execution_count": 66,
     "metadata": {},
     "output_type": "execute_result"
    }
   ],
   "source": [
    "l"
   ]
  },
  {
   "cell_type": "code",
   "execution_count": 67,
   "id": "0c661a88",
   "metadata": {},
   "outputs": [],
   "source": [
    "# l.extend(23)\n",
    "# it will give an error\n",
    "# TypeError: 'int' object is not iterable"
   ]
  },
  {
   "cell_type": "code",
   "execution_count": 68,
   "id": "d7d47f21",
   "metadata": {},
   "outputs": [
    {
     "name": "stdout",
     "output_type": "stream",
     "text": [
      "[2, 4, 5, 1, 'harsh', 'h', 'e', 'y', 23, 43]\n"
     ]
    }
   ],
   "source": [
    "l.extend([23,43])\n",
    "print(l)"
   ]
  },
  {
   "cell_type": "code",
   "execution_count": 69,
   "id": "41c14c28",
   "metadata": {},
   "outputs": [],
   "source": [
    "# Insert object before index. count\n",
    "l.insert(0,'hey')"
   ]
  },
  {
   "cell_type": "code",
   "execution_count": 70,
   "id": "866e086d",
   "metadata": {},
   "outputs": [
    {
     "data": {
      "text/plain": [
       "['hey', 2, 4, 5, 1, 'harsh', 'h', 'e', 'y', 23, 43]"
      ]
     },
     "execution_count": 70,
     "metadata": {},
     "output_type": "execute_result"
    }
   ],
   "source": [
    "l"
   ]
  },
  {
   "cell_type": "code",
   "execution_count": 71,
   "id": "6efb40ff",
   "metadata": {},
   "outputs": [
    {
     "data": {
      "text/plain": [
       "1"
      ]
     },
     "execution_count": 71,
     "metadata": {},
     "output_type": "execute_result"
    }
   ],
   "source": [
    "# Return number of occurrences of value.\n",
    "l.count('h')"
   ]
  },
  {
   "cell_type": "code",
   "execution_count": 72,
   "id": "9744f19c",
   "metadata": {},
   "outputs": [
    {
     "data": {
      "text/plain": [
       "['hey', 2, 4, 5, 1, 'harsh', 'h', 'e', 'y', 23, 43]"
      ]
     },
     "execution_count": 72,
     "metadata": {},
     "output_type": "execute_result"
    }
   ],
   "source": [
    "l"
   ]
  },
  {
   "cell_type": "code",
   "execution_count": 73,
   "id": "586573bf",
   "metadata": {},
   "outputs": [
    {
     "data": {
      "text/plain": [
       "7"
      ]
     },
     "execution_count": 73,
     "metadata": {},
     "output_type": "execute_result"
    }
   ],
   "source": [
    "# Return first index of value.\n",
    "l.index('e')"
   ]
  },
  {
   "cell_type": "code",
   "execution_count": 74,
   "id": "ad8c367d",
   "metadata": {},
   "outputs": [
    {
     "data": {
      "text/plain": [
       "43"
      ]
     },
     "execution_count": 74,
     "metadata": {},
     "output_type": "execute_result"
    }
   ],
   "source": [
    "# Remove and return item at index (default last).\n",
    "l.pop()"
   ]
  },
  {
   "cell_type": "code",
   "execution_count": 75,
   "id": "70059a49",
   "metadata": {},
   "outputs": [
    {
     "data": {
      "text/plain": [
       "['hey', 2, 4, 5, 1, 'harsh', 'h', 'e', 'y', 23]"
      ]
     },
     "execution_count": 75,
     "metadata": {},
     "output_type": "execute_result"
    }
   ],
   "source": [
    "l"
   ]
  },
  {
   "cell_type": "code",
   "execution_count": 76,
   "id": "5abe5575",
   "metadata": {},
   "outputs": [],
   "source": [
    "# Remove first occurrence of value.\n",
    "l.remove('hey')"
   ]
  },
  {
   "cell_type": "code",
   "execution_count": 77,
   "id": "682d606e",
   "metadata": {},
   "outputs": [
    {
     "data": {
      "text/plain": [
       "[2, 4, 5, 1, 'harsh', 'h', 'e', 'y', 23]"
      ]
     },
     "execution_count": 77,
     "metadata": {},
     "output_type": "execute_result"
    }
   ],
   "source": [
    "l"
   ]
  },
  {
   "cell_type": "code",
   "execution_count": 78,
   "id": "9424b9de",
   "metadata": {},
   "outputs": [],
   "source": [
    "# Reverse *IN PLACE*. It reverse list permently\n",
    "l.reverse()"
   ]
  },
  {
   "cell_type": "code",
   "execution_count": 79,
   "id": "95c6652a",
   "metadata": {},
   "outputs": [
    {
     "data": {
      "text/plain": [
       "[23, 'y', 'e', 'h', 'harsh', 1, 5, 4, 2]"
      ]
     },
     "execution_count": 79,
     "metadata": {},
     "output_type": "execute_result"
    }
   ],
   "source": [
    "l"
   ]
  },
  {
   "cell_type": "code",
   "execution_count": 80,
   "id": "093fd657",
   "metadata": {},
   "outputs": [],
   "source": [
    "l1 = [123,3,56,1,234,3.46,234.333]\n",
    "l1.sort()"
   ]
  },
  {
   "cell_type": "code",
   "execution_count": 81,
   "id": "0cd926aa",
   "metadata": {},
   "outputs": [
    {
     "data": {
      "text/plain": [
       "[1, 3, 3.46, 56, 123, 234, 234.333]"
      ]
     },
     "execution_count": 81,
     "metadata": {},
     "output_type": "execute_result"
    }
   ],
   "source": [
    "l1"
   ]
  },
  {
   "cell_type": "markdown",
   "id": "824b720d",
   "metadata": {},
   "source": [
    "---\n",
    "### Quick Quiz\n",
    "**l = [[],[],[]]**\n",
    "1. Append 2 more list one complex number in this list in between a existing list.\n",
    "2. if your nested list contain string then find and its index in nested list and print it. Then remove the string\n",
    "3. You have to extract 2nd element of each nested list"
   ]
  },
  {
   "cell_type": "code",
   "execution_count": 82,
   "id": "ec10ca2e",
   "metadata": {},
   "outputs": [
    {
     "name": "stdout",
     "output_type": "stream",
     "text": [
      "Default list is: [[1, 2, 3], [4, 5, 6], [7, 8, 9], 'demo', 12.5]\n",
      "\n",
      "list after task 1: [[1, 2, 3], [11, 12, 'b', 'b', 'b'], [4, 5, 6], [21, 't', 223], (21+7j), [7, 8, 9], 'demo', 12.5]\n",
      "\n",
      "Index of string b is :2\n",
      "Index of string b is :3\n",
      "Index of string b is :4\n",
      "The string in the nested list is: b\n",
      "The string in the nested list is: b\n",
      "The string in the nested list is: b\n",
      "Index of string t is :1\n",
      "The string in the nested list is: t\n",
      "\n",
      "list after task 2: [[1, 2, 3], [11, 12], [4, 5, 6], [21, 223], (21+7j), [7, 8, 9], 'demo', 12.5]\n",
      "\n",
      "2nd element of list [1, 2, 3] is: 2\n",
      "2nd element of list [11, 12] is: 12\n",
      "2nd element of list [4, 5, 6] is: 5\n",
      "2nd element of list [21, 223] is: 223\n",
      "2nd element of list [7, 8, 9] is: 8\n"
     ]
    }
   ],
   "source": [
    "l1 = [[1,2,3],[4,5,6],[7,8,9],'demo',12.5]\n",
    "l2 = [11,12,'b','b','b']\n",
    "l3 = [21,'t',223]\n",
    "print(f\"Default list is: {l1}\\n\")\n",
    "\n",
    "# task 1\n",
    "l1.insert(1,l2)\n",
    "l1. insert(3,l3)\n",
    "l1.insert(4,21+7j)\n",
    "print(f\"list after task 1: {l1}\\n\")\n",
    "\n",
    "# task 2\n",
    "for i in l1:\n",
    "    if type(i) == list:\n",
    "        j = 0\n",
    "        while j < len(i):\n",
    "            if type(i[j]) is str:\n",
    "                print(f\"Index of string {i[j]} is :{j}\")\n",
    "            j = j + 1\n",
    "        j = 0\n",
    "        while j < len(i):\n",
    "            if type(i[j]) is str:\n",
    "                print(f\"The string in the nested list is: {i[j]}\")\n",
    "                i.remove(i[j])\n",
    "                continue\n",
    "            j = j +1\n",
    "print(f\"\\nlist after task 2: {l1}\\n\")\n",
    "\n",
    "# task 3\n",
    "for i in l1:\n",
    "    if type(i) == list:\n",
    "        print(f\"2nd element of list {i} is: {i[1]}\")"
   ]
  },
  {
   "cell_type": "markdown",
   "id": "f2956a28",
   "metadata": {},
   "source": [
    "---"
   ]
  },
  {
   "cell_type": "code",
   "execution_count": 83,
   "id": "371dd9c7",
   "metadata": {},
   "outputs": [
    {
     "name": "stdout",
     "output_type": "stream",
     "text": [
      "Enter a number:2\n",
      "Enter a element 1: 12\n",
      "Enter a element 2: 43\n",
      "\n",
      "This is your list: ['12', '43']\n"
     ]
    }
   ],
   "source": [
    "n = int(input(\"Enter a number:\"))\n",
    "l = []\n",
    "for i in range(n):\n",
    "    l.append(input(f\"Enter a element {i+1}: \"))\n",
    "\n",
    "print(f\"\\nThis is your list: {l}\")"
   ]
  },
  {
   "cell_type": "markdown",
   "id": "6df04669",
   "metadata": {},
   "source": [
    "### List comprehension"
   ]
  },
  {
   "cell_type": "code",
   "execution_count": 84,
   "id": "5aac0be2",
   "metadata": {},
   "outputs": [
    {
     "data": {
      "text/plain": [
       "['H', 'a', 'r', 's', 'h']"
      ]
     },
     "execution_count": 84,
     "metadata": {},
     "output_type": "execute_result"
    }
   ],
   "source": [
    "l1=[]\n",
    "for i in 'Harsh':\n",
    "    l1.append(i)\n",
    " \n",
    "l1"
   ]
  },
  {
   "cell_type": "code",
   "execution_count": 85,
   "id": "d15ef3ef",
   "metadata": {},
   "outputs": [
    {
     "data": {
      "text/plain": [
       "['H', 'a', 'r', 's', 'h', 'a', 'l']"
      ]
     },
     "execution_count": 85,
     "metadata": {},
     "output_type": "execute_result"
    }
   ],
   "source": [
    "# we can write above code using list comprehension\n",
    "[i for i in \"Harshal\"]"
   ]
  },
  {
   "cell_type": "code",
   "execution_count": 86,
   "id": "bd68f966",
   "metadata": {},
   "outputs": [
    {
     "data": {
      "text/plain": [
       "[0, 2, 4, 6, 8]"
      ]
     },
     "execution_count": 86,
     "metadata": {},
     "output_type": "execute_result"
    }
   ],
   "source": [
    "[i for i in range(10) if i%2==0]"
   ]
  },
  {
   "cell_type": "code",
   "execution_count": 87,
   "id": "73c9fb13",
   "metadata": {},
   "outputs": [],
   "source": [
    "l=[]\n",
    "for i in range(12):\n",
    "    if i%2 == 0:\n",
    "        l.append(i)"
   ]
  },
  {
   "cell_type": "code",
   "execution_count": 88,
   "id": "a05cec6e",
   "metadata": {},
   "outputs": [
    {
     "data": {
      "text/plain": [
       "[0, 2, 4, 6, 8, 10]"
      ]
     },
     "execution_count": 88,
     "metadata": {},
     "output_type": "execute_result"
    }
   ],
   "source": [
    "l"
   ]
  },
  {
   "cell_type": "code",
   "execution_count": 89,
   "id": "21ead4df",
   "metadata": {},
   "outputs": [
    {
     "name": "stdout",
     "output_type": "stream",
     "text": [
      "['0 Even', '1 Odd', '2 Even', '3 Odd', '4 Even', '5 Odd', '6 Even', '7 Odd', '8 Even', '9 Odd']\n"
     ]
    }
   ],
   "source": [
    "l = []\n",
    "for i in range(10):\n",
    "    if i%2 != 0:\n",
    "        l.append(f'{i} Odd')\n",
    "    else:\n",
    "        l.append(f\"{i} Even\")\n",
    "        \n",
    "print(l)"
   ]
  },
  {
   "cell_type": "code",
   "execution_count": 90,
   "id": "6b29ef26",
   "metadata": {},
   "outputs": [
    {
     "data": {
      "text/plain": [
       "['0 even', '1 odd', '2 even', '3 odd', '4 even', '5 odd', '6 even', '7 odd']"
      ]
     },
     "execution_count": 90,
     "metadata": {},
     "output_type": "execute_result"
    }
   ],
   "source": [
    "# we have to write output of if condition in left hand side\n",
    "# and output of else in right hand side\n",
    "[f'{i} odd' if i %2 !=0 else f\"{i} even\" for i in range(8)]"
   ]
  },
  {
   "cell_type": "code",
   "execution_count": 91,
   "id": "0a950f90",
   "metadata": {},
   "outputs": [
    {
     "data": {
      "text/plain": [
       "[[0, 1, 2], [0, 1, 2], [0, 1, 2]]"
      ]
     },
     "execution_count": 91,
     "metadata": {},
     "output_type": "execute_result"
    }
   ],
   "source": [
    "mat=[]\n",
    "for i in range(3):\n",
    "    mat.append([])\n",
    "    for j in range(3):\n",
    "        mat[i].append(j)\n",
    "\n",
    "mat"
   ]
  },
  {
   "cell_type": "code",
   "execution_count": 92,
   "id": "f1192f6f",
   "metadata": {},
   "outputs": [
    {
     "data": {
      "text/plain": [
       "[[0, 1, 2], [0, 1, 2], [0, 1, 2]]"
      ]
     },
     "execution_count": 92,
     "metadata": {},
     "output_type": "execute_result"
    }
   ],
   "source": [
    "[[j for j in range(3)] for i in range(3)]"
   ]
  },
  {
   "cell_type": "code",
   "execution_count": 93,
   "id": "772d696e",
   "metadata": {},
   "outputs": [
    {
     "data": {
      "text/plain": [
       "[0, 6, 12, 18]"
      ]
     },
     "execution_count": 93,
     "metadata": {},
     "output_type": "execute_result"
    }
   ],
   "source": [
    "# nested condition\n",
    "# we can do this for checking both conditions\n",
    "# we cant use elif here\n",
    "[i for i in range(20) if i%2==0 if i%3==0]"
   ]
  },
  {
   "cell_type": "code",
   "execution_count": 94,
   "id": "bbc2fe47",
   "metadata": {},
   "outputs": [
    {
     "data": {
      "text/plain": [
       "[0, 6, 12, 18]"
      ]
     },
     "execution_count": 94,
     "metadata": {},
     "output_type": "execute_result"
    }
   ],
   "source": [
    "l=[]\n",
    "for i in range(20):\n",
    "    if i%2==0:\n",
    "        if i%3==0:\n",
    "            l.append(i)\n",
    "            \n",
    "l"
   ]
  },
  {
   "cell_type": "code",
   "execution_count": 95,
   "id": "79e07945",
   "metadata": {},
   "outputs": [],
   "source": [
    "l =[i for i in range(10)]"
   ]
  },
  {
   "cell_type": "code",
   "execution_count": 96,
   "id": "cff5e7fb",
   "metadata": {},
   "outputs": [
    {
     "data": {
      "text/plain": [
       "['test', 'yes', 'no', 'test', 'test', 'test', 'test', 'test', 'test', 'test']"
      ]
     },
     "execution_count": 96,
     "metadata": {},
     "output_type": "execute_result"
    }
   ],
   "source": [
    "['yes' if i==1 else 'no' if i==2 else 'test' for i in l]"
   ]
  },
  {
   "cell_type": "code",
   "execution_count": 97,
   "id": "74328483",
   "metadata": {},
   "outputs": [
    {
     "data": {
      "text/plain": [
       "['TEST', 'YES', 'NO', 'TEST', 'TEST', 'TEST', 'TEST', 'TEST', 'TEST', 'TEST']"
      ]
     },
     "execution_count": 97,
     "metadata": {},
     "output_type": "execute_result"
    }
   ],
   "source": [
    "res=[]\n",
    "for i in l:\n",
    "    if i==1:\n",
    "        res.append('YES')\n",
    "    elif i == 2:\n",
    "        res.append('NO')\n",
    "    else:\n",
    "        res.append('TEST')\n",
    "        \n",
    "res"
   ]
  },
  {
   "cell_type": "code",
   "execution_count": 98,
   "id": "72f26790",
   "metadata": {},
   "outputs": [],
   "source": [
    "# [i if i<=1 else 'regular' if %i==0 else 'prime' for i in l]"
   ]
  },
  {
   "cell_type": "code",
   "execution_count": 99,
   "id": "8c8d8366",
   "metadata": {},
   "outputs": [
    {
     "data": {
      "text/plain": [
       "[2, 3, 5, 7, 9, 11, 13, 15, 17, 19, 21, 23, 25, 27, 29, 31]"
      ]
     },
     "execution_count": 99,
     "metadata": {},
     "output_type": "execute_result"
    }
   ],
   "source": [
    "# prime numbers using list comprehension\n",
    "[i for i in range(2,32) if all(i%j !=0 for y in range(2,i))]"
   ]
  },
  {
   "cell_type": "markdown",
   "id": "a744edeb",
   "metadata": {},
   "source": [
    "- - -\n",
    "# 20th March Live Class\n",
    "### Tuple, Set and Dict"
   ]
  },
  {
   "cell_type": "code",
   "execution_count": 100,
   "id": "93a222a3",
   "metadata": {},
   "outputs": [
    {
     "data": {
      "text/plain": [
       "tuple"
      ]
     },
     "execution_count": 100,
     "metadata": {},
     "output_type": "execute_result"
    }
   ],
   "source": [
    "t=()\n",
    "type(t)"
   ]
  },
  {
   "cell_type": "code",
   "execution_count": 101,
   "id": "aec19a3e",
   "metadata": {},
   "outputs": [
    {
     "data": {
      "text/plain": [
       "list"
      ]
     },
     "execution_count": 101,
     "metadata": {},
     "output_type": "execute_result"
    }
   ],
   "source": [
    "l=[]\n",
    "type(l)"
   ]
  },
  {
   "cell_type": "code",
   "execution_count": 102,
   "id": "8dbccf09",
   "metadata": {},
   "outputs": [],
   "source": [
    "t = (232,45,'harsh',3.45,True)"
   ]
  },
  {
   "cell_type": "code",
   "execution_count": 103,
   "id": "7cc747da",
   "metadata": {},
   "outputs": [],
   "source": [
    "l = [232,45,'harsh',3.45,True]"
   ]
  },
  {
   "cell_type": "code",
   "execution_count": 104,
   "id": "f8ee564f",
   "metadata": {},
   "outputs": [
    {
     "name": "stdout",
     "output_type": "stream",
     "text": [
      "45\n",
      "232\n"
     ]
    }
   ],
   "source": [
    "# tuples slicing is similler as list slicing\n",
    "print(t[1])\n",
    "print(l[0])"
   ]
  },
  {
   "cell_type": "code",
   "execution_count": 105,
   "id": "e636aa83",
   "metadata": {},
   "outputs": [
    {
     "data": {
      "text/plain": [
       "(232, 45, 'harsh')"
      ]
     },
     "execution_count": 105,
     "metadata": {},
     "output_type": "execute_result"
    }
   ],
   "source": [
    "t[0:3]"
   ]
  },
  {
   "cell_type": "code",
   "execution_count": 106,
   "id": "cedcb729",
   "metadata": {},
   "outputs": [
    {
     "data": {
      "text/plain": [
       "(True, 3.45, 'harsh', 45, 232)"
      ]
     },
     "execution_count": 106,
     "metadata": {},
     "output_type": "execute_result"
    }
   ],
   "source": [
    "t[::-1]"
   ]
  },
  {
   "cell_type": "code",
   "execution_count": 107,
   "id": "8a4545b7",
   "metadata": {},
   "outputs": [
    {
     "data": {
      "text/plain": [
       "['Python', 45, 'harsh', 3.45, True]"
      ]
     },
     "execution_count": 107,
     "metadata": {},
     "output_type": "execute_result"
    }
   ],
   "source": [
    "# if we want to assign any value to the perticular index of list\n",
    "# then it can be possible\n",
    "l[0] = 'Python'\n",
    "l"
   ]
  },
  {
   "cell_type": "code",
   "execution_count": 108,
   "id": "c53c78f4",
   "metadata": {},
   "outputs": [
    {
     "data": {
      "text/plain": [
       "\"it will give you and Type Error\\n# TypeError: 'tuple' object does not support item assignment\""
      ]
     },
     "execution_count": 108,
     "metadata": {},
     "output_type": "execute_result"
    }
   ],
   "source": [
    "'''if we want to assign any value to the perticular index of tuple\n",
    "# then it can not be possible'''\n",
    "# t[2] = 'Python'\n",
    "'''it will give you and Type Error\n",
    "# TypeError: 'tuple' object does not support item assignment'''"
   ]
  },
  {
   "cell_type": "code",
   "execution_count": 109,
   "id": "3d7c0bf0",
   "metadata": {},
   "outputs": [],
   "source": [
    "t1 =(68,49,13)"
   ]
  },
  {
   "cell_type": "code",
   "execution_count": 110,
   "id": "14949d08",
   "metadata": {},
   "outputs": [
    {
     "data": {
      "text/plain": [
       "(232, 45, 'harsh', 3.45, True, 68, 49, 13)"
      ]
     },
     "execution_count": 110,
     "metadata": {},
     "output_type": "execute_result"
    }
   ],
   "source": [
    "t+t1"
   ]
  },
  {
   "cell_type": "code",
   "execution_count": 111,
   "id": "8661b1c9",
   "metadata": {},
   "outputs": [
    {
     "data": {
      "text/plain": [
       "(68, 49, 13, 68, 49, 13)"
      ]
     },
     "execution_count": 111,
     "metadata": {},
     "output_type": "execute_result"
    }
   ],
   "source": [
    "t1*2"
   ]
  },
  {
   "cell_type": "code",
   "execution_count": 112,
   "id": "98f5d1be",
   "metadata": {},
   "outputs": [
    {
     "data": {
      "text/plain": [
       "False"
      ]
     },
     "execution_count": 112,
     "metadata": {},
     "output_type": "execute_result"
    }
   ],
   "source": [
    "12 in t1"
   ]
  },
  {
   "cell_type": "code",
   "execution_count": 113,
   "id": "60f74c02",
   "metadata": {},
   "outputs": [
    {
     "data": {
      "text/plain": [
       "68"
      ]
     },
     "execution_count": 113,
     "metadata": {},
     "output_type": "execute_result"
    }
   ],
   "source": [
    "max(t1)"
   ]
  },
  {
   "cell_type": "code",
   "execution_count": 114,
   "id": "2116f77c",
   "metadata": {},
   "outputs": [
    {
     "data": {
      "text/plain": [
       "'Siddhi'"
      ]
     },
     "execution_count": 114,
     "metadata": {},
     "output_type": "execute_result"
    }
   ],
   "source": [
    "t2 = ('Harsh','Dipali','Siddhi','Neha')\n",
    "max(t2)"
   ]
  },
  {
   "cell_type": "code",
   "execution_count": 115,
   "id": "722bd3a7",
   "metadata": {},
   "outputs": [
    {
     "data": {
      "text/plain": [
       "2"
      ]
     },
     "execution_count": 115,
     "metadata": {},
     "output_type": "execute_result"
    }
   ],
   "source": [
    "# it gives index of and element\n",
    "t1.index(13)"
   ]
  },
  {
   "cell_type": "code",
   "execution_count": 116,
   "id": "0da2ccde",
   "metadata": {},
   "outputs": [
    {
     "data": {
      "text/plain": [
       "1"
      ]
     },
     "execution_count": 116,
     "metadata": {},
     "output_type": "execute_result"
    }
   ],
   "source": [
    "# it will gives number of occurence of element\n",
    "t1.count(13)"
   ]
  },
  {
   "cell_type": "code",
   "execution_count": 117,
   "id": "ee4516ad",
   "metadata": {},
   "outputs": [],
   "source": [
    "# we can type cast tuple into list\n",
    "l1=list(t)"
   ]
  },
  {
   "cell_type": "code",
   "execution_count": 118,
   "id": "5f26fdc2",
   "metadata": {},
   "outputs": [
    {
     "data": {
      "text/plain": [
       "[232, 45, 'Hello', 3.45, True]"
      ]
     },
     "execution_count": 118,
     "metadata": {},
     "output_type": "execute_result"
    }
   ],
   "source": [
    "# we can directly assign any value to the perticular index in list\n",
    "l1[2] = 'Hello'\n",
    "l1\n",
    "# but we can't assign any value to perticular index in tuple\n",
    "# it will gives you type error\n",
    "# TypeError: 'tuple' object does not support item assignment\n",
    "# t1[2] ='Hey'\n",
    "# t1"
   ]
  },
  {
   "cell_type": "code",
   "execution_count": 119,
   "id": "ce55891a",
   "metadata": {},
   "outputs": [
    {
     "data": {
      "text/plain": [
       "(68, 49, 13, 23, 34)"
      ]
     },
     "execution_count": 119,
     "metadata": {},
     "output_type": "execute_result"
    }
   ],
   "source": [
    "# we can't append an element directly in tuple\n",
    "\n",
    "# we have to do is create another tuple and add it\n",
    "t4=(23,34)\n",
    "t1+t4"
   ]
  },
  {
   "cell_type": "code",
   "execution_count": 120,
   "id": "09e0bbb6",
   "metadata": {},
   "outputs": [
    {
     "data": {
      "text/plain": [
       "(23, 43, 923, (234, 'asdfd', True), [False, 92, 'harshal'], 25)"
      ]
     },
     "execution_count": 120,
     "metadata": {},
     "output_type": "execute_result"
    }
   ],
   "source": [
    "# we can create nested tuple also.\n",
    "# also we can add list in tuple\n",
    "t=(23,43,923,(234,'asdfd',True),[False,92,'harshal'],25,)\n",
    "t"
   ]
  },
  {
   "cell_type": "code",
   "execution_count": 121,
   "id": "6289a265",
   "metadata": {},
   "outputs": [
    {
     "data": {
      "text/plain": [
       "[False, 92]"
      ]
     },
     "execution_count": 121,
     "metadata": {},
     "output_type": "execute_result"
    }
   ],
   "source": [
    "# if we want to extract list from tuple, we can try this way\n",
    "t[4][0:2]"
   ]
  },
  {
   "cell_type": "code",
   "execution_count": 122,
   "id": "4e72d791",
   "metadata": {},
   "outputs": [
    {
     "name": "stdout",
     "output_type": "stream",
     "text": [
      "[False, 92]\n"
     ]
    }
   ],
   "source": [
    "# we can try that in another way also\n",
    "for i in t:\n",
    "    if type(i) is list:\n",
    "        print(i[0:2])"
   ]
  },
  {
   "cell_type": "code",
   "execution_count": 123,
   "id": "d7055e91",
   "metadata": {},
   "outputs": [
    {
     "data": {
      "text/plain": [
       "[23, 43, 923, (234, 'asdfd', True), [False, 92, 'harshal'], 25]"
      ]
     },
     "execution_count": 123,
     "metadata": {},
     "output_type": "execute_result"
    }
   ],
   "source": [
    "l1 = list(t)\n",
    "l1"
   ]
  },
  {
   "cell_type": "code",
   "execution_count": 124,
   "id": "0fb4c057",
   "metadata": {},
   "outputs": [
    {
     "data": {
      "text/plain": [
       "[False, 92]"
      ]
     },
     "execution_count": 124,
     "metadata": {},
     "output_type": "execute_result"
    }
   ],
   "source": [
    "# same thing we can perfor with list also\n",
    "l1[4][0:2]"
   ]
  },
  {
   "cell_type": "code",
   "execution_count": 125,
   "id": "aabe3f4f",
   "metadata": {},
   "outputs": [
    {
     "name": "stdout",
     "output_type": "stream",
     "text": [
      "234\n",
      "23\n",
      "25\n"
     ]
    }
   ],
   "source": [
    "t=(23,43,923,(234,'asdfd',True),(23,34,45),(25,45),[False,92,'harshal'],25,)\n",
    "\n",
    "for i in t:\n",
    "    if type(i) == tuple:\n",
    "        print(i[0])"
   ]
  },
  {
   "cell_type": "code",
   "execution_count": 126,
   "id": "4e478bbf",
   "metadata": {},
   "outputs": [
    {
     "data": {
      "text/plain": [
       "(68, 49, 13, 68, 49, 13)"
      ]
     },
     "execution_count": 126,
     "metadata": {},
     "output_type": "execute_result"
    }
   ],
   "source": [
    "t1*2"
   ]
  },
  {
   "cell_type": "code",
   "execution_count": 127,
   "id": "780fcc41",
   "metadata": {},
   "outputs": [
    {
     "data": {
      "text/plain": [
       "('Harsh', 'Dipali', 'Siddhi', 'Neha')"
      ]
     },
     "execution_count": 127,
     "metadata": {},
     "output_type": "execute_result"
    }
   ],
   "source": [
    "t2"
   ]
  },
  {
   "cell_type": "code",
   "execution_count": 128,
   "id": "bb4a5c7b",
   "metadata": {},
   "outputs": [
    {
     "name": "stdout",
     "output_type": "stream",
     "text": [
      "length of tuples are same..\n",
      "Elements are same: 12\n",
      "Elements are same: 34\n",
      "Elements are not same..! 44\n",
      "Elements are same: 56\n",
      "Elements are same: 12\n"
     ]
    }
   ],
   "source": [
    "'''Problem statement is, check two tuples are similler or not, if they are same\n",
    "then check elements in bot are similler or not.. if elements are same, print, element are same, else not same'''\n",
    "\n",
    "t1=(12,34,44,56,12)\n",
    "t=(34,12,45,56,12)\n",
    "\n",
    "# t = sorted(t)\n",
    "if len(t1) == len(t):\n",
    "    print(\"length of tuples are same..\")\n",
    "    for i in t1:\n",
    "        if i in t:\n",
    "            print(\"Elements are same:\",i)\n",
    "        else:\n",
    "            print(\"Elements are not same..!\",i)\n",
    "else:\n",
    "    print(\"length of tuples are not same..\")"
   ]
  },
  {
   "cell_type": "code",
   "execution_count": 129,
   "id": "f61915cf",
   "metadata": {},
   "outputs": [
    {
     "name": "stdout",
     "output_type": "stream",
     "text": [
      "This is tuple t: (34, 12, 45, 56, 12)\n",
      "t is not found\n"
     ]
    }
   ],
   "source": [
    "# we can delete tuple using del() function\n",
    "print(\"This is tuple t:\",t)\n",
    "del(t)\n",
    "print(\"t is not found\")"
   ]
  },
  {
   "cell_type": "markdown",
   "id": "fc892672",
   "metadata": {},
   "source": [
    "---\n",
    "# SET\n",
    "* **SET is a type of collection which holds distinct set of elements**\n",
    "* SET's are case sensetive\n",
    "* SET not gives you ordered collection, it says that, _**\"Build an unordered collection of unique elements.\"**_\n",
    "* We can't perform indexing operation on SET"
   ]
  },
  {
   "cell_type": "code",
   "execution_count": 130,
   "id": "6da3f303",
   "metadata": {},
   "outputs": [
    {
     "data": {
      "text/plain": [
       "set"
      ]
     },
     "execution_count": 130,
     "metadata": {},
     "output_type": "execute_result"
    }
   ],
   "source": [
    "x = set()\n",
    "type(x)"
   ]
  },
  {
   "cell_type": "code",
   "execution_count": 131,
   "id": "2c192605",
   "metadata": {},
   "outputs": [
    {
     "data": {
      "text/plain": [
       "[23, 54, 121, 54, 65, 12, 23, 98, 45, 67]"
      ]
     },
     "execution_count": 131,
     "metadata": {},
     "output_type": "execute_result"
    }
   ],
   "source": [
    "l = [23,54,121,54,65,12,23,98,45,67]\n",
    "l"
   ]
  },
  {
   "cell_type": "code",
   "execution_count": 132,
   "id": "95afb31c",
   "metadata": {},
   "outputs": [
    {
     "data": {
      "text/plain": [
       "{12, 23, 45, 54, 65, 67, 98, 121}"
      ]
     },
     "execution_count": 132,
     "metadata": {},
     "output_type": "execute_result"
    }
   ],
   "source": [
    "x = set(l)\n",
    "x"
   ]
  },
  {
   "cell_type": "code",
   "execution_count": 133,
   "id": "bc8bf80f",
   "metadata": {},
   "outputs": [],
   "source": [
    "x.add('harshal')"
   ]
  },
  {
   "cell_type": "code",
   "execution_count": 134,
   "id": "0213d3cc",
   "metadata": {},
   "outputs": [],
   "source": [
    "x.add(\"Harshal\")"
   ]
  },
  {
   "cell_type": "code",
   "execution_count": 135,
   "id": "505ba12e",
   "metadata": {},
   "outputs": [
    {
     "data": {
      "text/plain": [
       "{12, 121, 23, 45, 54, 65, 67, 98, 'Harshal', 'harshal'}"
      ]
     },
     "execution_count": 135,
     "metadata": {},
     "output_type": "execute_result"
    }
   ],
   "source": [
    "# set is unorderd collection of distinct elements\n",
    "x"
   ]
  },
  {
   "cell_type": "code",
   "execution_count": 136,
   "id": "7d6bc553",
   "metadata": {},
   "outputs": [
    {
     "name": "stdout",
     "output_type": "stream",
     "text": [
      "we cant perform indexing operation, it will gives an error called \n",
      "TypeError: 'set' object is not subscriptable\n",
      "\n"
     ]
    }
   ],
   "source": [
    "print('''we cant perform indexing operation, it will gives an error called \n",
    "TypeError: 'set' object is not subscriptable\n",
    "''')\n",
    "# x[2]"
   ]
  },
  {
   "cell_type": "code",
   "execution_count": 137,
   "id": "0d4588d2",
   "metadata": {},
   "outputs": [
    {
     "data": {
      "text/plain": [
       "True"
      ]
     },
     "execution_count": 137,
     "metadata": {},
     "output_type": "execute_result"
    }
   ],
   "source": [
    "12 in x"
   ]
  },
  {
   "cell_type": "code",
   "execution_count": 138,
   "id": "0fea3d80",
   "metadata": {},
   "outputs": [
    {
     "name": "stdout",
     "output_type": "stream",
     "text": [
      "we cant add nested list, it will gives you error\n"
     ]
    }
   ],
   "source": [
    "print(\"we cant add nested list, it will gives you error\")\n",
    "# x.add([23,45,23])"
   ]
  },
  {
   "cell_type": "code",
   "execution_count": 139,
   "id": "83ae2af1",
   "metadata": {},
   "outputs": [
    {
     "name": "stdout",
     "output_type": "stream",
     "text": [
      "We cant add same element in set\n",
      "{65, 98, 67, 12, 45, 'Harshal', 'harshal', 54, 23, 121}\n",
      "{65, 98, 67, 12, 45, 'Harshal', 'harshal', 54, 23, 121, 1211}\n"
     ]
    }
   ],
   "source": [
    "print('We cant add same element in set')\n",
    "print(x)\n",
    "x.add(12)\n",
    "x.add(1211)\n",
    "print(x)"
   ]
  },
  {
   "cell_type": "code",
   "execution_count": 140,
   "id": "131cdd76",
   "metadata": {},
   "outputs": [
    {
     "name": "stdout",
     "output_type": "stream",
     "text": [
      "{65, 98, 12, 45, 'Harshal', 'harshal', 54, 23, 121, 1211}\n"
     ]
    }
   ],
   "source": [
    "x.remove(67)\n",
    "print(x)"
   ]
  },
  {
   "cell_type": "code",
   "execution_count": 141,
   "id": "b0742e40",
   "metadata": {},
   "outputs": [],
   "source": [
    "s = x"
   ]
  },
  {
   "cell_type": "code",
   "execution_count": 142,
   "id": "1b240261",
   "metadata": {},
   "outputs": [
    {
     "name": "stdout",
     "output_type": "stream",
     "text": [
      "set()\n"
     ]
    }
   ],
   "source": [
    "x.clear()\n",
    "print(x)"
   ]
  },
  {
   "cell_type": "code",
   "execution_count": 143,
   "id": "830b88ca",
   "metadata": {},
   "outputs": [],
   "source": [
    "s = set(l)"
   ]
  },
  {
   "cell_type": "code",
   "execution_count": 146,
   "id": "de90e4d9",
   "metadata": {},
   "outputs": [
    {
     "name": "stdout",
     "output_type": "stream",
     "text": [
      "we can perform multiplication on overall SET like an list and tuple.. \n",
      "it will be give an error:\n",
      "TypeError: unsupported operand type(s) for *: 'set' and 'int'\n",
      "\n"
     ]
    }
   ],
   "source": [
    "# s*2\n",
    "print('''we can perform multiplication on overall SET like an list and tuple.. \n",
    "it will be give an error:\n",
    "TypeError: unsupported operand type(s) for *: 'set' and 'int'\n",
    "''')"
   ]
  },
  {
   "cell_type": "code",
   "execution_count": 148,
   "id": "569a6eae",
   "metadata": {},
   "outputs": [],
   "source": [
    "s1 = {'ew',34,43,23,21,12,21}"
   ]
  },
  {
   "cell_type": "code",
   "execution_count": 149,
   "id": "e3fba47a",
   "metadata": {},
   "outputs": [
    {
     "name": "stdout",
     "output_type": "stream",
     "text": [
      "we can not add 2 different sets using \"+\" operator,\n",
      "we can do that same thing in list & tuple, but can not do with dict and set..\n",
      "this will give an error \n",
      "\"TypeError: unsupported operand type(s) for +: 'set' and 'set'\"\n"
     ]
    }
   ],
   "source": [
    "print('''we can not add 2 different sets using \"+\" operator,\n",
    "we can do that same thing in list & tuple, but can not do with dict and set..\n",
    "this will give an error \n",
    "\"TypeError: unsupported operand type(s) for +: 'set' and 'set'\"''')\n",
    "\n",
    "# s= s+s1"
   ]
  },
  {
   "cell_type": "markdown",
   "id": "1688cf21",
   "metadata": {},
   "source": [
    "---\n",
    "# Dict : Dictionary\n",
    "* Dict always try to store the values in terms of key:value pair, if we try to store data in flatern form, it will store it as SET.\n",
    "* Key must be unique, if you used same name as key, it will be show you 2nd key:value pair\n",
    "* Dict is case sensetive\n",
    "* Special characters (!,@,#,$,%,^,&,*,~) are not allowed as key, we can use them in values\n",
    "* we can create nested dict as well.\n",
    "* you can use tuple as Key, but you can't use list as key.. (it gives and error: **TypeError: unhashable type: 'list'**)"
   ]
  },
  {
   "cell_type": "code",
   "execution_count": 150,
   "id": "f79aafea",
   "metadata": {},
   "outputs": [
    {
     "data": {
      "text/plain": [
       "dict"
      ]
     },
     "execution_count": 150,
     "metadata": {},
     "output_type": "execute_result"
    }
   ],
   "source": [
    "x = {}\n",
    "type(x)"
   ]
  },
  {
   "cell_type": "code",
   "execution_count": 151,
   "id": "2f4a4798",
   "metadata": {},
   "outputs": [
    {
     "data": {
      "text/plain": [
       "dict"
      ]
     },
     "execution_count": 151,
     "metadata": {},
     "output_type": "execute_result"
    }
   ],
   "source": [
    "x1 = {23,34} # this is the flatern form of data\n",
    "type(x)"
   ]
  },
  {
   "cell_type": "code",
   "execution_count": 170,
   "id": "176344a4",
   "metadata": {},
   "outputs": [],
   "source": [
    "x = {\"name\":'HARSHAL', \"age\":25}"
   ]
  },
  {
   "cell_type": "code",
   "execution_count": 153,
   "id": "21467db1",
   "metadata": {},
   "outputs": [],
   "source": [
    "x1 = {'name':'HARSHAL', \"age\":25,True:{12,34,256},'key':False,234:(23,56,12),23:\"it's a number\",'a':{'er':'12asfd',23:[2,5,1,4]},'_asdf':[23,45,56,12]}"
   ]
  },
  {
   "cell_type": "code",
   "execution_count": 154,
   "id": "6f8d193d",
   "metadata": {},
   "outputs": [
    {
     "data": {
      "text/plain": [
       "{'name': 'HARSHAL',\n",
       " 'age': 25,\n",
       " True: {12, 34, 256},\n",
       " 'key': False,\n",
       " 234: (23, 56, 12),\n",
       " 23: \"it's a number\",\n",
       " 'a': {'er': '12asfd', 23: [2, 5, 1, 4]},\n",
       " '_asdf': [23, 45, 56, 12]}"
      ]
     },
     "execution_count": 154,
     "metadata": {},
     "output_type": "execute_result"
    }
   ],
   "source": [
    "x1"
   ]
  },
  {
   "cell_type": "code",
   "execution_count": 155,
   "id": "69e13e73",
   "metadata": {},
   "outputs": [
    {
     "data": {
      "text/plain": [
       "'HARSHAL'"
      ]
     },
     "execution_count": 155,
     "metadata": {},
     "output_type": "execute_result"
    }
   ],
   "source": [
    "# how to extract data from dictionary\n",
    "# you can simply put key name in bracket and it will gives you value\n",
    "x1['name']"
   ]
  },
  {
   "cell_type": "code",
   "execution_count": 156,
   "id": "f74dcfd4",
   "metadata": {},
   "outputs": [
    {
     "data": {
      "text/plain": [
       "'12asfd'"
      ]
     },
     "execution_count": 156,
     "metadata": {},
     "output_type": "execute_result"
    }
   ],
   "source": [
    "# but what if we need to extract nested data?\n",
    "# we can simply access like this\n",
    "x1['a']['er']"
   ]
  },
  {
   "cell_type": "code",
   "execution_count": 157,
   "id": "9fd253af",
   "metadata": {},
   "outputs": [
    {
     "data": {
      "text/plain": [
       "56"
      ]
     },
     "execution_count": 157,
     "metadata": {},
     "output_type": "execute_result"
    }
   ],
   "source": [
    "x1['_asdf'][2]"
   ]
  },
  {
   "cell_type": "code",
   "execution_count": 158,
   "id": "0c3bc441",
   "metadata": {},
   "outputs": [
    {
     "name": "stdout",
     "output_type": "stream",
     "text": [
      "dfsa21\n",
      "[4, 1, 5, 2]\n"
     ]
    }
   ],
   "source": [
    "# we want a string revese in a nested value of dictionary\n",
    "# we can try this\n",
    "print(x1['a']['er'][::-1])\n",
    "print(x1['a'][23][::-1])"
   ]
  },
  {
   "cell_type": "code",
   "execution_count": 159,
   "id": "bde69ffd",
   "metadata": {},
   "outputs": [
    {
     "data": {
      "text/plain": [
       "list"
      ]
     },
     "execution_count": 159,
     "metadata": {},
     "output_type": "execute_result"
    }
   ],
   "source": [
    "type(x1['a'][23][::-1])"
   ]
  },
  {
   "cell_type": "code",
   "execution_count": 160,
   "id": "30bb9b21",
   "metadata": {},
   "outputs": [],
   "source": [
    "x2={2:'adf','h2':[23,True,'sadf']}"
   ]
  },
  {
   "cell_type": "code",
   "execution_count": 161,
   "id": "67505f2a",
   "metadata": {},
   "outputs": [
    {
     "name": "stdout",
     "output_type": "stream",
     "text": [
      "we can not add 2 different sets using \"+\" operator,\n",
      "we can do that same thing in list & tuple, but can not do with dict and set..\n",
      "this will give an error \n",
      "\"TypeError: unsupported operand type(s) for +: 'set' and 'set'\"\n"
     ]
    }
   ],
   "source": [
    "# x=x+x2\n",
    "print('''we can not add 2 different sets using \"+\" operator,\n",
    "we can do that same thing in list & tuple, but can not do with dict and set..\n",
    "this will give an error \n",
    "\"TypeError: unsupported operand type(s) for +: 'set' and 'set'\"''')\n"
   ]
  },
  {
   "cell_type": "code",
   "execution_count": 165,
   "id": "90bf6be8",
   "metadata": {},
   "outputs": [
    {
     "name": "stdout",
     "output_type": "stream",
     "text": [
      "we can perform multiplication on overall Dict like an list and tuple.. \n",
      "it will be give an error:\n",
      "TypeError: unsupported operand type(s) for *: 'dict' and 'int'\n",
      "\n"
     ]
    }
   ],
   "source": [
    "# x*2\n",
    "print('''we can perform multiplication on overall Dict like an list and tuple.. \n",
    "it will be give an error:\n",
    "TypeError: unsupported operand type(s) for *: 'dict' and 'int'\n",
    "''')"
   ]
  },
  {
   "cell_type": "code",
   "execution_count": 171,
   "id": "ee88b0b8",
   "metadata": {},
   "outputs": [
    {
     "name": "stdout",
     "output_type": "stream",
     "text": [
      "Before reassignment: {'name': 'HARSHAL', 'age': 25}\n",
      "After reassignment: {'name': 'Dhiraj', 'age': 25}\n"
     ]
    }
   ],
   "source": [
    "# can we re-assign the value of dict?\n",
    "print('Before reassignment:',x)\n",
    "x['name'] = 'Dhiraj'\n",
    "print('After reassignment:',x)"
   ]
  },
  {
   "cell_type": "code",
   "execution_count": 172,
   "id": "dbb4eebc",
   "metadata": {},
   "outputs": [
    {
     "name": "stdout",
     "output_type": "stream",
     "text": [
      "{'name': 'Dhiraj', 'age': 15}\n"
     ]
    }
   ],
   "source": [
    "# if we want to perform any operation on perticular numerical value\n",
    "# then we can try this\n",
    "x['age']-=10\n",
    "print(x)"
   ]
  },
  {
   "cell_type": "code",
   "execution_count": 178,
   "id": "8b42f014",
   "metadata": {},
   "outputs": [
    {
     "data": {
      "text/plain": [
       "True"
      ]
     },
     "execution_count": 178,
     "metadata": {},
     "output_type": "execute_result"
    }
   ],
   "source": [
    "'key' in x1.keys()"
   ]
  },
  {
   "cell_type": "code",
   "execution_count": 182,
   "id": "4ecf5ca7",
   "metadata": {},
   "outputs": [
    {
     "name": "stdout",
     "output_type": "stream",
     "text": [
      "dict_keys(['name', 'age', True, 'key', 234, 23, 'a', '_asdf'])\n",
      "name\n",
      "age\n",
      "True\n",
      "key\n",
      "234\n",
      "23\n",
      "a\n",
      "_asdf\n"
     ]
    }
   ],
   "source": [
    "# if we want to print all the keys one by one we can try this using for loop\n",
    "print(x1.keys())\n",
    "\n",
    "for i in x1:\n",
    "    print(i)"
   ]
  },
  {
   "cell_type": "code",
   "execution_count": 185,
   "id": "54adc418",
   "metadata": {},
   "outputs": [
    {
     "name": "stdout",
     "output_type": "stream",
     "text": [
      "dict_values(['HARSHAL', 25, {256, 34, 12}, False, (23, 56, 12), \"it's a number\", {'er': '12asfd', 23: [2, 5, 1, 4]}, [23, 45, 56, 12]])\n",
      "HARSHAL\n",
      "25\n",
      "{256, 34, 12}\n",
      "False\n",
      "(23, 56, 12)\n",
      "it's a number\n",
      "{'er': '12asfd', 23: [2, 5, 1, 4]}\n",
      "[23, 45, 56, 12]\n"
     ]
    }
   ],
   "source": [
    "# if we want to print all the values one by one, we can try that using for loop\n",
    "# print(x1.values())\n",
    "\n",
    "for i in x1.keys():\n",
    "    print(x1[i])"
   ]
  },
  {
   "cell_type": "code",
   "execution_count": 187,
   "id": "d1b18c0f",
   "metadata": {},
   "outputs": [
    {
     "name": "stdout",
     "output_type": "stream",
     "text": [
      "<class 'str'>\n",
      "<class 'int'>\n",
      "<class 'set'>\n",
      "<class 'bool'>\n",
      "<class 'tuple'>\n",
      "<class 'str'>\n",
      "<class 'dict'>\n",
      "<class 'list'>\n"
     ]
    }
   ],
   "source": [
    "# if i want to know data type of values inside dict x1, then in can try this\n",
    "for i in x1.keys():\n",
    "    print(type(x1[i]))"
   ]
  },
  {
   "cell_type": "code",
   "execution_count": 191,
   "id": "7c000300",
   "metadata": {},
   "outputs": [
    {
     "data": {
      "text/plain": [
       "dict_items([('name', 'Dhiraj'), ('age', 15)])"
      ]
     },
     "execution_count": 191,
     "metadata": {},
     "output_type": "execute_result"
    }
   ],
   "source": [
    "x.items()"
   ]
  },
  {
   "cell_type": "markdown",
   "id": "f4acf692",
   "metadata": {},
   "source": [
    "---\n",
    "## Quick quiz\n",
    "**Take input as a paragraph using input function.**\n",
    "1. Convert all of this input into list of words\n",
    "2. Remove all the duplicate element from your list\n",
    "3. Use above distinct element as a key for dictionary and assign your name as a value of all the key for dictionary\n",
    "4. try to print tuple of all the values\n",
    "5. Try to print list of all keys "
   ]
  },
  {
   "cell_type": "code",
   "execution_count": 1,
   "id": "58addf3e",
   "metadata": {},
   "outputs": [
    {
     "name": "stdout",
     "output_type": "stream",
     "text": [
      "Enter a paragraph:ELEKTRAHTHORGV SILVERAORWTNSH AUAUAWREHSINUP HNERKCTNWHAMRR AFTEHSIITMASFA ICYMILDRRNCAEA IEIMAOIEEAERRL WWYTWNDVRMGEIO INVIDIBLEGAGRO TDHSPAEOHDCNOP CIOSKTTZTGEAND HFKOKPRNNLKRMA EBWOMANPAEUTAE UOFALCONPFLSND\n"
     ]
    }
   ],
   "source": [
    "p = input('Enter a paragraph:')"
   ]
  },
  {
   "cell_type": "code",
   "execution_count": 2,
   "id": "63fb0ed6",
   "metadata": {},
   "outputs": [
    {
     "name": "stdout",
     "output_type": "stream",
     "text": [
      "length of l 14\n",
      "length of l1 14\n",
      "('Harshal', 'Harshal', 'Harshal', 'Harshal', 'Harshal', 'Harshal', 'Harshal', 'Harshal', 'Harshal', 'Harshal', 'Harshal', 'Harshal', 'Harshal', 'Harshal')\n",
      "['UOFALCONPFLSND', 'ELEKTRAHTHORGV', 'AUAUAWREHSINUP', 'INVIDIBLEGAGRO', 'CIOSKTTZTGEAND', 'TDHSPAEOHDCNOP', 'IEIMAOIEEAERRL', 'AFTEHSIITMASFA', 'ICYMILDRRNCAEA', 'HNERKCTNWHAMRR', 'SILVERAORWTNSH', 'EBWOMANPAEUTAE', 'WWYTWNDVRMGEIO', 'HFKOKPRNNLKRMA']\n"
     ]
    }
   ],
   "source": [
    "# This is a 1st type of solution\n",
    "# Q1\n",
    "l = p.split()\n",
    "print('length of l',len(l))\n",
    "\n",
    "# Q2\n",
    "l1 = set(l)\n",
    "print('length of l1',len(l1))\n",
    "\n",
    "# Q3\n",
    "l2 = {}\n",
    "for i in l1:\n",
    "    l2[i] = 'Harshal'\n",
    "\n",
    "\n",
    "# Q4\n",
    "l3 = tuple(l2.values())\n",
    "print(l3)\n",
    "\n",
    "# Q5\n",
    "l4 = []\n",
    "for i in l2.keys():\n",
    "    l4.append(i)\n",
    "\n",
    "print(l4)"
   ]
  },
  {
   "cell_type": "code",
   "execution_count": 6,
   "id": "903f10a2",
   "metadata": {},
   "outputs": [
    {
     "ename": "AttributeError",
     "evalue": "'list' object has no attribute 'split'",
     "output_type": "error",
     "traceback": [
      "\u001b[1;31m---------------------------------------------------------------------------\u001b[0m",
      "\u001b[1;31mAttributeError\u001b[0m                            Traceback (most recent call last)",
      "\u001b[1;32m<ipython-input-6-f96c8da2e0a6>\u001b[0m in \u001b[0;36m<module>\u001b[1;34m\u001b[0m\n\u001b[0;32m     14\u001b[0m \u001b[1;31m# print(\"\\nQuestion 5:\\n\", list2)\u001b[0m\u001b[1;33m\u001b[0m\u001b[1;33m\u001b[0m\u001b[1;33m\u001b[0m\u001b[0m\n\u001b[0;32m     15\u001b[0m \u001b[1;33m\u001b[0m\u001b[0m\n\u001b[1;32m---> 16\u001b[1;33m \u001b[0ml\u001b[0m\u001b[1;33m.\u001b[0m\u001b[0msplit\u001b[0m\u001b[1;33m(\u001b[0m\u001b[1;33m)\u001b[0m\u001b[1;33m\u001b[0m\u001b[1;33m\u001b[0m\u001b[0m\n\u001b[0m",
      "\u001b[1;31mAttributeError\u001b[0m: 'list' object has no attribute 'split'"
     ]
    }
   ],
   "source": [
    "# this is 2nd type of solution\n",
    "\n",
    "# list1 = p.split()\n",
    "# set1 = set(list1)\n",
    "# dict1=dict.fromkeys(set1, \"harshal\")\n",
    "# tup1 = tuple(dict1.values())\n",
    "# list2 = list(dict1.keys())\n",
    "\n",
    "# print('Solution for Quick Quiz\\n')\n",
    "# print(\"Question 1:\\n\",list1)\n",
    "# print(\"\\nQuestion 2:\\n\",set1)\n",
    "# print(\"\\nQusetion 3:\\n\",dict1)\n",
    "# print(\"\\nQuestion 4:\\n\",tup1)\n",
    "# print(\"\\nQuestion 5:\\n\", list2)\n"
   ]
  },
  {
   "cell_type": "markdown",
   "id": "41df98fe",
   "metadata": {},
   "source": [
    "---\n",
    "### Some another iteration in dictionary"
   ]
  },
  {
   "cell_type": "code",
   "execution_count": 227,
   "id": "04565127",
   "metadata": {},
   "outputs": [],
   "source": [
    "d ={'company':'ineuron','course':'Full Stack Data Science', 'year':2021}"
   ]
  },
  {
   "cell_type": "code",
   "execution_count": 228,
   "id": "bed578c0",
   "metadata": {},
   "outputs": [
    {
     "name": "stdout",
     "output_type": "stream",
     "text": [
      "key: company \t value: ineuron\n",
      "key: course \t value: Full Stack Data Science\n",
      "key: year \t value: 2021\n"
     ]
    }
   ],
   "source": [
    "for i in d:\n",
    "    print(f\"key: {i} \\t value: {d[i]}\")"
   ]
  },
  {
   "cell_type": "code",
   "execution_count": 229,
   "id": "53f5d536",
   "metadata": {},
   "outputs": [
    {
     "data": {
      "text/plain": [
       "True"
      ]
     },
     "execution_count": 229,
     "metadata": {},
     "output_type": "execute_result"
    }
   ],
   "source": [
    "'course' in d"
   ]
  },
  {
   "cell_type": "code",
   "execution_count": 231,
   "id": "d051fc4d",
   "metadata": {},
   "outputs": [
    {
     "name": "stdout",
     "output_type": "stream",
     "text": [
      "Year is fine\n",
      "{'company': 'ineuron', 'course': 'Full Stack Data Science', 'year': 2022}\n"
     ]
    }
   ],
   "source": [
    "for i in d:\n",
    "    if i == 'year':\n",
    "        if d[i] >= 2021:\n",
    "            print('Year is fine')\n",
    "        else:\n",
    "            d[i] = 2022\n",
    "            print(\"year is updated\")\n",
    "print(d)"
   ]
  },
  {
   "cell_type": "code",
   "execution_count": 232,
   "id": "627f90c0",
   "metadata": {},
   "outputs": [
    {
     "name": "stdout",
     "output_type": "stream",
     "text": [
      "Data is: ['Full', 'Stack', 'Data', 'Science']\n"
     ]
    }
   ],
   "source": [
    "for i in d:\n",
    "    if i == 'course':\n",
    "        if len(d[i]) > 8:\n",
    "            print('Data is:',d[i].split())\n",
    "        else:\n",
    "            print(\"data is short\")"
   ]
  },
  {
   "cell_type": "markdown",
   "id": "67dbfe6a",
   "metadata": {},
   "source": [
    "---\n",
    "### Dictionary comprehension\n",
    "* we can do dict comprehension same as list comprehension"
   ]
  },
  {
   "cell_type": "code",
   "execution_count": 233,
   "id": "bb3b4eb4",
   "metadata": {},
   "outputs": [],
   "source": [
    "my_dict = {}\n",
    "for i in range(10):\n",
    "    my_dict[i] = i*i"
   ]
  },
  {
   "cell_type": "code",
   "execution_count": 234,
   "id": "7c6c5662",
   "metadata": {},
   "outputs": [
    {
     "data": {
      "text/plain": [
       "{0: 0, 1: 1, 2: 4, 3: 9, 4: 16, 5: 25, 6: 36, 7: 49, 8: 64, 9: 81}"
      ]
     },
     "execution_count": 234,
     "metadata": {},
     "output_type": "execute_result"
    }
   ],
   "source": [
    "my_dict"
   ]
  },
  {
   "cell_type": "code",
   "execution_count": 235,
   "id": "3e570fa4",
   "metadata": {},
   "outputs": [
    {
     "data": {
      "text/plain": [
       "{0: 0, 1: 1, 2: 4, 3: 9, 4: 16, 5: 25, 6: 36, 7: 49, 8: 64, 9: 81}"
      ]
     },
     "execution_count": 235,
     "metadata": {},
     "output_type": "execute_result"
    }
   ],
   "source": [
    "{i:i*i for i in range(10)}"
   ]
  },
  {
   "cell_type": "code",
   "execution_count": null,
   "id": "4d56c4fa",
   "metadata": {},
   "outputs": [],
   "source": []
  }
 ],
 "metadata": {
  "kernelspec": {
   "display_name": "Python 3",
   "language": "python",
   "name": "python3"
  },
  "language_info": {
   "codemirror_mode": {
    "name": "ipython",
    "version": 3
   },
   "file_extension": ".py",
   "mimetype": "text/x-python",
   "name": "python",
   "nbconvert_exporter": "python",
   "pygments_lexer": "ipython3",
   "version": "3.7.9"
  }
 },
 "nbformat": 4,
 "nbformat_minor": 5
}
