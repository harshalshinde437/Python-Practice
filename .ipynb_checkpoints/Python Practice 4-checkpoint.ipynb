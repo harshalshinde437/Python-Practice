{
 "cells": [
  {
   "cell_type": "markdown",
   "id": "4112d2bc",
   "metadata": {},
   "source": [
    "# 4th April Live Class\n",
    "## Logging, Debugging\n",
    "---\n",
    "### Logging\n",
    "* Logging is a means of tracking events that happen when some software runs. The software’s developer adds logging calls to their code to indicate that certain events have occurred. \n",
    "* An event is described by a descriptive message which can optionally contain variable data (i.e. data that is potentially different for each occurrence of the event). Events also have an importance which the developer ascribes to the event; the importance can also be called the level or severity.\n",
    "\n",
    "### When to use logging\n",
    "* Logging provides a set of convenience functions for simple logging usage. These are debug(), info(), warning(), error() and critical(). \n",
    "* To determine when to use logging, see the table below, which states, for each of a set of common tasks, the best tool to use for it.\n",
    "* The logging functions are named after the level or severity of the events they are used to track. The standard levels and their applicability are described below (in increasing order of severity)\n",
    "\n",
    "|**LEVEL**|**When it's used**|\n",
    "|:--|:--|\n",
    "|**DEBUG**|Detailed information, typically of interest only when diagnosing problems.|\n",
    "|**INFO**|Confirmation that things are working as expected.|\n",
    "|**WARNING**|An indication that something unexpected happened, or indicative of some problem in the near future (e.g. ‘disk space low’).The software is still working as expected.|\n",
    "|**ERROR**|Due to a more serious problem, the software has not been able to perform some function.|\n",
    "|**CRITICAL**|A serious error, indicating that the program itself may be unable to continue running.|\n",
    "\n",
    "* The default level is **WARNING**, which means that only events of this level and above will be tracked, unless the logging package is configured to do otherwise.\n",
    "\n",
    "* Events that are tracked can be handled in different ways. The simplest way of handling tracked events is to print them to the console. Another common way is to write them to a disk file.\n",
    "\n",
    "* Click here for more details.. https://docs.python.org/3/howto/logging.html"
   ]
  },
  {
   "cell_type": "code",
   "execution_count": 1,
   "id": "debe2598",
   "metadata": {},
   "outputs": [],
   "source": [
    "import logging as lg\n",
    "import os"
   ]
  },
  {
   "cell_type": "code",
   "execution_count": 2,
   "id": "86ae16dd",
   "metadata": {},
   "outputs": [
    {
     "data": {
      "text/plain": [
       "'D:\\\\iNeuron\\\\Python'"
      ]
     },
     "execution_count": 2,
     "metadata": {},
     "output_type": "execute_result"
    }
   ],
   "source": [
    "os.chdir('D:\\\\iNeuron\\\\Python')\n",
    "os.getcwd()"
   ]
  },
  {
   "cell_type": "code",
   "execution_count": 3,
   "id": "15a94e84",
   "metadata": {},
   "outputs": [
    {
     "name": "stdout",
     "output_type": "stream",
     "text": [
      "Current working diretory is:D:\\iNeuron\\Python\\Task_releted_to_PP4\n",
      "Current working diretory is:D:\\iNeuron\\Python\\Task_releted_to_PP4\\logging\n"
     ]
    }
   ],
   "source": [
    "if not os.path.isdir(\"Task_releted_to_PP4\"):\n",
    "    os.mkdir(\"Task_releted_to_PP4\")\n",
    "    print(\"Directory is created..!\")\n",
    "else:\n",
    "    os.chdir(os.getcwd()+'\\\\'+'Task_releted_to_PP4')\n",
    "    print(f\"Current working diretory is:{os.getcwd()}\")\n",
    "    if not os.path.isdir(\"logging\"):\n",
    "        os.mkdir('logging')\n",
    "        print(f\"Directory 'logging' is created.. \")\n",
    "        os.chdir(os.getcwd()+'\\\\'+'logging')\n",
    "    else:\n",
    "        os.chdir(os.getcwd()+'\\\\'+'logging')\n",
    "        print(f\"Current working diretory is:{os.getcwd()}\")"
   ]
  },
  {
   "cell_type": "code",
   "execution_count": 4,
   "id": "c44b1ea1",
   "metadata": {},
   "outputs": [
    {
     "name": "stdout",
     "output_type": "stream",
     "text": [
      "'test.log' file is avaliable..\n"
     ]
    }
   ],
   "source": [
    "if not os.path.isfile(\"test.log\"):\n",
    "    lg.basicConfig(filename = \"test.log\", level = lg.ERROR, format = '%(asctime)s %(message)s')\n",
    "    print(f\"'test.log' is created..\")\n",
    "else:\n",
    "    print(\"'test.log' file is avaliable..\")"
   ]
  },
  {
   "cell_type": "code",
   "execution_count": 5,
   "id": "9af00253",
   "metadata": {},
   "outputs": [],
   "source": [
    "lg.info(\"I am going to start my program\")"
   ]
  },
  {
   "cell_type": "code",
   "execution_count": 6,
   "id": "e75db10b",
   "metadata": {},
   "outputs": [
    {
     "name": "stderr",
     "output_type": "stream",
     "text": [
      "WARNING:root:This is the first warning of my program so modify it\n"
     ]
    }
   ],
   "source": [
    "lg.warning(\"This is the first warning of my program so modify it\")"
   ]
  },
  {
   "cell_type": "code",
   "execution_count": 7,
   "id": "b6e0f136",
   "metadata": {},
   "outputs": [
    {
     "name": "stderr",
     "output_type": "stream",
     "text": [
      "ERROR:root:This is the 404 error found..\n"
     ]
    }
   ],
   "source": [
    "lg.error(\"This is the 404 error found..\")"
   ]
  },
  {
   "cell_type": "code",
   "execution_count": 8,
   "id": "c5b83057",
   "metadata": {},
   "outputs": [],
   "source": [
    "# 'adfdddddasd'+342"
   ]
  },
  {
   "cell_type": "code",
   "execution_count": 9,
   "id": "b230c4d0",
   "metadata": {},
   "outputs": [],
   "source": [
    "def test(a,b):\n",
    "    \n",
    "    try:\n",
    "        lg.info(f\"Input values are a:{str(a)},b:{str(b)}\")\n",
    "        div = a/b\n",
    "        return div\n",
    "    except Exception as e:\n",
    "        print(\"you can check you log for more into if your code will fail..\")\n",
    "        lg.error(\"error has occured..\")\n",
    "        lg.exception(str(e))"
   ]
  },
  {
   "cell_type": "code",
   "execution_count": 10,
   "id": "0b620691",
   "metadata": {},
   "outputs": [
    {
     "name": "stderr",
     "output_type": "stream",
     "text": [
      "ERROR:root:error has occured..\n",
      "ERROR:root:division by zero\n",
      "Traceback (most recent call last):\n",
      "  File \"<ipython-input-9-83ede9487944>\", line 5, in test\n",
      "    div = a/b\n",
      "ZeroDivisionError: division by zero\n"
     ]
    },
    {
     "name": "stdout",
     "output_type": "stream",
     "text": [
      "you can check you log for more into if your code will fail..\n"
     ]
    }
   ],
   "source": [
    "test(9,0)"
   ]
  },
  {
   "cell_type": "code",
   "execution_count": 11,
   "id": "4d038004",
   "metadata": {},
   "outputs": [
    {
     "name": "stdout",
     "output_type": "stream",
     "text": [
      "2021-07-14 17:35:40,278 This is the 404 error found..\n",
      "2021-07-14 17:35:40,331 error has occured..\n",
      "2021-07-14 17:35:40,331 division by zero\n",
      "Traceback (most recent call last):\n",
      "  File \"<ipython-input-9-83ede9487944>\", line 5, in test\n",
      "    div = a/b\n",
      "ZeroDivisionError: division by zero\n",
      "2021-07-14 17:35:40,489 This is my error log\n",
      "2021-07-14 17:35:40,490 This is my exception log\n",
      "NoneType: None\n",
      "2021-07-14 17:35:40,491 This is my critical log\n",
      "2021-07-14 17:36:47,863 This is my error log\n",
      "2021-07-14 17:36:47,863 This is my exception log\n",
      "NoneType: None\n",
      "2021-07-14 17:36:47,864 This is my critical log\n",
      "\n"
     ]
    }
   ],
   "source": [
    "os.chdir('D://iNeuron//Python//Task_releted_to_PP4/logging/')\n",
    "f = open('test.log','r')\n",
    "f.seek(0)\n",
    "print(f.read())\n",
    "f.close()"
   ]
  },
  {
   "cell_type": "code",
   "execution_count": 12,
   "id": "dc0e5710",
   "metadata": {},
   "outputs": [],
   "source": [
    "# lg.shutdown()\n",
    "# this will help you to shutdown your logging process"
   ]
  },
  {
   "cell_type": "code",
   "execution_count": 13,
   "id": "00a98185",
   "metadata": {},
   "outputs": [],
   "source": [
    "# os.chdir(\"D:\\\\iNeuron\\\\Python\\\\Task_releted_to_PP4\\\\\")\n",
    "lg.basicConfig(filename = \"test1.log\", level=lg.INFO)\n",
    "def test1(a,b):\n",
    "    lg.info(f\"This is a state of function which takes input a:{str(a)},b:{str(b)}\")\n",
    "    return a+b"
   ]
  },
  {
   "cell_type": "code",
   "execution_count": 14,
   "id": "c4d2f0d3",
   "metadata": {},
   "outputs": [
    {
     "data": {
      "text/plain": [
       "14"
      ]
     },
     "execution_count": 14,
     "metadata": {},
     "output_type": "execute_result"
    }
   ],
   "source": [
    "test1(5,9)"
   ]
  },
  {
   "cell_type": "code",
   "execution_count": 15,
   "id": "c99261a5",
   "metadata": {},
   "outputs": [
    {
     "name": "stdout",
     "output_type": "stream",
     "text": [
      "2021-07-14 17:35:40,278 This is the 404 error found..\n",
      "2021-07-14 17:35:40,331 error has occured..\n",
      "2021-07-14 17:35:40,331 division by zero\n",
      "Traceback (most recent call last):\n",
      "  File \"<ipython-input-9-83ede9487944>\", line 5, in test\n",
      "    div = a/b\n",
      "ZeroDivisionError: division by zero\n",
      "2021-07-14 17:35:40,489 This is my error log\n",
      "2021-07-14 17:35:40,490 This is my exception log\n",
      "NoneType: None\n",
      "2021-07-14 17:35:40,491 This is my critical log\n",
      "2021-07-14 17:36:47,863 This is my error log\n",
      "2021-07-14 17:36:47,863 This is my exception log\n",
      "NoneType: None\n",
      "2021-07-14 17:36:47,864 This is my critical log\n",
      "\n"
     ]
    }
   ],
   "source": [
    "# os.chdir(\"D:\\\\iNeuron\\\\Python\\\\Task_releted_to_PP4\\\\\")\n",
    "f = open('test.log','r')\n",
    "f.seek(0)\n",
    "print(f.read())\n",
    "f.close()"
   ]
  },
  {
   "cell_type": "code",
   "execution_count": 16,
   "id": "2e2b2bf1",
   "metadata": {},
   "outputs": [],
   "source": [
    "lg.shutdown()"
   ]
  },
  {
   "cell_type": "code",
   "execution_count": 17,
   "id": "c00ce96e",
   "metadata": {},
   "outputs": [
    {
     "name": "stderr",
     "output_type": "stream",
     "text": [
      "WARNING:root:This is my warning log\n",
      "ERROR:root:This is my error log\n",
      "ERROR:root:This is my exception log\n",
      "NoneType: None\n",
      "CRITICAL:root:This is my critical log\n"
     ]
    }
   ],
   "source": [
    "import logging as lg\n",
    "lg.debug(\"This is for debugging\")\n",
    "lg.info(\"This is for info\")\n",
    "lg.warning(\"This is my warning log\")\n",
    "lg.error(\"This is my error log\")\n",
    "lg.exception(\"This is my exception log\")\n",
    "lg.critical(\"This is my critical log\")"
   ]
  },
  {
   "cell_type": "markdown",
   "id": "e8aace93",
   "metadata": {},
   "source": [
    "---\n",
    "### Quick Quiz\n",
    "1. create a logger in your code.\n",
    "2. create one function which can take any number of input as. argument and it will be able to return sum of it.\n",
    "3. capture user input in log.\n",
    "4. give user instructions in log file.\n",
    "5. read a log file from python code and show all log in console."
   ]
  },
  {
   "cell_type": "code",
   "execution_count": null,
   "id": "299037cb",
   "metadata": {},
   "outputs": [],
   "source": [
    "import logging as lg\n",
    "import os\n",
    "\n",
    "# Task 1\n",
    "lg.basicConfig(filename = 'qq.log', level = lg.INFO)\n",
    "\n",
    "# Task 2\n",
    "def qq(*args):\n",
    "    addition = sum(args)\n",
    "    # Task 3 + 4\n",
    "    lg.info(f\"Input arguments are:{args}, Output is: {addition}\")\n",
    "    return addition"
   ]
  },
  {
   "cell_type": "code",
   "execution_count": null,
   "id": "b7593ca2",
   "metadata": {},
   "outputs": [],
   "source": [
    "qq(23,43,12,64)"
   ]
  },
  {
   "cell_type": "code",
   "execution_count": null,
   "id": "38ae2e0c",
   "metadata": {},
   "outputs": [],
   "source": [
    "# Task 5\n",
    "f = open('qq.log','r')\n",
    "f.seek(0)\n",
    "print(f.read())\n",
    "f.close()"
   ]
  },
  {
   "cell_type": "markdown",
   "id": "c5256a91",
   "metadata": {},
   "source": [
    "---\n",
    "### Stream Handler log"
   ]
  },
  {
   "cell_type": "code",
   "execution_count": 1,
   "id": "467e3780",
   "metadata": {},
   "outputs": [],
   "source": [
    "import logging\n",
    "import os\n",
    "os.chdir('D:\\iNeuron\\Python\\Task_releted_to_PP4\\logging')"
   ]
  },
  {
   "cell_type": "code",
   "execution_count": 2,
   "id": "52122018",
   "metadata": {},
   "outputs": [
    {
     "name": "stderr",
     "output_type": "stream",
     "text": [
      "2021-07-15 05:48:23,515 - root - INFO - This is my first test code for log\n"
     ]
    }
   ],
   "source": [
    "logging.basicConfig(filename = \"app.log\", level = logging.DEBUG, format = '%(name)s - %(asctime)s - %(levelname)s %(message)s')\n",
    "\n",
    "# Create handlers\n",
    "console_log = logging.StreamHandler()\n",
    "console_log.setLevel(logging.DEBUG)\n",
    "format = logging.Formatter('%(asctime)s - %(name)s - %(levelname)s - %(message)s')\n",
    "console_log.setFormatter(format)\n",
    "\n",
    "# Create a custom logger\n",
    "logging.getLogger('').addHandler(console_log)\n",
    "\n",
    "logging.info(\"This is my first test code for log\")\n",
    "\n",
    "logger1 = logging.getLogger('user1')\n",
    "logger2 = logging.getLogger('user2')\n",
    "logger3 = logging.getLogger('user3')\n",
    "logger4 = logging.getLogger('user4')"
   ]
  },
  {
   "cell_type": "code",
   "execution_count": 3,
   "id": "2f59d395",
   "metadata": {},
   "outputs": [
    {
     "name": "stderr",
     "output_type": "stream",
     "text": [
      "2021-07-15 05:48:25,210 - user1 - WARNING - This is the warning for user one\n",
      "2021-07-15 05:48:25,215 - user2 - DEBUG - This is a debug for logger two\n",
      "2021-07-15 05:48:25,217 - user2 - INFO - This is the info for logger two\n",
      "2021-07-15 05:48:25,219 - user3 - CRITICAL - This is the critical for logger three\n"
     ]
    }
   ],
   "source": [
    "logger1.warning(\"This is the warning for user one\")\n",
    "logger2.debug(\"This is a debug for logger two\")\n",
    "logger2.info(\"This is the info for logger two\")\n",
    "logger3.critical(\"This is the critical for logger three\")"
   ]
  },
  {
   "cell_type": "markdown",
   "id": "f94fc8be",
   "metadata": {},
   "source": [
    "---\n",
    "### Debugging\n",
    "1. The module pdb defines an interactive source code debugger for Python programs. It supports setting (conditional) breakpoints and single stepping at the source line level, inspection of stack frames, source code listing, and evaluation of arbitrary Python code in the context of any stack frame. It also supports post-mortem debugging and can be called under program control.\n",
    "2. The debugger is extensible – it is actually defined as the class Pdb. This is currently undocumented but easily understood by reading the source. The extension interface uses the modules bdb and cmd."
   ]
  },
  {
   "cell_type": "code",
   "execution_count": 4,
   "id": "7b66310e",
   "metadata": {},
   "outputs": [],
   "source": [
    "def testdebug():\n",
    "    l = []\n",
    "    for i in range(10):\n",
    "        l.append(i)\n",
    "        print(\"data is appended\")\n",
    "    return l"
   ]
  },
  {
   "cell_type": "code",
   "execution_count": 5,
   "id": "52447a95",
   "metadata": {},
   "outputs": [
    {
     "name": "stdout",
     "output_type": "stream",
     "text": [
      "data is appended\n",
      "data is appended\n",
      "data is appended\n",
      "data is appended\n",
      "data is appended\n",
      "data is appended\n",
      "data is appended\n",
      "data is appended\n",
      "data is appended\n",
      "data is appended\n"
     ]
    },
    {
     "data": {
      "text/plain": [
       "[0, 1, 2, 3, 4, 5, 6, 7, 8, 9]"
      ]
     },
     "execution_count": 5,
     "metadata": {},
     "output_type": "execute_result"
    }
   ],
   "source": [
    "testdebug()"
   ]
  },
  {
   "cell_type": "code",
   "execution_count": 8,
   "id": "5fe40626",
   "metadata": {},
   "outputs": [
    {
     "name": "stdout",
     "output_type": "stream",
     "text": [
      "Collecting ipdb\n",
      "  Downloading ipdb-0.13.9.tar.gz (16 kB)\n",
      "Requirement already satisfied: setuptools in c:\\users\\harshal\\appdata\\local\\programs\\python\\python37\\lib\\site-packages (from ipdb) (47.1.0)\n",
      "Requirement already satisfied: ipython>=7.17.0 in c:\\users\\harshal\\appdata\\local\\programs\\python\\python37\\lib\\site-packages (from ipdb) (7.23.1)\n",
      "Collecting toml>=0.10.2\n"
     ]
    },
    {
     "name": "stderr",
     "output_type": "stream",
     "text": [
      "WARNING: You are using pip version 20.1.1; however, version 21.1.3 is available.\n",
      "You should consider upgrading via the 'c:\\users\\harshal\\appdata\\local\\programs\\python\\python37\\python.exe -m pip install --upgrade pip' command.\n"
     ]
    },
    {
     "name": "stdout",
     "output_type": "stream",
     "text": [
      "  Downloading toml-0.10.2-py2.py3-none-any.whl (16 kB)\n",
      "Requirement already satisfied: decorator in c:\\users\\harshal\\appdata\\local\\programs\\python\\python37\\lib\\site-packages (from ipdb) (5.0.9)\n",
      "Requirement already satisfied: pygments in c:\\users\\harshal\\appdata\\local\\programs\\python\\python37\\lib\\site-packages (from ipython>=7.17.0->ipdb) (2.9.0)\n",
      "Requirement already satisfied: matplotlib-inline in c:\\users\\harshal\\appdata\\local\\programs\\python\\python37\\lib\\site-packages (from ipython>=7.17.0->ipdb) (0.1.2)\n",
      "Requirement already satisfied: pickleshare in c:\\users\\harshal\\appdata\\local\\programs\\python\\python37\\lib\\site-packages (from ipython>=7.17.0->ipdb) (0.7.5)\n",
      "Requirement already satisfied: backcall in c:\\users\\harshal\\appdata\\local\\programs\\python\\python37\\lib\\site-packages (from ipython>=7.17.0->ipdb) (0.2.0)\n",
      "Requirement already satisfied: colorama; sys_platform == \"win32\" in c:\\users\\harshal\\appdata\\local\\programs\\python\\python37\\lib\\site-packages (from ipython>=7.17.0->ipdb) (0.4.4)\n",
      "Requirement already satisfied: traitlets>=4.2 in c:\\users\\harshal\\appdata\\local\\programs\\python\\python37\\lib\\site-packages (from ipython>=7.17.0->ipdb) (5.0.5)\n",
      "Requirement already satisfied: prompt-toolkit!=3.0.0,!=3.0.1,<3.1.0,>=2.0.0 in c:\\users\\harshal\\appdata\\local\\programs\\python\\python37\\lib\\site-packages (from ipython>=7.17.0->ipdb) (3.0.18)\n",
      "Requirement already satisfied: jedi>=0.16 in c:\\users\\harshal\\appdata\\local\\programs\\python\\python37\\lib\\site-packages (from ipython>=7.17.0->ipdb) (0.18.0)\n",
      "Requirement already satisfied: ipython-genutils in c:\\users\\harshal\\appdata\\local\\programs\\python\\python37\\lib\\site-packages (from traitlets>=4.2->ipython>=7.17.0->ipdb) (0.2.0)\n",
      "Requirement already satisfied: wcwidth in c:\\users\\harshal\\appdata\\local\\programs\\python\\python37\\lib\\site-packages (from prompt-toolkit!=3.0.0,!=3.0.1,<3.1.0,>=2.0.0->ipython>=7.17.0->ipdb) (0.2.5)\n",
      "Requirement already satisfied: parso<0.9.0,>=0.8.0 in c:\\users\\harshal\\appdata\\local\\programs\\python\\python37\\lib\\site-packages (from jedi>=0.16->ipython>=7.17.0->ipdb) (0.8.2)\n",
      "Using legacy setup.py install for ipdb, since package 'wheel' is not installed.\n",
      "Installing collected packages: toml, ipdb\n",
      "    Running setup.py install for ipdb: started\n",
      "    Running setup.py install for ipdb: finished with status 'done'\n",
      "Successfully installed ipdb-0.13.9 toml-0.10.2\n"
     ]
    }
   ],
   "source": [
    "# to install new package through jupyter notebook use \"!\" then type command\n",
    "!pip install ipdb"
   ]
  },
  {
   "cell_type": "code",
   "execution_count": 1,
   "id": "a679bf13",
   "metadata": {},
   "outputs": [],
   "source": [
    "import ipdb"
   ]
  },
  {
   "cell_type": "code",
   "execution_count": 8,
   "id": "d37b0581",
   "metadata": {},
   "outputs": [],
   "source": [
    "def testdebug1():\n",
    "    ipdb.set_trace()\n",
    "    l = []\n",
    "    for i in range(5):\n",
    "        for j in range(5):\n",
    "            l.append(i)\n",
    "            if i == 4:\n",
    "                continue\n",
    "            print(\"ok\")\n",
    "    return l"
   ]
  },
  {
   "cell_type": "code",
   "execution_count": 10,
   "id": "00252d3a",
   "metadata": {},
   "outputs": [
    {
     "name": "stdout",
     "output_type": "stream",
     "text": [
      "> \u001b[1;32m<ipython-input-8-b2f80c8e2a8f>\u001b[0m(3)\u001b[0;36mtestdebug1\u001b[1;34m()\u001b[0m\n",
      "\u001b[1;32m      2 \u001b[1;33m    \u001b[0mipdb\u001b[0m\u001b[1;33m.\u001b[0m\u001b[0mset_trace\u001b[0m\u001b[1;33m(\u001b[0m\u001b[1;33m)\u001b[0m\u001b[1;33m\u001b[0m\u001b[1;33m\u001b[0m\u001b[0m\n",
      "\u001b[0m\u001b[1;32m----> 3 \u001b[1;33m    \u001b[0ml\u001b[0m \u001b[1;33m=\u001b[0m \u001b[1;33m[\u001b[0m\u001b[1;33m]\u001b[0m\u001b[1;33m\u001b[0m\u001b[1;33m\u001b[0m\u001b[0m\n",
      "\u001b[0m\u001b[1;32m      4 \u001b[1;33m    \u001b[1;32mfor\u001b[0m \u001b[0mi\u001b[0m \u001b[1;32min\u001b[0m \u001b[0mrange\u001b[0m\u001b[1;33m(\u001b[0m\u001b[1;36m5\u001b[0m\u001b[1;33m)\u001b[0m\u001b[1;33m:\u001b[0m\u001b[1;33m\u001b[0m\u001b[1;33m\u001b[0m\u001b[0m\n",
      "\u001b[0m\n",
      "ipdb> n\n",
      "> \u001b[1;32m<ipython-input-8-b2f80c8e2a8f>\u001b[0m(4)\u001b[0;36mtestdebug1\u001b[1;34m()\u001b[0m\n",
      "\u001b[1;32m      3 \u001b[1;33m    \u001b[0ml\u001b[0m \u001b[1;33m=\u001b[0m \u001b[1;33m[\u001b[0m\u001b[1;33m]\u001b[0m\u001b[1;33m\u001b[0m\u001b[1;33m\u001b[0m\u001b[0m\n",
      "\u001b[0m\u001b[1;32m----> 4 \u001b[1;33m    \u001b[1;32mfor\u001b[0m \u001b[0mi\u001b[0m \u001b[1;32min\u001b[0m \u001b[0mrange\u001b[0m\u001b[1;33m(\u001b[0m\u001b[1;36m5\u001b[0m\u001b[1;33m)\u001b[0m\u001b[1;33m:\u001b[0m\u001b[1;33m\u001b[0m\u001b[1;33m\u001b[0m\u001b[0m\n",
      "\u001b[0m\u001b[1;32m      5 \u001b[1;33m        \u001b[1;32mfor\u001b[0m \u001b[0mj\u001b[0m \u001b[1;32min\u001b[0m \u001b[0mrange\u001b[0m\u001b[1;33m(\u001b[0m\u001b[1;36m5\u001b[0m\u001b[1;33m)\u001b[0m\u001b[1;33m:\u001b[0m\u001b[1;33m\u001b[0m\u001b[1;33m\u001b[0m\u001b[0m\n",
      "\u001b[0m\n",
      "ipdb> i == 5\n",
      "*** NameError: name 'i' is not defined\n",
      "ipdb> n\n",
      "> \u001b[1;32m<ipython-input-8-b2f80c8e2a8f>\u001b[0m(5)\u001b[0;36mtestdebug1\u001b[1;34m()\u001b[0m\n",
      "\u001b[1;32m      4 \u001b[1;33m    \u001b[1;32mfor\u001b[0m \u001b[0mi\u001b[0m \u001b[1;32min\u001b[0m \u001b[0mrange\u001b[0m\u001b[1;33m(\u001b[0m\u001b[1;36m5\u001b[0m\u001b[1;33m)\u001b[0m\u001b[1;33m:\u001b[0m\u001b[1;33m\u001b[0m\u001b[1;33m\u001b[0m\u001b[0m\n",
      "\u001b[0m\u001b[1;32m----> 5 \u001b[1;33m        \u001b[1;32mfor\u001b[0m \u001b[0mj\u001b[0m \u001b[1;32min\u001b[0m \u001b[0mrange\u001b[0m\u001b[1;33m(\u001b[0m\u001b[1;36m5\u001b[0m\u001b[1;33m)\u001b[0m\u001b[1;33m:\u001b[0m\u001b[1;33m\u001b[0m\u001b[1;33m\u001b[0m\u001b[0m\n",
      "\u001b[0m\u001b[1;32m      6 \u001b[1;33m            \u001b[0ml\u001b[0m\u001b[1;33m.\u001b[0m\u001b[0mappend\u001b[0m\u001b[1;33m(\u001b[0m\u001b[0mi\u001b[0m\u001b[1;33m)\u001b[0m\u001b[1;33m\u001b[0m\u001b[1;33m\u001b[0m\u001b[0m\n",
      "\u001b[0m\n",
      "ipdb> i==5\n",
      "False\n",
      "ipdb> n\n",
      "> \u001b[1;32m<ipython-input-8-b2f80c8e2a8f>\u001b[0m(6)\u001b[0;36mtestdebug1\u001b[1;34m()\u001b[0m\n",
      "\u001b[1;32m      5 \u001b[1;33m        \u001b[1;32mfor\u001b[0m \u001b[0mj\u001b[0m \u001b[1;32min\u001b[0m \u001b[0mrange\u001b[0m\u001b[1;33m(\u001b[0m\u001b[1;36m5\u001b[0m\u001b[1;33m)\u001b[0m\u001b[1;33m:\u001b[0m\u001b[1;33m\u001b[0m\u001b[1;33m\u001b[0m\u001b[0m\n",
      "\u001b[0m\u001b[1;32m----> 6 \u001b[1;33m            \u001b[0ml\u001b[0m\u001b[1;33m.\u001b[0m\u001b[0mappend\u001b[0m\u001b[1;33m(\u001b[0m\u001b[0mi\u001b[0m\u001b[1;33m)\u001b[0m\u001b[1;33m\u001b[0m\u001b[1;33m\u001b[0m\u001b[0m\n",
      "\u001b[0m\u001b[1;32m      7 \u001b[1;33m            \u001b[1;32mif\u001b[0m \u001b[0mi\u001b[0m \u001b[1;33m==\u001b[0m \u001b[1;36m4\u001b[0m\u001b[1;33m:\u001b[0m\u001b[1;33m\u001b[0m\u001b[1;33m\u001b[0m\u001b[0m\n",
      "\u001b[0m\n",
      "ipdb> n\n",
      "> \u001b[1;32m<ipython-input-8-b2f80c8e2a8f>\u001b[0m(7)\u001b[0;36mtestdebug1\u001b[1;34m()\u001b[0m\n",
      "\u001b[1;32m      6 \u001b[1;33m            \u001b[0ml\u001b[0m\u001b[1;33m.\u001b[0m\u001b[0mappend\u001b[0m\u001b[1;33m(\u001b[0m\u001b[0mi\u001b[0m\u001b[1;33m)\u001b[0m\u001b[1;33m\u001b[0m\u001b[1;33m\u001b[0m\u001b[0m\n",
      "\u001b[0m\u001b[1;32m----> 7 \u001b[1;33m            \u001b[1;32mif\u001b[0m \u001b[0mi\u001b[0m \u001b[1;33m==\u001b[0m \u001b[1;36m4\u001b[0m\u001b[1;33m:\u001b[0m\u001b[1;33m\u001b[0m\u001b[1;33m\u001b[0m\u001b[0m\n",
      "\u001b[0m\u001b[1;32m      8 \u001b[1;33m                \u001b[1;32mcontinue\u001b[0m\u001b[1;33m\u001b[0m\u001b[1;33m\u001b[0m\u001b[0m\n",
      "\u001b[0m\n",
      "ipdb> n\n",
      "> \u001b[1;32m<ipython-input-8-b2f80c8e2a8f>\u001b[0m(9)\u001b[0;36mtestdebug1\u001b[1;34m()\u001b[0m\n",
      "\u001b[1;32m      8 \u001b[1;33m                \u001b[1;32mcontinue\u001b[0m\u001b[1;33m\u001b[0m\u001b[1;33m\u001b[0m\u001b[0m\n",
      "\u001b[0m\u001b[1;32m----> 9 \u001b[1;33m            \u001b[0mprint\u001b[0m\u001b[1;33m(\u001b[0m\u001b[1;34m\"ok\"\u001b[0m\u001b[1;33m)\u001b[0m\u001b[1;33m\u001b[0m\u001b[1;33m\u001b[0m\u001b[0m\n",
      "\u001b[0m\u001b[1;32m     10 \u001b[1;33m    \u001b[1;32mreturn\u001b[0m \u001b[0ml\u001b[0m\u001b[1;33m\u001b[0m\u001b[1;33m\u001b[0m\u001b[0m\n",
      "\u001b[0m\n",
      "ipdb> n\n",
      "ok\n",
      "> \u001b[1;32m<ipython-input-8-b2f80c8e2a8f>\u001b[0m(5)\u001b[0;36mtestdebug1\u001b[1;34m()\u001b[0m\n",
      "\u001b[1;32m      4 \u001b[1;33m    \u001b[1;32mfor\u001b[0m \u001b[0mi\u001b[0m \u001b[1;32min\u001b[0m \u001b[0mrange\u001b[0m\u001b[1;33m(\u001b[0m\u001b[1;36m5\u001b[0m\u001b[1;33m)\u001b[0m\u001b[1;33m:\u001b[0m\u001b[1;33m\u001b[0m\u001b[1;33m\u001b[0m\u001b[0m\n",
      "\u001b[0m\u001b[1;32m----> 5 \u001b[1;33m        \u001b[1;32mfor\u001b[0m \u001b[0mj\u001b[0m \u001b[1;32min\u001b[0m \u001b[0mrange\u001b[0m\u001b[1;33m(\u001b[0m\u001b[1;36m5\u001b[0m\u001b[1;33m)\u001b[0m\u001b[1;33m:\u001b[0m\u001b[1;33m\u001b[0m\u001b[1;33m\u001b[0m\u001b[0m\n",
      "\u001b[0m\u001b[1;32m      6 \u001b[1;33m            \u001b[0ml\u001b[0m\u001b[1;33m.\u001b[0m\u001b[0mappend\u001b[0m\u001b[1;33m(\u001b[0m\u001b[0mi\u001b[0m\u001b[1;33m)\u001b[0m\u001b[1;33m\u001b[0m\u001b[1;33m\u001b[0m\u001b[0m\n",
      "\u001b[0m\n",
      "ipdb> n\n",
      "> \u001b[1;32m<ipython-input-8-b2f80c8e2a8f>\u001b[0m(6)\u001b[0;36mtestdebug1\u001b[1;34m()\u001b[0m\n",
      "\u001b[1;32m      5 \u001b[1;33m        \u001b[1;32mfor\u001b[0m \u001b[0mj\u001b[0m \u001b[1;32min\u001b[0m \u001b[0mrange\u001b[0m\u001b[1;33m(\u001b[0m\u001b[1;36m5\u001b[0m\u001b[1;33m)\u001b[0m\u001b[1;33m:\u001b[0m\u001b[1;33m\u001b[0m\u001b[1;33m\u001b[0m\u001b[0m\n",
      "\u001b[0m\u001b[1;32m----> 6 \u001b[1;33m            \u001b[0ml\u001b[0m\u001b[1;33m.\u001b[0m\u001b[0mappend\u001b[0m\u001b[1;33m(\u001b[0m\u001b[0mi\u001b[0m\u001b[1;33m)\u001b[0m\u001b[1;33m\u001b[0m\u001b[1;33m\u001b[0m\u001b[0m\n",
      "\u001b[0m\u001b[1;32m      7 \u001b[1;33m            \u001b[1;32mif\u001b[0m \u001b[0mi\u001b[0m \u001b[1;33m==\u001b[0m \u001b[1;36m4\u001b[0m\u001b[1;33m:\u001b[0m\u001b[1;33m\u001b[0m\u001b[1;33m\u001b[0m\u001b[0m\n",
      "\u001b[0m\n",
      "ipdb> n\n",
      "> \u001b[1;32m<ipython-input-8-b2f80c8e2a8f>\u001b[0m(7)\u001b[0;36mtestdebug1\u001b[1;34m()\u001b[0m\n",
      "\u001b[1;32m      6 \u001b[1;33m            \u001b[0ml\u001b[0m\u001b[1;33m.\u001b[0m\u001b[0mappend\u001b[0m\u001b[1;33m(\u001b[0m\u001b[0mi\u001b[0m\u001b[1;33m)\u001b[0m\u001b[1;33m\u001b[0m\u001b[1;33m\u001b[0m\u001b[0m\n",
      "\u001b[0m\u001b[1;32m----> 7 \u001b[1;33m            \u001b[1;32mif\u001b[0m \u001b[0mi\u001b[0m \u001b[1;33m==\u001b[0m \u001b[1;36m4\u001b[0m\u001b[1;33m:\u001b[0m\u001b[1;33m\u001b[0m\u001b[1;33m\u001b[0m\u001b[0m\n",
      "\u001b[0m\u001b[1;32m      8 \u001b[1;33m                \u001b[1;32mcontinue\u001b[0m\u001b[1;33m\u001b[0m\u001b[1;33m\u001b[0m\u001b[0m\n",
      "\u001b[0m\n",
      "ipdb> n\n",
      "> \u001b[1;32m<ipython-input-8-b2f80c8e2a8f>\u001b[0m(9)\u001b[0;36mtestdebug1\u001b[1;34m()\u001b[0m\n",
      "\u001b[1;32m      8 \u001b[1;33m                \u001b[1;32mcontinue\u001b[0m\u001b[1;33m\u001b[0m\u001b[1;33m\u001b[0m\u001b[0m\n",
      "\u001b[0m\u001b[1;32m----> 9 \u001b[1;33m            \u001b[0mprint\u001b[0m\u001b[1;33m(\u001b[0m\u001b[1;34m\"ok\"\u001b[0m\u001b[1;33m)\u001b[0m\u001b[1;33m\u001b[0m\u001b[1;33m\u001b[0m\u001b[0m\n",
      "\u001b[0m\u001b[1;32m     10 \u001b[1;33m    \u001b[1;32mreturn\u001b[0m \u001b[0ml\u001b[0m\u001b[1;33m\u001b[0m\u001b[1;33m\u001b[0m\u001b[0m\n",
      "\u001b[0m\n",
      "ipdb> n\n",
      "ok\n",
      "> \u001b[1;32m<ipython-input-8-b2f80c8e2a8f>\u001b[0m(5)\u001b[0;36mtestdebug1\u001b[1;34m()\u001b[0m\n",
      "\u001b[1;32m      4 \u001b[1;33m    \u001b[1;32mfor\u001b[0m \u001b[0mi\u001b[0m \u001b[1;32min\u001b[0m \u001b[0mrange\u001b[0m\u001b[1;33m(\u001b[0m\u001b[1;36m5\u001b[0m\u001b[1;33m)\u001b[0m\u001b[1;33m:\u001b[0m\u001b[1;33m\u001b[0m\u001b[1;33m\u001b[0m\u001b[0m\n",
      "\u001b[0m\u001b[1;32m----> 5 \u001b[1;33m        \u001b[1;32mfor\u001b[0m \u001b[0mj\u001b[0m \u001b[1;32min\u001b[0m \u001b[0mrange\u001b[0m\u001b[1;33m(\u001b[0m\u001b[1;36m5\u001b[0m\u001b[1;33m)\u001b[0m\u001b[1;33m:\u001b[0m\u001b[1;33m\u001b[0m\u001b[1;33m\u001b[0m\u001b[0m\n",
      "\u001b[0m\u001b[1;32m      6 \u001b[1;33m            \u001b[0ml\u001b[0m\u001b[1;33m.\u001b[0m\u001b[0mappend\u001b[0m\u001b[1;33m(\u001b[0m\u001b[0mi\u001b[0m\u001b[1;33m)\u001b[0m\u001b[1;33m\u001b[0m\u001b[1;33m\u001b[0m\u001b[0m\n",
      "\u001b[0m\n",
      "ipdb> i==4\n",
      "False\n",
      "ipdb> i==7\n",
      "False\n",
      "ipdb> i = \"harsha\"\n",
      "ipdb> n\n",
      "> \u001b[1;32m<ipython-input-8-b2f80c8e2a8f>\u001b[0m(6)\u001b[0;36mtestdebug1\u001b[1;34m()\u001b[0m\n",
      "\u001b[1;32m      5 \u001b[1;33m        \u001b[1;32mfor\u001b[0m \u001b[0mj\u001b[0m \u001b[1;32min\u001b[0m \u001b[0mrange\u001b[0m\u001b[1;33m(\u001b[0m\u001b[1;36m5\u001b[0m\u001b[1;33m)\u001b[0m\u001b[1;33m:\u001b[0m\u001b[1;33m\u001b[0m\u001b[1;33m\u001b[0m\u001b[0m\n",
      "\u001b[0m\u001b[1;32m----> 6 \u001b[1;33m            \u001b[0ml\u001b[0m\u001b[1;33m.\u001b[0m\u001b[0mappend\u001b[0m\u001b[1;33m(\u001b[0m\u001b[0mi\u001b[0m\u001b[1;33m)\u001b[0m\u001b[1;33m\u001b[0m\u001b[1;33m\u001b[0m\u001b[0m\n",
      "\u001b[0m\u001b[1;32m      7 \u001b[1;33m            \u001b[1;32mif\u001b[0m \u001b[0mi\u001b[0m \u001b[1;33m==\u001b[0m \u001b[1;36m4\u001b[0m\u001b[1;33m:\u001b[0m\u001b[1;33m\u001b[0m\u001b[1;33m\u001b[0m\u001b[0m\n",
      "\u001b[0m\n",
      "ipdb> n\n",
      "> \u001b[1;32m<ipython-input-8-b2f80c8e2a8f>\u001b[0m(7)\u001b[0;36mtestdebug1\u001b[1;34m()\u001b[0m\n",
      "\u001b[1;32m      6 \u001b[1;33m            \u001b[0ml\u001b[0m\u001b[1;33m.\u001b[0m\u001b[0mappend\u001b[0m\u001b[1;33m(\u001b[0m\u001b[0mi\u001b[0m\u001b[1;33m)\u001b[0m\u001b[1;33m\u001b[0m\u001b[1;33m\u001b[0m\u001b[0m\n",
      "\u001b[0m\u001b[1;32m----> 7 \u001b[1;33m            \u001b[1;32mif\u001b[0m \u001b[0mi\u001b[0m \u001b[1;33m==\u001b[0m \u001b[1;36m4\u001b[0m\u001b[1;33m:\u001b[0m\u001b[1;33m\u001b[0m\u001b[1;33m\u001b[0m\u001b[0m\n",
      "\u001b[0m\u001b[1;32m      8 \u001b[1;33m                \u001b[1;32mcontinue\u001b[0m\u001b[1;33m\u001b[0m\u001b[1;33m\u001b[0m\u001b[0m\n",
      "\u001b[0m\n",
      "ipdb> n\n",
      "> \u001b[1;32m<ipython-input-8-b2f80c8e2a8f>\u001b[0m(9)\u001b[0;36mtestdebug1\u001b[1;34m()\u001b[0m\n",
      "\u001b[1;32m      8 \u001b[1;33m                \u001b[1;32mcontinue\u001b[0m\u001b[1;33m\u001b[0m\u001b[1;33m\u001b[0m\u001b[0m\n",
      "\u001b[0m\u001b[1;32m----> 9 \u001b[1;33m            \u001b[0mprint\u001b[0m\u001b[1;33m(\u001b[0m\u001b[1;34m\"ok\"\u001b[0m\u001b[1;33m)\u001b[0m\u001b[1;33m\u001b[0m\u001b[1;33m\u001b[0m\u001b[0m\n",
      "\u001b[0m\u001b[1;32m     10 \u001b[1;33m    \u001b[1;32mreturn\u001b[0m \u001b[0ml\u001b[0m\u001b[1;33m\u001b[0m\u001b[1;33m\u001b[0m\u001b[0m\n",
      "\u001b[0m\n",
      "ipdb> n\n",
      "ok\n",
      "> \u001b[1;32m<ipython-input-8-b2f80c8e2a8f>\u001b[0m(5)\u001b[0;36mtestdebug1\u001b[1;34m()\u001b[0m\n",
      "\u001b[1;32m      4 \u001b[1;33m    \u001b[1;32mfor\u001b[0m \u001b[0mi\u001b[0m \u001b[1;32min\u001b[0m \u001b[0mrange\u001b[0m\u001b[1;33m(\u001b[0m\u001b[1;36m5\u001b[0m\u001b[1;33m)\u001b[0m\u001b[1;33m:\u001b[0m\u001b[1;33m\u001b[0m\u001b[1;33m\u001b[0m\u001b[0m\n",
      "\u001b[0m\u001b[1;32m----> 5 \u001b[1;33m        \u001b[1;32mfor\u001b[0m \u001b[0mj\u001b[0m \u001b[1;32min\u001b[0m \u001b[0mrange\u001b[0m\u001b[1;33m(\u001b[0m\u001b[1;36m5\u001b[0m\u001b[1;33m)\u001b[0m\u001b[1;33m:\u001b[0m\u001b[1;33m\u001b[0m\u001b[1;33m\u001b[0m\u001b[0m\n",
      "\u001b[0m\u001b[1;32m      6 \u001b[1;33m            \u001b[0ml\u001b[0m\u001b[1;33m.\u001b[0m\u001b[0mappend\u001b[0m\u001b[1;33m(\u001b[0m\u001b[0mi\u001b[0m\u001b[1;33m)\u001b[0m\u001b[1;33m\u001b[0m\u001b[1;33m\u001b[0m\u001b[0m\n",
      "\u001b[0m\n",
      "ipdb> h\n",
      "\n",
      "Documented commands (type help <topic>):\n",
      "========================================\n",
      "EOF    cl         debug    ignore    n       pp       run          unalias  \n",
      "a      clear      disable  interact  next    psource  rv           undisplay\n",
      "alias  commands   display  j         p       q        s            unt      \n",
      "args   condition  down     jump      pdef    quit     skip_hidden  until    \n",
      "b      cont       enable   l         pdoc    r        source       up       \n",
      "break  context    exit     list      pfile   restart  step         w        \n",
      "bt     continue   h        ll        pinfo   return   tbreak       whatis   \n",
      "c      d          help     longlist  pinfo2  retval   u            where    \n",
      "\n",
      "Miscellaneous help topics:\n",
      "==========================\n",
      "exec  pdb\n",
      "\n",
      "ipdb> j\n",
      "*** The 'jump' command requires a line number\n",
      "ipdb> 5\n",
      "5\n",
      "ipdb> n\n",
      "> \u001b[1;32m<ipython-input-8-b2f80c8e2a8f>\u001b[0m(6)\u001b[0;36mtestdebug1\u001b[1;34m()\u001b[0m\n",
      "\u001b[1;32m      5 \u001b[1;33m        \u001b[1;32mfor\u001b[0m \u001b[0mj\u001b[0m \u001b[1;32min\u001b[0m \u001b[0mrange\u001b[0m\u001b[1;33m(\u001b[0m\u001b[1;36m5\u001b[0m\u001b[1;33m)\u001b[0m\u001b[1;33m:\u001b[0m\u001b[1;33m\u001b[0m\u001b[1;33m\u001b[0m\u001b[0m\n",
      "\u001b[0m\u001b[1;32m----> 6 \u001b[1;33m            \u001b[0ml\u001b[0m\u001b[1;33m.\u001b[0m\u001b[0mappend\u001b[0m\u001b[1;33m(\u001b[0m\u001b[0mi\u001b[0m\u001b[1;33m)\u001b[0m\u001b[1;33m\u001b[0m\u001b[1;33m\u001b[0m\u001b[0m\n",
      "\u001b[0m\u001b[1;32m      7 \u001b[1;33m            \u001b[1;32mif\u001b[0m \u001b[0mi\u001b[0m \u001b[1;33m==\u001b[0m \u001b[1;36m4\u001b[0m\u001b[1;33m:\u001b[0m\u001b[1;33m\u001b[0m\u001b[1;33m\u001b[0m\u001b[0m\n",
      "\u001b[0m\n"
     ]
    },
    {
     "name": "stdout",
     "output_type": "stream",
     "text": [
      "ipdb> c\n",
      "ok\n",
      "ok\n",
      "ok\n",
      "ok\n",
      "ok\n",
      "ok\n",
      "ok\n",
      "ok\n",
      "ok\n",
      "ok\n",
      "ok\n",
      "ok\n",
      "ok\n",
      "ok\n",
      "ok\n",
      "ok\n",
      "ok\n"
     ]
    },
    {
     "data": {
      "text/plain": [
       "[0,\n",
       " 0,\n",
       " 'harsha',\n",
       " 'harsha',\n",
       " 'harsha',\n",
       " 1,\n",
       " 1,\n",
       " 1,\n",
       " 1,\n",
       " 1,\n",
       " 2,\n",
       " 2,\n",
       " 2,\n",
       " 2,\n",
       " 2,\n",
       " 3,\n",
       " 3,\n",
       " 3,\n",
       " 3,\n",
       " 3,\n",
       " 4,\n",
       " 4,\n",
       " 4,\n",
       " 4,\n",
       " 4]"
      ]
     },
     "execution_count": 10,
     "metadata": {},
     "output_type": "execute_result"
    }
   ],
   "source": [
    "testdebug1()"
   ]
  },
  {
   "cell_type": "markdown",
   "id": "b99ca032",
   "metadata": {},
   "source": [
    "---\n",
    "### Challenge\n",
    "1. "
   ]
  },
  {
   "cell_type": "code",
   "execution_count": null,
   "id": "84e362b7",
   "metadata": {},
   "outputs": [],
   "source": []
  }
 ],
 "metadata": {
  "kernelspec": {
   "display_name": "Python 3",
   "language": "python",
   "name": "python3"
  },
  "language_info": {
   "codemirror_mode": {
    "name": "ipython",
    "version": 3
   },
   "file_extension": ".py",
   "mimetype": "text/x-python",
   "name": "python",
   "nbconvert_exporter": "python",
   "pygments_lexer": "ipython3",
   "version": "3.7.9"
  }
 },
 "nbformat": 4,
 "nbformat_minor": 5
}
