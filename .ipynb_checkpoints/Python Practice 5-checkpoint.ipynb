{
 "cells": [
  {
   "cell_type": "markdown",
   "id": "8c12d293",
   "metadata": {},
   "source": [
    "# 10th April Live Class\n",
    "### Modules and Exceptions"
   ]
  },
  {
   "cell_type": "code",
   "execution_count": 1,
   "id": "05b6509d",
   "metadata": {},
   "outputs": [],
   "source": [
    "# we can import any module using \"import\" keyword in python\n",
    "import math "
   ]
  },
  {
   "cell_type": "code",
   "execution_count": 2,
   "id": "af76f9fa",
   "metadata": {},
   "outputs": [
    {
     "data": {
      "text/plain": [
       "5.0"
      ]
     },
     "execution_count": 2,
     "metadata": {},
     "output_type": "execute_result"
    }
   ],
   "source": [
    "# after importing any package in this fashion, always you have to write module \n",
    "# name before accessing any function within the module\n",
    "math.sqrt(25)"
   ]
  },
  {
   "cell_type": "code",
   "execution_count": 3,
   "id": "08d49a22",
   "metadata": {},
   "outputs": [],
   "source": [
    "# you can import any single function from any module in this way also\n",
    "from math import sqrt"
   ]
  },
  {
   "cell_type": "code",
   "execution_count": 4,
   "id": "bd0423bc",
   "metadata": {},
   "outputs": [
    {
     "data": {
      "text/plain": [
       "6.0"
      ]
     },
     "execution_count": 4,
     "metadata": {},
     "output_type": "execute_result"
    }
   ],
   "source": [
    "# after importing in this fashion, you don't need to write module name\n",
    "# in front of its function\n",
    "sqrt(36)"
   ]
  },
  {
   "cell_type": "code",
   "execution_count": 5,
   "id": "fc7f4540",
   "metadata": {},
   "outputs": [],
   "source": [
    "# you can import multiple function from module by this way as well\n",
    "from math import sqrt, pi"
   ]
  },
  {
   "cell_type": "code",
   "execution_count": 6,
   "id": "c6705a04",
   "metadata": {},
   "outputs": [
    {
     "data": {
      "text/plain": [
       "3.141592653589793"
      ]
     },
     "execution_count": 6,
     "metadata": {},
     "output_type": "execute_result"
    }
   ],
   "source": [
    "pi"
   ]
  },
  {
   "cell_type": "code",
   "execution_count": 7,
   "id": "41243f69",
   "metadata": {},
   "outputs": [],
   "source": [
    "# if you need all the functions inside the module, then you can simply \n",
    "# add ' * ' operator after the import keyword\n",
    "from math import *"
   ]
  },
  {
   "cell_type": "code",
   "execution_count": 8,
   "id": "37af5146",
   "metadata": {},
   "outputs": [
    {
     "data": {
      "text/plain": [
       "0.8414709848078965"
      ]
     },
     "execution_count": 8,
     "metadata": {},
     "output_type": "execute_result"
    }
   ],
   "source": [
    "sin(1)"
   ]
  },
  {
   "cell_type": "code",
   "execution_count": 9,
   "id": "dfcb3fc8",
   "metadata": {},
   "outputs": [
    {
     "data": {
      "text/plain": [
       "2.6457513110645907"
      ]
     },
     "execution_count": 9,
     "metadata": {},
     "output_type": "execute_result"
    }
   ],
   "source": [
    "sqrt(7)"
   ]
  },
  {
   "cell_type": "code",
   "execution_count": 10,
   "id": "707c2cc3",
   "metadata": {},
   "outputs": [
    {
     "data": {
      "text/plain": [
       "3.141592653589793"
      ]
     },
     "execution_count": 10,
     "metadata": {},
     "output_type": "execute_result"
    }
   ],
   "source": [
    "pi"
   ]
  },
  {
   "cell_type": "code",
   "execution_count": 11,
   "id": "9c87dd15",
   "metadata": {},
   "outputs": [
    {
     "data": {
      "text/plain": [
       "510.8"
      ]
     },
     "execution_count": 11,
     "metadata": {},
     "output_type": "execute_result"
    }
   ],
   "source": [
    "2554/5"
   ]
  },
  {
   "cell_type": "code",
   "execution_count": 12,
   "id": "ee3246c5",
   "metadata": {},
   "outputs": [
    {
     "data": {
      "text/plain": [
       "68.0"
      ]
     },
     "execution_count": 12,
     "metadata": {},
     "output_type": "execute_result"
    }
   ],
   "source": [
    "510/750*100"
   ]
  },
  {
   "cell_type": "code",
   "execution_count": 13,
   "id": "0e1e32e0",
   "metadata": {},
   "outputs": [
    {
     "data": {
      "text/plain": [
       "'D:\\\\iNeuron\\\\Python'"
      ]
     },
     "execution_count": 13,
     "metadata": {},
     "output_type": "execute_result"
    }
   ],
   "source": [
    "pwd()"
   ]
  },
  {
   "cell_type": "code",
   "execution_count": 14,
   "id": "752378aa",
   "metadata": {},
   "outputs": [
    {
     "name": "stdout",
     "output_type": "stream",
     "text": [
      "File is present\n"
     ]
    }
   ],
   "source": [
    "import os\n",
    "if not 'Task_related_to_PP5':\n",
    "    os.mkdir('Task_related_to_PP5')\n",
    "else:\n",
    "    print(\"File is present\")\n",
    "    os.chdir(\"Task_related_to_PP5\")"
   ]
  },
  {
   "cell_type": "code",
   "execution_count": 15,
   "id": "fe2612a2",
   "metadata": {},
   "outputs": [
    {
     "data": {
      "text/plain": [
       "['.ipynb_checkpoints',\n",
       " 'addition.py',\n",
       " 'mod1.py',\n",
       " 'test.py',\n",
       " 'test.txt',\n",
       " 'test1',\n",
       " 'test1.txt',\n",
       " 'test2.py',\n",
       " 'test3.py',\n",
       " 'testdir2',\n",
       " '__pycache__']"
      ]
     },
     "execution_count": 15,
     "metadata": {},
     "output_type": "execute_result"
    }
   ],
   "source": [
    "os.listdir()"
   ]
  },
  {
   "cell_type": "code",
   "execution_count": 16,
   "id": "547e1f5b",
   "metadata": {},
   "outputs": [
    {
     "data": {
      "text/plain": [
       "'D:\\\\iNeuron\\\\Python\\\\Task_related_to_PP5'"
      ]
     },
     "execution_count": 16,
     "metadata": {},
     "output_type": "execute_result"
    }
   ],
   "source": [
    "pwd()"
   ]
  },
  {
   "cell_type": "markdown",
   "id": "2549d25d",
   "metadata": {},
   "source": [
    "---\n",
    "### How to create our own custom module?\n",
    "* we can create our own custom module in python..\n",
    "* Module is nothing but the python file. We can access contents of that file in our program using **import** keyword.\n",
    "* In following steps we created our own python module.\n",
    "    * Create a python file.\n",
    "    * add a piece of code in it. for example: simple print(\"Hello\") statement.\n",
    "    * close that file.\n",
    "* for accessing our custom module, write **import _file_name_**."
   ]
  },
  {
   "cell_type": "code",
   "execution_count": 17,
   "id": "f0311816",
   "metadata": {},
   "outputs": [],
   "source": [
    "f = open(\"test.py\",'r')"
   ]
  },
  {
   "cell_type": "code",
   "execution_count": 18,
   "id": "c5a0246f",
   "metadata": {},
   "outputs": [],
   "source": [
    "# f.write(\"\"\"# This is my first module\n",
    "\n",
    "# print(\"Hello there.. This is my first module..\")\"\"\")"
   ]
  },
  {
   "cell_type": "code",
   "execution_count": 19,
   "id": "58bb35db",
   "metadata": {},
   "outputs": [
    {
     "name": "stdout",
     "output_type": "stream",
     "text": [
      "# This is my first module\n",
      "\n",
      "print(\"I am Harshal Shinde and This is my first module...\")\n",
      "\n"
     ]
    }
   ],
   "source": [
    "f.seek(0)\n",
    "print(f.read())\n",
    "f.close()"
   ]
  },
  {
   "cell_type": "code",
   "execution_count": 20,
   "id": "7953126e",
   "metadata": {},
   "outputs": [],
   "source": [
    "import test"
   ]
  },
  {
   "cell_type": "code",
   "execution_count": 21,
   "id": "c1f952f7",
   "metadata": {},
   "outputs": [
    {
     "data": {
      "text/plain": [
       "'Here we can see that after calling our module 2nd time,\\nwe are not able to see data.. so we have to relode our module..\\nwe can reload using following steps..'"
      ]
     },
     "execution_count": 21,
     "metadata": {},
     "output_type": "execute_result"
    }
   ],
   "source": [
    "import test\n",
    "\n",
    "'''Here we can see that after calling our module 2nd time,\n",
    "we are not able to see data.. so we have to relode our module..\n",
    "we can reload using following steps..'''\n"
   ]
  },
  {
   "cell_type": "code",
   "execution_count": 22,
   "id": "8f8c1681",
   "metadata": {},
   "outputs": [
    {
     "data": {
      "text/plain": [
       "<module 'test' from 'c:\\\\users\\\\harshal\\\\appdata\\\\local\\\\programs\\\\python\\\\python37\\\\lib\\\\test\\\\__init__.py'>"
      ]
     },
     "execution_count": 22,
     "metadata": {},
     "output_type": "execute_result"
    }
   ],
   "source": [
    "import imp\n",
    "imp.reload(test)"
   ]
  },
  {
   "cell_type": "code",
   "execution_count": 23,
   "id": "0a91647e",
   "metadata": {},
   "outputs": [],
   "source": [
    "f = open('addition.py','r')"
   ]
  },
  {
   "cell_type": "code",
   "execution_count": 24,
   "id": "53973bec",
   "metadata": {},
   "outputs": [],
   "source": [
    "# f.write(\"\"\"\n",
    "# def addition1(a,b):\n",
    "#     '''This function try to add two data inside variables a,b'''\n",
    "#     return a+b\"\"\")"
   ]
  },
  {
   "cell_type": "code",
   "execution_count": 25,
   "id": "76fee890",
   "metadata": {},
   "outputs": [
    {
     "name": "stdout",
     "output_type": "stream",
     "text": [
      "\n",
      "def addition1(a,b):\n",
      "    '''This function try to add two data inside variables a,b'''\n",
      "    return a+b\n"
     ]
    }
   ],
   "source": [
    "f.seek(0)\n",
    "print(f.read())\n",
    "f.close()"
   ]
  },
  {
   "cell_type": "code",
   "execution_count": 26,
   "id": "e96d5132",
   "metadata": {},
   "outputs": [],
   "source": [
    "import addition"
   ]
  },
  {
   "cell_type": "code",
   "execution_count": 27,
   "id": "551e693d",
   "metadata": {},
   "outputs": [
    {
     "data": {
      "text/plain": [
       "76"
      ]
     },
     "execution_count": 27,
     "metadata": {},
     "output_type": "execute_result"
    }
   ],
   "source": [
    "addition.addition1(23,53)"
   ]
  },
  {
   "cell_type": "code",
   "execution_count": 28,
   "id": "d9c41447",
   "metadata": {},
   "outputs": [],
   "source": [
    "import test2 as t"
   ]
  },
  {
   "cell_type": "code",
   "execution_count": 29,
   "id": "a720b4f3",
   "metadata": {},
   "outputs": [
    {
     "data": {
      "text/plain": [
       "46"
      ]
     },
     "execution_count": 29,
     "metadata": {},
     "output_type": "execute_result"
    }
   ],
   "source": [
    "t.addition(12,34)"
   ]
  },
  {
   "cell_type": "code",
   "execution_count": 30,
   "id": "44ecedcb",
   "metadata": {},
   "outputs": [
    {
     "data": {
      "text/plain": [
       "4.0"
      ]
     },
     "execution_count": 30,
     "metadata": {},
     "output_type": "execute_result"
    }
   ],
   "source": [
    "t.div(12,3)"
   ]
  },
  {
   "cell_type": "code",
   "execution_count": 31,
   "id": "daaa4450",
   "metadata": {},
   "outputs": [
    {
     "data": {
      "text/plain": [
       "16"
      ]
     },
     "execution_count": 31,
     "metadata": {},
     "output_type": "execute_result"
    }
   ],
   "source": [
    "t.power(2,4)"
   ]
  },
  {
   "cell_type": "code",
   "execution_count": 32,
   "id": "020aa8e1",
   "metadata": {},
   "outputs": [],
   "source": [
    "# We can impot one single method from any module\n",
    "from test2 import mul"
   ]
  },
  {
   "cell_type": "code",
   "execution_count": 33,
   "id": "629d09ad",
   "metadata": {},
   "outputs": [
    {
     "data": {
      "text/plain": [
       "115"
      ]
     },
     "execution_count": 33,
     "metadata": {},
     "output_type": "execute_result"
    }
   ],
   "source": [
    "mul(23,5)"
   ]
  },
  {
   "cell_type": "code",
   "execution_count": 34,
   "id": "7db14a11",
   "metadata": {},
   "outputs": [],
   "source": [
    "import test3"
   ]
  },
  {
   "cell_type": "code",
   "execution_count": 35,
   "id": "e95e9d49",
   "metadata": {},
   "outputs": [
    {
     "data": {
      "text/plain": [
       "'This is my class'"
      ]
     },
     "execution_count": 35,
     "metadata": {},
     "output_type": "execute_result"
    }
   ],
   "source": [
    "test3.msg()"
   ]
  },
  {
   "cell_type": "code",
   "execution_count": 36,
   "id": "222b76a6",
   "metadata": {},
   "outputs": [
    {
     "data": {
      "text/plain": [
       "['ml', 'dl', 'py', 'stats', 'cv']"
      ]
     },
     "execution_count": 36,
     "metadata": {},
     "output_type": "execute_result"
    }
   ],
   "source": [
    "test3.get_course()"
   ]
  },
  {
   "cell_type": "markdown",
   "id": "584f82a8",
   "metadata": {},
   "source": [
    "---\n",
    "### Quick Quiz\n",
    "1. Create a test1 directory.\n",
    "    1. Create a directory \"test\" and create 3 modules inside that directory..\n",
    "        1. create \"mod1.py\"\n",
    "            1. create \"func_1.1\"\n",
    "            2. create \"func_1.2\"\n",
    "            3. create \"func_1.3\"\n",
    "        2. create \"mod2.py\"\n",
    "            1. create \"func_2.1\"\n",
    "            2. create \"func_2.2\"\n",
    "            3. create \"func_2.3\"\n",
    "        3. create \"mod3.py\"\n",
    "            1. create \"func_3.1\"\n",
    "            2. create \"func_3.2\"\n",
    "            3. create \"func_3.3\"\n",
    "    \n",
    "    2. Create a \"jupyter notebook\" and import all modules\n",
    "2. Create a \"jupter notebook\" import all modules in it"
   ]
  },
  {
   "cell_type": "code",
   "execution_count": 37,
   "id": "61d7cc00",
   "metadata": {},
   "outputs": [
    {
     "data": {
      "text/plain": [
       "'D:\\\\iNeuron\\\\Python\\\\Task_related_to_PP5'"
      ]
     },
     "execution_count": 37,
     "metadata": {},
     "output_type": "execute_result"
    }
   ],
   "source": [
    "pwd()"
   ]
  },
  {
   "cell_type": "code",
   "execution_count": 38,
   "id": "14e1a3b7",
   "metadata": {},
   "outputs": [
    {
     "name": "stdout",
     "output_type": "stream",
     "text": [
      "'test1' is already avaliable.. \n",
      "moving to:D:\\iNeuron\\Python\\Task_related_to_PP5\\test1\n"
     ]
    }
   ],
   "source": [
    "# creating Parent directory as test1\n",
    "if not os.path.isdir('test1'):\n",
    "    os.mkdir(\"test1\")\n",
    "    os.chdir('test1')\n",
    "    print(f\"'test1' directory is created.. \\ncurrent working directory is:\\n{os.getcwd()}\")\n",
    "else:\n",
    "    os.chdir(\"test1\")\n",
    "    print(f\"'test1' is already avaliable.. \\nmoving to:{os.getcwd()}\")"
   ]
  },
  {
   "cell_type": "code",
   "execution_count": 39,
   "id": "66b7dec5",
   "metadata": {},
   "outputs": [
    {
     "name": "stdout",
     "output_type": "stream",
     "text": [
      "'test2' is already avaliable.. \n",
      "moving to:D:\\iNeuron\\Python\\Task_related_to_PP5\\test1\\test2\n"
     ]
    }
   ],
   "source": [
    "# Creating Child directory as test\n",
    "if not os.path.isdir('test2'):\n",
    "    os.mkdir(\"test2\")\n",
    "    os.chdir('test2')\n",
    "    print(f\"'test2' directory is created.. \\ncurrent working directory is:\\n{os.getcwd()}\")\n",
    "else:\n",
    "    os.chdir(\"test2\")\n",
    "    print(f\"'test2' is already avaliable.. \\nmoving to:{os.getcwd()}\")"
   ]
  },
  {
   "cell_type": "code",
   "execution_count": 40,
   "id": "21b5dc62",
   "metadata": {},
   "outputs": [
    {
     "name": "stdout",
     "output_type": "stream",
     "text": [
      "module 1 is created..\n",
      "\n",
      "Function 1_1 is created..\n",
      "\n",
      "Function 1_2 is created..\n",
      "\n",
      "Function 1_3 is created..\n",
      "\n",
      "module 2 is created..\n",
      "\n",
      "Function 2_1 is created..\n",
      "\n",
      "Function 2_2 is created..\n",
      "\n",
      "Function 2_3 is created..\n",
      "\n",
      "module 3 is created..\n",
      "\n",
      "Function 3_1 is created..\n",
      "\n",
      "Function 3_2 is created..\n",
      "\n",
      "Function 3_3 is created..\n",
      "\n"
     ]
    }
   ],
   "source": [
    "# auto-generating modules using file manipulation..\n",
    "\n",
    "n = 4\n",
    "for i in range(1,n):\n",
    "    f = open(f\"mod{i}.py\",'w')\n",
    "    print(f\"module {i} is created..\\n\")\n",
    "    \n",
    "    for j in range(1,n):\n",
    "        \n",
    "        f.write(f\"\"\"\\ndef func{i}_{j}():\n",
    "    '''This is just an function which print its name..\n",
    "    this is function_{j} from module_{i}'''\n",
    "    a{i}_{j} = (\"This is function {j} in module {i}\")\n",
    "    return a{i}_{j}\\n\\n\"\"\")\n",
    "        \n",
    "        print(f\"Function {i}_{j} is created..\\n\")\n",
    "    f.close()\n",
    "    "
   ]
  },
  {
   "cell_type": "code",
   "execution_count": 41,
   "id": "879c5737",
   "metadata": {},
   "outputs": [],
   "source": [
    "os.chdir(\"D:\\\\iNeuron\\\\Python\\\\Task_related_to_PP5\\\\\")\n"
   ]
  },
  {
   "cell_type": "code",
   "execution_count": 42,
   "id": "28f8f71d",
   "metadata": {},
   "outputs": [
    {
     "data": {
      "text/plain": [
       "'D:\\\\iNeuron\\\\Python\\\\Task_related_to_PP5'"
      ]
     },
     "execution_count": 42,
     "metadata": {},
     "output_type": "execute_result"
    }
   ],
   "source": [
    "pwd()"
   ]
  },
  {
   "cell_type": "markdown",
   "id": "9eb22a5b",
   "metadata": {},
   "source": [
    "---\n",
    "# Exception Handling\n",
    "* Error in Python can be of two types i.e. Syntax errors and Exceptions. \n",
    "* Errors are the problems in a program due to which the program will stop the execution.\n",
    "* On the other hand, exceptions are raised when some internal events occur which changes the normal flow of the program. \n",
    "* **Exceptions**: Exceptions are raised when the program is syntactically correct, but the code resulted in an error. This error does not stop the execution of the program, however, it changes the normal flow of the program."
   ]
  },
  {
   "cell_type": "code",
   "execution_count": 43,
   "id": "8cffdca0",
   "metadata": {},
   "outputs": [],
   "source": [
    "def test(a,b):\n",
    "    return a/b"
   ]
  },
  {
   "cell_type": "code",
   "execution_count": 44,
   "id": "0bf558ef",
   "metadata": {},
   "outputs": [
    {
     "data": {
      "text/plain": [
       "3.0"
      ]
     },
     "execution_count": 44,
     "metadata": {},
     "output_type": "execute_result"
    }
   ],
   "source": [
    "test(6,2)"
   ]
  },
  {
   "cell_type": "code",
   "execution_count": 45,
   "id": "3b73e0ad",
   "metadata": {},
   "outputs": [
    {
     "name": "stdout",
     "output_type": "stream",
     "text": [
      "This is code after a function\n"
     ]
    }
   ],
   "source": [
    "test(5,1)\n",
    "print(\"This is code after a function\")"
   ]
  },
  {
   "cell_type": "code",
   "execution_count": 46,
   "id": "35cedea2",
   "metadata": {},
   "outputs": [],
   "source": [
    "# a = open(\"test.txt\",'r')"
   ]
  },
  {
   "cell_type": "markdown",
   "id": "e0f508c2",
   "metadata": {},
   "source": [
    "### Try and Except in Exception Handling\n",
    "\n",
    "* **Try:** A try statement can have more than one except clause, to specify handlers for different exceptions. Please note that at most one handler will be executed.\n"
   ]
  },
  {
   "cell_type": "code",
   "execution_count": 47,
   "id": "ccedd59d",
   "metadata": {},
   "outputs": [],
   "source": [
    "try:\n",
    "    a = open(\"test.txt\",'r')\n",
    "except:\n",
    "    print(\"There is some issue with my code\")"
   ]
  },
  {
   "cell_type": "code",
   "execution_count": 48,
   "id": "b03f7f89",
   "metadata": {},
   "outputs": [
    {
     "name": "stdout",
     "output_type": "stream",
     "text": [
      "There is some issue with my code that is: division by zero\n",
      "Now next part of code is ready to execute..\n",
      "Addition is: 54\n"
     ]
    }
   ],
   "source": [
    "\"\"\"Now here we can see that if any issue is occured with your code\n",
    "it will not going to stop execution of whole code, it will just try \n",
    "to print an error along with msg and move to rest of code..\"\"\"\n",
    "\n",
    "try:\n",
    "    a = 5/0\n",
    "except ArithmeticError as e:\n",
    "    print(f\"There is some issue with my code that is: {e}\")\n",
    "    \n",
    "    \n",
    "print(\"Now next part of code is ready to execute..\")\n",
    "a = 20\n",
    "b = 34\n",
    "print(\"Addition is:\",a+b)"
   ]
  },
  {
   "cell_type": "markdown",
   "id": "eb65f158",
   "metadata": {},
   "source": [
    "### Else Clause\n",
    "* In python, you can also use else clause on the try-except block which must be present after all the except clauses. The code enters the else block only if the try clause does not raise an exception.\n",
    " "
   ]
  },
  {
   "cell_type": "code",
   "execution_count": 49,
   "id": "6827d8e3",
   "metadata": {},
   "outputs": [
    {
     "name": "stdout",
     "output_type": "stream",
     "text": [
      "Enter 1st number:23\n",
      "Enter 2st number:0\n",
      "There is some issue with my code that is: division by zero\n"
     ]
    }
   ],
   "source": [
    "\"\"\"we can attach else block with your try and except block, that means\n",
    "if there is no any issue occured with your code, then your code will print else part..\"\"\"\n",
    "\n",
    "try:\n",
    "    a = int(input(\"Enter 1st number:\"))\n",
    "    b = int(input(\"Enter 2st number:\"))\n",
    "    c = a/b\n",
    "except ArithmeticError as e:\n",
    "    print(f\"There is some issue with my code that is: {e}\")\n",
    "    f = open(\"test.txt\",'w')\n",
    "else:\n",
    "    print(f\"\\nNow we are in else block, \\nthis will execute once try will execute with success: {c}\")\n",
    "    try:\n",
    "        f = open(\"test.txt\",'r')\n",
    "    except IOError as e:\n",
    "        print(\"\\nThis is an issue with internal try block:\",e)"
   ]
  },
  {
   "cell_type": "code",
   "execution_count": 50,
   "id": "5ad063e9",
   "metadata": {},
   "outputs": [],
   "source": [
    "# l = [2,34,45,22,12,65]\n",
    "# print(l[100])\n",
    "# t = (2,4,6,12,4,1,34,12)\n",
    "# print(t)\n",
    "# # t[0] = 23"
   ]
  },
  {
   "cell_type": "code",
   "execution_count": 51,
   "id": "3e41ab5c",
   "metadata": {},
   "outputs": [
    {
     "name": "stdout",
     "output_type": "stream",
     "text": [
      "There is something error in code..\n",
      "(2, 4, 6, 12, 4, 1, 34, 12)\n",
      "There is some sort of issue\n",
      "i.e 'tuple' object does not support item assignment\n"
     ]
    }
   ],
   "source": [
    "try:\n",
    "    l = [2,34,45,22,12,65]\n",
    "    l[100]\n",
    "except:\n",
    "    print(\"There is something error in code..\")\n",
    "    t = (2,4,6,12,4,1,34,12)\n",
    "    print(t)\n",
    "    try:\n",
    "        t[0] = 23\n",
    "        try:\n",
    "            list(t)\n",
    "            print(t)\n",
    "        except:\n",
    "            pass\n",
    "    except TypeError as e: \n",
    "        print(f\"There is some sort of issue\\ni.e {e}\")\n",
    "else:\n",
    "    print(\"There is no issue with code\")"
   ]
  },
  {
   "cell_type": "markdown",
   "id": "1c04530d",
   "metadata": {},
   "source": [
    "### Finally Keyword in Python\n",
    "* Python provides a keyword finally, which is always executed after try and except blocks. The finally block always executes after normal termination of try block or after try block terminates due to some exception."
   ]
  },
  {
   "cell_type": "code",
   "execution_count": 52,
   "id": "b8504442",
   "metadata": {},
   "outputs": [
    {
     "name": "stdout",
     "output_type": "stream",
     "text": [
      "finally i will execute in any case..\n",
      "12\n"
     ]
    }
   ],
   "source": [
    "# let's try exception handling using finally block\n",
    "\n",
    "try :\n",
    "    f = open(\"test1.txt\",'r')\n",
    "except:\n",
    "    pass\n",
    "\n",
    "finally:\n",
    "    print(\"finally i will execute in any case..\")\n",
    "    l = [2,4,65,12,23]\n",
    "    try:\n",
    "        print(l[3])\n",
    "    except:\n",
    "        pass"
   ]
  },
  {
   "cell_type": "code",
   "execution_count": 53,
   "id": "3744e43e",
   "metadata": {},
   "outputs": [
    {
     "name": "stdout",
     "output_type": "stream",
     "text": [
      "else will execute if try will execute with success\n",
      "finally i will execute in any case..\n",
      "12\n"
     ]
    }
   ],
   "source": [
    "'''if try is executed successfully. it will go to else block then \n",
    "finally block will be executed.'''\n",
    "\n",
    "try :\n",
    "    f = open(\"test1.txt\",'w')\n",
    "except:\n",
    "    pass\n",
    "\n",
    "else:\n",
    "    print(\"else will execute if try will execute with success\")\n",
    "\n",
    "finally:\n",
    "    print(\"finally i will execute in any case..\")\n",
    "    l = [2,4,65,12,23]\n",
    "    try:\n",
    "        print(l[3])\n",
    "    except:\n",
    "        pass\n"
   ]
  },
  {
   "cell_type": "code",
   "execution_count": 54,
   "id": "5b024d93",
   "metadata": {},
   "outputs": [
    {
     "data": {
      "text/plain": [
       "0.625"
      ]
     },
     "execution_count": 54,
     "metadata": {},
     "output_type": "execute_result"
    }
   ],
   "source": [
    "5/8"
   ]
  },
  {
   "cell_type": "code",
   "execution_count": 55,
   "id": "b8c9f334",
   "metadata": {},
   "outputs": [],
   "source": [
    "try :\n",
    "    f = open(\"test1.txt\",'r')\n",
    "except IOError as e:\n",
    "    print(f\"This is my error: {e}\")"
   ]
  },
  {
   "cell_type": "code",
   "execution_count": 56,
   "id": "635b4740",
   "metadata": {},
   "outputs": [],
   "source": [
    "def askforprint():\n",
    "    while True:\n",
    "        try:\n",
    "            a = int(input(\"Enter an integer: \"))\n",
    "        except Exception as e:\n",
    "            print(f\"\\nThis is my error msg:\\n{e}\")\n",
    "        else:\n",
    "            print(\"Person has entered a correct value:\",a)\n",
    "            break\n",
    "        finally:\n",
    "            print(\"\\nclose this issue\\n\")\n",
    "            \n",
    "            "
   ]
  },
  {
   "cell_type": "code",
   "execution_count": 57,
   "id": "ab3c9e7f",
   "metadata": {},
   "outputs": [
    {
     "name": "stdout",
     "output_type": "stream",
     "text": [
      "Enter an integer: 23\n",
      "Person has entered a correct value: 23\n",
      "\n",
      "close this issue\n",
      "\n"
     ]
    }
   ],
   "source": [
    "askforprint()"
   ]
  },
  {
   "cell_type": "code",
   "execution_count": 58,
   "id": "8716b13d",
   "metadata": {},
   "outputs": [],
   "source": [
    "def askforprint():\n",
    "    while True:\n",
    "        try:\n",
    "            a = int(input(\"Enter an integer: \"))\n",
    "        except FileNotFoundError as e:\n",
    "            print(f\"\\nThis is my error msg:\\n{e}\")\n",
    "        except IOError as e:\n",
    "            print(e)\n",
    "        except ValueError as e:\n",
    "            print(e)\n",
    "        else:\n",
    "            print(\"Person has entered a correct value:\",a)\n",
    "            break\n",
    "        finally:\n",
    "            print(\"\\nThis is Finally block.. close this issue\")"
   ]
  },
  {
   "cell_type": "code",
   "execution_count": 59,
   "id": "a4d276b2",
   "metadata": {},
   "outputs": [
    {
     "name": "stdout",
     "output_type": "stream",
     "text": [
      "Enter an integer: 12\n",
      "Person has entered a correct value: 12\n",
      "\n",
      "This is Finally block.. close this issue\n"
     ]
    }
   ],
   "source": [
    "askforprint()"
   ]
  },
  {
   "cell_type": "code",
   "execution_count": 60,
   "id": "cb92413f",
   "metadata": {},
   "outputs": [],
   "source": [
    "def askforprint():\n",
    "    while True:\n",
    "        try:\n",
    "            a = int(input(\"Enter an integer: \"))\n",
    "            c = 8/a\n",
    "        except FileNotFoundError as e:\n",
    "            print(f\"\\nThis is my error msg:\\n{e}\")\n",
    "        except IOError as e:\n",
    "            print(e)\n",
    "        except ValueError as e:\n",
    "            print(e)\n",
    "        except Exception as e:\n",
    "            print(\"This error is comes from parent class\",e)\n",
    "        except ArithmeticError as e:\n",
    "            print(\"This is an Arithmatic Error:\",e)\n",
    "            continue\n",
    "        except ZeroDivisionError as e:\n",
    "            print(e)\n",
    "        else:\n",
    "            print(\"Person has entered a correct value:\",a)\n",
    "            break\n",
    "        finally:\n",
    "            print(\"\\nThis is Finally block.. close this issue\")"
   ]
  },
  {
   "cell_type": "code",
   "execution_count": 61,
   "id": "63b8091d",
   "metadata": {},
   "outputs": [
    {
     "name": "stdout",
     "output_type": "stream",
     "text": [
      "Enter an integer: 34\n",
      "Person has entered a correct value: 34\n",
      "\n",
      "This is Finally block.. close this issue\n"
     ]
    }
   ],
   "source": [
    "askforprint()"
   ]
  },
  {
   "cell_type": "markdown",
   "id": "d3de9e28",
   "metadata": {},
   "source": [
    "---\n",
    "* **LBYP: Look Before You Leap**\n",
    "    * It contains IF...ELSE kind of statements\n",
    "* **EAFP: Easier to Ask for Forgiveness before Permission**\n",
    "    * It contains TRY..CATCH kind of statements\n",
    "---"
   ]
  },
  {
   "cell_type": "markdown",
   "id": "316bd5bc",
   "metadata": {},
   "source": [
    "# User defined custom exception"
   ]
  },
  {
   "cell_type": "markdown",
   "id": "3f2f6491",
   "metadata": {},
   "source": [
    "### Raising Exception\n",
    "* The raise statement allows the programmer to force a specific exception to occur. The sole argument in raise indicates the exception to be raised. This must be either an exception instance or an exception class (a class that derives from Exception).\n",
    "* using **raise** keyword, you can create your own custom exception.. following code explains how to create own exception."
   ]
  },
  {
   "cell_type": "code",
   "execution_count": 62,
   "id": "583ad948",
   "metadata": {},
   "outputs": [],
   "source": [
    "def create_your_exception(a):\n",
    "    if a == 6:\n",
    "        raise Exception(f\"you entered a value '{a}' is cause to raise exception.\",a)\n",
    "    return a"
   ]
  },
  {
   "cell_type": "code",
   "execution_count": 63,
   "id": "049e6ed2",
   "metadata": {
    "scrolled": true
   },
   "outputs": [],
   "source": [
    "# create_your_exception(6)"
   ]
  },
  {
   "cell_type": "code",
   "execution_count": 64,
   "id": "6ae6b17e",
   "metadata": {},
   "outputs": [
    {
     "name": "stdout",
     "output_type": "stream",
     "text": [
      "(\"you entered a value '6' is cause to raise exception.\", 6)\n"
     ]
    }
   ],
   "source": [
    "try:\n",
    "    create_your_exception(6)\n",
    "except Exception as e:\n",
    "    print(e)"
   ]
  },
  {
   "cell_type": "code",
   "execution_count": 65,
   "id": "d47e4359",
   "metadata": {},
   "outputs": [],
   "source": [
    "def create_your_exception(a):\n",
    "    if a > 6:\n",
    "        raise Exception(f\"you entered a value '{a}' is cause to raise exception.\",a)\n",
    "    else:\n",
    "        print('Input is fine')\n",
    "    return a"
   ]
  },
  {
   "cell_type": "code",
   "execution_count": 66,
   "id": "c911f97b",
   "metadata": {},
   "outputs": [
    {
     "name": "stdout",
     "output_type": "stream",
     "text": [
      "(\"you entered a value '10' is cause to raise exception.\", 10)\n"
     ]
    }
   ],
   "source": [
    "try:\n",
    "    create_your_exception(10)\n",
    "except Exception as e:\n",
    "    print(e)"
   ]
  },
  {
   "cell_type": "markdown",
   "id": "213804cc",
   "metadata": {},
   "source": [
    "---\n",
    "### Quick Quiz\n",
    "1. create dir test2\n",
    "    1. create a module mod1.py and inside create a function even_num() which can print all the even numbers.\n",
    "2. Create a notebook in this dir. from this notebook, call even_num() and print all the even values.\n",
    "3. take input from user and try to handle all the edge cases.\n",
    "4. try to log all the errors"
   ]
  },
  {
   "cell_type": "code",
   "execution_count": 67,
   "id": "0f690ef2",
   "metadata": {},
   "outputs": [],
   "source": [
    "import os\n",
    "import logging as lg"
   ]
  },
  {
   "cell_type": "code",
   "execution_count": 68,
   "id": "9ca0c504",
   "metadata": {},
   "outputs": [
    {
     "name": "stdout",
     "output_type": "stream",
     "text": [
      "D:\\iNeuron\\Python\\Task_related_to_PP5\n",
      "D:\\iNeuron\\Python\\Task_related_to_PP5\n"
     ]
    }
   ],
   "source": [
    "print(os.getcwd())\n",
    "os.chdir(\"D:\\\\iNeuron\\\\Python\\\\Task_related_to_PP5\")\n",
    "print(os.getcwd())"
   ]
  },
  {
   "cell_type": "code",
   "execution_count": 69,
   "id": "0bd96244",
   "metadata": {},
   "outputs": [
    {
     "name": "stdout",
     "output_type": "stream",
     "text": [
      "[WinError 183] Cannot create a file when that file already exists: 'testdir2'\n",
      "current working dir is: D:\\iNeuron\\Python\\Task_related_to_PP5\\testdir2\n"
     ]
    }
   ],
   "source": [
    "try:\n",
    "    os.mkdir(\"testdir2\")\n",
    "except Exception as e:\n",
    "    print(e)\n",
    "    os.chdir('testdir2')\n",
    "    lg.basicConfig(filename = 'logs.log', level = lg.ERROR, format = \"%(name)s - %(asctime)s - %(levelname)s %(message)s\")\n",
    "    print(f\"current working dir is: {os.getcwd()}\")\n",
    "else:\n",
    "    os.chdir(\"testdir2\")\n",
    "    lg.basicConfig(filename = 'logs.log', level = lg.ERROR, format = \"%(name)s - %(asctime)s - %(levelname)s %(message)s\")\n",
    "    print(f\"current working dir is: {os.getcwd()}\")"
   ]
  },
  {
   "cell_type": "code",
   "execution_count": 76,
   "id": "551c9e95",
   "metadata": {},
   "outputs": [],
   "source": [
    "f = open(\"mod1.py\",'w')"
   ]
  },
  {
   "cell_type": "code",
   "execution_count": 77,
   "id": "185ee430",
   "metadata": {},
   "outputs": [],
   "source": [
    "f.write(\"\"\"import logging as lg\n",
    "def even_num(num):\n",
    "    lg.error(f\"Input is: {num}\")\n",
    "    l=[]\n",
    "    for i in range(num):\n",
    "        if i%2 == 0:\n",
    "            l.append(i)\n",
    "    return l\n",
    "\"\"\")\n",
    "f.close()"
   ]
  },
  {
   "cell_type": "code",
   "execution_count": 78,
   "id": "8cdee036",
   "metadata": {},
   "outputs": [],
   "source": [
    "from Task_related_to_PP5.testdir2 import mod1"
   ]
  },
  {
   "cell_type": "code",
   "execution_count": 79,
   "id": "ea35932b",
   "metadata": {},
   "outputs": [
    {
     "name": "stdout",
     "output_type": "stream",
     "text": [
      "Enter a number:dfsa\n",
      "There is some issue with code:\n",
      "invalid literal for int() with base 10: 'dfsa'\n",
      "Enter a number:sdf\n",
      "There is some issue with code:\n",
      "invalid literal for int() with base 10: 'sdf'\n",
      "Enter a number:23\n",
      "This is the output: [0, 2, 4, 6, 8, 10, 12, 14, 16, 18, 20, 22]\n"
     ]
    }
   ],
   "source": [
    "while True:\n",
    "    try:\n",
    "        num = int(input(\"Enter a number:\"))\n",
    "        print(f\"This is the output: {mod1.even_num(num+1)}\")\n",
    "    except Exception as e:\n",
    "        print(f\"There is some issue with code:\\n{e}\")\n",
    "    else:\n",
    "        break"
   ]
  },
  {
   "cell_type": "code",
   "execution_count": null,
   "id": "8e0dafd5",
   "metadata": {},
   "outputs": [],
   "source": []
  },
  {
   "cell_type": "code",
   "execution_count": null,
   "id": "c19a6346",
   "metadata": {},
   "outputs": [],
   "source": []
  }
 ],
 "metadata": {
  "kernelspec": {
   "display_name": "Python 3",
   "language": "python",
   "name": "python3"
  },
  "language_info": {
   "codemirror_mode": {
    "name": "ipython",
    "version": 3
   },
   "file_extension": ".py",
   "mimetype": "text/x-python",
   "name": "python",
   "nbconvert_exporter": "python",
   "pygments_lexer": "ipython3",
   "version": "3.7.9"
  }
 },
 "nbformat": 4,
 "nbformat_minor": 5
}
