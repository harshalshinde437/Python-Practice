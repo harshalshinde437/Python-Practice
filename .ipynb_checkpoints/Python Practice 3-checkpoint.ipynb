{
 "cells": [
  {
   "cell_type": "markdown",
   "id": "e67b9404",
   "metadata": {},
   "source": [
    "# 21st March Live Class\n",
    "---\n",
    "## Python Functions"
   ]
  },
  {
   "cell_type": "code",
   "execution_count": 1,
   "id": "9d789881",
   "metadata": {},
   "outputs": [
    {
     "data": {
      "text/plain": [
       "34"
      ]
     },
     "execution_count": 1,
     "metadata": {},
     "output_type": "execute_result"
    }
   ],
   "source": [
    "a = 13\n",
    "b = 21\n",
    "a+b"
   ]
  },
  {
   "cell_type": "code",
   "execution_count": 2,
   "id": "c55113dd",
   "metadata": {},
   "outputs": [],
   "source": [
    "def add(x=0,y=0):\n",
    "    '''you can add two numbers by giving two numerical values(x,y)'''\n",
    "    print (x+y) # we dont allowed to use print with in production"
   ]
  },
  {
   "cell_type": "code",
   "execution_count": 3,
   "id": "9294b98c",
   "metadata": {},
   "outputs": [
    {
     "name": "stdout",
     "output_type": "stream",
     "text": [
      "44\n"
     ]
    },
    {
     "data": {
      "text/plain": [
       "NoneType"
      ]
     },
     "execution_count": 3,
     "metadata": {},
     "output_type": "execute_result"
    }
   ],
   "source": [
    "type(add(32,12))"
   ]
  },
  {
   "cell_type": "code",
   "execution_count": 4,
   "id": "05fde345",
   "metadata": {},
   "outputs": [
    {
     "name": "stdout",
     "output_type": "stream",
     "text": [
      "222\n"
     ]
    }
   ],
   "source": [
    "add(-12,234)"
   ]
  },
  {
   "cell_type": "code",
   "execution_count": 5,
   "id": "7f0504d5",
   "metadata": {},
   "outputs": [],
   "source": [
    "def test(b,m):\n",
    "    return b*m"
   ]
  },
  {
   "cell_type": "code",
   "execution_count": 6,
   "id": "e0ccd57b",
   "metadata": {},
   "outputs": [
    {
     "data": {
      "text/plain": [
       "10"
      ]
     },
     "execution_count": 6,
     "metadata": {},
     "output_type": "execute_result"
    }
   ],
   "source": [
    "test(2,3)+4"
   ]
  },
  {
   "cell_type": "code",
   "execution_count": 7,
   "id": "32286ea7",
   "metadata": {},
   "outputs": [],
   "source": [
    "a = test(23,34)"
   ]
  },
  {
   "cell_type": "code",
   "execution_count": 8,
   "id": "a3c85fcb",
   "metadata": {},
   "outputs": [
    {
     "name": "stdout",
     "output_type": "stream",
     "text": [
      "57\n"
     ]
    }
   ],
   "source": [
    "b = add(23,34)"
   ]
  },
  {
   "cell_type": "code",
   "execution_count": 9,
   "id": "0db012ce",
   "metadata": {},
   "outputs": [
    {
     "data": {
      "text/plain": [
       "int"
      ]
     },
     "execution_count": 9,
     "metadata": {},
     "output_type": "execute_result"
    }
   ],
   "source": [
    "type(a)"
   ]
  },
  {
   "cell_type": "code",
   "execution_count": 10,
   "id": "1324359c",
   "metadata": {},
   "outputs": [
    {
     "data": {
      "text/plain": [
       "NoneType"
      ]
     },
     "execution_count": 10,
     "metadata": {},
     "output_type": "execute_result"
    }
   ],
   "source": [
    "type(b)"
   ]
  },
  {
   "cell_type": "code",
   "execution_count": 11,
   "id": "05a98696",
   "metadata": {},
   "outputs": [],
   "source": [
    "def test2(t,n,m):\n",
    "    return t + n "
   ]
  },
  {
   "cell_type": "code",
   "execution_count": 12,
   "id": "533c95d0",
   "metadata": {},
   "outputs": [],
   "source": [
    "# test2(2,8)\n",
    "# this will gives an error because we didn't passed 3rd argument"
   ]
  },
  {
   "cell_type": "code",
   "execution_count": 13,
   "id": "bc8ae9af",
   "metadata": {},
   "outputs": [],
   "source": [
    "def test3(n,m):\n",
    "    return n*10, m*40,m+n"
   ]
  },
  {
   "cell_type": "code",
   "execution_count": 14,
   "id": "27dd31db",
   "metadata": {},
   "outputs": [],
   "source": [
    "c = test3(5,4)"
   ]
  },
  {
   "cell_type": "code",
   "execution_count": 15,
   "id": "fea1c17e",
   "metadata": {},
   "outputs": [
    {
     "name": "stdout",
     "output_type": "stream",
     "text": [
      "Value of c[0] = 50\n",
      "Value of c[1] = 160\n",
      "Value of c[2] = 9\n"
     ]
    }
   ],
   "source": [
    "print(f\"Value of c[0] = {c[0]}\\nValue of c[1] = {c[1]}\\nValue of c[2] = {c[2]}\")"
   ]
  },
  {
   "cell_type": "code",
   "execution_count": 16,
   "id": "b5b96175",
   "metadata": {},
   "outputs": [
    {
     "data": {
      "text/plain": [
       "tuple"
      ]
     },
     "execution_count": 16,
     "metadata": {},
     "output_type": "execute_result"
    }
   ],
   "source": [
    "type(test3(3,2))\n",
    "# when function have to return a multiple value, then it will give you in form of tuple"
   ]
  },
  {
   "cell_type": "code",
   "execution_count": 17,
   "id": "db7b2fd1",
   "metadata": {},
   "outputs": [
    {
     "name": "stdout",
     "output_type": "stream",
     "text": [
      "Value of c: 20\n",
      "Value of x: 240\n",
      "Value of v: 8\n"
     ]
    }
   ],
   "source": [
    "# now i want those 3 values in 3 different variable, how can i get?\n",
    "c,x,v = test3(2,6)\n",
    "print(f\"Value of c: {c}\\nValue of x: {x}\\nValue of v: {v}\")"
   ]
  },
  {
   "cell_type": "code",
   "execution_count": 18,
   "id": "2cf34136",
   "metadata": {},
   "outputs": [],
   "source": [
    "def test4():\n",
    "    return(\"This is my function \")"
   ]
  },
  {
   "cell_type": "code",
   "execution_count": 19,
   "id": "952e6539",
   "metadata": {},
   "outputs": [],
   "source": [
    "a = test4()"
   ]
  },
  {
   "cell_type": "code",
   "execution_count": 20,
   "id": "578b8141",
   "metadata": {},
   "outputs": [
    {
     "data": {
      "text/plain": [
       "'This is my function hahahahaha'"
      ]
     },
     "execution_count": 20,
     "metadata": {},
     "output_type": "execute_result"
    }
   ],
   "source": [
    "a + 'hahahahaha'"
   ]
  },
  {
   "cell_type": "code",
   "execution_count": 21,
   "id": "9b04c278",
   "metadata": {},
   "outputs": [],
   "source": [
    "def test5():\n",
    "    print(\"This is my function \")"
   ]
  },
  {
   "cell_type": "code",
   "execution_count": 22,
   "id": "70ebe5eb",
   "metadata": {},
   "outputs": [
    {
     "name": "stdout",
     "output_type": "stream",
     "text": [
      "This is my function \n"
     ]
    }
   ],
   "source": [
    "a = test5()"
   ]
  },
  {
   "cell_type": "code",
   "execution_count": 23,
   "id": "4ba9571a",
   "metadata": {},
   "outputs": [
    {
     "name": "stdout",
     "output_type": "stream",
     "text": [
      "This will try to give an error..\n",
      "TypeError: unsupported operand type(s) for +: 'NoneType' and 'str' \n"
     ]
    }
   ],
   "source": [
    "# a + 'hahahaha'\n",
    "print(\"\"\"This will try to give an error..\n",
    "TypeError: unsupported operand type(s) for +: 'NoneType' and 'str' \"\"\")"
   ]
  },
  {
   "cell_type": "code",
   "execution_count": 24,
   "id": "fa73100c",
   "metadata": {},
   "outputs": [],
   "source": [
    "# if we are try to give an list as an arguments..\n",
    "def test6(n):\n",
    "    return n*2"
   ]
  },
  {
   "cell_type": "code",
   "execution_count": 25,
   "id": "94641e09",
   "metadata": {},
   "outputs": [
    {
     "data": {
      "text/plain": [
       "[23, 34, 54, 23, 34, 54]"
      ]
     },
     "execution_count": 25,
     "metadata": {},
     "output_type": "execute_result"
    }
   ],
   "source": [
    "test6([23,34,54])"
   ]
  },
  {
   "cell_type": "code",
   "execution_count": 26,
   "id": "1a835dc6",
   "metadata": {},
   "outputs": [],
   "source": [
    "def test7(n):\n",
    "    return n,n*3"
   ]
  },
  {
   "cell_type": "code",
   "execution_count": 27,
   "id": "c2fe6f74",
   "metadata": {},
   "outputs": [],
   "source": [
    "b = test7([12,23,45])  "
   ]
  },
  {
   "cell_type": "code",
   "execution_count": 28,
   "id": "05424a48",
   "metadata": {},
   "outputs": [
    {
     "data": {
      "text/plain": [
       "[12, 23, 45]"
      ]
     },
     "execution_count": 28,
     "metadata": {},
     "output_type": "execute_result"
    }
   ],
   "source": [
    "b[0]"
   ]
  },
  {
   "cell_type": "code",
   "execution_count": 29,
   "id": "4381d3a9",
   "metadata": {},
   "outputs": [
    {
     "data": {
      "text/plain": [
       "[12, 23, 45, 12, 23, 45, 12, 23, 45]"
      ]
     },
     "execution_count": 29,
     "metadata": {},
     "output_type": "execute_result"
    }
   ],
   "source": [
    "b[1]"
   ]
  },
  {
   "cell_type": "code",
   "execution_count": 30,
   "id": "59cb4f73",
   "metadata": {},
   "outputs": [
    {
     "data": {
      "text/plain": [
       "(23, 69)"
      ]
     },
     "execution_count": 30,
     "metadata": {},
     "output_type": "execute_result"
    }
   ],
   "source": [
    "test7(23)"
   ]
  },
  {
   "cell_type": "code",
   "execution_count": 31,
   "id": "e47033ec",
   "metadata": {},
   "outputs": [],
   "source": [
    "# we can set default value to the parameter aso\n",
    "def test8(n,m=10):\n",
    "    return n+m"
   ]
  },
  {
   "cell_type": "code",
   "execution_count": 32,
   "id": "f65ed69d",
   "metadata": {},
   "outputs": [
    {
     "data": {
      "text/plain": [
       "13"
      ]
     },
     "execution_count": 32,
     "metadata": {},
     "output_type": "execute_result"
    }
   ],
   "source": [
    "test8(9,4)"
   ]
  },
  {
   "cell_type": "code",
   "execution_count": 33,
   "id": "c3c064a2",
   "metadata": {},
   "outputs": [],
   "source": [
    "def boolx(x=True,y=False):\n",
    "    return x + y"
   ]
  },
  {
   "cell_type": "code",
   "execution_count": 34,
   "id": "7f51a571",
   "metadata": {},
   "outputs": [
    {
     "data": {
      "text/plain": [
       "1"
      ]
     },
     "execution_count": 34,
     "metadata": {},
     "output_type": "execute_result"
    }
   ],
   "source": [
    "boolx()"
   ]
  },
  {
   "cell_type": "code",
   "execution_count": 35,
   "id": "847e6ca4",
   "metadata": {},
   "outputs": [
    {
     "data": {
      "text/plain": [
       "0"
      ]
     },
     "execution_count": 35,
     "metadata": {},
     "output_type": "execute_result"
    }
   ],
   "source": [
    " boolx(False)"
   ]
  },
  {
   "cell_type": "code",
   "execution_count": 36,
   "id": "213512c5",
   "metadata": {},
   "outputs": [
    {
     "data": {
      "text/plain": [
       "8"
      ]
     },
     "execution_count": 36,
     "metadata": {},
     "output_type": "execute_result"
    }
   ],
   "source": [
    "boolx(False,8)"
   ]
  },
  {
   "cell_type": "code",
   "execution_count": 37,
   "id": "a2d5cbb0",
   "metadata": {},
   "outputs": [],
   "source": [
    "def travel(bike =True , car = False):\n",
    "    plan_travel = bike or car\n",
    "    return bike , car , plan_travel"
   ]
  },
  {
   "cell_type": "code",
   "execution_count": 38,
   "id": "4f76a60d",
   "metadata": {},
   "outputs": [
    {
     "data": {
      "text/plain": [
       "(True, False, True)"
      ]
     },
     "execution_count": 38,
     "metadata": {},
     "output_type": "execute_result"
    }
   ],
   "source": [
    "travel()"
   ]
  },
  {
   "cell_type": "code",
   "execution_count": 39,
   "id": "a25e8f54",
   "metadata": {},
   "outputs": [
    {
     "data": {
      "text/plain": [
       "(False, False, False)"
      ]
     },
     "execution_count": 39,
     "metadata": {},
     "output_type": "execute_result"
    }
   ],
   "source": [
    "travel(False)"
   ]
  },
  {
   "cell_type": "code",
   "execution_count": 40,
   "id": "8f3aeabd",
   "metadata": {},
   "outputs": [
    {
     "data": {
      "text/plain": [
       "(True, True, True)"
      ]
     },
     "execution_count": 40,
     "metadata": {},
     "output_type": "execute_result"
    }
   ],
   "source": [
    "# how to pass a one argument for second variable, for first variable it have to set default value\n",
    "\n",
    "travel(car = True)"
   ]
  },
  {
   "cell_type": "code",
   "execution_count": 41,
   "id": "2b811307",
   "metadata": {},
   "outputs": [
    {
     "data": {
      "text/plain": [
       "(False, True, True)"
      ]
     },
     "execution_count": 41,
     "metadata": {},
     "output_type": "execute_result"
    }
   ],
   "source": [
    "travel(False,True)"
   ]
  },
  {
   "cell_type": "code",
   "execution_count": 42,
   "id": "408212c8",
   "metadata": {},
   "outputs": [],
   "source": [
    "def test9(*args):\n",
    "    return args"
   ]
  },
  {
   "cell_type": "code",
   "execution_count": 43,
   "id": "a276ff23",
   "metadata": {},
   "outputs": [],
   "source": [
    "b=test9('harshalshininde','ineuron',23,[2,4,5,6])"
   ]
  },
  {
   "cell_type": "code",
   "execution_count": 44,
   "id": "8a089b91",
   "metadata": {},
   "outputs": [
    {
     "data": {
      "text/plain": [
       "('harshalshininde', 'ineuron', 23, [2, 4, 5, 6])"
      ]
     },
     "execution_count": 44,
     "metadata": {},
     "output_type": "execute_result"
    }
   ],
   "source": [
    "b"
   ]
  },
  {
   "cell_type": "markdown",
   "id": "3e4f7471",
   "metadata": {},
   "source": [
    "### Quick Quiz\n",
    "* Create a function which will take any no of values and 'return' a concatination of all list\n"
   ]
  },
  {
   "cell_type": "code",
   "execution_count": 45,
   "id": "a1688b02",
   "metadata": {},
   "outputs": [],
   "source": [
    "def qq2(*args):\n",
    "    l1=[]\n",
    "    for i in args:\n",
    "        if type(i) == list:\n",
    "            l1.extend(i)\n",
    "    return l1"
   ]
  },
  {
   "cell_type": "code",
   "execution_count": 46,
   "id": "f2431e60",
   "metadata": {},
   "outputs": [
    {
     "data": {
      "text/plain": [
       "[23, 34, 65, 23, 1, 4, 6, 8, 'harsh', 23, 45, 8, 9, 0]"
      ]
     },
     "execution_count": 46,
     "metadata": {},
     "output_type": "execute_result"
    }
   ],
   "source": [
    "qq2([23,34,65,23],[1,4,6,8],['harsh',23,45],[8,9,0],7,23)"
   ]
  },
  {
   "cell_type": "code",
   "execution_count": 47,
   "id": "f80e3dc9",
   "metadata": {},
   "outputs": [],
   "source": [
    "# This is a correct solution\n",
    "def qq1(*args):\n",
    "    l=[]\n",
    "    for i in args:\n",
    "        l = l + i\n",
    "    return l"
   ]
  },
  {
   "cell_type": "code",
   "execution_count": 48,
   "id": "e9a22e3d",
   "metadata": {},
   "outputs": [
    {
     "data": {
      "text/plain": [
       "[23, 34, 65, 23, 1, 4, 6, 8, 'harsh', 23, 45, 8, 9, 0]"
      ]
     },
     "execution_count": 48,
     "metadata": {},
     "output_type": "execute_result"
    }
   ],
   "source": [
    "qq1([23,34,65,23],[1,4,6,8],['harsh',23,45],[8,9,0])"
   ]
  },
  {
   "cell_type": "code",
   "execution_count": 49,
   "id": "b22a5338",
   "metadata": {},
   "outputs": [],
   "source": [
    "def qq(*args):\n",
    "    return [i for i in args]"
   ]
  },
  {
   "cell_type": "code",
   "execution_count": 50,
   "id": "5de2fa8f",
   "metadata": {},
   "outputs": [
    {
     "data": {
      "text/plain": [
       "[[23, 34, 65, 23], [1, 4, 6, 8], ['harsh', 23, 45], [8, 9, 0]]"
      ]
     },
     "execution_count": 50,
     "metadata": {},
     "output_type": "execute_result"
    }
   ],
   "source": [
    "qq([23,34,65,23],[1,4,6,8],['harsh',23,45],[8,9,0])"
   ]
  },
  {
   "cell_type": "markdown",
   "id": "e4770ea6",
   "metadata": {},
   "source": [
    "---\n",
    "****kwargs** : (keyword argument) \n",
    "* we can provide n number of data in a (\"Key\" : \"Value\") form\n",
    "* It try to return a data in form of dictionary"
   ]
  },
  {
   "cell_type": "code",
   "execution_count": 51,
   "id": "859a26a1",
   "metadata": {},
   "outputs": [],
   "source": [
    "def test10(**kwargs):\n",
    "    return kwargs"
   ]
  },
  {
   "cell_type": "code",
   "execution_count": 52,
   "id": "0f0744b0",
   "metadata": {},
   "outputs": [
    {
     "name": "stdout",
     "output_type": "stream",
     "text": [
      "This thing will give an error becasue we pass the 3 argument, but not in form of 'Key:Value'pair..\n",
      "This will give you TypeError:-\n",
      "\"TypeError: test10() takes 0 positional arguments but 3 were given\" \n"
     ]
    }
   ],
   "source": [
    "# test10(12,34,12)\n",
    "print(\"\"\"This thing will give an error becasue we pass the 3 argument, but not in form of 'Key:Value'pair..\n",
    "This will give you TypeError:-\n",
    "\"TypeError: test10() takes 0 positional arguments but 3 were given\" \"\"\")"
   ]
  },
  {
   "cell_type": "code",
   "execution_count": 53,
   "id": "98cd1bd9",
   "metadata": {},
   "outputs": [
    {
     "data": {
      "text/plain": [
       "dict"
      ]
     },
     "execution_count": 53,
     "metadata": {},
     "output_type": "execute_result"
    }
   ],
   "source": [
    "type(test10(a=14,b=14,c=52,d={'a': 14, 'b': 14, 'c': 52}))"
   ]
  },
  {
   "cell_type": "code",
   "execution_count": 54,
   "id": "dad62c75",
   "metadata": {},
   "outputs": [],
   "source": [
    "def test11(*args):\n",
    "    return args"
   ]
  },
  {
   "cell_type": "code",
   "execution_count": 55,
   "id": "25d57d62",
   "metadata": {},
   "outputs": [
    {
     "data": {
      "text/plain": [
       "(2, 45, 'Harsh', 23, [23, 5, 2, 0])"
      ]
     },
     "execution_count": 55,
     "metadata": {},
     "output_type": "execute_result"
    }
   ],
   "source": [
    "test11(2,45,'Harsh',23,[23,5,2,0])"
   ]
  },
  {
   "cell_type": "markdown",
   "id": "8ceb69f2",
   "metadata": {},
   "source": [
    "---\n",
    "### Quick Quizz\n",
    "1. Create a function to take any number of a mixed data and try to create a list of seperate data based on data type and return multiple result.\n",
    "2. Create a function which will be able to use *args and *kwargs and it will be able to do all the list value concatination and return a list."
   ]
  },
  {
   "cell_type": "code",
   "execution_count": 56,
   "id": "b28db2db",
   "metadata": {},
   "outputs": [],
   "source": [
    "def fun1(*args,**kwargs):\n",
    "    dt={}\n",
    "    for i in args:\n",
    "        if type(i) in dt:\n",
    "            dt[type(i)].append(i)\n",
    "        else:\n",
    "            dt[type(i)] = [i]\n",
    "            \n",
    "    for i in kwargs:\n",
    "        if type(i) in dt:\n",
    "            dt[type(i)].append(i)\n",
    "        else:\n",
    "            dt[type(i)] = [i]\n",
    "\n",
    "    return dt\n",
    "\n",
    "def fun2(*args, **kwargs):\n",
    "    l = []\n",
    "    for i in args:\n",
    "        if type(i) == list:\n",
    "            l.extend(i)\n",
    "    d = []\n",
    "    for j in kwargs.items():\n",
    "        if type(j)==list:\n",
    "            d.append(j)\n",
    "    return l,d"
   ]
  },
  {
   "cell_type": "code",
   "execution_count": 57,
   "id": "ad3ca941",
   "metadata": {},
   "outputs": [
    {
     "data": {
      "text/plain": [
       "{str: ['Harshal', 'Shinde'],\n",
       " int: [12, 34],\n",
       " list: [[12, 4, 5, 6], [243, 3, 21, 1]],\n",
       " float: [2.23, 19.4],\n",
       " tuple: [(2, 8, 1, 2)],\n",
       " bool: [True],\n",
       " complex: [(2+4j)]}"
      ]
     },
     "execution_count": 57,
     "metadata": {},
     "output_type": "execute_result"
    }
   ],
   "source": [
    "fun1('Harshal',12,34,[12,4,5,6],2.23,'Shinde',[243,3,21,1],(2,8,1,2),True,2+4j,19.4,)"
   ]
  },
  {
   "cell_type": "code",
   "execution_count": 58,
   "id": "f68161cf",
   "metadata": {},
   "outputs": [
    {
     "data": {
      "text/plain": [
       "([23, 2, 4, 56, 2, 5, 8, 2], [])"
      ]
     },
     "execution_count": 58,
     "metadata": {},
     "output_type": "execute_result"
    }
   ],
   "source": [
    "fun2([23,2,4,56],[2,5,8,2],3,4,5,6,d=[23,4,6,2],a=3,b=6,c=\"harshal\")"
   ]
  },
  {
   "cell_type": "markdown",
   "id": "e6f70966",
   "metadata": {},
   "source": [
    "---"
   ]
  },
  {
   "cell_type": "code",
   "execution_count": 59,
   "id": "55a7b880",
   "metadata": {},
   "outputs": [],
   "source": [
    "def test12(**kwargs):\n",
    "    return kwargs"
   ]
  },
  {
   "cell_type": "code",
   "execution_count": 60,
   "id": "855093e3",
   "metadata": {},
   "outputs": [
    {
     "data": {
      "text/plain": [
       "{'b': 12, 'c': 144, 'd': 10, 'a': 92}"
      ]
     },
     "execution_count": 60,
     "metadata": {},
     "output_type": "execute_result"
    }
   ],
   "source": [
    "test12(b=12,c=144,d=10,a=92)"
   ]
  },
  {
   "cell_type": "code",
   "execution_count": 61,
   "id": "b4a7d143",
   "metadata": {},
   "outputs": [],
   "source": [
    "def test12(**kwargs):\n",
    "    for i in kwargs.items():\n",
    "        if type(i[1]) == list:\n",
    "            if \"harshal\" in i[1]:\n",
    "                a=(f\"{i[1]} your name is avaliable inside list\")\n",
    "    return a"
   ]
  },
  {
   "cell_type": "code",
   "execution_count": 62,
   "id": "e976d1be",
   "metadata": {},
   "outputs": [
    {
     "data": {
      "text/plain": [
       "\"['harshal', 'shinde', 10.3] your name is avaliable inside list\""
      ]
     },
     "execution_count": 62,
     "metadata": {},
     "output_type": "execute_result"
    }
   ],
   "source": [
    "test12(b=6,c=[2,5,6.12,34],d=['harshal','shinde',10.3],n=6+4j)"
   ]
  },
  {
   "cell_type": "markdown",
   "id": "ada3c535",
   "metadata": {},
   "source": [
    "---\n",
    "# 3rd April Live Class\n",
    "### Continue on functions"
   ]
  },
  {
   "cell_type": "code",
   "execution_count": 63,
   "id": "c531c82b",
   "metadata": {},
   "outputs": [],
   "source": [
    "def test(**kwargs):\n",
    "    print(kwargs.items())"
   ]
  },
  {
   "cell_type": "code",
   "execution_count": 64,
   "id": "a7f4184e",
   "metadata": {},
   "outputs": [
    {
     "name": "stdout",
     "output_type": "stream",
     "text": [
      "dict_items([('a', 'test'), ('b', 23), ('c', 34.12), ('d', [2, 5, 1, 0])])\n"
     ]
    }
   ],
   "source": [
    "test(a='test',b=23,c=34.12,d=[2,5,1,0])"
   ]
  },
  {
   "cell_type": "markdown",
   "id": "910c8034",
   "metadata": {},
   "source": [
    "---\n",
    "### Lmabda Function / Anonymous function\n",
    "* Python anonymous functions are also known as **Lambda function.** The keyword used is **lambda** and they are written in one line and it can have only one expression. These functions don’t need to be defined or named and they are for one-time usage.\n",
    "* Python Lambda function is a one-liner function with no name & used for a one-time task.\n",
    "* One-time tasks like performing arithmetic operations, sorting names, loops, etc.\n",
    "* It makes the code really small but the code becomes less readable as lambda is an advanced feature."
   ]
  },
  {
   "cell_type": "code",
   "execution_count": 65,
   "id": "d30df89a",
   "metadata": {},
   "outputs": [],
   "source": [
    "def test(name, mail_id):\n",
    "    con = name + mail_id\n",
    "    return mail_id, name, con"
   ]
  },
  {
   "cell_type": "code",
   "execution_count": 66,
   "id": "e9758a6f",
   "metadata": {},
   "outputs": [
    {
     "data": {
      "text/plain": [
       "('@gmail.com', 'harshalshinde', 'harshalshinde@gmail.com')"
      ]
     },
     "execution_count": 66,
     "metadata": {},
     "output_type": "execute_result"
    }
   ],
   "source": [
    "test('harshalshinde','@gmail.com')"
   ]
  },
  {
   "cell_type": "code",
   "execution_count": 67,
   "id": "4bfa9aa1",
   "metadata": {},
   "outputs": [],
   "source": [
    "a = 10\n",
    "b = 20\n",
    "\n",
    "def test1(x,y):\n",
    "    return x + y"
   ]
  },
  {
   "cell_type": "code",
   "execution_count": 68,
   "id": "accb4933",
   "metadata": {},
   "outputs": [
    {
     "data": {
      "text/plain": [
       "30"
      ]
     },
     "execution_count": 68,
     "metadata": {},
     "output_type": "execute_result"
    }
   ],
   "source": [
    "test1(a,b)"
   ]
  },
  {
   "cell_type": "code",
   "execution_count": 69,
   "id": "85462917",
   "metadata": {},
   "outputs": [],
   "source": [
    "# same above task we can do with lambda function\n",
    "m = lambda x,y : x + y"
   ]
  },
  {
   "cell_type": "code",
   "execution_count": 70,
   "id": "d10637d4",
   "metadata": {},
   "outputs": [
    {
     "data": {
      "text/plain": [
       "35"
      ]
     },
     "execution_count": 70,
     "metadata": {},
     "output_type": "execute_result"
    }
   ],
   "source": [
    "m(23,12)"
   ]
  },
  {
   "cell_type": "code",
   "execution_count": 71,
   "id": "15d6fb8a",
   "metadata": {},
   "outputs": [
    {
     "data": {
      "text/plain": [
       "function"
      ]
     },
     "execution_count": 71,
     "metadata": {},
     "output_type": "execute_result"
    }
   ],
   "source": [
    "type(m)"
   ]
  },
  {
   "cell_type": "code",
   "execution_count": 72,
   "id": "ee7c49f8",
   "metadata": {},
   "outputs": [
    {
     "data": {
      "text/plain": [
       "function"
      ]
     },
     "execution_count": 72,
     "metadata": {},
     "output_type": "execute_result"
    }
   ],
   "source": [
    "type(test1)"
   ]
  },
  {
   "cell_type": "code",
   "execution_count": 73,
   "id": "67bc1e84",
   "metadata": {},
   "outputs": [],
   "source": [
    "m = 12"
   ]
  },
  {
   "cell_type": "markdown",
   "id": "42f2fd4f",
   "metadata": {},
   "source": [
    "* after assigning any other value to the variable which was we used to store lambda functions value we can see that function is not working properly, it will throwing an error,\n",
    "* We have to run function defination again, only then we can use that lambda function.\n",
    "\n",
    "* basically, it is only for one-time use..."
   ]
  },
  {
   "cell_type": "code",
   "execution_count": 74,
   "id": "051de028",
   "metadata": {},
   "outputs": [],
   "source": [
    "# m('harshalshinde','@gmail.com')"
   ]
  },
  {
   "cell_type": "code",
   "execution_count": 75,
   "id": "eb360961",
   "metadata": {},
   "outputs": [],
   "source": [
    "b = 'Harshal'\n",
    "c = 'Shinde'\n",
    "n = lambda x,y : print(x,y)"
   ]
  },
  {
   "cell_type": "code",
   "execution_count": 76,
   "id": "169f05d2",
   "metadata": {},
   "outputs": [
    {
     "name": "stdout",
     "output_type": "stream",
     "text": [
      "Harshal Shinde\n"
     ]
    }
   ],
   "source": [
    "n(b,c)"
   ]
  },
  {
   "cell_type": "markdown",
   "id": "87c99ae0",
   "metadata": {},
   "source": [
    "---\n",
    "### Scope of variable\n",
    "1. **Global Variable**\n",
    "    1. Global Variable is always define outside of function.\n",
    "    2. Global variable can be accessed inside or outside of the function.\n",
    "2. **Local Variable**\n",
    "    1. Local variable is always define inside the function.\n",
    "    2. Local variable only works inside function or local scope."
   ]
  },
  {
   "cell_type": "code",
   "execution_count": 77,
   "id": "3a2f8814",
   "metadata": {},
   "outputs": [],
   "source": [
    "r = 10 # This is Global variable\n",
    "def test3(a,b = 1):\n",
    "    r = a/b # This is Local variable\n",
    "    return r"
   ]
  },
  {
   "cell_type": "code",
   "execution_count": 78,
   "id": "766dd5b2",
   "metadata": {},
   "outputs": [
    {
     "data": {
      "text/plain": [
       "1.0"
      ]
     },
     "execution_count": 78,
     "metadata": {},
     "output_type": "execute_result"
    }
   ],
   "source": [
    "test3(10,10)"
   ]
  },
  {
   "cell_type": "code",
   "execution_count": 79,
   "id": "d71b18b8",
   "metadata": {},
   "outputs": [
    {
     "data": {
      "text/plain": [
       "10"
      ]
     },
     "execution_count": 79,
     "metadata": {},
     "output_type": "execute_result"
    }
   ],
   "source": [
    "# we can access this variable outside the function\n",
    "r "
   ]
  },
  {
   "cell_type": "markdown",
   "id": "2a0aba97",
   "metadata": {},
   "source": [
    "---\n",
    "### Docstring\n",
    "* Python docstrings are the string literals that appear right after the definition of a function, method, class, or module."
   ]
  },
  {
   "cell_type": "code",
   "execution_count": 80,
   "id": "e984149c",
   "metadata": {},
   "outputs": [],
   "source": [
    "def test4():\n",
    "    '''This is the sample function which is used to demonstrate docstring\n",
    "    This function just do nothing... only print some lines...\n",
    "    '''\n",
    "    return \"Excuse me Please... \\nMy name is Anthony Gonsalvis...!! \""
   ]
  },
  {
   "cell_type": "code",
   "execution_count": 81,
   "id": "310c3ecb",
   "metadata": {},
   "outputs": [
    {
     "name": "stdout",
     "output_type": "stream",
     "text": [
      "Excuse me Please... \n",
      "My name is Anthony Gonsalvis...!! Excuse Me Please...!!\n"
     ]
    }
   ],
   "source": [
    "a = test4()+'Excuse Me Please...!!'\n",
    "print(a)"
   ]
  },
  {
   "cell_type": "code",
   "execution_count": 82,
   "id": "f114a0d6",
   "metadata": {},
   "outputs": [
    {
     "name": "stdout",
     "output_type": "stream",
     "text": [
      "Help on function test4 in module __main__:\n",
      "\n",
      "test4()\n",
      "    This is the sample function which is used to demonstrate docstring\n",
      "    This function just do nothing... only print some lines...\n",
      "\n"
     ]
    }
   ],
   "source": [
    "help(test4)"
   ]
  },
  {
   "cell_type": "markdown",
   "id": "03785bae",
   "metadata": {},
   "source": [
    "___\n",
    "## Difference between ITERABLE, ITERATOR and GENERATOR\n",
    "\n",
    "1. **Iterable:**\n",
    "    1. **An object is called iterable if we can get an iterator from it.** Most built-in containers in Python like: list, tuple, string etc. are iterables.\n",
    "    1. **_An iteratable is a Python object that can be used as a sequence._**\n",
    "    2. You can go to the next item of the sequence using the **next()** method.\n",
    "\n",
    "    2. You can loop over an iterable, but you cannot access individual elements directly.\n",
    "    3. It’s a container object: it can only return one of its element at the time.\n",
    "2. **Iterator:**\n",
    "    1. Iterator in Python is simply an object that can be iterated upon. An object which will return data, one element at a time.\n",
    "    2. Python iterator object must implement two special methods, __iter__() and __next__(), collectively called the iterator protocol.\n",
    "3. **Generator:**\n",
    "    1. Generators are basically functions that return traversable objects or items. \n",
    "    2. These functions do not produce all the items at once, rather they produce them one at a time and only when required. Whenever the for statement is included to iterate over a set of items, a generator function is run. Generators have a number of advantages as well.\n",
    "    3. For generator we use **_yield_** built-in data type."
   ]
  },
  {
   "cell_type": "code",
   "execution_count": 83,
   "id": "f45161a0",
   "metadata": {},
   "outputs": [
    {
     "name": "stdout",
     "output_type": "stream",
     "text": [
      "This will be throw an error, because int object is not iterable,\n",
      "also we can't perform any slicing operation on 'int' object\n"
     ]
    },
    {
     "ename": "TypeError",
     "evalue": "'int' object is not iterable",
     "output_type": "error",
     "traceback": [
      "\u001b[1;31m---------------------------------------------------------------------------\u001b[0m",
      "\u001b[1;31mTypeError\u001b[0m                                 Traceback (most recent call last)",
      "\u001b[1;32m<ipython-input-83-38c56a4abf0b>\u001b[0m in \u001b[0;36m<module>\u001b[1;34m\u001b[0m\n\u001b[0;32m      2\u001b[0m also we can't perform any slicing operation on 'int' object\"\"\")\n\u001b[0;32m      3\u001b[0m \u001b[0ma\u001b[0m \u001b[1;33m=\u001b[0m \u001b[1;36m10\u001b[0m\u001b[1;33m\u001b[0m\u001b[1;33m\u001b[0m\u001b[0m\n\u001b[1;32m----> 4\u001b[1;33m \u001b[1;32mfor\u001b[0m \u001b[0mi\u001b[0m \u001b[1;32min\u001b[0m \u001b[0ma\u001b[0m\u001b[1;33m:\u001b[0m\u001b[1;33m\u001b[0m\u001b[1;33m\u001b[0m\u001b[0m\n\u001b[0m\u001b[0;32m      5\u001b[0m     \u001b[0mprint\u001b[0m\u001b[1;33m(\u001b[0m\u001b[0mi\u001b[0m\u001b[1;33m)\u001b[0m\u001b[1;33m\u001b[0m\u001b[1;33m\u001b[0m\u001b[0m\n",
      "\u001b[1;31mTypeError\u001b[0m: 'int' object is not iterable"
     ]
    }
   ],
   "source": [
    "print(\"\"\"This will be throw an error, because int object is not iterable,\n",
    "also we can't perform any slicing operation on 'int' object\"\"\")\n",
    "a = 10\n",
    "for i in a:\n",
    "    print(i)"
   ]
  },
  {
   "cell_type": "code",
   "execution_count": 84,
   "id": "5d7c954e",
   "metadata": {},
   "outputs": [
    {
     "name": "stdout",
     "output_type": "stream",
     "text": [
      "H\n",
      "a\n",
      "r\n",
      "s\n",
      "h\n",
      "a\n",
      "l\n"
     ]
    }
   ],
   "source": [
    "for i in \"Harshal\":\n",
    "    print(i)"
   ]
  },
  {
   "cell_type": "code",
   "execution_count": 85,
   "id": "79e3dd4f",
   "metadata": {},
   "outputs": [
    {
     "data": {
      "text/plain": [
       "'H'"
      ]
     },
     "execution_count": 85,
     "metadata": {},
     "output_type": "execute_result"
    }
   ],
   "source": [
    "s = \"Harshal\" # Here 's' is iterable object\n",
    "s = iter(s)   # Here we converted 's' into iterator object\n",
    "next(s)       # Now we can access each element using next"
   ]
  },
  {
   "cell_type": "code",
   "execution_count": 86,
   "id": "28ca70d0",
   "metadata": {},
   "outputs": [
    {
     "data": {
      "text/plain": [
       "'a'"
      ]
     },
     "execution_count": 86,
     "metadata": {},
     "output_type": "execute_result"
    }
   ],
   "source": [
    "next(s)"
   ]
  },
  {
   "cell_type": "code",
   "execution_count": 87,
   "id": "5622682e",
   "metadata": {},
   "outputs": [
    {
     "data": {
      "text/plain": [
       "'r'"
      ]
     },
     "execution_count": 87,
     "metadata": {},
     "output_type": "execute_result"
    }
   ],
   "source": [
    "# once index is out of bound, it will throw an error \"StopIteration\"\n",
    "next(s)"
   ]
  },
  {
   "cell_type": "code",
   "execution_count": 88,
   "id": "98fa97bb",
   "metadata": {},
   "outputs": [
    {
     "name": "stdout",
     "output_type": "stream",
     "text": [
      "we can't convert \"int\" object into iterator, that's why it will be throw an error\n"
     ]
    },
    {
     "ename": "TypeError",
     "evalue": "'int' object is not iterable",
     "output_type": "error",
     "traceback": [
      "\u001b[1;31m---------------------------------------------------------------------------\u001b[0m",
      "\u001b[1;31mTypeError\u001b[0m                                 Traceback (most recent call last)",
      "\u001b[1;32m<ipython-input-88-6907d33ff453>\u001b[0m in \u001b[0;36m<module>\u001b[1;34m\u001b[0m\n\u001b[0;32m      1\u001b[0m \u001b[0mprint\u001b[0m\u001b[1;33m(\u001b[0m\u001b[1;34m\"\"\"we can't convert \"int\" object into iterator, that's why it will be throw an error\"\"\"\u001b[0m\u001b[1;33m)\u001b[0m\u001b[1;33m\u001b[0m\u001b[1;33m\u001b[0m\u001b[0m\n\u001b[0;32m      2\u001b[0m \u001b[0ma\u001b[0m \u001b[1;33m=\u001b[0m \u001b[1;36m10\u001b[0m\u001b[1;33m\u001b[0m\u001b[1;33m\u001b[0m\u001b[0m\n\u001b[1;32m----> 3\u001b[1;33m \u001b[0ms\u001b[0m \u001b[1;33m=\u001b[0m \u001b[0miter\u001b[0m\u001b[1;33m(\u001b[0m\u001b[0ma\u001b[0m\u001b[1;33m)\u001b[0m\u001b[1;33m\u001b[0m\u001b[1;33m\u001b[0m\u001b[0m\n\u001b[0m\u001b[0;32m      4\u001b[0m \u001b[0mnext\u001b[0m\u001b[1;33m(\u001b[0m\u001b[0ms\u001b[0m\u001b[1;33m)\u001b[0m\u001b[1;33m\u001b[0m\u001b[1;33m\u001b[0m\u001b[0m\n",
      "\u001b[1;31mTypeError\u001b[0m: 'int' object is not iterable"
     ]
    }
   ],
   "source": [
    "print(\"\"\"we can't convert \"int\" object into iterator, that's why it will be throw an error\"\"\")\n",
    "a = 10\n",
    "s = iter(a)\n",
    "next(s)"
   ]
  },
  {
   "cell_type": "code",
   "execution_count": 89,
   "id": "e3c3f93f",
   "metadata": {},
   "outputs": [
    {
     "name": "stdout",
     "output_type": "stream",
     "text": [
      "We can convert list object into iterator..\n",
      "also we can convert tuple,set,dict objects in iterator as well\n"
     ]
    },
    {
     "data": {
      "text/plain": [
       "'harsh'"
      ]
     },
     "execution_count": 89,
     "metadata": {},
     "output_type": "execute_result"
    }
   ],
   "source": [
    "print(\"\"\"We can convert list object into iterator..\n",
    "also we can convert tuple,set,dict objects in iterator as well\"\"\")\n",
    "items = ['harsh','shinde','xyz','abc']\n",
    "iterator = iter(items)\n",
    "next(iterator)"
   ]
  },
  {
   "cell_type": "code",
   "execution_count": 90,
   "id": "b42f9197",
   "metadata": {},
   "outputs": [
    {
     "name": "stdout",
     "output_type": "stream",
     "text": [
      "This will give you a next object in iterator..\n"
     ]
    },
    {
     "data": {
      "text/plain": [
       "'shinde'"
      ]
     },
     "execution_count": 90,
     "metadata": {},
     "output_type": "execute_result"
    }
   ],
   "source": [
    "print(\"This will give you a next object in iterator..\")\n",
    "next(iterator)"
   ]
  },
  {
   "cell_type": "code",
   "execution_count": 91,
   "id": "1d5083f6",
   "metadata": {},
   "outputs": [
    {
     "name": "stdout",
     "output_type": "stream",
     "text": [
      "We can access iterable using indexing operation\n"
     ]
    },
    {
     "data": {
      "text/plain": [
       "'harsh'"
      ]
     },
     "execution_count": 91,
     "metadata": {},
     "output_type": "execute_result"
    }
   ],
   "source": [
    "print(\"We can access iterable using indexing operation\")\n",
    "items[0]"
   ]
  },
  {
   "cell_type": "code",
   "execution_count": 92,
   "id": "42990fe0",
   "metadata": {},
   "outputs": [
    {
     "name": "stdout",
     "output_type": "stream",
     "text": [
      "but we can't access iterator using indexing operation \n",
      " it will throw an TypeError:'list_iterator' object is not subscriptable'\n"
     ]
    },
    {
     "ename": "TypeError",
     "evalue": "'list_iterator' object is not subscriptable",
     "output_type": "error",
     "traceback": [
      "\u001b[1;31m---------------------------------------------------------------------------\u001b[0m",
      "\u001b[1;31mTypeError\u001b[0m                                 Traceback (most recent call last)",
      "\u001b[1;32m<ipython-input-92-d0dce348aabb>\u001b[0m in \u001b[0;36m<module>\u001b[1;34m\u001b[0m\n\u001b[0;32m      1\u001b[0m \u001b[0mprint\u001b[0m\u001b[1;33m(\u001b[0m\u001b[1;34m\"but we can't access iterator using indexing operation \\n it will throw an TypeError:'list_iterator' object is not subscriptable'\"\u001b[0m\u001b[1;33m)\u001b[0m\u001b[1;33m\u001b[0m\u001b[1;33m\u001b[0m\u001b[0m\n\u001b[1;32m----> 2\u001b[1;33m \u001b[0miterator\u001b[0m\u001b[1;33m[\u001b[0m\u001b[1;36m0\u001b[0m\u001b[1;33m]\u001b[0m\u001b[1;33m\u001b[0m\u001b[1;33m\u001b[0m\u001b[0m\n\u001b[0m",
      "\u001b[1;31mTypeError\u001b[0m: 'list_iterator' object is not subscriptable"
     ]
    }
   ],
   "source": [
    "print(\"but we can't access iterator using indexing operation \\n it will throw an TypeError:'list_iterator' object is not subscriptable'\")\n",
    "iterator[0]"
   ]
  },
  {
   "cell_type": "code",
   "execution_count": 93,
   "id": "03efb8bf",
   "metadata": {},
   "outputs": [
    {
     "name": "stdout",
     "output_type": "stream",
     "text": [
      "This function is try to demonstrate the concept of generator, and what if we don't use generator for this kind of function\n"
     ]
    }
   ],
   "source": [
    "print(\"\"\"This function is try to demonstrate the concept of generator, and what if we don't use generator for this kind of function\"\"\")\n",
    "def test5(n):\n",
    "    l=[]\n",
    "    for i in range(n):\n",
    "        l.append(i**3)\n",
    "    \n",
    "    return l"
   ]
  },
  {
   "cell_type": "code",
   "execution_count": 94,
   "id": "41fa0d79",
   "metadata": {
    "scrolled": false
   },
   "outputs": [
    {
     "name": "stdout",
     "output_type": "stream",
     "text": [
      "Don't run below line, This will going to burst your RAM.. \n",
      "this below line was just for explaining the concept of generator\n"
     ]
    }
   ],
   "source": [
    "print('''Don't run below line, This will going to burst your RAM.. \n",
    "this below line was just for explaining the concept of generator''')\n",
    "# test5(600000000)"
   ]
  },
  {
   "cell_type": "code",
   "execution_count": 95,
   "id": "5957435c",
   "metadata": {},
   "outputs": [
    {
     "name": "stdout",
     "output_type": "stream",
     "text": [
      "This code explains concept of generator..\n",
      "for create generator, we use 'yield' built-in keyword\n"
     ]
    }
   ],
   "source": [
    "print(\"\"\"This code explains concept of generator..\n",
    "for create generator, we use 'yield' built-in keyword\"\"\")\n",
    "\n",
    "def test6(n):\n",
    "    l = []\n",
    "    for i in range(n):\n",
    "        yield i**3"
   ]
  },
  {
   "cell_type": "code",
   "execution_count": 96,
   "id": "ebc591fe",
   "metadata": {},
   "outputs": [
    {
     "name": "stdout",
     "output_type": "stream",
     "text": [
      "<generator object test6 at 0x0000014BFD82A348>\n"
     ]
    }
   ],
   "source": [
    "print(test6(30))"
   ]
  },
  {
   "cell_type": "code",
   "execution_count": 97,
   "id": "db55d5dd",
   "metadata": {},
   "outputs": [
    {
     "data": {
      "text/plain": [
       "\"don't execute this below code, this will eat your lots of time.. \""
      ]
     },
     "execution_count": 97,
     "metadata": {},
     "output_type": "execute_result"
    }
   ],
   "source": [
    "'''don't execute this below code, this will eat your lots of time.. '''\n",
    "# for i in test6(600000000):\n",
    "#     print(i)"
   ]
  },
  {
   "cell_type": "code",
   "execution_count": 98,
   "id": "ff5d86d3",
   "metadata": {},
   "outputs": [
    {
     "data": {
      "text/plain": [
       "range(0, 20)"
      ]
     },
     "execution_count": 98,
     "metadata": {},
     "output_type": "execute_result"
    }
   ],
   "source": [
    "range(20)"
   ]
  },
  {
   "cell_type": "code",
   "execution_count": 99,
   "id": "42bd777c",
   "metadata": {},
   "outputs": [
    {
     "data": {
      "text/plain": [
       "[0, 1, 2, 3, 4, 5, 6, 7, 8, 9, 10, 11, 12, 13, 14, 15, 16, 17, 18, 19]"
      ]
     },
     "execution_count": 99,
     "metadata": {},
     "output_type": "execute_result"
    }
   ],
   "source": [
    "list(range(20))"
   ]
  },
  {
   "cell_type": "code",
   "execution_count": 100,
   "id": "c90d1e8b",
   "metadata": {},
   "outputs": [
    {
     "data": {
      "text/plain": [
       "[0, 1, 2, 3, 4, 5, 6, 7, 8, 9, 10, 11, 12, 13, 14, 15, 16, 17, 18, 19]"
      ]
     },
     "execution_count": 100,
     "metadata": {},
     "output_type": "execute_result"
    }
   ],
   "source": [
    "[i for i in range(20)]"
   ]
  },
  {
   "cell_type": "code",
   "execution_count": 101,
   "id": "841b8a93",
   "metadata": {},
   "outputs": [],
   "source": [
    "# generating fibonaci series\n",
    "\n",
    "def fibo(n):\n",
    "    a = 1\n",
    "    b = 1\n",
    "    output = []\n",
    "    for i in range(n):\n",
    "        output.append(a)\n",
    "        a, b = b , a+b\n",
    "    return output"
   ]
  },
  {
   "cell_type": "code",
   "execution_count": 102,
   "id": "81ddcc05",
   "metadata": {},
   "outputs": [
    {
     "data": {
      "text/plain": [
       "[1, 1, 2, 3, 5, 8, 13, 21, 34, 55, 89]"
      ]
     },
     "execution_count": 102,
     "metadata": {},
     "output_type": "execute_result"
    }
   ],
   "source": [
    "fibo(11)"
   ]
  },
  {
   "cell_type": "code",
   "execution_count": 103,
   "id": "df91d360",
   "metadata": {},
   "outputs": [],
   "source": [
    "# same operation we can perform with yield\n",
    "# yield takes memory for print only one no. of fibonacci series\n",
    "\n",
    "\n",
    "def fibo(n):\n",
    "    a = 1\n",
    "    b = 1\n",
    "    for i in range(n):\n",
    "        yield a\n",
    "        a, b = b , a+b\n",
    "    "
   ]
  },
  {
   "cell_type": "code",
   "execution_count": 104,
   "id": "b9a9a418",
   "metadata": {},
   "outputs": [
    {
     "data": {
      "text/plain": [
       "<generator object fibo at 0x0000014BFD74E8C8>"
      ]
     },
     "execution_count": 104,
     "metadata": {},
     "output_type": "execute_result"
    }
   ],
   "source": [
    "fibo(10)"
   ]
  },
  {
   "cell_type": "code",
   "execution_count": 105,
   "id": "40c2d738",
   "metadata": {},
   "outputs": [
    {
     "name": "stdout",
     "output_type": "stream",
     "text": [
      "try to give input as 1000000\n",
      "1\n",
      "1\n",
      "2\n",
      "3\n",
      "5\n",
      "8\n",
      "13\n",
      "21\n",
      "34\n",
      "55\n"
     ]
    }
   ],
   "source": [
    "print('''try to give input as 1000000''')\n",
    "for i in fibo(10):\n",
    "    print(i)"
   ]
  },
  {
   "cell_type": "markdown",
   "id": "0744ad25",
   "metadata": {},
   "source": [
    "---\n",
    "# File operations\n",
    "### Modes of operations\n",
    "\n",
    "---\n",
    "|**Character** |**Meaning** \n",
    "|:--:|:--\n",
    "|**'r'** |open for reading (default)\n",
    "|**'w'** |open for writing, truncating the file first\n",
    "|**'x'** |create a new file and open it for writing\n",
    "|**'a'** |open for writing, appending to the end of the file if it exists\n",
    "|**'b'** |binary mode\n",
    "|**'t'** |text mode (default)\n",
    "|**'+'** |open a disk file for updating (reading and writing)\n",
    "|**'U'** |universal newline mode (deprecated)\n"
   ]
  },
  {
   "cell_type": "code",
   "execution_count": 106,
   "id": "7212408a",
   "metadata": {},
   "outputs": [],
   "source": [
    "# this is used for creating new file in a pertiocular directory.\n",
    "# if file is already present, then it will try to open that file\n",
    "f = open('file operations/test.txt',\"w\")"
   ]
  },
  {
   "cell_type": "code",
   "execution_count": 107,
   "id": "e8d67e81",
   "metadata": {},
   "outputs": [
    {
     "data": {
      "text/plain": [
       "68"
      ]
     },
     "execution_count": 107,
     "metadata": {},
     "output_type": "execute_result"
    }
   ],
   "source": [
    "# This is used to write someting in file\n",
    "# here in output, you'll able to see, how many total characters are present in the file\n",
    "f.write(r'My name is harshal shinde, This is the full stack data science class')"
   ]
  },
  {
   "cell_type": "code",
   "execution_count": 108,
   "id": "11d836a1",
   "metadata": {},
   "outputs": [],
   "source": [
    "# this is used to close the previously opend file\n",
    "# if you didn't closed that file, you can't see the changes you made in that file..\n",
    "# you'll not able to see last text you was written in that file\n",
    "f.close()"
   ]
  },
  {
   "cell_type": "code",
   "execution_count": 109,
   "id": "2cba77a8",
   "metadata": {},
   "outputs": [],
   "source": [
    "f = open('file operations/test.txt')"
   ]
  },
  {
   "cell_type": "code",
   "execution_count": 110,
   "id": "a2fc40e1",
   "metadata": {},
   "outputs": [
    {
     "name": "stdout",
     "output_type": "stream",
     "text": [
      "My name is harshal shinde, This is the full stack data science class\n"
     ]
    }
   ],
   "source": [
    "print(f.read())"
   ]
  },
  {
   "cell_type": "code",
   "execution_count": 111,
   "id": "86a4b6a6",
   "metadata": {},
   "outputs": [
    {
     "data": {
      "text/plain": [
       "''"
      ]
     },
     "execution_count": 111,
     "metadata": {},
     "output_type": "execute_result"
    }
   ],
   "source": [
    "f.read()"
   ]
  },
  {
   "cell_type": "code",
   "execution_count": 112,
   "id": "8e6b3784",
   "metadata": {},
   "outputs": [
    {
     "name": "stdout",
     "output_type": "stream",
     "text": [
      "It will try to set the current cursor position at the number you given in f.seek(0)\n"
     ]
    },
    {
     "data": {
      "text/plain": [
       "0"
      ]
     },
     "execution_count": 112,
     "metadata": {},
     "output_type": "execute_result"
    }
   ],
   "source": [
    "print(\"It will try to set the current cursor position at the number you given in f.seek(0)\")\n",
    "f.seek(0)"
   ]
  },
  {
   "cell_type": "code",
   "execution_count": 113,
   "id": "977a2bdc",
   "metadata": {},
   "outputs": [
    {
     "name": "stdout",
     "output_type": "stream",
     "text": [
      "f.read(25) will give the 25 characters from the current position of cursor\n"
     ]
    },
    {
     "data": {
      "text/plain": [
       "'My name is harshal shinde'"
      ]
     },
     "execution_count": 113,
     "metadata": {},
     "output_type": "execute_result"
    }
   ],
   "source": [
    "print(\"f.read(25) will give the 25 characters from the current position of cursor\")\n",
    "f.read(25)"
   ]
  },
  {
   "cell_type": "code",
   "execution_count": 114,
   "id": "4a4d6fc2",
   "metadata": {},
   "outputs": [
    {
     "data": {
      "text/plain": [
       "', This is the full stack data science class'"
      ]
     },
     "execution_count": 114,
     "metadata": {},
     "output_type": "execute_result"
    }
   ],
   "source": [
    "f.read()"
   ]
  },
  {
   "cell_type": "code",
   "execution_count": 115,
   "id": "6712db4c",
   "metadata": {},
   "outputs": [
    {
     "name": "stdout",
     "output_type": "stream",
     "text": [
      "Here we are trying to open test file in a 'r' mode(read mode)\n"
     ]
    }
   ],
   "source": [
    "print(\"Here we are trying to open test file in a 'r' mode(read mode)\")\n",
    "f = open('file operations/test.txt','r')"
   ]
  },
  {
   "cell_type": "code",
   "execution_count": 116,
   "id": "d3aec934",
   "metadata": {},
   "outputs": [
    {
     "name": "stdout",
     "output_type": "stream",
     "text": [
      "We can't perform write operation here, because we opened this file in 'r' read mode.\n",
      "it will be throw an error as: \n",
      "UnsupportedOperation: not writable\n"
     ]
    },
    {
     "ename": "UnsupportedOperation",
     "evalue": "not writable",
     "output_type": "error",
     "traceback": [
      "\u001b[1;31m---------------------------------------------------------------------------\u001b[0m",
      "\u001b[1;31mUnsupportedOperation\u001b[0m                      Traceback (most recent call last)",
      "\u001b[1;32m<ipython-input-116-5935d2acd617>\u001b[0m in \u001b[0;36m<module>\u001b[1;34m\u001b[0m\n\u001b[0;32m      2\u001b[0m \u001b[0mit\u001b[0m \u001b[0mwill\u001b[0m \u001b[0mbe\u001b[0m \u001b[0mthrow\u001b[0m \u001b[0man\u001b[0m \u001b[0merror\u001b[0m \u001b[1;32mas\u001b[0m\u001b[1;33m:\u001b[0m\u001b[1;33m\u001b[0m\u001b[1;33m\u001b[0m\u001b[0m\n\u001b[0;32m      3\u001b[0m UnsupportedOperation: not writable\"\"\")\n\u001b[1;32m----> 4\u001b[1;33m \u001b[0mf\u001b[0m\u001b[1;33m.\u001b[0m\u001b[0mwrite\u001b[0m\u001b[1;33m(\u001b[0m\u001b[1;34m'sdfdsaf'\u001b[0m\u001b[1;33m)\u001b[0m\u001b[1;33m\u001b[0m\u001b[1;33m\u001b[0m\u001b[0m\n\u001b[0m",
      "\u001b[1;31mUnsupportedOperation\u001b[0m: not writable"
     ]
    }
   ],
   "source": [
    "print(\"\"\"We can't perform write operation here, because we opened this file in 'r' read mode.\n",
    "it will be throw an error as: \n",
    "UnsupportedOperation: not writable\"\"\")\n",
    "# f.write('sdfdsaf')"
   ]
  },
  {
   "cell_type": "code",
   "execution_count": 117,
   "id": "d8b6db57",
   "metadata": {},
   "outputs": [
    {
     "data": {
      "text/plain": [
       "'My name is harshal shinde, This is the full stack data science class'"
      ]
     },
     "execution_count": 117,
     "metadata": {},
     "output_type": "execute_result"
    }
   ],
   "source": [
    "f.read()"
   ]
  },
  {
   "cell_type": "code",
   "execution_count": 118,
   "id": "830e6142",
   "metadata": {},
   "outputs": [],
   "source": [
    "f.close()"
   ]
  },
  {
   "cell_type": "code",
   "execution_count": 120,
   "id": "4d66b3c9",
   "metadata": {},
   "outputs": [
    {
     "name": "stdout",
     "output_type": "stream",
     "text": [
      "We can't perfor read operation on closed file\n"
     ]
    },
    {
     "ename": "ValueError",
     "evalue": "I/O operation on closed file.",
     "output_type": "error",
     "traceback": [
      "\u001b[1;31m---------------------------------------------------------------------------\u001b[0m",
      "\u001b[1;31mValueError\u001b[0m                                Traceback (most recent call last)",
      "\u001b[1;32m<ipython-input-120-c5a63b029a0c>\u001b[0m in \u001b[0;36m<module>\u001b[1;34m\u001b[0m\n\u001b[0;32m      1\u001b[0m \u001b[0mprint\u001b[0m\u001b[1;33m(\u001b[0m\u001b[1;34m'''We can't perfor read operation on closed file'''\u001b[0m\u001b[1;33m)\u001b[0m\u001b[1;33m\u001b[0m\u001b[1;33m\u001b[0m\u001b[0m\n\u001b[1;32m----> 2\u001b[1;33m \u001b[0mf\u001b[0m\u001b[1;33m.\u001b[0m\u001b[0mread\u001b[0m\u001b[1;33m(\u001b[0m\u001b[1;33m)\u001b[0m\u001b[1;33m\u001b[0m\u001b[1;33m\u001b[0m\u001b[0m\n\u001b[0m",
      "\u001b[1;31mValueError\u001b[0m: I/O operation on closed file."
     ]
    }
   ],
   "source": [
    "print('''We can't perfor read operation on closed file''')\n",
    "f.read()"
   ]
  },
  {
   "cell_type": "code",
   "execution_count": 124,
   "id": "f31cc6b0",
   "metadata": {},
   "outputs": [
    {
     "ename": "TypeError",
     "evalue": "open() missing required argument 'file' (pos 1)",
     "output_type": "error",
     "traceback": [
      "\u001b[1;31m---------------------------------------------------------------------------\u001b[0m",
      "\u001b[1;31mTypeError\u001b[0m                                 Traceback (most recent call last)",
      "\u001b[1;32m<ipython-input-124-bdf183185088>\u001b[0m in \u001b[0;36m<module>\u001b[1;34m\u001b[0m\n\u001b[1;32m----> 1\u001b[1;33m \u001b[0mf\u001b[0m \u001b[1;33m=\u001b[0m \u001b[0mopen\u001b[0m\u001b[1;33m(\u001b[0m\u001b[1;33m)\u001b[0m\u001b[1;33m\u001b[0m\u001b[1;33m\u001b[0m\u001b[0m\n\u001b[0m",
      "\u001b[1;31mTypeError\u001b[0m: open() missing required argument 'file' (pos 1)"
     ]
    }
   ],
   "source": []
  },
  {
   "cell_type": "code",
   "execution_count": null,
   "id": "1447aad5",
   "metadata": {},
   "outputs": [],
   "source": []
  }
 ],
 "metadata": {
  "kernelspec": {
   "display_name": "Python 3",
   "language": "python",
   "name": "python3"
  },
  "language_info": {
   "codemirror_mode": {
    "name": "ipython",
    "version": 3
   },
   "file_extension": ".py",
   "mimetype": "text/x-python",
   "name": "python",
   "nbconvert_exporter": "python",
   "pygments_lexer": "ipython3",
   "version": "3.7.9"
  }
 },
 "nbformat": 4,
 "nbformat_minor": 5
}
