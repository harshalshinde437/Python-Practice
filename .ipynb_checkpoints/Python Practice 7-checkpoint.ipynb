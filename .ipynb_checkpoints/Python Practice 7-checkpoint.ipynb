{
 "cells": [
  {
   "cell_type": "markdown",
   "id": "d82ed02f",
   "metadata": {},
   "source": [
    "# 8th May Live Class\n",
    "### Acess modifiers, Abstraction & Inheritance"
   ]
  },
  {
   "cell_type": "code",
   "execution_count": 1,
   "id": "b54c0c84",
   "metadata": {},
   "outputs": [],
   "source": [
    "import os"
   ]
  },
  {
   "cell_type": "code",
   "execution_count": 2,
   "id": "0b157985",
   "metadata": {},
   "outputs": [],
   "source": [
    "os.chdir('Task_related_to_PP7/')"
   ]
  },
  {
   "cell_type": "markdown",
   "id": "a86a0064",
   "metadata": {},
   "source": [
    "### Python Access Modifiers\n",
    "* In most of the object-oriented languages access modifiers are used to limit the access to the variables and functions of a class. Most of the languages use three types of access modifiers, they are - **private, public and protected**.\n",
    "* Just like any other object oriented programming language, access to variables or functions can also be limited in python using the access modifiers.\n",
    "* Python makes the use of **underscores** to specify the access modifier for a specific data member and member function in a class.\n",
    "* There are 3 Types of access modifiers\n",
    "    1. **Access Modifier: Public**:\n",
    "        * The members declared as Public are accessible from outside the Class through an object of the class.\n",
    "        * For public declaration in python we don't use any Underscore. for e.g. **`a = 10`** or **`self.a = a`** and for method **`def method1(self)`** etc.\n",
    "\n",
    "    2. **Access Modifier: Protected:**\n",
    "        * The members declared as Protected are accessible from outside the class but only in a class derived from it that is in the child or subclass.\n",
    "        * For Protected declaration in python, we use a **Single Underscore** before a variable or method. for e.g. **`_a = 10`** or **`self._a = a`** for method **`def _method2(self)`** etc.\n",
    "\n",
    "    3. **Access Modifier: Private:**\n",
    "        * These members are only accessible from within the class. No outside Access is allowed.\n",
    "        * For Private declaration in python, we use a **Double Underscore** before a variable or method. for e.g. **`__a = 10`** or **`self.__a = a`** for method **`def __method3(self)`** etc.\n",
    "        \n",
    "* Methods which are starts and ends with double underscores like **`__init__()` and `__str__()`** are built-in methods of python. don't confuse with them..\n",
    "* source: https://www.studytonight.com/python/access-modifier-python"
   ]
  },
  {
   "cell_type": "code",
   "execution_count": 3,
   "id": "b4b216a9",
   "metadata": {},
   "outputs": [
    {
     "name": "stdout",
     "output_type": "stream",
     "text": [
      "In this example we can see that variable '__a' have access as private..\n",
      "So when you try to access '__a' like other variables. it will give you an error..\n",
      "\n"
     ]
    }
   ],
   "source": [
    "print(\"\"\"In this example we can see that variable '__a' have access as private..\n",
    "So when you try to access '__a' like other variables. it will give you an error..\n",
    "\"\"\")\n",
    "\n",
    "class test_cls:\n",
    "    def __init__(self, a, b, c, d):\n",
    "        self.__a = a\n",
    "        self.b = b\n",
    "        self.c = c\n",
    "        self.d = d\n",
    "        \n",
    "    def met1(self,v):\n",
    "        return v - self.__a\n",
    "    \n",
    "    def __str__(self):\n",
    "        return \"This is my test code for abstraction..\""
   ]
  },
  {
   "cell_type": "code",
   "execution_count": 4,
   "id": "b3ef300d",
   "metadata": {},
   "outputs": [],
   "source": [
    "o = test_cls(10,5,6,9)"
   ]
  },
  {
   "cell_type": "code",
   "execution_count": 5,
   "id": "663d01fc",
   "metadata": {},
   "outputs": [
    {
     "data": {
      "text/plain": [
       "2"
      ]
     },
     "execution_count": 5,
     "metadata": {},
     "output_type": "execute_result"
    }
   ],
   "source": [
    "o.met1(12)"
   ]
  },
  {
   "cell_type": "code",
   "execution_count": 6,
   "id": "7c7c0d81",
   "metadata": {},
   "outputs": [
    {
     "name": "stdout",
     "output_type": "stream",
     "text": [
      "This is my test code for abstraction..\n"
     ]
    }
   ],
   "source": [
    "print(o)"
   ]
  },
  {
   "cell_type": "code",
   "execution_count": 7,
   "id": "681a2042",
   "metadata": {},
   "outputs": [
    {
     "data": {
      "text/plain": [
       "5"
      ]
     },
     "execution_count": 7,
     "metadata": {},
     "output_type": "execute_result"
    }
   ],
   "source": [
    "o.b"
   ]
  },
  {
   "cell_type": "code",
   "execution_count": 8,
   "id": "61c955c3",
   "metadata": {},
   "outputs": [
    {
     "name": "stdout",
     "output_type": "stream",
     "text": [
      "We can't access variable 'a' like this 'o.__a'\n",
      "It should be call along with the class name like above\n"
     ]
    },
    {
     "data": {
      "text/plain": [
       "10"
      ]
     },
     "execution_count": 8,
     "metadata": {},
     "output_type": "execute_result"
    }
   ],
   "source": [
    "print(\"\"\"We can't access variable 'a' like this 'o.__a'\n",
    "It should be call along with the class name like above\"\"\")\n",
    "\n",
    "\n",
    "o._test_cls__a"
   ]
  },
  {
   "cell_type": "markdown",
   "id": "00567e5f",
   "metadata": {},
   "source": [
    "---\n",
    "## Inheritance"
   ]
  },
  {
   "cell_type": "code",
   "execution_count": 9,
   "id": "18f4adb5",
   "metadata": {},
   "outputs": [
    {
     "data": {
      "text/plain": [
       "7"
      ]
     },
     "execution_count": 9,
     "metadata": {},
     "output_type": "execute_result"
    }
   ],
   "source": [
    "# here we are trying to call previous class in test1 class\n",
    "\n",
    "class test_cls1(test_cls):\n",
    "    def __init__(self,j, *args):\n",
    "        super(test_cls1, self).__init__(*args)\n",
    "        self.j = j\n",
    "        \n",
    "        \n",
    "m = test_cls1(45,6,7,8,9)\n",
    "m.b\n"
   ]
  },
  {
   "cell_type": "code",
   "execution_count": 10,
   "id": "e3bc1225",
   "metadata": {},
   "outputs": [
    {
     "data": {
      "text/plain": [
       "45"
      ]
     },
     "execution_count": 10,
     "metadata": {},
     "output_type": "execute_result"
    }
   ],
   "source": [
    "m.j"
   ]
  },
  {
   "cell_type": "code",
   "execution_count": 11,
   "id": "3c2e722f",
   "metadata": {},
   "outputs": [
    {
     "data": {
      "text/plain": [
       "6"
      ]
     },
     "execution_count": 11,
     "metadata": {},
     "output_type": "execute_result"
    }
   ],
   "source": [
    "m._test_cls__a"
   ]
  },
  {
   "cell_type": "code",
   "execution_count": 12,
   "id": "5747bac9",
   "metadata": {},
   "outputs": [
    {
     "data": {
      "text/plain": [
       "7"
      ]
     },
     "execution_count": 12,
     "metadata": {},
     "output_type": "execute_result"
    }
   ],
   "source": [
    "m.b"
   ]
  },
  {
   "cell_type": "code",
   "execution_count": 13,
   "id": "ad5d11db",
   "metadata": {},
   "outputs": [
    {
     "data": {
      "text/plain": [
       "8"
      ]
     },
     "execution_count": 13,
     "metadata": {},
     "output_type": "execute_result"
    }
   ],
   "source": [
    "m.c"
   ]
  },
  {
   "cell_type": "code",
   "execution_count": 14,
   "id": "ddda75a3",
   "metadata": {},
   "outputs": [
    {
     "data": {
      "text/plain": [
       "9"
      ]
     },
     "execution_count": 14,
     "metadata": {},
     "output_type": "execute_result"
    }
   ],
   "source": [
    "m.d"
   ]
  },
  {
   "cell_type": "code",
   "execution_count": 15,
   "id": "393ecced",
   "metadata": {},
   "outputs": [
    {
     "data": {
      "text/plain": [
       "3"
      ]
     },
     "execution_count": 15,
     "metadata": {},
     "output_type": "execute_result"
    }
   ],
   "source": [
    "m.met1(9)"
   ]
  },
  {
   "cell_type": "code",
   "execution_count": 16,
   "id": "7eb3386b",
   "metadata": {},
   "outputs": [
    {
     "data": {
      "text/plain": [
       "10"
      ]
     },
     "execution_count": 16,
     "metadata": {},
     "output_type": "execute_result"
    }
   ],
   "source": [
    "o._test_cls__a"
   ]
  },
  {
   "cell_type": "markdown",
   "id": "84b4f76f",
   "metadata": {},
   "source": [
    "### Task\n",
    "1. Create a class test\n",
    "    1. create function a()\n",
    "2. Create a Class test1\n",
    "    1. create function a()\n",
    "3. Create a Class test2 and inherit test and test2 in it."
   ]
  },
  {
   "cell_type": "code",
   "execution_count": 17,
   "id": "e36fae8f",
   "metadata": {},
   "outputs": [],
   "source": [
    "class test:\n",
    "    def a(self):\n",
    "        return \"This is class test\"\n",
    "\n",
    "class test1:\n",
    "    def a(self):\n",
    "        return \"This is class test1\"\n",
    "\n",
    "class test2(test,test1):\n",
    "    def ab(self):\n",
    "        return \"This is class test2\"\n",
    "    \n",
    "t2 = test2()"
   ]
  },
  {
   "cell_type": "code",
   "execution_count": 18,
   "id": "211d8481",
   "metadata": {},
   "outputs": [
    {
     "data": {
      "text/plain": [
       "'This is class test'"
      ]
     },
     "execution_count": 18,
     "metadata": {},
     "output_type": "execute_result"
    }
   ],
   "source": [
    "t2.a()"
   ]
  },
  {
   "cell_type": "markdown",
   "id": "ce664567",
   "metadata": {},
   "source": [
    "* In multiple inheritance, if you are suppose to call a object of child class and child class contains 2 parent class with same method names.\n",
    "* after calling a method a from obj of child class `t.a()` then it will give you a data from the class which is first declared in child class i.e `class test2(test,test1)`\n",
    "* output of `t.a()` will come from method a of class `test` \n",
    "* output is **`'This is class test1'`**\n",
    "* we can say that, **In case of same method name of parent classes, it will gives the priority to the method of that class which is definend first in `class test2(test,test1)`**\n"
   ]
  },
  {
   "cell_type": "markdown",
   "id": "b9c07071",
   "metadata": {},
   "source": [
    "---\n",
    "### This is an example of single level inheritance"
   ]
  },
  {
   "cell_type": "code",
   "execution_count": 19,
   "id": "0033d085",
   "metadata": {},
   "outputs": [
    {
     "name": "stdout",
     "output_type": "stream",
     "text": [
      "iNeuron Company was established in 2018\n",
      "Contact us at https://ineuron.ai\n"
     ]
    }
   ],
   "source": [
    "# This is an example of single level inheritance\n",
    "\n",
    "class iNeuron:\n",
    "    company_website = 'https://ineuron.ai'\n",
    "    name = \"iNeuron\"\n",
    "    \n",
    "    def contactDetails(self):\n",
    "        print(f\"Contact us at {self.company_website}\")\n",
    "        \n",
    "        \n",
    "class dataScience(iNeuron):\n",
    "    def __init__(self):\n",
    "        self.year = 2018\n",
    "        \n",
    "    def est_details(self):\n",
    "        print(f\"{self.name} Company was established in {self.year}\")\n",
    "        \n",
    "        \n",
    "ds = dataScience()\n",
    "ds.est_details()\n",
    "ds.contactDetails()"
   ]
  },
  {
   "cell_type": "markdown",
   "id": "1d22b6e8",
   "metadata": {},
   "source": [
    "---\n",
    "### This is an example for multiple inheritance"
   ]
  },
  {
   "cell_type": "code",
   "execution_count": 20,
   "id": "6ec67b05",
   "metadata": {},
   "outputs": [
    {
     "name": "stdout",
     "output_type": "stream",
     "text": [
      "multi_task\n",
      "Name: Harshal\n"
     ]
    }
   ],
   "source": [
    "# This is an example for multiple inheritance\n",
    "\n",
    "class OS:\n",
    "    multi_task = True\n",
    "    os_name = \"windows OS\"\n",
    "    name = \"Harshal\"\n",
    "    \n",
    "class windows(OS, iNeuron):\n",
    "    def __init__(self):\n",
    "        if self.multi_task is True:\n",
    "            print('multi_task')\n",
    "        print(f\"Name: {self.name}\")\n",
    "        \n",
    "windows = windows()"
   ]
  },
  {
   "cell_type": "code",
   "execution_count": 21,
   "id": "3805c600",
   "metadata": {},
   "outputs": [
    {
     "name": "stdout",
     "output_type": "stream",
     "text": [
      "here it will tries to give a priority for that class which is defined first..\n",
      "That's why you can see 'Name: iNeuron' in output\n",
      "\n",
      "multi_task\n",
      "Name: iNeuron\n"
     ]
    }
   ],
   "source": [
    "print(\"\"\"here it will tries to give a priority for that class which is defined first..\n",
    "That's why you can see 'Name: iNeuron' in output\\n\"\"\")\n",
    "\n",
    "class windows(iNeuron,OS):\n",
    "    def __init__(self):\n",
    "        if self.multi_task is True:\n",
    "            print('multi_task')\n",
    "        print(f\"Name: {self.name}\")\n",
    "        \n",
    "windows = windows()"
   ]
  },
  {
   "cell_type": "markdown",
   "id": "ea3c5303",
   "metadata": {},
   "source": [
    "---\n",
    "### This is an example of multi-level inheritance"
   ]
  },
  {
   "cell_type": "code",
   "execution_count": 22,
   "id": "8cb016f9",
   "metadata": {},
   "outputs": [
    {
     "name": "stdout",
     "output_type": "stream",
     "text": [
      "The company iNeuron.ai offers total 12 different types of courses...\n",
      "Most trending course is Full Stack Data Science\n"
     ]
    }
   ],
   "source": [
    "class iNeuron:\n",
    "    num_of_courses = 12\n",
    "\n",
    "class DataScience(iNeuron):\n",
    "    course_type = \"Full Stack Data Science\"\n",
    "        \n",
    "class AI(DataScience):\n",
    "    def __init__(self):\n",
    "        self.company = \"iNeuron.ai\"\n",
    "        print(f\"\"\"The company {self.company} offers total {self.num_of_courses} different types of courses...\n",
    "Most trending course is {self.course_type}\"\"\")\n",
    "        \n",
    "AI = AI()"
   ]
  },
  {
   "cell_type": "code",
   "execution_count": 23,
   "id": "4fbfdef1",
   "metadata": {},
   "outputs": [],
   "source": [
    "# This is an another example of multi-level inheritance\n",
    "\n",
    "class class1:\n",
    "    def m(self):\n",
    "        print(\"from class1\")\n",
    "        \n",
    "class class2(class1):\n",
    "    def m(self):\n",
    "        print(\"from class2\")\n",
    "        super().m()\n",
    "        \n",
    "class class3(class2):\n",
    "    def m(self):\n",
    "        print(\"from class3\")\n",
    "        super().m()"
   ]
  },
  {
   "cell_type": "code",
   "execution_count": 24,
   "id": "2d9a844d",
   "metadata": {},
   "outputs": [],
   "source": [
    "abc = class3()"
   ]
  },
  {
   "cell_type": "code",
   "execution_count": 25,
   "id": "2ef5ac21",
   "metadata": {},
   "outputs": [
    {
     "name": "stdout",
     "output_type": "stream",
     "text": [
      "from class3\n",
      "from class2\n",
      "from class1\n"
     ]
    }
   ],
   "source": [
    "abc.m()"
   ]
  },
  {
   "cell_type": "markdown",
   "id": "62bc5c4b",
   "metadata": {},
   "source": [
    "## Encapsulation\n",
    "There are two types of encapsulation\n",
    "1. Composition type Encapsulation\n",
    "2. Dynamic type Encapsulation\n"
   ]
  },
  {
   "cell_type": "code",
   "execution_count": 26,
   "id": "4500ea60",
   "metadata": {},
   "outputs": [],
   "source": [
    "class test:\n",
    "    def __init__(self, a,b,c):\n",
    "        self.a = a\n",
    "        self.b = b\n",
    "        self.c = c\n",
    "        \n",
    "    def __str__(self):\n",
    "        return \"this is the return from my test class\"\n",
    "    \n",
    "    \n",
    "class test1:\n",
    "    def __init__(self, a,b,c):\n",
    "        self.a = a\n",
    "        self.b = b\n",
    "        self.c = c\n",
    "        \n",
    "    def __str__(self):\n",
    "        return \"this is the return from my test1 class\"\n",
    "\n",
    "class test2:\n",
    "    def __init__(self, a,b,c):\n",
    "        self.a = a\n",
    "        self.b = b\n",
    "        self.c = c\n",
    "    \n",
    "    def __str__(self):\n",
    "        return \"this is the return from my test2 class\"\n",
    "    \n",
    "class final:\n",
    "    def __init__(self,x,y,z):\n",
    "        self.test = x\n",
    "        self.test1 = y\n",
    "        self.test2 = z\n",
    "        \n",
    "    def __str__(self):\n",
    "        \n",
    "        return f\"This is the print from final class... \\n{str(self.test)}\\n{str(self.test1)}\\n{str(self.test2)}\""
   ]
  },
  {
   "cell_type": "code",
   "execution_count": 27,
   "id": "1e804883",
   "metadata": {},
   "outputs": [],
   "source": [
    "t = test(4,6,7)\n",
    "t1 = test1(1,2,9)\n",
    "t2 = test2(6,9,10)\n",
    "f = final(t,\"Harshal\",t2)"
   ]
  },
  {
   "cell_type": "code",
   "execution_count": 28,
   "id": "27f68a9a",
   "metadata": {},
   "outputs": [
    {
     "name": "stdout",
     "output_type": "stream",
     "text": [
      "This is the print from final class... \n",
      "this is the return from my test class\n",
      "Harshal\n",
      "this is the return from my test2 class\n"
     ]
    }
   ],
   "source": [
    "print(f)"
   ]
  },
  {
   "cell_type": "code",
   "execution_count": 29,
   "id": "a27212d1",
   "metadata": {},
   "outputs": [],
   "source": [
    "# here you can see we can access methods of class without creating object of them\n",
    "# we just created an object of final class in which we are calling those 2 methods and we are able to get output\n",
    "f = final(test(12,34,12),test1(12,32,54),\"Harshal\")"
   ]
  },
  {
   "cell_type": "code",
   "execution_count": 30,
   "id": "766a4c25",
   "metadata": {},
   "outputs": [
    {
     "name": "stdout",
     "output_type": "stream",
     "text": [
      "This is the print from final class... \n",
      "this is the return from my test class\n",
      "this is the return from my test1 class\n",
      "Harshal\n"
     ]
    }
   ],
   "source": [
    "print(f)"
   ]
  },
  {
   "cell_type": "markdown",
   "id": "264ea20b",
   "metadata": {},
   "source": [
    "----\n",
    "# 9th May Live class\n",
    "---\n",
    "* This is another example for encapsulation\n",
    "* This is an example regarding to the car class where the various properties of class is work together.."
   ]
  },
  {
   "cell_type": "code",
   "execution_count": 31,
   "id": "f73a7392",
   "metadata": {},
   "outputs": [],
   "source": [
    "class Tyres:\n",
    "    def __init__(self, branch, belted_bias, opt_pressure):\n",
    "        self.branch = branch\n",
    "        self.belted_bias = belted_bias\n",
    "        self.opt_pressure = opt_pressure\n",
    "        \n",
    "    def __str__(self):\n",
    "        return(f\"\"\"================= Tyres =============\n",
    "Branch: {self.branch}\n",
    "Belted bias: {self.belted_bias}\n",
    "Optimal pressure: {self.opt_pressure}\n",
    "\"\"\")\n",
    "    \n",
    "    \n",
    "class Engine:\n",
    "    def __init__(self, engine_Type, fuel_type, noise_level):\n",
    "        self.engin_type = engine_Type\n",
    "        self.fuel_type = fuel_type\n",
    "        self.noise_level = noise_level\n",
    "        \n",
    "    def __str__(self):\n",
    "        return(f\"\"\"================= Engine =============\n",
    "Engine Type: {self.engin_type}\n",
    "Fuel Type: {self.fuel_type}\n",
    "Noise Level : {self.noise_level}\n",
    "\"\"\")\n",
    "    \n",
    "\n",
    "class Body:\n",
    "    def __init__(self, size):\n",
    "        self.size = size\n",
    "        \n",
    "    def __str__(self):\n",
    "        return(f\"\"\"=============== Body Frame ===========\n",
    "Size: {self.size}\n",
    "--------------------------------------\n",
    "\"\"\")\n",
    "    \n",
    "class Car:\n",
    "    def __init__(self, name, drive,tyres, engine, body):\n",
    "        self.name = name\n",
    "        self.drive = drive\n",
    "        self.tyres = tyres\n",
    "        self.engine = engine\n",
    "        self.body = body\n",
    "        \n",
    "    def store(self):\n",
    "        f = open(\"Car_Info\",'a+')\n",
    "        f.write(f\"\"\"\\nCar Name:{self.name}\\n{self.drive}\\n{self.engine}\\n{self.tyres}\\n{self.body}\"\"\")\n",
    "        f.close()\n",
    "    \n",
    "    def __str__(self):\n",
    "        return f\"\\n{self.name} : {self.drive}\\n{self.tyres}\\n{self.engine}\\n{self.body}\""
   ]
  },
  {
   "cell_type": "code",
   "execution_count": 32,
   "id": "9279f43f",
   "metadata": {},
   "outputs": [],
   "source": [
    "t = Tyres(\"Continental\", True, 36.0)\n",
    "e = Engine(\"VTEC 1.8 lt\",\"Petrol\",4)\n",
    "b = Body(\"Sedan Medium\")\n",
    "c = Car(\"Honda Civic\",\"FWD\",t,e,b)"
   ]
  },
  {
   "cell_type": "code",
   "execution_count": 33,
   "id": "a390b291",
   "metadata": {},
   "outputs": [
    {
     "name": "stdout",
     "output_type": "stream",
     "text": [
      "\n",
      "Honda Civic : FWD\n",
      "================= Tyres =============\n",
      "Branch: Continental\n",
      "Belted bias: True\n",
      "Optimal pressure: 36.0\n",
      "\n",
      "================= Engine =============\n",
      "Engine Type: VTEC 1.8 lt\n",
      "Fuel Type: Petrol\n",
      "Noise Level : 4\n",
      "\n",
      "=============== Body Frame ===========\n",
      "Size: Sedan Medium\n",
      "--------------------------------\n",
      "\n"
     ]
    }
   ],
   "source": [
    "print(c)"
   ]
  },
  {
   "cell_type": "code",
   "execution_count": 34,
   "id": "af3254bf",
   "metadata": {},
   "outputs": [
    {
     "name": "stdout",
     "output_type": "stream",
     "text": [
      "\n",
      "Toyota Supra : RWD\n",
      "================= Tyres =============\n",
      "Branch: Falken Tyres\n",
      "Belted bias: True\n",
      "Optimal pressure: 38.0\n",
      "\n",
      "================= Engine =============\n",
      "Engine Type: 2JZ-GTE 3.0 Turbo Charged\n",
      "Fuel Type: Petrol\n",
      "Noise Level : 6\n",
      "\n",
      "=============== Body Frame ===========\n",
      "Size: Sports Sedan\n",
      "--------------------------------\n",
      "\n"
     ]
    }
   ],
   "source": [
    "# here we are try to call the other classes without creating object of them\n",
    "supra = Car(\"Toyota Supra\",\"RWD\",Tyres(\"Falken Tyres\", True, 38.0),Engine(\"2JZ-GTE 3.0 Turbo Charged\",\"Petrol\",6),Body(\"Sports Sedan\"))\n",
    "print(supra)\n",
    "supra.store()\n",
    "c.store()"
   ]
  },
  {
   "cell_type": "code",
   "execution_count": 35,
   "id": "2fb8b7c2",
   "metadata": {},
   "outputs": [
    {
     "name": "stdout",
     "output_type": "stream",
     "text": [
      "20\n"
     ]
    }
   ],
   "source": [
    "class parent:\n",
    "    a = 20\n",
    "    b = 40\n",
    "    \n",
    "    def __init__(self, parent_a, parent_b):\n",
    "        self.parent_a = parent_a\n",
    "        self.parent_b = parent_b\n",
    "        \n",
    "class child1:\n",
    "    print(parent.a)\n",
    "        \n",
    "\n",
    "class child2(parent):\n",
    "    def abc(self):\n",
    "        return self.parent_a"
   ]
  },
  {
   "cell_type": "code",
   "execution_count": 36,
   "id": "ac8ba5eb",
   "metadata": {},
   "outputs": [],
   "source": [
    "a = child2(12,40)"
   ]
  },
  {
   "cell_type": "code",
   "execution_count": 37,
   "id": "ae9dec90",
   "metadata": {},
   "outputs": [
    {
     "name": "stdout",
     "output_type": "stream",
     "text": [
      "12\n"
     ]
    }
   ],
   "source": [
    "print(a.abc())"
   ]
  },
  {
   "cell_type": "code",
   "execution_count": 38,
   "id": "ed15ac93",
   "metadata": {},
   "outputs": [
    {
     "name": "stdout",
     "output_type": "stream",
     "text": [
      "Moti is a Doberman, born in 2001.\n"
     ]
    }
   ],
   "source": [
    "class dog:\n",
    "    def __init__(self, name, yob,breed):\n",
    "        self._name = name\n",
    "        self._year_of_birth = yob\n",
    "        self._breed = breed\n",
    "        \n",
    "    def __str__(self):\n",
    "        return f\"{self._name} is a {self._breed}, born in {self._year_of_birth}.\"\n",
    "    \n",
    "\n",
    "moti = dog(\"Moti\",2001,\"Doberman\")\n",
    "print(moti)"
   ]
  },
  {
   "cell_type": "code",
   "execution_count": 39,
   "id": "f15984ee",
   "metadata": {},
   "outputs": [],
   "source": [
    "class student:\n",
    "    def __init__(self, name, student_id, schl_name,addr):\n",
    "        self.name = name\n",
    "        self.student_id = student_id\n",
    "        self.school = schl_name\n",
    "        self.address = addr\n",
    "        \n",
    "    def store(self):\n",
    "        f = open(\"Student_Info\",'a+')\n",
    "        f.write(f\"\"\"----------------------------------\n",
    "Student Name: {self.name}\\nRoll No: {self.student_id}\\nSchool Name: {self.school}\\nAddress: {self.address}\n",
    "\"\"\")\n",
    "        f.close()\n",
    "        \n",
    "    def __str__(self):\n",
    "        return f\"{self.name}\\n{self.student_id}\\n{self.school}\\n{self.address}\""
   ]
  },
  {
   "cell_type": "code",
   "execution_count": 40,
   "id": "4b003526",
   "metadata": {},
   "outputs": [],
   "source": [
    "stu = student(\"Harshal\", 22,'R H Sapat',\"Nashik\")"
   ]
  },
  {
   "cell_type": "code",
   "execution_count": 41,
   "id": "ae9bad9a",
   "metadata": {},
   "outputs": [
    {
     "name": "stdout",
     "output_type": "stream",
     "text": [
      "Harshal\n",
      "22\n",
      "R H Sapat\n",
      "Nashik\n"
     ]
    }
   ],
   "source": [
    "print(stu)"
   ]
  },
  {
   "cell_type": "code",
   "execution_count": 42,
   "id": "02761337",
   "metadata": {},
   "outputs": [],
   "source": [
    "stu.store()"
   ]
  },
  {
   "cell_type": "code",
   "execution_count": null,
   "id": "2dd71490",
   "metadata": {},
   "outputs": [],
   "source": []
  }
 ],
 "metadata": {
  "kernelspec": {
   "display_name": "Python 3",
   "language": "python",
   "name": "python3"
  },
  "language_info": {
   "codemirror_mode": {
    "name": "ipython",
    "version": 3
   },
   "file_extension": ".py",
   "mimetype": "text/x-python",
   "name": "python",
   "nbconvert_exporter": "python",
   "pygments_lexer": "ipython3",
   "version": "3.7.9"
  }
 },
 "nbformat": 4,
 "nbformat_minor": 5
}
