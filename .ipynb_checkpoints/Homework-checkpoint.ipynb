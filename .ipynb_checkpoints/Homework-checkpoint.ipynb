{
 "cells": [
  {
   "cell_type": "markdown",
   "id": "12efa8ec",
   "metadata": {},
   "source": [
    "# Homework on File automation"
   ]
  },
  {
   "cell_type": "code",
   "execution_count": 1,
   "id": "1a04b0d3",
   "metadata": {},
   "outputs": [],
   "source": [
    "import os"
   ]
  },
  {
   "cell_type": "code",
   "execution_count": 2,
   "id": "94b62255",
   "metadata": {},
   "outputs": [
    {
     "data": {
      "text/plain": [
       "'D:\\\\iNeuron\\\\Python'"
      ]
     },
     "execution_count": 2,
     "metadata": {},
     "output_type": "execute_result"
    }
   ],
   "source": [
    "pwd()"
   ]
  },
  {
   "cell_type": "code",
   "execution_count": 3,
   "id": "ef1b67a6",
   "metadata": {},
   "outputs": [
    {
     "data": {
      "text/plain": [
       "['.ipynb_checkpoints',\n",
       " 'file_operations',\n",
       " 'Homework.ipynb',\n",
       " 'ineuron practice',\n",
       " 'Python Practice 1.ipynb',\n",
       " 'Python Practice 2.ipynb',\n",
       " 'Python Practice 3.ipynb',\n",
       " 'Task']"
      ]
     },
     "execution_count": 3,
     "metadata": {},
     "output_type": "execute_result"
    }
   ],
   "source": [
    "os.listdir()"
   ]
  },
  {
   "cell_type": "code",
   "execution_count": 6,
   "id": "d114fbfa",
   "metadata": {},
   "outputs": [],
   "source": [
    "os.chdir(\"C://Users/Harshal/Downloads/\")"
   ]
  },
  {
   "cell_type": "code",
   "execution_count": 7,
   "id": "6a5e7734",
   "metadata": {},
   "outputs": [
    {
     "data": {
      "text/plain": [
       "['1009014034_patient_report (1).docx',\n",
       " '1009014034_patient_report.docx',\n",
       " '1009014034_patient_report.pdf',\n",
       " '1009014034_patient_report1.pdf',\n",
       " '187902987_ExamForm (1).PDF',\n",
       " '187902987_ExamForm.PDF',\n",
       " '2.jpg',\n",
       " '7z1900-x64.exe',\n",
       " 'Abhinav_Abhishek_visualcv_resume (1).docx',\n",
       " 'Anaconda3-2021.05-Windows-x86_64.exe',\n",
       " 'be453b19f0b04eeabe030e4c125879ed0fd8e9623991a94245b16c2ed9b3e775c4183cfe9a011d9fe958b0e6bd11fb2e1d591cad563a43db8a3727a5fb88d41e_JGGPS0490M_08DPS9U_814499.pdf',\n",
       " 'CCleaner V5.01',\n",
       " 'Chatbots-PowerPoint-Backgrounds',\n",
       " 'desktop.ini',\n",
       " 'Git-2.31.1-64-bit.exe',\n",
       " 'github-recovery-codes.txt',\n",
       " 'Harshal Shinde resume.pdf',\n",
       " 'Harshal Shinde-converted.pdf',\n",
       " 'Harshal Shinde.docx',\n",
       " 'IBAWindowsLauncher.zip',\n",
       " 'Illustrator_Set-Up.exe',\n",
       " 'IMG_20200409_231954.jpg',\n",
       " 'IMG_20200805_151619.jpg',\n",
       " 'interview-question-data-science--master.zip',\n",
       " 'Macrium',\n",
       " 'macrium-reflect-free-7-2-4732.exe',\n",
       " 'Microsoft.SkypeApp_kzf8qxf38zg5c!App',\n",
       " 'mysql-installer-community-8.0.25.0.msi',\n",
       " 'pexels-leo-cardelli-1236701.jpg',\n",
       " 'Programming_Assingment1.docx',\n",
       " 'Programming_Assingment10.docx',\n",
       " 'Programming_Assingment11 (1).docx',\n",
       " 'Programming_Assingment11.docx',\n",
       " 'Programming_Assingment12.docx',\n",
       " 'Programming_Assingment13.docx',\n",
       " 'Programming_Assingment14 (1).docx',\n",
       " 'Programming_Assingment14.docx',\n",
       " 'Programming_Assingment15.docx',\n",
       " 'Programming_Assingment16.docx',\n",
       " 'Programming_Assingment17.docx',\n",
       " 'Programming_Assingment18.docx',\n",
       " 'Programming_Assingment19.docx',\n",
       " 'Programming_Assingment2.docx',\n",
       " 'Programming_Assingment20.docx',\n",
       " 'Programming_Assingment21.docx',\n",
       " 'Programming_Assingment22.docx',\n",
       " 'Programming_Assingment23.docx',\n",
       " 'Programming_Assingment24.docx',\n",
       " 'Programming_Assingment25.docx',\n",
       " 'Programming_Assingment3 (1).docx',\n",
       " 'Programming_Assingment3.docx',\n",
       " 'Programming_Assingment4.docx',\n",
       " 'Programming_Assingment5.docx',\n",
       " 'Programming_Assingment6.docx',\n",
       " 'Programming_Assingment7.docx',\n",
       " 'Programming_Assingment8.docx',\n",
       " 'Programming_Assingment9.docx',\n",
       " 'project report of AI Powered Chatbot till 24-05-21 (1).pdf',\n",
       " 'project report of AI Powered Chatbot till 24-05-21.pdf',\n",
       " 'pycharm-community-2020.2.3.exe',\n",
       " 'python-3.7.9-amd64.exe',\n",
       " 'ReflectDLHF.exe',\n",
       " 'sample resume -20191223T164759Z-001.zip',\n",
       " 'sample resume_',\n",
       " 'Setups',\n",
       " 'sqlite-tools-win32-x86-3350500',\n",
       " 'sqlite-tools-win32-x86-3350500.zip',\n",
       " 'Telegram Desktop',\n",
       " 'tf00001226 (1).pptx',\n",
       " 'tf16402467_win32.dotx',\n",
       " 'tf16402488_win32.dotx',\n",
       " 'TypingMaster10demo.exe',\n",
       " 'vlc-3.0.11-win64.exe',\n",
       " '~$09014034_patient_report.doc']"
      ]
     },
     "execution_count": 7,
     "metadata": {},
     "output_type": "execute_result"
    }
   ],
   "source": [
    "os.listdir()"
   ]
  },
  {
   "cell_type": "code",
   "execution_count": 8,
   "id": "d39a547c",
   "metadata": {},
   "outputs": [
    {
     "data": {
      "text/plain": [
       "'C:\\\\Users\\\\Harshal\\\\Downloads'"
      ]
     },
     "execution_count": 8,
     "metadata": {},
     "output_type": "execute_result"
    }
   ],
   "source": [
    "pwd()"
   ]
  },
  {
   "cell_type": "code",
   "execution_count": 11,
   "id": "c1af358f",
   "metadata": {},
   "outputs": [],
   "source": [
    "# This was just for remove duplicate files\n",
    "# os.remove('C://Users//Harshal//Downloads/Programming_Assingment14 (1).docx')"
   ]
  },
  {
   "cell_type": "code",
   "execution_count": 37,
   "id": "53493eea",
   "metadata": {},
   "outputs": [],
   "source": [
    "home = (\"D://iNeuron//Python//Assignments_Question//Basic_Programming_Assignments\")\n",
    "# os.mkdir(home+'//Basic_Programming_Assignments')"
   ]
  },
  {
   "cell_type": "code",
   "execution_count": 135,
   "id": "a0eed126",
   "metadata": {},
   "outputs": [],
   "source": [
    "# a = \"Programming_Assingment\"\n",
    "def search(a):\n",
    "    result=[]\n",
    "    for i in os.listdir():\n",
    "        if i.startswith(a):\n",
    "            result.append(i)\n",
    "\n",
    "    return (f\"\"\"File name starts with '{a}' are:\n",
    "    {result}\"\"\")\n",
    "        "
   ]
  },
  {
   "cell_type": "code",
   "execution_count": 136,
   "id": "e5175809",
   "metadata": {},
   "outputs": [
    {
     "data": {
      "text/plain": [
       "\"File name starts with 'Pro' are:\\n    ['Programming_Assingment1.docx', 'Programming_Assingment10.docx', 'Programming_Assingment11.docx', 'Programming_Assingment12.docx', 'Programming_Assingment13.docx', 'Programming_Assingment14.docx', 'Programming_Assingment15.docx', 'Programming_Assingment16.docx', 'Programming_Assingment17.docx', 'Programming_Assingment18.docx', 'Programming_Assingment19.docx', 'Programming_Assingment2.docx', 'Programming_Assingment20.docx', 'Programming_Assingment21.docx', 'Programming_Assingment22.docx', 'Programming_Assingment23.docx', 'Programming_Assingment24.docx', 'Programming_Assingment25.docx', 'Programming_Assingment3.docx', 'Programming_Assingment4.docx', 'Programming_Assingment5.docx', 'Programming_Assingment6.docx', 'Programming_Assingment7.docx', 'Programming_Assingment8.docx', 'Programming_Assingment9.docx']\""
      ]
     },
     "execution_count": 136,
     "metadata": {},
     "output_type": "execute_result"
    }
   ],
   "source": [
    "search('Pro')"
   ]
  },
  {
   "cell_type": "code",
   "execution_count": 26,
   "id": "25d7989e",
   "metadata": {},
   "outputs": [
    {
     "data": {
      "text/plain": [
       "'C:\\\\Users\\\\Harshal\\\\Downloads'"
      ]
     },
     "execution_count": 26,
     "metadata": {},
     "output_type": "execute_result"
    }
   ],
   "source": [
    "pwd()"
   ]
  },
  {
   "cell_type": "code",
   "execution_count": 27,
   "id": "83345402",
   "metadata": {},
   "outputs": [
    {
     "data": {
      "text/plain": [
       "['1009014034_patient_report (1).docx',\n",
       " '1009014034_patient_report.docx',\n",
       " '1009014034_patient_report.pdf',\n",
       " '1009014034_patient_report1.pdf',\n",
       " '187902987_ExamForm (1).PDF',\n",
       " '187902987_ExamForm.PDF',\n",
       " '2.jpg',\n",
       " '7z1900-x64.exe',\n",
       " 'Abhinav_Abhishek_visualcv_resume (1).docx',\n",
       " 'Anaconda3-2021.05-Windows-x86_64.exe',\n",
       " 'be453b19f0b04eeabe030e4c125879ed0fd8e9623991a94245b16c2ed9b3e775c4183cfe9a011d9fe958b0e6bd11fb2e1d591cad563a43db8a3727a5fb88d41e_JGGPS0490M_08DPS9U_814499.pdf',\n",
       " 'CCleaner V5.01',\n",
       " 'Chatbots-PowerPoint-Backgrounds',\n",
       " 'desktop.ini',\n",
       " 'Git-2.31.1-64-bit.exe',\n",
       " 'github-recovery-codes.txt',\n",
       " 'Harshal Shinde resume.pdf',\n",
       " 'Harshal Shinde-converted.pdf',\n",
       " 'Harshal Shinde.docx',\n",
       " 'IBAWindowsLauncher.zip',\n",
       " 'Illustrator_Set-Up.exe',\n",
       " 'IMG_20200409_231954.jpg',\n",
       " 'IMG_20200805_151619.jpg',\n",
       " 'interview-question-data-science--master.zip',\n",
       " 'Macrium',\n",
       " 'macrium-reflect-free-7-2-4732.exe',\n",
       " 'Microsoft.SkypeApp_kzf8qxf38zg5c!App',\n",
       " 'mysql-installer-community-8.0.25.0.msi',\n",
       " 'pexels-leo-cardelli-1236701.jpg',\n",
       " 'Programming_Assingment1.docx',\n",
       " 'Programming_Assingment10.docx',\n",
       " 'Programming_Assingment11.docx',\n",
       " 'Programming_Assingment12.docx',\n",
       " 'Programming_Assingment13.docx',\n",
       " 'Programming_Assingment14.docx',\n",
       " 'Programming_Assingment15.docx',\n",
       " 'Programming_Assingment16.docx',\n",
       " 'Programming_Assingment17.docx',\n",
       " 'Programming_Assingment18.docx',\n",
       " 'Programming_Assingment19.docx',\n",
       " 'Programming_Assingment2.docx',\n",
       " 'Programming_Assingment20.docx',\n",
       " 'Programming_Assingment21.docx',\n",
       " 'Programming_Assingment22.docx',\n",
       " 'Programming_Assingment23.docx',\n",
       " 'Programming_Assingment24.docx',\n",
       " 'Programming_Assingment25.docx',\n",
       " 'Programming_Assingment3.docx',\n",
       " 'Programming_Assingment4.docx',\n",
       " 'Programming_Assingment5.docx',\n",
       " 'Programming_Assingment6.docx',\n",
       " 'Programming_Assingment7.docx',\n",
       " 'Programming_Assingment8.docx',\n",
       " 'Programming_Assingment9.docx',\n",
       " 'project report of AI Powered Chatbot till 24-05-21 (1).pdf',\n",
       " 'project report of AI Powered Chatbot till 24-05-21.pdf',\n",
       " 'pycharm-community-2020.2.3.exe',\n",
       " 'python-3.7.9-amd64.exe',\n",
       " 'ReflectDLHF.exe',\n",
       " 'sample resume -20191223T164759Z-001.zip',\n",
       " 'sample resume_',\n",
       " 'Setups',\n",
       " 'sqlite-tools-win32-x86-3350500',\n",
       " 'sqlite-tools-win32-x86-3350500.zip',\n",
       " 'Telegram Desktop',\n",
       " 'tf00001226 (1).pptx',\n",
       " 'tf16402467_win32.dotx',\n",
       " 'tf16402488_win32.dotx',\n",
       " 'TypingMaster10demo.exe',\n",
       " 'vlc-3.0.11-win64.exe',\n",
       " '~$09014034_patient_report.doc']"
      ]
     },
     "execution_count": 27,
     "metadata": {},
     "output_type": "execute_result"
    }
   ],
   "source": [
    "os.listdir()"
   ]
  },
  {
   "cell_type": "code",
   "execution_count": null,
   "id": "91d0bf68",
   "metadata": {},
   "outputs": [],
   "source": []
  }
 ],
 "metadata": {
  "kernelspec": {
   "display_name": "Python 3",
   "language": "python",
   "name": "python3"
  },
  "language_info": {
   "codemirror_mode": {
    "name": "ipython",
    "version": 3
   },
   "file_extension": ".py",
   "mimetype": "text/x-python",
   "name": "python",
   "nbconvert_exporter": "python",
   "pygments_lexer": "ipython3",
   "version": "3.7.9"
  }
 },
 "nbformat": 4,
 "nbformat_minor": 5
}
