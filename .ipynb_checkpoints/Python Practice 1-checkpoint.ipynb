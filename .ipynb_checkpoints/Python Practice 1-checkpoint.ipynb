{
 "cells": [
  {
   "cell_type": "markdown",
   "id": "71b2bed9",
   "metadata": {},
   "source": [
    "# 28th Feb live Class\n",
    "---\n",
    "## Python Basics"
   ]
  },
  {
   "cell_type": "markdown",
   "id": "54c6c7d2",
   "metadata": {},
   "source": [
    "### Print statement"
   ]
  },
  {
   "cell_type": "code",
   "execution_count": 1,
   "id": "850267a1",
   "metadata": {},
   "outputs": [
    {
     "name": "stdout",
     "output_type": "stream",
     "text": [
      "This is my first python program\n"
     ]
    }
   ],
   "source": [
    "print(\"This is my first python program\")"
   ]
  },
  {
   "cell_type": "code",
   "execution_count": 2,
   "id": "8b3343ca",
   "metadata": {},
   "outputs": [],
   "source": [
    "# This is also valid syntax in python 2.0 but invalid in Python 3.0\n",
    "# print \"This is first program\"\n",
    "# SyntaxError: Missing parentheses in call to 'print'. Did you mean print(\"This is first program\")?"
   ]
  },
  {
   "cell_type": "markdown",
   "id": "d0f96c20",
   "metadata": {},
   "source": [
    "### Single line and multi-line comment"
   ]
  },
  {
   "cell_type": "code",
   "execution_count": 3,
   "id": "2fa44c94",
   "metadata": {},
   "outputs": [
    {
     "name": "stdout",
     "output_type": "stream",
     "text": [
      "This is single line comment\n"
     ]
    }
   ],
   "source": [
    "# my name is Harsh\n",
    "print(\"This is single line comment\")"
   ]
  },
  {
   "cell_type": "code",
   "execution_count": 4,
   "id": "e0d3e983",
   "metadata": {},
   "outputs": [
    {
     "name": "stdout",
     "output_type": "stream",
     "text": [
      "Above is multi-line comment\n"
     ]
    }
   ],
   "source": [
    "'''This\n",
    "is\n",
    "multi-line\n",
    "comment'''\n",
    "print(\"Above is multi-line comment\")\n"
   ]
  },
  {
   "cell_type": "markdown",
   "id": "641a7a96",
   "metadata": {},
   "source": [
    "### Variable creation\n",
    "* variable is a local or global instance in which we are trying to store a data\n",
    "* if we have to store some data in our main memory (RAM), I have to create some space or location in a main memory by using a name. That name is nothing but the **VARIABLE**\n",
    "* variable names are case sensetive i.e. **'A=10' and 'a=10'** are two different variables."
   ]
  },
  {
   "cell_type": "code",
   "execution_count": 5,
   "id": "2c6dbbd9",
   "metadata": {},
   "outputs": [],
   "source": [
    "a = 10"
   ]
  },
  {
   "cell_type": "code",
   "execution_count": 6,
   "id": "beb6ad6e",
   "metadata": {},
   "outputs": [
    {
     "data": {
      "text/plain": [
       "10"
      ]
     },
     "execution_count": 6,
     "metadata": {},
     "output_type": "execute_result"
    }
   ],
   "source": [
    "a"
   ]
  },
  {
   "cell_type": "code",
   "execution_count": 7,
   "id": "257d475e",
   "metadata": {},
   "outputs": [
    {
     "data": {
      "text/plain": [
       "int"
      ]
     },
     "execution_count": 7,
     "metadata": {},
     "output_type": "execute_result"
    }
   ],
   "source": [
    "# type is used for checking a data type of variable\n",
    "type(a)"
   ]
  },
  {
   "cell_type": "code",
   "execution_count": 8,
   "id": "4a570433",
   "metadata": {},
   "outputs": [],
   "source": [
    "b =\"Harsh\""
   ]
  },
  {
   "cell_type": "code",
   "execution_count": 9,
   "id": "ce006982",
   "metadata": {},
   "outputs": [
    {
     "data": {
      "text/plain": [
       "str"
      ]
     },
     "execution_count": 9,
     "metadata": {},
     "output_type": "execute_result"
    }
   ],
   "source": [
    "type(b)"
   ]
  },
  {
   "cell_type": "code",
   "execution_count": 10,
   "id": "dc1f2af5",
   "metadata": {},
   "outputs": [],
   "source": [
    "a = 23\n",
    "b = 'Harshal'"
   ]
  },
  {
   "cell_type": "code",
   "execution_count": 11,
   "id": "f03fb46d",
   "metadata": {},
   "outputs": [],
   "source": [
    "# we can write above thing in single line also\n",
    "a, b = 23, 'Harshal'"
   ]
  },
  {
   "cell_type": "code",
   "execution_count": 12,
   "id": "efcf73d7",
   "metadata": {},
   "outputs": [
    {
     "data": {
      "text/plain": [
       "23"
      ]
     },
     "execution_count": 12,
     "metadata": {},
     "output_type": "execute_result"
    }
   ],
   "source": [
    "a"
   ]
  },
  {
   "cell_type": "code",
   "execution_count": 13,
   "id": "2bab34d6",
   "metadata": {},
   "outputs": [
    {
     "data": {
      "text/plain": [
       "'Harshal'"
      ]
     },
     "execution_count": 13,
     "metadata": {},
     "output_type": "execute_result"
    }
   ],
   "source": [
    "b"
   ]
  },
  {
   "cell_type": "code",
   "execution_count": 14,
   "id": "4f226359",
   "metadata": {},
   "outputs": [],
   "source": [
    "name = 'Harsh'\n",
    "userid = 'IN001'\n",
    "passwd = 'harshal@123'\n",
    "mail = 'harshalshinde437@gmail.com'"
   ]
  },
  {
   "cell_type": "code",
   "execution_count": 15,
   "id": "96ec294a",
   "metadata": {},
   "outputs": [
    {
     "data": {
      "text/plain": [
       "float"
      ]
     },
     "execution_count": 15,
     "metadata": {},
     "output_type": "execute_result"
    }
   ],
   "source": [
    "a = 2.3423\n",
    "type(a)"
   ]
  },
  {
   "cell_type": "code",
   "execution_count": 16,
   "id": "6ebb5439",
   "metadata": {},
   "outputs": [
    {
     "name": "stdout",
     "output_type": "stream",
     "text": [
      "4\n",
      "0\n"
     ]
    }
   ],
   "source": [
    "print(True + True + True + False + True)\n",
    "print(False - True + True)"
   ]
  },
  {
   "cell_type": "markdown",
   "id": "674567f6",
   "metadata": {},
   "source": [
    "#### complex number in python\n",
    "* We can create a complex number in python also\n",
    "* only 'j' is allowed to create a complex number, you cant use other alphabet for representing 'complex' number in python"
   ]
  },
  {
   "cell_type": "code",
   "execution_count": 17,
   "id": "ca8f9ef7",
   "metadata": {},
   "outputs": [],
   "source": [
    "n = 23 + 7j\n",
    "# 23 is real number and 7j is imaginary number"
   ]
  },
  {
   "cell_type": "code",
   "execution_count": 18,
   "id": "19cec650",
   "metadata": {},
   "outputs": [
    {
     "data": {
      "text/plain": [
       "complex"
      ]
     },
     "execution_count": 18,
     "metadata": {},
     "output_type": "execute_result"
    }
   ],
   "source": [
    "type(n)"
   ]
  },
  {
   "cell_type": "code",
   "execution_count": 19,
   "id": "a89d04aa",
   "metadata": {},
   "outputs": [
    {
     "data": {
      "text/plain": [
       "23.0"
      ]
     },
     "execution_count": 19,
     "metadata": {},
     "output_type": "execute_result"
    }
   ],
   "source": [
    "n.real"
   ]
  },
  {
   "cell_type": "code",
   "execution_count": 20,
   "id": "9e05b261",
   "metadata": {},
   "outputs": [
    {
     "data": {
      "text/plain": [
       "7.0"
      ]
     },
     "execution_count": 20,
     "metadata": {},
     "output_type": "execute_result"
    }
   ],
   "source": [
    "n.imag"
   ]
  },
  {
   "cell_type": "code",
   "execution_count": 21,
   "id": "b416c032",
   "metadata": {},
   "outputs": [],
   "source": [
    "n = 12 + 7j\n",
    "m = 49 + 9j"
   ]
  },
  {
   "cell_type": "code",
   "execution_count": 22,
   "id": "fde9f548",
   "metadata": {},
   "outputs": [
    {
     "data": {
      "text/plain": [
       "(525+451j)"
      ]
     },
     "execution_count": 22,
     "metadata": {},
     "output_type": "execute_result"
    }
   ],
   "source": [
    "n * m"
   ]
  },
  {
   "cell_type": "markdown",
   "id": "db50433e",
   "metadata": {},
   "source": [
    "#### Dynamic typing\n",
    "* python compilar understand type of data by itself. that thing is called as dynamic typing..\n",
    "* python is dynamic programming language"
   ]
  },
  {
   "cell_type": "code",
   "execution_count": 23,
   "id": "93505b03",
   "metadata": {},
   "outputs": [
    {
     "data": {
      "text/plain": [
       "str"
      ]
     },
     "execution_count": 23,
     "metadata": {},
     "output_type": "execute_result"
    }
   ],
   "source": [
    "b = 'sdf'\n",
    "type(b)"
   ]
  },
  {
   "cell_type": "code",
   "execution_count": 24,
   "id": "e0e5ab6e",
   "metadata": {},
   "outputs": [],
   "source": [
    "# 1 + \"Harsh\"\n",
    "# TypeError: unsupported operand type(s) for +: 'int' and 'str'"
   ]
  },
  {
   "cell_type": "markdown",
   "id": "0b75f40d",
   "metadata": {},
   "source": [
    "#### Type casting\n",
    "* as from above line of code, we understood that, python cant perform any operation on hetrogenious datatypes\n",
    "* for that we have to make all data in same type, that why **type casting** method is comes into picture\n",
    "* for below line of code we are type casting '1' into a string data type and then we are performing concatination operation on both data..\n",
    "* **Type casting tries to convert a data into other data type if and only if it is possible.**\n",
    "* we can't type cast any string data like \"harshal\" into int() data type. it will give you a **ValueError**:invalid literal for int() with base 10: 'harshal'\n",
    "* But you can typecast 2310 this number into str() type"
   ]
  },
  {
   "cell_type": "code",
   "execution_count": 25,
   "id": "3075f0ee",
   "metadata": {},
   "outputs": [
    {
     "name": "stdout",
     "output_type": "stream",
     "text": [
      "1Harsh\n",
      "1Harsh\n"
     ]
    }
   ],
   "source": [
    "print(str(1) + \"Harsh\")\n",
    "print('1'+'Harsh') # This is stong typing"
   ]
  },
  {
   "cell_type": "code",
   "execution_count": 26,
   "id": "efbd38fd",
   "metadata": {},
   "outputs": [],
   "source": [
    "# int('harsh')\n",
    "# ValueError: invalid literal for int() with base 10: 'harsh'"
   ]
  },
  {
   "cell_type": "markdown",
   "id": "928bed68",
   "metadata": {},
   "source": [
    "#### Upcasting\n",
    "* upcasting is another concept in python, where in some experssion python gives a output of some int() data into float() data.\n",
    "* lets suppose output of \"10/2\" will always show you in float() type i.e. 5.0, that is nothing but the **Self Upcasting**."
   ]
  },
  {
   "cell_type": "code",
   "execution_count": 27,
   "id": "45fc2b12",
   "metadata": {},
   "outputs": [
    {
     "data": {
      "text/plain": [
       "5.0"
      ]
     },
     "execution_count": 27,
     "metadata": {},
     "output_type": "execute_result"
    }
   ],
   "source": [
    "10/2"
   ]
  },
  {
   "cell_type": "code",
   "execution_count": 28,
   "id": "03d56795",
   "metadata": {},
   "outputs": [],
   "source": [
    "# 'Harsh ' * \"harsh\"\n",
    "# TypeError: can't multiply sequence by non-int of type 'str'"
   ]
  },
  {
   "cell_type": "code",
   "execution_count": 29,
   "id": "99987ad6",
   "metadata": {},
   "outputs": [
    {
     "data": {
      "text/plain": [
       "'harsh Harsh Harsh Harsh '"
      ]
     },
     "execution_count": 29,
     "metadata": {},
     "output_type": "execute_result"
    }
   ],
   "source": [
    "'harsh '+'Harsh '+\"Harsh \"+\"Harsh \""
   ]
  },
  {
   "cell_type": "code",
   "execution_count": 30,
   "id": "53b98803",
   "metadata": {},
   "outputs": [
    {
     "data": {
      "text/plain": [
       "'Harsh Harsh Harsh Harsh '"
      ]
     },
     "execution_count": 30,
     "metadata": {},
     "output_type": "execute_result"
    }
   ],
   "source": [
    "'Harsh '* 4"
   ]
  },
  {
   "cell_type": "markdown",
   "id": "b0e596ea",
   "metadata": {},
   "source": [
    "#### Taking Input from user\n",
    "* We can take input from user and store in a variable.\n",
    "* **input()** is a function which allows to take a input from user and store it in a variable.\n",
    "* by default input() store the data in form of string format."
   ]
  },
  {
   "cell_type": "code",
   "execution_count": 31,
   "id": "89e7a3bc",
   "metadata": {},
   "outputs": [
    {
     "data": {
      "text/plain": [
       "int"
      ]
     },
     "execution_count": 31,
     "metadata": {},
     "output_type": "execute_result"
    }
   ],
   "source": [
    "a = 10\n",
    "type(a)"
   ]
  },
  {
   "cell_type": "code",
   "execution_count": 32,
   "id": "bc246cd1",
   "metadata": {},
   "outputs": [
    {
     "name": "stdout",
     "output_type": "stream",
     "text": [
      "Enter a number:10\n"
     ]
    },
    {
     "data": {
      "text/plain": [
       "str"
      ]
     },
     "execution_count": 32,
     "metadata": {},
     "output_type": "execute_result"
    }
   ],
   "source": [
    "a = input(\"Enter a number:\")\n",
    "type(a)"
   ]
  },
  {
   "cell_type": "markdown",
   "id": "b451420b",
   "metadata": {},
   "source": [
    "### Quick Quiz\n",
    "1. Take a integer input **a,b,c** from user\n",
    "2. perform **(a+b)/c** and store this in a variable **o1**(output1)\n",
    "3. add o1 into some complex var created by you, **o2=o+complex_num**\n",
    "4. **o2+\"your_name\"** Try to concatinate your name with previous output\n"
   ]
  },
  {
   "cell_type": "code",
   "execution_count": 33,
   "id": "6900adc1",
   "metadata": {},
   "outputs": [
    {
     "name": "stdout",
     "output_type": "stream",
     "text": [
      "Enter a number for A:32\n",
      "Enter a number for B:54\n",
      "Enter a number for C:3\n",
      "(32 + 54) / 3 = 28.666666666666668\n",
      "28.666666666666668 + (23+6j) = (51.66666666666667+6j)\n"
     ]
    },
    {
     "data": {
      "text/plain": [
       "'(51.66666666666667+6j) Harshal Shinde'"
      ]
     },
     "execution_count": 33,
     "metadata": {},
     "output_type": "execute_result"
    }
   ],
   "source": [
    "# This is step 1\n",
    "a = int(input(\"Enter a number for A:\"))\n",
    "b = int(input(\"Enter a number for B:\"))\n",
    "c = int(input(\"Enter a number for C:\"))\n",
    "\n",
    "# This is step 2 \n",
    "o1 = (a+b)/c\n",
    "print(f'({a} + {b}) / {c} = {o1}')\n",
    "\n",
    "# This is step 3\n",
    "complex_num = 23+6j\n",
    "o2 = o1 + complex_num\n",
    "print(f'{o1} + {complex_num} = {o2}')\n",
    "\n",
    "# This is step 4\n",
    "# typecasting is needed for 'o2' only then concatination is possible\n",
    "str(o2)+' Harshal Shinde'"
   ]
  },
  {
   "cell_type": "markdown",
   "id": "f3947065",
   "metadata": {},
   "source": [
    "## Decision making statement"
   ]
  },
  {
   "cell_type": "code",
   "execution_count": 34,
   "id": "af28af6c",
   "metadata": {},
   "outputs": [
    {
     "name": "stdout",
     "output_type": "stream",
     "text": [
      "Input a number:64\n"
     ]
    }
   ],
   "source": [
    "a = int(input(\"Input a number:\"))"
   ]
  },
  {
   "cell_type": "markdown",
   "id": "3df03f95",
   "metadata": {},
   "source": [
    "#### Conditional statement (if ... else)"
   ]
  },
  {
   "cell_type": "code",
   "execution_count": 35,
   "id": "0399c1a4",
   "metadata": {},
   "outputs": [
    {
     "name": "stdout",
     "output_type": "stream",
     "text": [
      "I don't want to eat maggie...\n"
     ]
    }
   ],
   "source": [
    "if a < 40:\n",
    "    print(\"I want eat maggie...!\")\n",
    "else:\n",
    "    print(\"I don't want to eat maggie...\")"
   ]
  },
  {
   "cell_type": "markdown",
   "id": "f9c94bd3",
   "metadata": {},
   "source": [
    "#### Conditional statement (if... elif... else)"
   ]
  },
  {
   "cell_type": "code",
   "execution_count": 36,
   "id": "b2119177",
   "metadata": {},
   "outputs": [
    {
     "name": "stdout",
     "output_type": "stream",
     "text": [
      "I want to eat pasta...!\n"
     ]
    }
   ],
   "source": [
    "if a < 40:\n",
    "    print(\"I want eat maggie...!\")\n",
    "elif a > 60:\n",
    "    print(\"I want to eat pasta...!\")\n",
    "else:\n",
    "    print(\"I don't want to eat anything...\")"
   ]
  },
  {
   "cell_type": "markdown",
   "id": "cd74360c",
   "metadata": {},
   "source": [
    "##### This is nested if.. elif.. else kind of statement"
   ]
  },
  {
   "cell_type": "code",
   "execution_count": 37,
   "id": "95d88cdb",
   "metadata": {},
   "outputs": [
    {
     "name": "stdout",
     "output_type": "stream",
     "text": [
      "Enter your salary:45200\n",
      "your salary is good\n",
      "I will rent a car\n"
     ]
    }
   ],
   "source": [
    "salary = int(input(\"Enter your salary:\"))\n",
    "\n",
    "if salary > 1000:\n",
    "    print(\"your salary is good\")\n",
    "    if salary < 5000:\n",
    "        print(\"I will go witn a TATA NANO\")\n",
    "        if True: # this is universal condition..\n",
    "            print('False code')\n",
    "    elif salary < 10000:\n",
    "        print(\"I will go with MARUTI SUZUKI\")\n",
    "    elif salary > 50000:\n",
    "        print(\"I will go with, 'is that a fucking SUPRAAAAAAAAA...?'\")\n",
    "    else:\n",
    "        print(\"I will rent a car\")\n",
    "elif salary > 800:\n",
    "    print(\"I will fo for bike\")\n",
    "elif salary > 500:\n",
    "    print(\"I will go for savings..\")\n",
    "else:\n",
    "    print(\"KHATAM, TATA - BYE BYE\")"
   ]
  },
  {
   "cell_type": "markdown",
   "id": "cbb4bc14",
   "metadata": {},
   "source": [
    "# 6th March Live Class\n",
    "### continue lecture for conditional statements"
   ]
  },
  {
   "cell_type": "markdown",
   "id": "5dc4583a",
   "metadata": {},
   "source": [
    "---\n",
    "### Use of AND , OR , NOT operators in conditional statement\n",
    "* **AND** is use when we need bot condition true at same time\n",
    "* **OR** is use when we need atleat one condition true.\n",
    "* **NOT** is use to invert the statement like False = True, True = False\n",
    "* **AND / OR / NOT** operator performs operations as per their logical properties (Logic tables)\n",
    "---\n",
    "***Logical gates works as follows***\n",
    "### AND gate\n",
    "| A | B |**A AND B** |\n",
    "|:-:|:-:|:-------:|\n",
    "| True | True | **TRUE** |\n",
    "| True | False | **FALSE** |\n",
    "| False | True | **FALSE** |\n",
    "| False| False | **FALSE** |\n",
    "\n",
    "### OR gate\n",
    "| A | B |**A OR B** |\n",
    "|:-:|:-:|:-------:|\n",
    "| True | True | **TRUE** |\n",
    "| True | False | **TRUE** |\n",
    "| False | True | **TRUE** |\n",
    "| False| False | **FALSE** |\n",
    "\n",
    "### NOT gate\n",
    "| B |**A AND B** |\n",
    "|:-:|:-------:|\n",
    " True | **FALSE** |\n",
    " False | **TRUE** |\n"
   ]
  },
  {
   "cell_type": "code",
   "execution_count": 38,
   "id": "445ea4bd",
   "metadata": {},
   "outputs": [
    {
     "name": "stdout",
     "output_type": "stream",
     "text": [
      "Condition is not valid\n"
     ]
    }
   ],
   "source": [
    "a = 10\n",
    "b = 20\n",
    "\n",
    "if a == 10 and b > 20:\n",
    "    print(\"This is Valid statements\")\n",
    "else:\n",
    "    print(\"Condition is not valid\")"
   ]
  },
  {
   "cell_type": "code",
   "execution_count": 39,
   "id": "f8c6fe73",
   "metadata": {},
   "outputs": [
    {
     "name": "stdout",
     "output_type": "stream",
     "text": [
      "This is Valid statements\n"
     ]
    }
   ],
   "source": [
    "a = 10\n",
    "b = 20\n",
    "\n",
    "if a == 10 or b > 20:\n",
    "    print(\"This is Valid statements\")\n",
    "else:\n",
    "    print(\"Condition is not valid\")"
   ]
  },
  {
   "cell_type": "markdown",
   "id": "feb31a66",
   "metadata": {},
   "source": [
    "#### Task:\n",
    "***Take a input from your keyboard as your first name and last name and then try to validate of write multiple condition by yourself***"
   ]
  },
  {
   "cell_type": "code",
   "execution_count": 40,
   "id": "249d1cc3",
   "metadata": {},
   "outputs": [
    {
     "name": "stdout",
     "output_type": "stream",
     "text": [
      "Enter your first name:Harshal Shinde\n",
      "Enter your last name:Shinde\n",
      "Access Denied...! \n",
      "This person is fake....!\n"
     ]
    }
   ],
   "source": [
    "first_name = input(\"Enter your first name:\")\n",
    "last_name = input(\"Enter your last name:\")\n",
    "\n",
    "if first_name == \"Harshal\" and last_name == \"Shinde\":\n",
    "    print('Access Granted...! \\nPerson is orignal...')\n",
    "else:\n",
    "    print(\"Access Denied...! \\nThis person is fake....!\")"
   ]
  },
  {
   "cell_type": "markdown",
   "id": "1f790a11",
   "metadata": {},
   "source": [
    "# Looping statements\n",
    "---\n",
    "## While loop"
   ]
  },
  {
   "cell_type": "code",
   "execution_count": 41,
   "id": "3cbde94d",
   "metadata": {
    "scrolled": true
   },
   "outputs": [
    {
     "name": "stdout",
     "output_type": "stream",
     "text": [
      "0 KM/h\n",
      "1 KM/h\n",
      "2 KM/h\n",
      "3 KM/h\n",
      "4 KM/h\n",
      "5 KM/h\n",
      "6 KM/h\n",
      "7 KM/h\n",
      "8 KM/h\n",
      "9 KM/h\n"
     ]
    }
   ],
   "source": [
    "initial_speed = 0\n",
    "final_speed = 10\n",
    "\n",
    "while initial_speed <= final_speed:\n",
    "    print(initial_speed,\"KM/h\")\n",
    "    initial_speed = initial_speed+1\n",
    "    if initial_speed == final_speed:\n",
    "        break"
   ]
  },
  {
   "cell_type": "code",
   "execution_count": 42,
   "id": "edb597e1",
   "metadata": {},
   "outputs": [
    {
     "name": "stdout",
     "output_type": "stream",
     "text": [
      "0 KM/h\n",
      "1 KM/h\n",
      "2 KM/h\n",
      "3 KM/h\n",
      "4 KM/h\n",
      "5 KM/h\n",
      "6 KM/h\n",
      "7 KM/h\n",
      "8 KM/h\n",
      "9 KM/h\n"
     ]
    }
   ],
   "source": [
    "initial_speed = 0\n",
    "final_speed = 10\n",
    "\n",
    "while initial_speed < final_speed:\n",
    "    print(initial_speed,\"KM/h\")\n",
    "    initial_speed = initial_speed+1"
   ]
  },
  {
   "cell_type": "markdown",
   "id": "5a860757",
   "metadata": {},
   "source": [
    "# 7th March Live class\n",
    "---\n",
    "### Continue to the loops"
   ]
  },
  {
   "cell_type": "code",
   "execution_count": 1,
   "id": "31489502",
   "metadata": {},
   "outputs": [
    {
     "name": "stdout",
     "output_type": "stream",
     "text": [
      "0\n",
      "1\n",
      "2\n",
      "3\n",
      "4\n",
      "5\n",
      "Ok fine\n",
      "Ok fine\n",
      "Ok fine\n",
      "Ok fine\n",
      "No 10 rs notes are avaliable\n"
     ]
    }
   ],
   "source": [
    "notes = 5\n",
    "i = 0\n",
    "j = 0\n",
    "while i <= notes:\n",
    "    print(i)\n",
    "    i += 1 # same as i = i + 1\n",
    "else:\n",
    "    while j <=3:\n",
    "        print(\"Ok fine\")\n",
    "        j += 1\n",
    "    print(\"No 10 rs notes are avaliable\")"
   ]
  },
  {
   "cell_type": "markdown",
   "id": "feb294c0",
   "metadata": {},
   "source": [
    "### For loop"
   ]
  },
  {
   "cell_type": "code",
   "execution_count": 2,
   "id": "25ab9b5a",
   "metadata": {},
   "outputs": [],
   "source": [
    "s = 'My name is Harshal Shinde'"
   ]
  },
  {
   "cell_type": "code",
   "execution_count": 3,
   "id": "e3d3f2e3",
   "metadata": {},
   "outputs": [
    {
     "data": {
      "text/plain": [
       "'ednihS lahsraH si eman yM'"
      ]
     },
     "execution_count": 3,
     "metadata": {},
     "output_type": "execute_result"
    }
   ],
   "source": [
    "s[::-1]"
   ]
  },
  {
   "cell_type": "code",
   "execution_count": 4,
   "id": "37d1fbbd",
   "metadata": {},
   "outputs": [
    {
     "data": {
      "text/plain": [
       "' name is Harshal'"
      ]
     },
     "execution_count": 4,
     "metadata": {},
     "output_type": "execute_result"
    }
   ],
   "source": [
    "s[2:-7]"
   ]
  },
  {
   "cell_type": "code",
   "execution_count": 5,
   "id": "3f1b693b",
   "metadata": {},
   "outputs": [
    {
     "name": "stdout",
     "output_type": "stream",
     "text": [
      "M\n",
      "y\n",
      " \n",
      "n\n",
      "a\n",
      "m\n",
      "e\n",
      " \n",
      "i\n",
      "s\n",
      " \n",
      "H\n",
      "a\n",
      "r\n",
      "s\n",
      "h\n",
      "a\n",
      "l\n",
      " \n",
      "S\n",
      "h\n",
      "i\n",
      "n\n",
      "d\n",
      "e\n"
     ]
    }
   ],
   "source": [
    "for i in s:\n",
    "    print(i)"
   ]
  },
  {
   "cell_type": "code",
   "execution_count": 6,
   "id": "2c1cca49",
   "metadata": {},
   "outputs": [
    {
     "name": "stdout",
     "output_type": "stream",
     "text": [
      "\t M\n",
      "\t Y\n",
      "\t  \n",
      "\t N\n",
      "\t A\n",
      "\t M\n",
      "\t E\n",
      "\t  \n",
      "\t I\n",
      "  I got 'S'\n",
      "\t  \n",
      "\t H\n",
      "\t A\n",
      "\t R\n",
      "  I got 'S'\n",
      "\t H\n",
      "\t A\n",
      "\t L\n",
      "\t  \n",
      "  I got 'S'\n",
      "\t H\n",
      "\t I\n",
      "\t N\n",
      "\t D\n",
      "\t E\n"
     ]
    }
   ],
   "source": [
    "s=s.upper()\n",
    "for i in s:\n",
    "    if i == 'S':\n",
    "        print(f\"  I got '{i}'\")\n",
    "        continue\n",
    "    print('\\t',i)"
   ]
  },
  {
   "cell_type": "code",
   "execution_count": 7,
   "id": "4ca350fb",
   "metadata": {},
   "outputs": [
    {
     "name": "stdout",
     "output_type": "stream",
     "text": [
      "E\n",
      "D\n",
      "N\n",
      "I\n",
      "H\n",
      "S\n",
      " \n",
      "L\n",
      "A\n",
      "H\n",
      "S\n",
      "R\n",
      "A\n",
      "H\n",
      " \n",
      "S\n",
      "I\n",
      " \n",
      "E\n",
      "M\n",
      "A\n",
      "N\n",
      " \n",
      "Y\n",
      "M\n"
     ]
    }
   ],
   "source": [
    "for i in range(len(s)):\n",
    "    print(s[-i-1])"
   ]
  },
  {
   "cell_type": "code",
   "execution_count": 8,
   "id": "fe6bc862",
   "metadata": {},
   "outputs": [
    {
     "name": "stdout",
     "output_type": "stream",
     "text": [
      "M\n",
      "Y\n",
      " \n",
      "A\n",
      "M\n",
      "E\n",
      " \n",
      "I\n",
      "S\n",
      " \n",
      "H\n",
      "A\n",
      "R\n",
      "S\n",
      "H\n",
      "A\n",
      "L\n",
      " \n",
      "S\n",
      "H\n",
      "I\n",
      "D\n",
      "E\n",
      "last char was \"E\"\n",
      "This is else condition\n"
     ]
    }
   ],
   "source": [
    "# else condition in for only executes when completely for loop is executed\n",
    "for i in s:\n",
    "    if i == 'N':\n",
    "        continue\n",
    "    print(i)\n",
    "else:\n",
    "    if i =='E':\n",
    "        print('last char was \"E\"')\n",
    "    print(\"This is else condition\")"
   ]
  },
  {
   "cell_type": "code",
   "execution_count": 10,
   "id": "b98d24d4",
   "metadata": {},
   "outputs": [],
   "source": [
    "s = 'ineuron'\n",
    "ss = \"\"\n",
    "\n",
    "for i in range(len(s)):\n",
    "    if s[i] == 'n':\n",
    "        continue\n",
    "    else:\n",
    "        ss = ss + s[i]"
   ]
  },
  {
   "cell_type": "code",
   "execution_count": 11,
   "id": "aa01a8a2",
   "metadata": {},
   "outputs": [
    {
     "data": {
      "text/plain": [
       "'ieuro'"
      ]
     },
     "execution_count": 11,
     "metadata": {},
     "output_type": "execute_result"
    }
   ],
   "source": [
    "ss"
   ]
  },
  {
   "cell_type": "code",
   "execution_count": 26,
   "id": "694b0919",
   "metadata": {},
   "outputs": [
    {
     "name": "stdout",
     "output_type": "stream",
     "text": [
      "+ \r\n",
      "+ + \r\n",
      "+ + + \r\n",
      "+ + + + \r\n",
      "+ + + + + \r\n",
      "+ + + + + + \r\n",
      "+ + + + + + + \r\n"
     ]
    }
   ],
   "source": [
    "# nested for loop\n",
    "n = 7\n",
    "for i in range(0,n):\n",
    "    for j in range(0,i+1):\n",
    "        print(\"+\", end = \" \")\n",
    "        \n",
    "    print('\\r')"
   ]
  },
  {
   "cell_type": "markdown",
   "id": "6de51195",
   "metadata": {},
   "source": [
    "### Quick Quiz\n",
    " print following pattern\n",
    "    \n",
    "    + + + + + + + \n",
    "      + + + + + \n",
    "        + + + \n",
    "          + "
   ]
  },
  {
   "cell_type": "code",
   "execution_count": 73,
   "id": "343cd083",
   "metadata": {},
   "outputs": [
    {
     "name": "stdout",
     "output_type": "stream",
     "text": [
      "+ + + + + + + \n",
      "  + + + + + \n",
      "    + + + \n",
      "      + \n",
      "        \n"
     ]
    }
   ],
   "source": [
    "n = 4\n",
    "for i in range(n,-1,-1):\n",
    "    for j in range(n-i):\n",
    "        print(\" \", end=\" \")\n",
    "    for j in range(2*i-1):\n",
    "        print(\"+ \",end=\"\")\n",
    "    print()"
   ]
  },
  {
   "cell_type": "code",
   "execution_count": 94,
   "id": "49133684",
   "metadata": {},
   "outputs": [
    {
     "name": "stdout",
     "output_type": "stream",
     "text": [
      "* \r\n",
      "* * \r\n",
      "* * * \r\n",
      "* * * * \r\n",
      "* * * * * \r\n"
     ]
    }
   ],
   "source": [
    "n = 5\n",
    "\n",
    "for i in range(0,n):\n",
    "    for j in range(i):\n",
    "        print(\"\", end=\"\")\n",
    "    for k in range(i+1):\n",
    "        print(\"*\", end=\" \")\n",
    "    print('\\r')"
   ]
  },
  {
   "cell_type": "code",
   "execution_count": null,
   "id": "089614dd",
   "metadata": {},
   "outputs": [],
   "source": []
  }
 ],
 "metadata": {
  "kernelspec": {
   "display_name": "Python 3",
   "language": "python",
   "name": "python3"
  },
  "language_info": {
   "codemirror_mode": {
    "name": "ipython",
    "version": 3
   },
   "file_extension": ".py",
   "mimetype": "text/x-python",
   "name": "python",
   "nbconvert_exporter": "python",
   "pygments_lexer": "ipython3",
   "version": "3.7.9"
  }
 },
 "nbformat": 4,
 "nbformat_minor": 5
}
