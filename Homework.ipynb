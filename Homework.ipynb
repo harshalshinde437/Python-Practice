{
 "cells": [
  {
   "cell_type": "markdown",
   "id": "12efa8ec",
   "metadata": {},
   "source": [
    "# Homework on File automation"
   ]
  },
  {
   "cell_type": "code",
   "execution_count": 4,
   "id": "1a04b0d3",
   "metadata": {},
   "outputs": [],
   "source": [
    "import os\n",
    "import shutil"
   ]
  },
  {
   "cell_type": "code",
   "execution_count": 5,
   "id": "94b62255",
   "metadata": {},
   "outputs": [
    {
     "data": {
      "text/plain": [
       "'D:\\\\iNeuron\\\\Python'"
      ]
     },
     "execution_count": 5,
     "metadata": {},
     "output_type": "execute_result"
    }
   ],
   "source": [
    "pwd()"
   ]
  },
  {
   "cell_type": "code",
   "execution_count": 6,
   "id": "ef1b67a6",
   "metadata": {},
   "outputs": [
    {
     "data": {
      "text/plain": [
       "['.ipynb_checkpoints',\n",
       " 'All_Questions',\n",
       " 'Assignments_Question',\n",
       " 'file_operations',\n",
       " 'Homework.ipynb',\n",
       " 'ineuron practice',\n",
       " 'Python Practice 1.ipynb',\n",
       " 'Python Practice 2.ipynb',\n",
       " 'Python Practice 3.ipynb',\n",
       " 'Python Practice 4.ipynb',\n",
       " 'Task',\n",
       " 'Task_releted_to_PP4']"
      ]
     },
     "execution_count": 6,
     "metadata": {},
     "output_type": "execute_result"
    }
   ],
   "source": [
    "os.listdir()"
   ]
  },
  {
   "cell_type": "code",
   "execution_count": 7,
   "id": "d114fbfa",
   "metadata": {},
   "outputs": [],
   "source": [
    "os.chdir(\"C://Users/Harshal/Downloads/\")"
   ]
  },
  {
   "cell_type": "code",
   "execution_count": 8,
   "id": "6a5e7734",
   "metadata": {},
   "outputs": [],
   "source": [
    "# os.listdir()"
   ]
  },
  {
   "cell_type": "code",
   "execution_count": 9,
   "id": "d39a547c",
   "metadata": {},
   "outputs": [
    {
     "data": {
      "text/plain": [
       "'C:\\\\Users\\\\Harshal\\\\Downloads'"
      ]
     },
     "execution_count": 9,
     "metadata": {},
     "output_type": "execute_result"
    }
   ],
   "source": [
    "pwd()"
   ]
  },
  {
   "cell_type": "code",
   "execution_count": 10,
   "id": "c1af358f",
   "metadata": {},
   "outputs": [],
   "source": [
    "# This was just for remove duplicate files\n",
    "# os.remove('C://Users//Harshal//Downloads/Programming_Assingment14 (1).docx')"
   ]
  },
  {
   "cell_type": "code",
   "execution_count": 11,
   "id": "53493eea",
   "metadata": {},
   "outputs": [],
   "source": [
    "home = (\"D://iNeuron//Python//Assignments_Question//Basic_Programming_Assignments\")\n",
    "# os.mkdir(home+'//Basic_Programming_Assignments')"
   ]
  },
  {
   "cell_type": "code",
   "execution_count": 12,
   "id": "a0eed126",
   "metadata": {},
   "outputs": [],
   "source": [
    "# a = \"Programming_Assingment\"\n",
    "result=[]\n",
    "def search(a):\n",
    "    for i in os.listdir():\n",
    "        if i.startswith(a):\n",
    "            result.append(i)\n",
    "\n",
    "    return (f\"\"\"File name starts with '{a}' are:\n",
    "    {result}\"\"\")"
   ]
  },
  {
   "cell_type": "code",
   "execution_count": 13,
   "id": "e5175809",
   "metadata": {},
   "outputs": [
    {
     "data": {
      "text/plain": [
       "\"File name starts with 'Pro' are:\\n    []\""
      ]
     },
     "execution_count": 13,
     "metadata": {},
     "output_type": "execute_result"
    }
   ],
   "source": [
    "search('Pro')"
   ]
  },
  {
   "cell_type": "code",
   "execution_count": 14,
   "id": "25d7989e",
   "metadata": {},
   "outputs": [],
   "source": [
    "os.chdir(\"D://iNeuron//Python//Assignments_Question//Basic_Programming_Assignments//\")"
   ]
  },
  {
   "cell_type": "code",
   "execution_count": 15,
   "id": "91d0bf68",
   "metadata": {},
   "outputs": [
    {
     "data": {
      "text/plain": [
       "['.ipynb_checkpoints',\n",
       " 'Programming_Assingment1.docx',\n",
       " 'Programming_Assingment10.docx',\n",
       " 'Programming_Assingment11.docx',\n",
       " 'Programming_Assingment12.docx',\n",
       " 'Programming_Assingment13.docx',\n",
       " 'Programming_Assingment14.docx',\n",
       " 'Programming_Assingment15.docx',\n",
       " 'Programming_Assingment16.docx',\n",
       " 'Programming_Assingment17.docx',\n",
       " 'Programming_Assingment18.docx',\n",
       " 'Programming_Assingment19.docx',\n",
       " 'Programming_Assingment2.docx',\n",
       " 'Programming_Assingment20.docx',\n",
       " 'Programming_Assingment21.docx',\n",
       " 'Programming_Assingment22.docx',\n",
       " 'Programming_Assingment23.docx',\n",
       " 'Programming_Assingment24.docx',\n",
       " 'Programming_Assingment25.docx',\n",
       " 'Programming_Assingment3.docx',\n",
       " 'Programming_Assingment4.docx',\n",
       " 'Programming_Assingment5.docx',\n",
       " 'Programming_Assingment6.docx',\n",
       " 'Programming_Assingment7.docx',\n",
       " 'Programming_Assingment8.docx',\n",
       " 'Programming_Assingment9.docx']"
      ]
     },
     "execution_count": 15,
     "metadata": {},
     "output_type": "execute_result"
    }
   ],
   "source": [
    "os.listdir()"
   ]
  },
  {
   "cell_type": "code",
   "execution_count": 16,
   "id": "9f5a96d3",
   "metadata": {},
   "outputs": [],
   "source": [
    "def move(src,dest):\n",
    "    os.chdir(src)\n",
    "    for i in result:\n",
    "        shutil.move(i,dest)\n",
    "        print(f\"{i} moved successfully..!\")"
   ]
  },
  {
   "cell_type": "code",
   "execution_count": 17,
   "id": "82445a13",
   "metadata": {},
   "outputs": [],
   "source": [
    "src=\"C://Users/Harshal/Downloads/\""
   ]
  },
  {
   "cell_type": "code",
   "execution_count": 18,
   "id": "f93baf9c",
   "metadata": {},
   "outputs": [
    {
     "name": "stdout",
     "output_type": "stream",
     "text": [
      "Programming_Assingment1.docx moved successfully..!\n",
      "Programming_Assingment10.docx moved successfully..!\n",
      "Programming_Assingment11.docx moved successfully..!\n",
      "Programming_Assingment12.docx moved successfully..!\n",
      "Programming_Assingment13.docx moved successfully..!\n",
      "Programming_Assingment14.docx moved successfully..!\n",
      "Programming_Assingment15.docx moved successfully..!\n",
      "Programming_Assingment16.docx moved successfully..!\n",
      "Programming_Assingment17.docx moved successfully..!\n",
      "Programming_Assingment18.docx moved successfully..!\n",
      "Programming_Assingment19.docx moved successfully..!\n",
      "Programming_Assingment2.docx moved successfully..!\n",
      "Programming_Assingment20.docx moved successfully..!\n",
      "Programming_Assingment21.docx moved successfully..!\n",
      "Programming_Assingment22.docx moved successfully..!\n",
      "Programming_Assingment23.docx moved successfully..!\n",
      "Programming_Assingment24.docx moved successfully..!\n",
      "Programming_Assingment25.docx moved successfully..!\n",
      "Programming_Assingment3.docx moved successfully..!\n",
      "Programming_Assingment4.docx moved successfully..!\n",
      "Programming_Assingment5.docx moved successfully..!\n",
      "Programming_Assingment6.docx moved successfully..!\n",
      "Programming_Assingment7.docx moved successfully..!\n",
      "Programming_Assingment8.docx moved successfully..!\n",
      "Programming_Assingment9.docx moved successfully..!\n"
     ]
    }
   ],
   "source": [
    "move(src,home)"
   ]
  },
  {
   "cell_type": "code",
   "execution_count": 16,
   "id": "27e3cb0c",
   "metadata": {},
   "outputs": [
    {
     "data": {
      "text/plain": [
       "'D:\\\\iNeuron\\\\Python\\\\Assignments_Question\\\\Basic_Programming_Assignments'"
      ]
     },
     "execution_count": 16,
     "metadata": {},
     "output_type": "execute_result"
    }
   ],
   "source": [
    "pwd()"
   ]
  },
  {
   "cell_type": "code",
   "execution_count": 17,
   "id": "2d2e4f0c",
   "metadata": {},
   "outputs": [
    {
     "data": {
      "text/plain": [
       "['.ipynb_checkpoints',\n",
       " 'Programming_Assingment1.docx',\n",
       " 'Programming_Assingment10.docx',\n",
       " 'Programming_Assingment11.docx',\n",
       " 'Programming_Assingment12.docx',\n",
       " 'Programming_Assingment13.docx',\n",
       " 'Programming_Assingment14.docx',\n",
       " 'Programming_Assingment15.docx',\n",
       " 'Programming_Assingment16.docx',\n",
       " 'Programming_Assingment17.docx',\n",
       " 'Programming_Assingment18.docx',\n",
       " 'Programming_Assingment19.docx',\n",
       " 'Programming_Assingment2.docx',\n",
       " 'Programming_Assingment20.docx',\n",
       " 'Programming_Assingment21.docx',\n",
       " 'Programming_Assingment22.docx',\n",
       " 'Programming_Assingment23.docx',\n",
       " 'Programming_Assingment24.docx',\n",
       " 'Programming_Assingment25.docx',\n",
       " 'Programming_Assingment3.docx',\n",
       " 'Programming_Assingment4.docx',\n",
       " 'Programming_Assingment5.docx',\n",
       " 'Programming_Assingment6.docx',\n",
       " 'Programming_Assingment7.docx',\n",
       " 'Programming_Assingment8.docx',\n",
       " 'Programming_Assingment9.docx']"
      ]
     },
     "execution_count": 17,
     "metadata": {},
     "output_type": "execute_result"
    }
   ],
   "source": [
    "os.listdir()"
   ]
  },
  {
   "cell_type": "code",
   "execution_count": 32,
   "id": "5a19f4ed",
   "metadata": {},
   "outputs": [
    {
     "ename": "TypeError",
     "evalue": "argument should be integer or None, not 'str'",
     "output_type": "error",
     "traceback": [
      "\u001b[1;31m---------------------------------------------------------------------------\u001b[0m",
      "\u001b[1;31mTypeError\u001b[0m                                 Traceback (most recent call last)",
      "\u001b[1;32m<ipython-input-32-4c93254d75dc>\u001b[0m in \u001b[0;36m<module>\u001b[1;34m\u001b[0m\n\u001b[0;32m      4\u001b[0m     \u001b[0mf\u001b[0m \u001b[1;33m=\u001b[0m \u001b[0mopen\u001b[0m\u001b[1;33m(\u001b[0m\u001b[0mi\u001b[0m\u001b[1;33m,\u001b[0m\u001b[1;34m'r+'\u001b[0m\u001b[1;33m)\u001b[0m\u001b[1;33m\u001b[0m\u001b[1;33m\u001b[0m\u001b[0m\n\u001b[0;32m      5\u001b[0m     \u001b[0mf\u001b[0m\u001b[1;33m.\u001b[0m\u001b[0mseek\u001b[0m\u001b[1;33m(\u001b[0m\u001b[1;36m0\u001b[0m\u001b[1;33m)\u001b[0m\u001b[1;33m\u001b[0m\u001b[1;33m\u001b[0m\u001b[0m\n\u001b[1;32m----> 6\u001b[1;33m     \u001b[0mf1\u001b[0m\u001b[1;33m.\u001b[0m\u001b[0mwrite\u001b[0m\u001b[1;33m(\u001b[0m\u001b[1;34mf\"file name:{str(i)}\\n{f.read(i)}\\n\"\u001b[0m\u001b[1;33m)\u001b[0m\u001b[1;33m\u001b[0m\u001b[1;33m\u001b[0m\u001b[0m\n\u001b[0m\u001b[0;32m      7\u001b[0m     \u001b[0mprint\u001b[0m\u001b[1;33m(\u001b[0m\u001b[1;34m\"File added successfully..\"\u001b[0m\u001b[1;33m)\u001b[0m\u001b[1;33m\u001b[0m\u001b[1;33m\u001b[0m\u001b[0m\n\u001b[0;32m      8\u001b[0m     \u001b[0mf\u001b[0m\u001b[1;33m.\u001b[0m\u001b[0mclose\u001b[0m\u001b[1;33m(\u001b[0m\u001b[1;33m)\u001b[0m\u001b[1;33m\u001b[0m\u001b[1;33m\u001b[0m\u001b[0m\n",
      "\u001b[1;31mTypeError\u001b[0m: argument should be integer or None, not 'str'"
     ]
    }
   ],
   "source": []
  },
  {
   "cell_type": "code",
   "execution_count": null,
   "id": "6078d195",
   "metadata": {},
   "outputs": [],
   "source": []
  }
 ],
 "metadata": {
  "kernelspec": {
   "display_name": "Python 3",
   "language": "python",
   "name": "python3"
  },
  "language_info": {
   "codemirror_mode": {
    "name": "ipython",
    "version": 3
   },
   "file_extension": ".py",
   "mimetype": "text/x-python",
   "name": "python",
   "nbconvert_exporter": "python",
   "pygments_lexer": "ipython3",
   "version": "3.7.9"
  }
 },
 "nbformat": 4,
 "nbformat_minor": 5
}
