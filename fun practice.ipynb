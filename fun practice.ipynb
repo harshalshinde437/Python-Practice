{
 "cells": [
  {
   "cell_type": "code",
   "execution_count": 1,
   "id": "ffada8f8",
   "metadata": {},
   "outputs": [
    {
     "name": "stdout",
     "output_type": "stream",
     "text": [
      "12345"
     ]
    }
   ],
   "source": [
    "n=5\n",
    "for i in range(1,n+1):\n",
    "    print(i,end =\"\")"
   ]
  },
  {
   "cell_type": "code",
   "execution_count": 2,
   "id": "66391018",
   "metadata": {},
   "outputs": [],
   "source": [
    "def cap(a):\n",
    "    for i in a.split():\n",
    "        print(i.capitalize(), end = \" \")"
   ]
  },
  {
   "cell_type": "code",
   "execution_count": 3,
   "id": "30efa359",
   "metadata": {},
   "outputs": [
    {
     "name": "stdout",
     "output_type": "stream",
     "text": [
      "Harshal Shinde "
     ]
    }
   ],
   "source": [
    "cap(\"harshal shinde\")"
   ]
  },
  {
   "cell_type": "code",
   "execution_count": 4,
   "id": "6e596523",
   "metadata": {},
   "outputs": [],
   "source": [
    "def solve(s):\n",
    "    for i in s.split():\n",
    "        s = s.replace(i, i.capitalize())\n",
    "    return s"
   ]
  },
  {
   "cell_type": "code",
   "execution_count": 5,
   "id": "2a41117b",
   "metadata": {},
   "outputs": [
    {
     "name": "stdout",
     "output_type": "stream",
     "text": [
      "harshal shinde\n"
     ]
    },
    {
     "data": {
      "text/plain": [
       "'Harshal Shinde'"
      ]
     },
     "execution_count": 5,
     "metadata": {},
     "output_type": "execute_result"
    }
   ],
   "source": [
    "solve(input())"
   ]
  },
  {
   "cell_type": "code",
   "execution_count": 6,
   "id": "4a948938",
   "metadata": {},
   "outputs": [],
   "source": [
    "def minion_game(s):\n",
    "    vovels = \"aAeEiIoOuU\"\n",
    "    kevin = 0\n",
    "    stuart = 0\n",
    "    \n",
    "    for i in range(len(s)):\n",
    "        if s[i] in vovels:\n",
    "            kevin += (len(s)-i)\n",
    "        else:\n",
    "            stuart += (len(s)-i)\n",
    "            \n",
    "    if kevin>stuart:\n",
    "        return (f\"Kevin {kevin}\")\n",
    "    elif stuart>kevin:\n",
    "        return (f\"Stuart {stuart}\")\n",
    "    else:\n",
    "        return \"Draw\""
   ]
  },
  {
   "cell_type": "code",
   "execution_count": 7,
   "id": "e319fe23",
   "metadata": {},
   "outputs": [
    {
     "data": {
      "text/plain": [
       "'Kevin 15'"
      ]
     },
     "execution_count": 7,
     "metadata": {},
     "output_type": "execute_result"
    }
   ],
   "source": [
    "minion_game(\"AEIOU\")"
   ]
  },
  {
   "cell_type": "code",
   "execution_count": 8,
   "id": "acfaee51",
   "metadata": {},
   "outputs": [],
   "source": [
    "def minion_game(string):\n",
    "    # your code goes here\n",
    "    vovels = \"AaEeIiOoUu\"\n",
    "    kevin = 0\n",
    "    stuart = 0\n",
    "    \n",
    "    for i in range(len(string)):\n",
    "        if string[i] in vovels:\n",
    "            kevin += (len(string)-i)\n",
    "        else:\n",
    "            stuart += (len(string)-i)\n",
    "            \n",
    "#     if kevin > stuart:\n",
    "#         result = \"Kevin\",kevin\n",
    "#     elif stuart > kevin:\n",
    "#         result = \"Stuart\",stuart\n",
    "#     else:\n",
    "#         result = \"Draw\"\n",
    "        \n",
    "        \n",
    "    if kevin>stuart:\n",
    "        a = (\"Kevin {}\".format(kevin))\n",
    "    elif stuart>kevin:\n",
    "        a = (\"Stuart {}\".format(stuart))\n",
    "    else:\n",
    "        a = \"Draw\"\n",
    "    \n",
    "    return a"
   ]
  },
  {
   "cell_type": "code",
   "execution_count": 9,
   "id": "d9f4caf6",
   "metadata": {},
   "outputs": [
    {
     "name": "stdout",
     "output_type": "stream",
     "text": [
      "harshalshinde\n"
     ]
    },
    {
     "data": {
      "text/plain": [
       "'Stuart 66'"
      ]
     },
     "execution_count": 9,
     "metadata": {},
     "output_type": "execute_result"
    }
   ],
   "source": [
    "minion_game(input())"
   ]
  },
  {
   "cell_type": "code",
   "execution_count": 10,
   "id": "a8987337",
   "metadata": {},
   "outputs": [
    {
     "name": "stdout",
     "output_type": "stream",
     "text": [
      "0\n",
      "1\n",
      "1\n",
      "2\n"
     ]
    }
   ],
   "source": [
    "x =int(input())\n",
    "y =int(input())\n",
    "z =int(input())\n",
    "n =int(input())\n"
   ]
  },
  {
   "cell_type": "code",
   "execution_count": 11,
   "id": "d8e612ac",
   "metadata": {},
   "outputs": [],
   "source": [
    "# ipdb.set_trace()\n",
    "# print([[a,b,c] for a in range(x+1) for b in range(y+1) for c in range(z+1) if a+b+c!=n])"
   ]
  },
  {
   "cell_type": "code",
   "execution_count": 12,
   "id": "6eed3e75",
   "metadata": {},
   "outputs": [
    {
     "name": "stdout",
     "output_type": "stream",
     "text": [
      "[[0, 1, 1], [0, 1, 1], [0, 1, 1]]\n"
     ]
    }
   ],
   "source": [
    "l = []\n",
    "for i in range(x+1):\n",
    "    for j in range(y+1):\n",
    "        for k in range(z+1):\n",
    "            if i+j+k !=n:\n",
    "                l.append([x,y,z])\n",
    "                \n",
    "print(l)"
   ]
  },
  {
   "cell_type": "code",
   "execution_count": 13,
   "id": "0816f58e",
   "metadata": {},
   "outputs": [],
   "source": [
    "import ipdb"
   ]
  },
  {
   "cell_type": "code",
   "execution_count": 14,
   "id": "b2efb157",
   "metadata": {},
   "outputs": [],
   "source": [
    "def list_comp(x,y,z,n):\n",
    "    ipdb.set_trace()\n",
    "    l = []\n",
    "    for i in range(x+1):\n",
    "        for j in range(y+1):\n",
    "            for k in range(z+1):\n",
    "                if i+j+k !=n:\n",
    "                    l.append([i,j,k])\n",
    "                    print(l)\n",
    "    return l\n",
    "    "
   ]
  },
  {
   "cell_type": "code",
   "execution_count": 15,
   "id": "8fd41ebf",
   "metadata": {},
   "outputs": [],
   "source": [
    "# list_comp(1,1,1,2)"
   ]
  },
  {
   "cell_type": "markdown",
   "id": "dd87077e",
   "metadata": {},
   "source": [
    "## Find the Runner-Up Score!\n",
    "\n",
    "* Given the participants' score sheet for your University Sports Day, you are required to find the runner-up score. You are given  `n` scores. Store them in a list and find the score of the runner-up.\n",
    "\n",
    "#### Input Format\n",
    "\n",
    "* The first line contains `n`. The second line contains an array `A[]` of `n` integers each separated by a space.\n",
    "\n",
    "#### Constraints\n",
    "\n",
    "#### Output Format\n",
    "\n",
    "* Print the runner-up score.\n",
    "\n",
    "* Sample Input 0\n",
    "\n",
    "```\n",
    "5\n",
    "2 3 6 6 5\n",
    "```\n",
    "* Sample Output 0\n",
    "* `5`\n",
    "\n",
    "* Explanation 0\n",
    "\n",
    "* Given list is `[2,3,6,6,5]`. The maximum score is `6`, second maximum is `5`. Hence, we print `5` as the runner-up score."
   ]
  },
  {
   "cell_type": "code",
   "execution_count": 114,
   "id": "41400a89",
   "metadata": {},
   "outputs": [
    {
     "name": "stdout",
     "output_type": "stream",
     "text": [
      "4\n",
      "57 57 -57 57\n",
      "4\n"
     ]
    }
   ],
   "source": [
    "n = int(input())\n",
    "arr = list(map(int, input().split()))\n",
    "arr.append(n)\n",
    "\n",
    "b = [i for i in arr if i<max(arr)]\n",
    "print(max(b))"
   ]
  },
  {
   "cell_type": "code",
   "execution_count": 117,
   "id": "0c4285dd",
   "metadata": {},
   "outputs": [
    {
     "name": "stdout",
     "output_type": "stream",
     "text": [
      "4\n",
      "57 57 -57 57\n",
      "-57\n"
     ]
    }
   ],
   "source": [
    "n=int(input())\n",
    "a=map(int,input().strip().split(\" \"))\n",
    "a=list(a)\n",
    "mx1=a[0]\n",
    "mn=a[0]\n",
    "for i in a:\n",
    "    if(i>mx1):\n",
    "        mx1=i\n",
    "    if(i<mn):\n",
    "        mn=i\n",
    "mx2=mn\n",
    "for i in a :\n",
    "    if(i>mx2 and i<mx1):\n",
    "        mx2=i\n",
    "print(mx2)"
   ]
  },
  {
   "cell_type": "markdown",
   "id": "d83ed3a1",
   "metadata": {},
   "source": [
    "# 9999 Word Seek Problem\n",
    "\n",
    "Given a grid of letters, find the words in the grid. The letters can be in straight sequence in any of the 8 directions from the first character of the word. All words might not be in the grid. Print the word and the start row and column position for each word that is found. For words that are not found, print -1 for both the row and column position. All indices start from 0\n",
    "\n",
    "Sample Input - Here is a 4x4 grid of letters as sample input. The grid is followed the by the words to find after a blank line. All characters will be in upper case.\n",
    "\n",
    "    Grid\n",
    "        ABCD\n",
    "        PRAT\n",
    "        KITA\n",
    "        ANDY\n",
    "\n",
    "    Words:\n",
    "        ANDY\n",
    "        CAT\n",
    "        DOG\n",
    "\n",
    "Sample Output:\n",
    "\n",
    "    ANDY 3 0\n",
    "    CAT 0 2\n",
    "    DOG -1 -1\n",
    "    \n",
    "Another example:\n",
    "TRAP\n",
    "CARD\n",
    "FACT\n",
    "DART\n",
    "\n",
    "CAT\n",
    "DOG\n",
    "FACT\n",
    "\n",
    "Output:\n",
    "CAT 2 2\n",
    "DOG -1 -1\n",
    "FACT 2 0\n",
    "The input words are sorted alphabetically. The output words should also be sorted.\n",
    "The accepted solution should have the lowest complexity ie. You should iterate over the grid of characters only once (not once per word). ie. If there are \"n\" words given, don't parse through the grid \"n\" times."
   ]
  },
  {
   "cell_type": "code",
   "execution_count": 17,
   "id": "a78aa396",
   "metadata": {},
   "outputs": [
    {
     "data": {
      "text/plain": [
       "'\\nELEKTRAHTHORGV\\nSILVERAORWTNSH\\nAUAUAWREHSINUP\\nHNERKCTNWHAMRR\\nAFTEHSIITMASFA\\nICYMILDRRNCAEA\\nIEIMAOIEEAERRL\\nWWYTWNDVRMGEIO\\nINVIDIBLEGAGRO\\nTDHSPAEOHDCNOP\\nCIOSKTTZTGEAND\\nHFKOKPRNNLKRMA\\nEBWOMANPAEUTAE\\nUOFALCONPFLSND\\n\\nANTMAN\\nDAREDEVIL \\nDEADPOOL\\nELEKTRA\\nHAWKEYE\\nPUNISHER\\nTHING\\nWITCH\\n'"
      ]
     },
     "execution_count": 17,
     "metadata": {},
     "output_type": "execute_result"
    }
   ],
   "source": [
    "\"\"\"\n",
    "ELEKTRAHTHORGV\n",
    "SILVERAORWTNSH\n",
    "AUAUAWREHSINUP\n",
    "HNERKCTNWHAMRR\n",
    "AFTEHSIITMASFA\n",
    "ICYMILDRRNCAEA\n",
    "IEIMAOIEEAERRL\n",
    "WWYTWNDVRMGEIO\n",
    "INVIDIBLEGAGRO\n",
    "TDHSPAEOHDCNOP\n",
    "CIOSKTTZTGEAND\n",
    "HFKOKPRNNLKRMA\n",
    "EBWOMANPAEUTAE\n",
    "UOFALCONPFLSND\n",
    "\n",
    "ANTMAN\n",
    "DAREDEVIL \n",
    "DEADPOOL\n",
    "ELEKTRA\n",
    "HAWKEYE\n",
    "PUNISHER\n",
    "THING\n",
    "WITCH\n",
    "\"\"\""
   ]
  },
  {
   "cell_type": "code",
   "execution_count": 18,
   "id": "40aebd3c",
   "metadata": {},
   "outputs": [],
   "source": [
    "n =[[\"A\",\"B\",\"C\",\"D\"],[\"P\",\"A\",\"R\",\"T\"],[\"K\",\"I\",\"T\",'A'],[\"A\",'N','D','Y']]"
   ]
  },
  {
   "cell_type": "code",
   "execution_count": 19,
   "id": "586b5bbc",
   "metadata": {},
   "outputs": [
    {
     "name": "stdout",
     "output_type": "stream",
     "text": [
      "[['A', 'B', 'C', 'D'], ['P', 'A', 'R', 'T'], ['K', 'I', 'T', 'A'], ['A', 'N', 'D', 'Y']]\n"
     ]
    }
   ],
   "source": [
    "print(n)"
   ]
  },
  {
   "cell_type": "code",
   "execution_count": 20,
   "id": "ac1f193d",
   "metadata": {},
   "outputs": [],
   "source": [
    "word = \"CAT\"\n",
    "for i in n:\n",
    "    if i == word[0]:\n",
    "        print(i)"
   ]
  },
  {
   "cell_type": "code",
   "execution_count": 21,
   "id": "5ff53134",
   "metadata": {},
   "outputs": [],
   "source": [
    "def word(a):\n",
    "    n =[[\"A\",\"B\",\"C\",\"D\"],[\"P\",\"A\",\"R\",\"T\"],[\"K\",\"I\",\"T\",'A'],[\"A\",'N','D','Y']]\n",
    "    row = len(a)\n",
    "    col = len(a[0])\n",
    "    \n",
    "    for i in range(len(row)):\n",
    "        for j in col:\n",
    "            print(n[i][j])"
   ]
  },
  {
   "cell_type": "code",
   "execution_count": 23,
   "id": "d4b20908",
   "metadata": {},
   "outputs": [],
   "source": [
    "# word(\"CAT\")"
   ]
  },
  {
   "cell_type": "code",
   "execution_count": null,
   "id": "c6c5ddd4",
   "metadata": {},
   "outputs": [],
   "source": []
  },
  {
   "cell_type": "code",
   "execution_count": null,
   "id": "bac3d997",
   "metadata": {},
   "outputs": [],
   "source": [
    "# grid(input(\"Enter a word grid\"))"
   ]
  },
  {
   "cell_type": "code",
   "execution_count": 26,
   "id": "eb058387",
   "metadata": {},
   "outputs": [
    {
     "name": "stdout",
     "output_type": "stream",
     "text": [
      "Enter the no. of grid:4\n",
      "Enter The 1 word:asdf\n",
      "Enter The 2 word:wetg\n",
      "Enter The 3 word:asdg\n",
      "Enter The 4 word:asdf\n",
      "['a', 's', 'd', 'f', 'w', 'e', 't', 'g', 'a', 's', 'd', 'g', 'a', 's', 'd', 'f']\n"
     ]
    }
   ],
   "source": [
    "n = int(input(\"Enter the no. of grid:\"))\n",
    "\n",
    "grid1=[]\n",
    "for i in range(1,n+1):\n",
    "    a = input(f\"Enter The {i} word:\")\n",
    "    if len(a)==n:\n",
    "        grid1.extend(list(a))\n",
    "    else:\n",
    "        print(f\"Enter a word of {n} characters\")\n",
    "\n",
    "print(grid1)"
   ]
  },
  {
   "cell_type": "code",
   "execution_count": 27,
   "id": "45a87d46",
   "metadata": {},
   "outputs": [
    {
     "name": "stdout",
     "output_type": "stream",
     "text": [
      "3\n",
      "['3']\n"
     ]
    }
   ],
   "source": [
    "grid = []\n",
    "a = input().split()\n",
    "# b = a.format_map(\" \")\n",
    "grid.extend(list(a))\n",
    "print(grid)"
   ]
  },
  {
   "cell_type": "code",
   "execution_count": 28,
   "id": "ee160e4c",
   "metadata": {},
   "outputs": [
    {
     "data": {
      "text/plain": [
       "['3']"
      ]
     },
     "execution_count": 28,
     "metadata": {},
     "output_type": "execute_result"
    }
   ],
   "source": [
    "grid"
   ]
  },
  {
   "cell_type": "code",
   "execution_count": 29,
   "id": "617bceb6",
   "metadata": {},
   "outputs": [],
   "source": [
    "# n = int(input(\"Enter the no. of grid:\"))"
   ]
  },
  {
   "cell_type": "code",
   "execution_count": 30,
   "id": "b6d917b4",
   "metadata": {},
   "outputs": [
    {
     "data": {
      "text/plain": [
       "['3']"
      ]
     },
     "execution_count": 30,
     "metadata": {},
     "output_type": "execute_result"
    }
   ],
   "source": [
    "grid"
   ]
  },
  {
   "cell_type": "code",
   "execution_count": 31,
   "id": "85b99769",
   "metadata": {},
   "outputs": [
    {
     "ename": "NameError",
     "evalue": "name 'ELEKTRAHTHORGV1' is not defined",
     "output_type": "error",
     "traceback": [
      "\u001b[1;31m---------------------------------------------------------------------------\u001b[0m",
      "\u001b[1;31mNameError\u001b[0m                                 Traceback (most recent call last)",
      "\u001b[1;32m<ipython-input-31-4de72a6aab45>\u001b[0m in \u001b[0;36m<module>\u001b[1;34m\u001b[0m\n\u001b[1;32m----> 1\u001b[1;33m \u001b[0mELEKTRAHTHORGV1\u001b[0m\u001b[1;33m\u001b[0m\u001b[1;33m\u001b[0m\u001b[0m\n\u001b[0m\u001b[0;32m      2\u001b[0m \u001b[0mSILVERAORWTNSH2\u001b[0m\u001b[1;33m\u001b[0m\u001b[1;33m\u001b[0m\u001b[0m\n\u001b[0;32m      3\u001b[0m \u001b[0mAUAUAWREHSINUP3\u001b[0m\u001b[1;33m\u001b[0m\u001b[1;33m\u001b[0m\u001b[0m\n\u001b[0;32m      4\u001b[0m \u001b[0mHNERKCTNWHAMRR4\u001b[0m\u001b[1;33m\u001b[0m\u001b[1;33m\u001b[0m\u001b[0m\n\u001b[0;32m      5\u001b[0m \u001b[0mAFTEHSIITMASFA5\u001b[0m\u001b[1;33m\u001b[0m\u001b[1;33m\u001b[0m\u001b[0m\n",
      "\u001b[1;31mNameError\u001b[0m: name 'ELEKTRAHTHORGV1' is not defined"
     ]
    }
   ],
   "source": [
    "ELEKTRAHTHORGV1\n",
    "SILVERAORWTNSH2\n",
    "AUAUAWREHSINUP3\n",
    "HNERKCTNWHAMRR4\n",
    "AFTEHSIITMASFA5\n",
    "ICYMILDRRNCAEA6\n",
    "IEIMAOIEEAERRL7\n",
    "WWYTWNDVRMGEIO8\n",
    "INVIDIBLEGAGRO9\n",
    "TDHSPAEOHDCNOP0\n",
    "CIOSKTTZTGEAND1\n",
    "HFKOKPRNNLKRMA2\n",
    "EBWOMANPAEUTAE3\n",
    "UOFALCONPFLSND4\n",
    "harshalshinde43"
   ]
  },
  {
   "cell_type": "markdown",
   "id": "a635bf19",
   "metadata": {},
   "source": [
    "## Word Seek\n",
    "* Please read the instructions carefully. \n",
    "\n",
    " \n",
    "\n",
    "* Given a grid of letters, find the words in the grid. The letters can be in straight sequence in any of the 8 directions from the first character of the word. All words might not be in the grid. Print the word and the start row and column position for each word that is found. For words that are not found, print -1 for both the row and column position. All indices start from 0\n",
    "\n",
    " \n",
    "\n",
    "* The accepted solution should have the lowest complexity ie. You should iterate over the grid of characters only once (not once per word). ie. If there are \"n\" words given, don't parse through the grid \"n\" times.\n",
    "\n",
    " \n",
    "\n",
    "* The input words are sorted alphabetically. The output words should also be sorted.\n",
    "\n",
    " \n",
    "\n",
    "* Sample Input - Here is a 4x4 grid of letters as sample input. The grid is followed the by the words to find after a blank line. All characters will be in upper case.\n",
    "\n",
    " \n",
    "\n",
    "    * ABCD\n",
    "    * PRAT\n",
    "    * KITA\n",
    "    * ANDY\n",
    "\n",
    " \n",
    "Words:\n",
    "ANDY\n",
    "\n",
    "CAT\n",
    "\n",
    "DOG\n",
    "\n",
    " \n",
    "\n",
    "* Sample Output:\n",
    "\n",
    "ANDY 3 0\n",
    "\n",
    "CAT 0 2\n",
    "\n",
    "DOG -1 -1\n",
    "\n",
    " \n",
    "\n",
    "* Another example:\n",
    "\n",
    " \n",
    "\n",
    "TRAP\n",
    "\n",
    "CARD\n",
    "\n",
    "FACT\n",
    "\n",
    "DART\n",
    "\n",
    " \n",
    "\n",
    "CAT\n",
    "\n",
    "DOG\n",
    "\n",
    "FACT\n",
    "\n",
    "\n",
    "* Output:\n",
    "\n",
    "CAT 2 2\n",
    "\n",
    "DOG -1 -1\n",
    "\n",
    "FACT 2 0"
   ]
  },
  {
   "cell_type": "code",
   "execution_count": 32,
   "id": "b64a00a2",
   "metadata": {},
   "outputs": [
    {
     "name": "stdout",
     "output_type": "stream",
     "text": [
      "Enter letters:ELEKTRAHTHORGV SILVERAORWTNSH AUAUAWREHSINUP HNERKCTNWHAMRR AFTEHSIITMASFA ICYMILDRRNCAEA IEIMAOIEEAERRL WWYTWNDVRMGEIO INVIDIBLEGAGRO TDHSPAEOHDCNOP CIOSKTTZTGEAND HFKOKPRNNLKRMA EBWOMANPAEUTAE UOFALCONPFLSND\n",
      "[['E', 'L', 'E', 'K', 'T', 'R', 'A', 'H', 'T', 'H', 'O', 'R', 'G', 'V'], ['S', 'I', 'L', 'V', 'E', 'R', 'A', 'O', 'R', 'W', 'T', 'N', 'S', 'H'], ['A', 'U', 'A', 'U', 'A', 'W', 'R', 'E', 'H', 'S', 'I', 'N', 'U', 'P'], ['H', 'N', 'E', 'R', 'K', 'C', 'T', 'N', 'W', 'H', 'A', 'M', 'R', 'R'], ['A', 'F', 'T', 'E', 'H', 'S', 'I', 'I', 'T', 'M', 'A', 'S', 'F', 'A'], ['I', 'C', 'Y', 'M', 'I', 'L', 'D', 'R', 'R', 'N', 'C', 'A', 'E', 'A'], ['I', 'E', 'I', 'M', 'A', 'O', 'I', 'E', 'E', 'A', 'E', 'R', 'R', 'L'], ['W', 'W', 'Y', 'T', 'W', 'N', 'D', 'V', 'R', 'M', 'G', 'E', 'I', 'O'], ['I', 'N', 'V', 'I', 'D', 'I', 'B', 'L', 'E', 'G', 'A', 'G', 'R', 'O'], ['T', 'D', 'H', 'S', 'P', 'A', 'E', 'O', 'H', 'D', 'C', 'N', 'O', 'P'], ['C', 'I', 'O', 'S', 'K', 'T', 'T', 'Z', 'T', 'G', 'E', 'A', 'N', 'D'], ['H', 'F', 'K', 'O', 'K', 'P', 'R', 'N', 'N', 'L', 'K', 'R', 'M', 'A'], ['E', 'B', 'W', 'O', 'M', 'A', 'N', 'P', 'A', 'E', 'U', 'T', 'A', 'E'], ['U', 'O', 'F', 'A', 'L', 'C', 'O', 'N', 'P', 'F', 'L', 'S', 'N', 'D']]\n"
     ]
    }
   ],
   "source": [
    "l=[]\n",
    "\n",
    "z = input(\"Enter letters:\").split()\n",
    "for i in range(len(z[0])):\n",
    "    if len(z[i]) != len(z[0]):\n",
    "        print(f\"length of {z[i]} is less than {len(z[0])}..\\n it will not added in list..\")\n",
    "    else:\n",
    "        l.append(list(z[i]))\n",
    "        \n",
    "print(l)"
   ]
  },
  {
   "cell_type": "code",
   "execution_count": 33,
   "id": "0366f145",
   "metadata": {},
   "outputs": [],
   "source": [
    "def input_z():\n",
    "    z = input(\"Enter letters:\").split()\n",
    "    l = []\n",
    "    for i in range(len(z)):\n",
    "        if len(z[i]) > len(z):\n",
    "            print(f\"{z[-1]} is an extra element to the list..\\nit will not added to list\")\n",
    "        elif len(z[i]) != len(z):\n",
    "            print(f\"\\nlength of {z[i]} is not equal to {len(z[0])}..\\nIt will not added in list..\")\n",
    "            continue        \n",
    "        else:\n",
    "            l.append(list(z[i]))\n",
    "            \n",
    "    return l"
   ]
  },
  {
   "cell_type": "code",
   "execution_count": 34,
   "id": "6c0446a8",
   "metadata": {},
   "outputs": [
    {
     "name": "stdout",
     "output_type": "stream",
     "text": [
      "Enter letters:ELEKTRAHTHORGV SILVERAORWTNSH AUAUAWREHSINUP HNERKCTNWHAMRR AFTEHSIITMASFA ICYMILDRRNCAEA IEIMAOIEEAERRL WWYTWNDVRMGEIO INVIDIBLEGAGRO TDHSPAEOHDCNOP CIOSKTTZTGEAND HFKOKPRNNLKRMA EBWOMANPAEUTAE UOFALCONPFLSND\n"
     ]
    },
    {
     "data": {
      "text/plain": [
       "[['E', 'L', 'E', 'K', 'T', 'R', 'A', 'H', 'T', 'H', 'O', 'R', 'G', 'V'],\n",
       " ['S', 'I', 'L', 'V', 'E', 'R', 'A', 'O', 'R', 'W', 'T', 'N', 'S', 'H'],\n",
       " ['A', 'U', 'A', 'U', 'A', 'W', 'R', 'E', 'H', 'S', 'I', 'N', 'U', 'P'],\n",
       " ['H', 'N', 'E', 'R', 'K', 'C', 'T', 'N', 'W', 'H', 'A', 'M', 'R', 'R'],\n",
       " ['A', 'F', 'T', 'E', 'H', 'S', 'I', 'I', 'T', 'M', 'A', 'S', 'F', 'A'],\n",
       " ['I', 'C', 'Y', 'M', 'I', 'L', 'D', 'R', 'R', 'N', 'C', 'A', 'E', 'A'],\n",
       " ['I', 'E', 'I', 'M', 'A', 'O', 'I', 'E', 'E', 'A', 'E', 'R', 'R', 'L'],\n",
       " ['W', 'W', 'Y', 'T', 'W', 'N', 'D', 'V', 'R', 'M', 'G', 'E', 'I', 'O'],\n",
       " ['I', 'N', 'V', 'I', 'D', 'I', 'B', 'L', 'E', 'G', 'A', 'G', 'R', 'O'],\n",
       " ['T', 'D', 'H', 'S', 'P', 'A', 'E', 'O', 'H', 'D', 'C', 'N', 'O', 'P'],\n",
       " ['C', 'I', 'O', 'S', 'K', 'T', 'T', 'Z', 'T', 'G', 'E', 'A', 'N', 'D'],\n",
       " ['H', 'F', 'K', 'O', 'K', 'P', 'R', 'N', 'N', 'L', 'K', 'R', 'M', 'A'],\n",
       " ['E', 'B', 'W', 'O', 'M', 'A', 'N', 'P', 'A', 'E', 'U', 'T', 'A', 'E'],\n",
       " ['U', 'O', 'F', 'A', 'L', 'C', 'O', 'N', 'P', 'F', 'L', 'S', 'N', 'D']]"
      ]
     },
     "execution_count": 34,
     "metadata": {},
     "output_type": "execute_result"
    }
   ],
   "source": [
    "input_z()"
   ]
  },
  {
   "cell_type": "code",
   "execution_count": 73,
   "id": "254450b0",
   "metadata": {},
   "outputs": [
    {
     "name": "stdout",
     "output_type": "stream",
     "text": [
      "8\n",
      "1 2 3 6\n"
     ]
    },
    {
     "ename": "AttributeError",
     "evalue": "'map' object has no attribute 'extend'",
     "output_type": "error",
     "traceback": [
      "\u001b[1;31m---------------------------------------------------------------------------\u001b[0m",
      "\u001b[1;31mAttributeError\u001b[0m                            Traceback (most recent call last)",
      "\u001b[1;32m<ipython-input-73-ee1783808c9f>\u001b[0m in \u001b[0;36m<module>\u001b[1;34m\u001b[0m\n\u001b[0;32m      2\u001b[0m \u001b[0marr\u001b[0m \u001b[1;33m=\u001b[0m \u001b[1;33m[\u001b[0m\u001b[1;33m]\u001b[0m\u001b[1;33m\u001b[0m\u001b[1;33m\u001b[0m\u001b[0m\n\u001b[0;32m      3\u001b[0m \u001b[0marr\u001b[0m \u001b[1;33m=\u001b[0m \u001b[0mmap\u001b[0m\u001b[1;33m(\u001b[0m\u001b[0mint\u001b[0m\u001b[1;33m,\u001b[0m\u001b[0minput\u001b[0m\u001b[1;33m(\u001b[0m\u001b[1;33m)\u001b[0m\u001b[1;33m.\u001b[0m\u001b[0msplit\u001b[0m\u001b[1;33m(\u001b[0m\u001b[1;33m)\u001b[0m\u001b[1;33m)\u001b[0m\u001b[1;33m\u001b[0m\u001b[1;33m\u001b[0m\u001b[0m\n\u001b[1;32m----> 4\u001b[1;33m \u001b[0marr\u001b[0m\u001b[1;33m.\u001b[0m\u001b[0mextend\u001b[0m\u001b[1;33m(\u001b[0m\u001b[0mn\u001b[0m\u001b[1;33m)\u001b[0m\u001b[1;33m\u001b[0m\u001b[1;33m\u001b[0m\u001b[0m\n\u001b[0m\u001b[0;32m      5\u001b[0m \u001b[1;33m\u001b[0m\u001b[0m\n\u001b[0;32m      6\u001b[0m \u001b[1;32mfor\u001b[0m \u001b[0mi\u001b[0m \u001b[1;32min\u001b[0m \u001b[0marr\u001b[0m\u001b[1;33m:\u001b[0m\u001b[1;33m\u001b[0m\u001b[1;33m\u001b[0m\u001b[0m\n",
      "\u001b[1;31mAttributeError\u001b[0m: 'map' object has no attribute 'extend'"
     ]
    }
   ],
   "source": [
    "n = int(input())\n",
    "arr = []\n",
    "arr = map(int,input().split())\n",
    "arr.extend(n)\n",
    "\n",
    "for i in arr:\n",
    "    print(i, end=\"\")"
   ]
  },
  {
   "cell_type": "code",
   "execution_count": 111,
   "id": "267b4013",
   "metadata": {},
   "outputs": [
    {
     "name": "stdout",
     "output_type": "stream",
     "text": [
      "5\n",
      "2 3 6 6\n",
      "5\n"
     ]
    }
   ],
   "source": [
    "n = int(input())\n",
    "arr = list(map(int, input().split()))\n",
    "arr.append(n)\n",
    "\n",
    "b = [i for i in arr if i<max(arr)]\n",
    "print(max(b))"
   ]
  },
  {
   "cell_type": "code",
   "execution_count": 112,
   "id": "6fadc4cc",
   "metadata": {},
   "outputs": [
    {
     "data": {
      "text/plain": [
       "[2, 3, 5]"
      ]
     },
     "execution_count": 112,
     "metadata": {},
     "output_type": "execute_result"
    }
   ],
   "source": [
    "b"
   ]
  },
  {
   "cell_type": "code",
   "execution_count": 115,
   "id": "262db3a4",
   "metadata": {},
   "outputs": [
    {
     "ename": "SyntaxError",
     "evalue": "invalid syntax (<ipython-input-115-e58340e3513c>, line 6)",
     "output_type": "error",
     "traceback": [
      "\u001b[1;36m  File \u001b[1;32m\"<ipython-input-115-e58340e3513c>\"\u001b[1;36m, line \u001b[1;32m6\u001b[0m\n\u001b[1;33m    print max(l)\u001b[0m\n\u001b[1;37m            ^\u001b[0m\n\u001b[1;31mSyntaxError\u001b[0m\u001b[1;31m:\u001b[0m invalid syntax\n"
     ]
    }
   ],
   "source": [
    "def max(l):\n",
    "    return sorted(set(l))[-2]\n",
    "\n",
    "test = int(raw_input())\n",
    "l = [int(_) for _ in raw_input().split()]\n",
    "print max(l)"
   ]
  },
  {
   "cell_type": "code",
   "execution_count": 116,
   "id": "15a9b101",
   "metadata": {},
   "outputs": [
    {
     "name": "stdout",
     "output_type": "stream",
     "text": [
      "4\n",
      "57 57 -57 57\n",
      "-57\n"
     ]
    }
   ],
   "source": [
    "n=int(input())\n",
    "a=map(int,input().strip().split(\" \"))\n",
    "a=list(a)\n",
    "mx1=a[0]\n",
    "mn=a[0]\n",
    "for i in a:\n",
    "    if(i>mx1):\n",
    "        mx1=i\n",
    "    if(i<mn):\n",
    "        mn=i\n",
    "mx2=mn\n",
    "for i in a :\n",
    "    if(i>mx2 and i<mx1):\n",
    "        mx2=i\n",
    "print(mx2)"
   ]
  },
  {
   "cell_type": "code",
   "execution_count": null,
   "id": "e031197c",
   "metadata": {},
   "outputs": [],
   "source": []
  }
 ],
 "metadata": {
  "kernelspec": {
   "display_name": "Python 3",
   "language": "python",
   "name": "python3"
  },
  "language_info": {
   "codemirror_mode": {
    "name": "ipython",
    "version": 3
   },
   "file_extension": ".py",
   "mimetype": "text/x-python",
   "name": "python",
   "nbconvert_exporter": "python",
   "pygments_lexer": "ipython3",
   "version": "3.7.9"
  }
 },
 "nbformat": 4,
 "nbformat_minor": 5
}
