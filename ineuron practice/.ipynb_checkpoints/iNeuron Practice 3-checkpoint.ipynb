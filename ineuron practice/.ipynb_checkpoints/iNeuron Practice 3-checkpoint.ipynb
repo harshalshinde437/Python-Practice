{
 "cells": [
  {
   "cell_type": "markdown",
   "id": "e8f42a56",
   "metadata": {},
   "source": [
    "# 21st March live Class\n",
    "## Python Functions"
   ]
  },
  {
   "cell_type": "markdown",
   "id": "64409000",
   "metadata": {},
   "source": [
    "* **Function is define using \"def\" keyword**"
   ]
  },
  {
   "cell_type": "code",
   "execution_count": 1,
   "id": "d2ce7c40",
   "metadata": {},
   "outputs": [],
   "source": [
    "def test(a,b):\n",
    "    print(\"Addition is:\",a+b)"
   ]
  },
  {
   "cell_type": "code",
   "execution_count": 2,
   "id": "4d81be80",
   "metadata": {},
   "outputs": [],
   "source": [
    "q=3"
   ]
  },
  {
   "cell_type": "code",
   "execution_count": 3,
   "id": "35ae62e1",
   "metadata": {},
   "outputs": [],
   "source": [
    "# test(32,q) + 6\n",
    "# it will give an error"
   ]
  },
  {
   "cell_type": "code",
   "execution_count": 4,
   "id": "85e7816b",
   "metadata": {},
   "outputs": [
    {
     "name": "stdout",
     "output_type": "stream",
     "text": [
      "Addition is: 35\n"
     ]
    },
    {
     "data": {
      "text/plain": [
       "NoneType"
      ]
     },
     "execution_count": 4,
     "metadata": {},
     "output_type": "execute_result"
    }
   ],
   "source": [
    "type(test(32,q))"
   ]
  },
  {
   "cell_type": "code",
   "execution_count": 5,
   "id": "df8536e1",
   "metadata": {},
   "outputs": [],
   "source": [
    "def test1(x,y):\n",
    "    return x * y"
   ]
  },
  {
   "cell_type": "code",
   "execution_count": 6,
   "id": "ead1671e",
   "metadata": {},
   "outputs": [
    {
     "data": {
      "text/plain": [
       "16"
      ]
     },
     "execution_count": 6,
     "metadata": {},
     "output_type": "execute_result"
    }
   ],
   "source": [
    "test1(2,5) + 6"
   ]
  },
  {
   "cell_type": "code",
   "execution_count": 7,
   "id": "253a0710",
   "metadata": {},
   "outputs": [
    {
     "data": {
      "text/plain": [
       "int"
      ]
     },
     "execution_count": 7,
     "metadata": {},
     "output_type": "execute_result"
    }
   ],
   "source": [
    "type(test1(2,5) + 6)"
   ]
  },
  {
   "cell_type": "code",
   "execution_count": 8,
   "id": "c365c9e5",
   "metadata": {},
   "outputs": [],
   "source": [
    "a = test1(2,9)"
   ]
  },
  {
   "cell_type": "code",
   "execution_count": 9,
   "id": "111f5fb1",
   "metadata": {},
   "outputs": [
    {
     "name": "stdout",
     "output_type": "stream",
     "text": [
      "Addition is: 11\n"
     ]
    }
   ],
   "source": [
    "b = test(2,9)"
   ]
  },
  {
   "cell_type": "code",
   "execution_count": 10,
   "id": "b021c48f",
   "metadata": {},
   "outputs": [
    {
     "data": {
      "text/plain": [
       "(18, None)"
      ]
     },
     "execution_count": 10,
     "metadata": {},
     "output_type": "execute_result"
    }
   ],
   "source": [
    "a,b"
   ]
  },
  {
   "cell_type": "code",
   "execution_count": 11,
   "id": "701a454d",
   "metadata": {},
   "outputs": [],
   "source": [
    "def test3(p,q,r):\n",
    "    return p+q*r"
   ]
  },
  {
   "cell_type": "code",
   "execution_count": 12,
   "id": "bf52066b",
   "metadata": {},
   "outputs": [
    {
     "data": {
      "text/plain": [
       "int"
      ]
     },
     "execution_count": 12,
     "metadata": {},
     "output_type": "execute_result"
    }
   ],
   "source": [
    "type(test3(2,4,5))"
   ]
  },
  {
   "cell_type": "code",
   "execution_count": 13,
   "id": "2f98fe92",
   "metadata": {},
   "outputs": [],
   "source": [
    "def test4(p,q):\n",
    "    return p*p, q**3,p+q"
   ]
  },
  {
   "cell_type": "code",
   "execution_count": 14,
   "id": "6e755cf9",
   "metadata": {},
   "outputs": [
    {
     "name": "stdout",
     "output_type": "stream",
     "text": [
      "<class 'tuple'>\n"
     ]
    },
    {
     "data": {
      "text/plain": [
       "(9, 125, 8)"
      ]
     },
     "execution_count": 14,
     "metadata": {},
     "output_type": "execute_result"
    }
   ],
   "source": [
    "print(type(test4(3,5)))\n",
    "test4(3,5)"
   ]
  },
  {
   "cell_type": "code",
   "execution_count": 15,
   "id": "8ce6ad14",
   "metadata": {},
   "outputs": [
    {
     "name": "stdout",
     "output_type": "stream",
     "text": [
      "9\n",
      "125\n",
      "8\n"
     ]
    }
   ],
   "source": [
    "# we can store these output values in 3 different variables\n",
    "x,y,z = test4(3,5)\n",
    "print(x)\n",
    "print(y)\n",
    "print(z)"
   ]
  },
  {
   "cell_type": "code",
   "execution_count": 16,
   "id": "6d72041f",
   "metadata": {},
   "outputs": [
    {
     "name": "stdout",
     "output_type": "stream",
     "text": [
      "16\n",
      "14\n",
      "14\n"
     ]
    }
   ],
   "source": [
    "'''suppose we are not intrested in 3rd operation, \n",
    "and we dont want to store that in variable.'''\n",
    "x, _ , _ = test4(4,10)\n",
    "'''We are using placeholder as underscore \"_\"'''\n",
    "print(x)\n",
    "print(_)\n",
    "print( _ ) "
   ]
  },
  {
   "cell_type": "code",
   "execution_count": 17,
   "id": "5a90a2c0",
   "metadata": {},
   "outputs": [],
   "source": [
    "def test5():\n",
    "    return 'This is function'"
   ]
  },
  {
   "cell_type": "code",
   "execution_count": 18,
   "id": "66db650f",
   "metadata": {},
   "outputs": [
    {
     "data": {
      "text/plain": [
       "'This is function asdfdasfa'"
      ]
     },
     "execution_count": 18,
     "metadata": {},
     "output_type": "execute_result"
    }
   ],
   "source": [
    "test5()+' asdfdasfa'"
   ]
  },
  {
   "cell_type": "code",
   "execution_count": 19,
   "id": "3e81467f",
   "metadata": {},
   "outputs": [],
   "source": [
    "def test6():\n",
    "    print('This is function')"
   ]
  },
  {
   "cell_type": "code",
   "execution_count": 20,
   "id": "9257fd61",
   "metadata": {},
   "outputs": [],
   "source": [
    "# test6()+' asdfdasfa'\n",
    "# it will give an error: TypeError: unsupported operand type(s) for +: 'NoneType' and 'str'\n"
   ]
  },
  {
   "cell_type": "code",
   "execution_count": 21,
   "id": "c5b5749a",
   "metadata": {},
   "outputs": [],
   "source": [
    "def test7(n):\n",
    "    return n * 2"
   ]
  },
  {
   "cell_type": "code",
   "execution_count": 22,
   "id": "59a17ffe",
   "metadata": {},
   "outputs": [
    {
     "data": {
      "text/plain": [
       "[23, 434, 45, 23, 434, 45]"
      ]
     },
     "execution_count": 22,
     "metadata": {},
     "output_type": "execute_result"
    }
   ],
   "source": [
    "test7([23,434,45])\n",
    "# list multiply by 2"
   ]
  },
  {
   "cell_type": "code",
   "execution_count": 23,
   "id": "65a2e204",
   "metadata": {},
   "outputs": [
    {
     "data": {
      "text/plain": [
       "134"
      ]
     },
     "execution_count": 23,
     "metadata": {},
     "output_type": "execute_result"
    }
   ],
   "source": [
    "test7(67)"
   ]
  },
  {
   "cell_type": "code",
   "execution_count": 24,
   "id": "1f774477",
   "metadata": {},
   "outputs": [],
   "source": [
    "def test8(n):\n",
    "    return n, n*3"
   ]
  },
  {
   "cell_type": "code",
   "execution_count": 25,
   "id": "6a6a367b",
   "metadata": {},
   "outputs": [],
   "source": [
    "b=test8([2,4,45,34])"
   ]
  },
  {
   "cell_type": "code",
   "execution_count": 26,
   "id": "78c47ea6",
   "metadata": {},
   "outputs": [
    {
     "data": {
      "text/plain": [
       "[2, 4, 45, 34]"
      ]
     },
     "execution_count": 26,
     "metadata": {},
     "output_type": "execute_result"
    }
   ],
   "source": [
    "b[0]"
   ]
  },
  {
   "cell_type": "code",
   "execution_count": 27,
   "id": "084730ca",
   "metadata": {},
   "outputs": [
    {
     "data": {
      "text/plain": [
       "[2, 4, 45, 34, 2, 4, 45, 34, 2, 4, 45, 34]"
      ]
     },
     "execution_count": 27,
     "metadata": {},
     "output_type": "execute_result"
    }
   ],
   "source": [
    "b[1]"
   ]
  },
  {
   "cell_type": "code",
   "execution_count": 28,
   "id": "dbe96848",
   "metadata": {},
   "outputs": [
    {
     "data": {
      "text/plain": [
       "tuple"
      ]
     },
     "execution_count": 28,
     "metadata": {},
     "output_type": "execute_result"
    }
   ],
   "source": [
    "type(b)"
   ]
  },
  {
   "cell_type": "code",
   "execution_count": 29,
   "id": "5a67c89a",
   "metadata": {},
   "outputs": [],
   "source": [
    "# function with default value\n",
    "'''Note: You can't set default value to the first parameter, \n",
    "because 1st parameter is necessory to take'''\n",
    "def test9(n,m=30):\n",
    "    return n + m"
   ]
  },
  {
   "cell_type": "code",
   "execution_count": 30,
   "id": "a2f92165",
   "metadata": {},
   "outputs": [
    {
     "data": {
      "text/plain": [
       "30"
      ]
     },
     "execution_count": 30,
     "metadata": {},
     "output_type": "execute_result"
    }
   ],
   "source": [
    "test9(20,10)"
   ]
  },
  {
   "cell_type": "code",
   "execution_count": 31,
   "id": "f569990a",
   "metadata": {},
   "outputs": [],
   "source": [
    "def boolx(x=True,y=False):\n",
    "    return x+y"
   ]
  },
  {
   "cell_type": "code",
   "execution_count": 32,
   "id": "eec172cb",
   "metadata": {},
   "outputs": [
    {
     "data": {
      "text/plain": [
       "1"
      ]
     },
     "execution_count": 32,
     "metadata": {},
     "output_type": "execute_result"
    }
   ],
   "source": [
    "boolx()"
   ]
  },
  {
   "cell_type": "code",
   "execution_count": 33,
   "id": "79e252b4",
   "metadata": {},
   "outputs": [],
   "source": [
    "def travel(bike = True, car = False):\n",
    "    plan = bike or car\n",
    "    return bike, car, plan"
   ]
  },
  {
   "cell_type": "code",
   "execution_count": 34,
   "id": "bf5a1d4a",
   "metadata": {},
   "outputs": [
    {
     "data": {
      "text/plain": [
       "(True, False, True)"
      ]
     },
     "execution_count": 34,
     "metadata": {},
     "output_type": "execute_result"
    }
   ],
   "source": [
    "travel(True)"
   ]
  },
  {
   "cell_type": "code",
   "execution_count": 35,
   "id": "79b95e52",
   "metadata": {},
   "outputs": [
    {
     "data": {
      "text/plain": [
       "(True, True, True)"
      ]
     },
     "execution_count": 35,
     "metadata": {},
     "output_type": "execute_result"
    }
   ],
   "source": [
    "travel(car = True)"
   ]
  },
  {
   "cell_type": "markdown",
   "id": "f6157c11",
   "metadata": {},
   "source": [
    "***args**: It is a static function which helps to get \"n\" number of values\n",
    "* It returns data in form of tuples"
   ]
  },
  {
   "cell_type": "code",
   "execution_count": 36,
   "id": "0295951f",
   "metadata": {},
   "outputs": [],
   "source": [
    "'''\"*args\" '''\n",
    "def test10(*args):\n",
    "    return args"
   ]
  },
  {
   "cell_type": "code",
   "execution_count": 37,
   "id": "8d67d9a1",
   "metadata": {},
   "outputs": [
    {
     "data": {
      "text/plain": [
       "('asdfds', 'sdfdas', [213, 34, 56, 686])"
      ]
     },
     "execution_count": 37,
     "metadata": {},
     "output_type": "execute_result"
    }
   ],
   "source": [
    "test10('asdfds','sdfdas',[213,34,56,686])"
   ]
  },
  {
   "cell_type": "code",
   "execution_count": 38,
   "id": "85babaf9",
   "metadata": {},
   "outputs": [
    {
     "data": {
      "text/plain": [
       "tuple"
      ]
     },
     "execution_count": 38,
     "metadata": {},
     "output_type": "execute_result"
    }
   ],
   "source": [
    "type(test10())"
   ]
  },
  {
   "cell_type": "markdown",
   "id": "dbfe582f",
   "metadata": {},
   "source": [
    "### Quick Quiz\n",
    "##### Create a function which will take any no of values and 'return' a concatination of all list"
   ]
  },
  {
   "cell_type": "code",
   "execution_count": 39,
   "id": "005a7e62",
   "metadata": {},
   "outputs": [],
   "source": [
    "def sol(*args):\n",
    "    a=[]\n",
    "    for i in args:\n",
    "        a = a + i\n",
    "    return a"
   ]
  },
  {
   "cell_type": "code",
   "execution_count": 40,
   "id": "eab32256",
   "metadata": {},
   "outputs": [
    {
     "data": {
      "text/plain": [
       "[123, 434, 54, 66, 12, 4, 5, 6, 243, 3, 21, 1, 2, 8, 1, 2]"
      ]
     },
     "execution_count": 40,
     "metadata": {},
     "output_type": "execute_result"
    }
   ],
   "source": [
    "sol([123,434,54,66],[12,4,5,6],[243,3,21,1],[2,8,1,2])"
   ]
  },
  {
   "cell_type": "code",
   "execution_count": 41,
   "id": "78985784",
   "metadata": {},
   "outputs": [],
   "source": [
    "def sol2(*args):\n",
    "    return [i for i in args]"
   ]
  },
  {
   "cell_type": "code",
   "execution_count": 42,
   "id": "1029dd90",
   "metadata": {},
   "outputs": [
    {
     "data": {
      "text/plain": [
       "[[12, 4, 5, 6], [243, 3, 21, 1]]"
      ]
     },
     "execution_count": 42,
     "metadata": {},
     "output_type": "execute_result"
    }
   ],
   "source": [
    "sol2([12,4,5,6],[243,3,21,1])"
   ]
  },
  {
   "cell_type": "code",
   "execution_count": 43,
   "id": "de6e8a32",
   "metadata": {},
   "outputs": [],
   "source": [
    "def sol3(*args):\n",
    "    a=[]\n",
    "    for i in args:\n",
    "        if type(i) == list:\n",
    "            a = a + i\n",
    "            return a \n",
    "        else:\n",
    "            a = 'Given data is not in List format..'\n",
    "            return a "
   ]
  },
  {
   "cell_type": "code",
   "execution_count": 44,
   "id": "a97cea33",
   "metadata": {},
   "outputs": [
    {
     "data": {
      "text/plain": [
       "'Given data is not in List format..'"
      ]
     },
     "execution_count": 44,
     "metadata": {},
     "output_type": "execute_result"
    }
   ],
   "source": [
    "sol3('asdfasdf',1234,[12,4,5,6],[243,3,21,1],[2,8,1,2])"
   ]
  },
  {
   "cell_type": "markdown",
   "id": "5fd70d61",
   "metadata": {},
   "source": [
    "****kwargs** : (keyword argument) \n",
    "* we can provide n number of data in a (\"Key\" : \"Value\") form\n",
    "* It try to return a data in form of dictionary"
   ]
  },
  {
   "cell_type": "code",
   "execution_count": 45,
   "id": "c90dbe01",
   "metadata": {},
   "outputs": [],
   "source": [
    "def test11(**kwargs):\n",
    "    return kwargs"
   ]
  },
  {
   "cell_type": "code",
   "execution_count": 46,
   "id": "3e88c5a3",
   "metadata": {},
   "outputs": [],
   "source": [
    "# test11(23,34,21) \n",
    "# this is not correct way to call this function"
   ]
  },
  {
   "cell_type": "code",
   "execution_count": 47,
   "id": "459098d4",
   "metadata": {},
   "outputs": [
    {
     "data": {
      "text/plain": [
       "{'a': 8, 'b': 2, 'c': [2, 3, 5, 'Harshal'], 'd': 'Harsh'}"
      ]
     },
     "execution_count": 47,
     "metadata": {},
     "output_type": "execute_result"
    }
   ],
   "source": [
    "test11(a = 8,b=2,c=[2,3,5,'Harshal'],d='Harsh')"
   ]
  },
  {
   "cell_type": "code",
   "execution_count": 48,
   "id": "f4669f5a",
   "metadata": {},
   "outputs": [
    {
     "data": {
      "text/plain": [
       "dict"
      ]
     },
     "execution_count": 48,
     "metadata": {},
     "output_type": "execute_result"
    }
   ],
   "source": [
    "type(test11())"
   ]
  },
  {
   "cell_type": "markdown",
   "id": "5336aa54",
   "metadata": {},
   "source": [
    "### Quick Quizz\n",
    "1. Create a function to take any number of a mixed data and try to create a list of seperate data based on data type and return multiple result.\n",
    "2. Create a function which will be able to use *args and *kwargs and it will be able to do all the list value concatination and return a list."
   ]
  },
  {
   "cell_type": "code",
   "execution_count": 49,
   "id": "320aadcf",
   "metadata": {},
   "outputs": [],
   "source": [
    "def sol1(*arg):\n",
    "    a=[]\n",
    "    b=[]\n",
    "    c=[]\n",
    "    d=[]\n",
    "    for i in arg:\n",
    "        if type(i)==int or type(i)==float:\n",
    "            a.append(i)\n",
    "        elif type(i)==list:\n",
    "            b = b+i\n",
    "        elif type(i) == str:\n",
    "            c.append(i)\n",
    "        elif type(i) == tuple:\n",
    "            d.append(i)\n",
    "    print(f'Int = {a} \\nlist = {b}\\nString = {c}\\nTuple = {d}')"
   ]
  },
  {
   "cell_type": "code",
   "execution_count": 50,
   "id": "5a1b41b3",
   "metadata": {},
   "outputs": [
    {
     "name": "stdout",
     "output_type": "stream",
     "text": [
      "Int = [12, 34, 2.23] \n",
      "list = [12, 4, 5, 6, 243, 3, 21, 1]\n",
      "String = ['Harshal', 'Shinde']\n",
      "Tuple = [(2, 8, 1, 2)]\n"
     ]
    }
   ],
   "source": [
    "sol1('Harshal',12,34,[12,4,5,6],2.23,'Shinde',[243,3,21,1],(2,8,1,2))"
   ]
  },
  {
   "cell_type": "code",
   "execution_count": 51,
   "id": "7c34c9a2",
   "metadata": {},
   "outputs": [],
   "source": [
    "# other way to solve question 1 \n",
    "def sol3_1(*args):\n",
    "    dt = {}\n",
    "    for i in args:\n",
    "        if type(i) in dt:\n",
    "            dt[type(i)].append(i)\n",
    "        else:\n",
    "            dt[type(i)] = [i]\n",
    "    return dt"
   ]
  },
  {
   "cell_type": "code",
   "execution_count": 52,
   "id": "d4e2bfe0",
   "metadata": {},
   "outputs": [
    {
     "data": {
      "text/plain": [
       "{str: ['Harshal', 'Shinde'],\n",
       " int: [12, 34],\n",
       " list: [[12, 4, 5, 6], [243, 3, 21, 1]],\n",
       " float: [2.23],\n",
       " tuple: [(2, 8, 1, 2)],\n",
       " bool: [True],\n",
       " complex: [(2+4j)]}"
      ]
     },
     "execution_count": 52,
     "metadata": {},
     "output_type": "execute_result"
    }
   ],
   "source": [
    "sol3_1('Harshal',12,34,[12,4,5,6],2.23,'Shinde',[243,3,21,1],(2,8,1,2),True,2+4j)"
   ]
  },
  {
   "cell_type": "code",
   "execution_count": 53,
   "id": "25b50f11",
   "metadata": {},
   "outputs": [],
   "source": [
    "def sol2(*args,**kwargs):\n",
    "    a=[i for i in args if type(i)== list]\n",
    "    b=[i[1] for i in kwargs.items() if type(i[1]) == list]\n",
    "    return a,b"
   ]
  },
  {
   "cell_type": "code",
   "execution_count": 54,
   "id": "3766e72a",
   "metadata": {},
   "outputs": [
    {
     "data": {
      "text/plain": [
       "([[12, 4, 5, 6], [243, 3, 21, 1]], [])"
      ]
     },
     "execution_count": 54,
     "metadata": {},
     "output_type": "execute_result"
    }
   ],
   "source": [
    "sol2('Harshal',12,34,[12,4,5,6],2.23,'Shinde',[243,3,21,1],(2,8,1,2),a=2,b=4,c=3)"
   ]
  },
  {
   "cell_type": "markdown",
   "id": "c7828281",
   "metadata": {},
   "source": [
    "# ================================"
   ]
  },
  {
   "cell_type": "code",
   "execution_count": 55,
   "id": "4a523ae7",
   "metadata": {},
   "outputs": [],
   "source": [
    "def test12(**kwargs):\n",
    "    for i in kwargs.items():\n",
    "        if type(i[1]) == list:\n",
    "            if 'Harshal' in i[1]:\n",
    "                print(\"Name is avaliable:\",i[1])\n",
    "            else:\n",
    "                print(\"Name is not avaliable\")\n",
    "    return kwargs"
   ]
  },
  {
   "cell_type": "code",
   "execution_count": 56,
   "id": "1200f381",
   "metadata": {},
   "outputs": [
    {
     "name": "stdout",
     "output_type": "stream",
     "text": [
      "Name is avaliable: ['Harshal', 'Shinde', 123.34]\n"
     ]
    },
    {
     "data": {
      "text/plain": [
       "{'b': 23, 'x': 12, 'a': 25, 'c': ['Harshal', 'Shinde', 123.34], 'n': (6+7j)}"
      ]
     },
     "execution_count": 56,
     "metadata": {},
     "output_type": "execute_result"
    }
   ],
   "source": [
    "test12(b=23,x=12,a=25,c=['Harshal','Shinde',123.34],n = 6+7j)"
   ]
  },
  {
   "cell_type": "markdown",
   "id": "12fa7848",
   "metadata": {},
   "source": [
    "# 3rd April Live class \n",
    "## Python Functions"
   ]
  },
  {
   "cell_type": "code",
   "execution_count": 57,
   "id": "5c12dc6c",
   "metadata": {},
   "outputs": [],
   "source": [
    "def test(**kwargs):\n",
    "    return kwargs.items()"
   ]
  },
  {
   "cell_type": "code",
   "execution_count": 58,
   "id": "65f0ae38",
   "metadata": {},
   "outputs": [
    {
     "data": {
      "text/plain": [
       "dict_items([('x', 'Harsh'), ('y', 32), ('z', 51), ('w', 45), ('v', 63)])"
      ]
     },
     "execution_count": 58,
     "metadata": {},
     "output_type": "execute_result"
    }
   ],
   "source": [
    "test(x='Harsh',y=32,z=51,w=45,v=63)"
   ]
  },
  {
   "cell_type": "markdown",
   "id": "52c64485",
   "metadata": {},
   "source": [
    "### Anonymous / Lamda function\n",
    "* we can create a function without defining function name.\n",
    "* we can say that anonymous function / lamda function"
   ]
  },
  {
   "cell_type": "code",
   "execution_count": 59,
   "id": "070c3151",
   "metadata": {},
   "outputs": [],
   "source": [
    "def test(name,mail):\n",
    "    con = name + mail\n",
    "    return mail, name, con"
   ]
  },
  {
   "cell_type": "code",
   "execution_count": 60,
   "id": "b0e86c55",
   "metadata": {},
   "outputs": [
    {
     "data": {
      "text/plain": [
       "('harshalshinde437@gmail.com', 'Harshal', 'Harshalharshalshinde437@gmail.com')"
      ]
     },
     "execution_count": 60,
     "metadata": {},
     "output_type": "execute_result"
    }
   ],
   "source": [
    "test(\"Harshal\",'harshalshinde437@gmail.com')"
   ]
  },
  {
   "cell_type": "code",
   "execution_count": 61,
   "id": "dd4e2dd6",
   "metadata": {},
   "outputs": [],
   "source": [
    "a = 10\n",
    "b = 20\n",
    "def test1(x,y):\n",
    "    return x+y"
   ]
  },
  {
   "cell_type": "code",
   "execution_count": 62,
   "id": "12352240",
   "metadata": {},
   "outputs": [
    {
     "data": {
      "text/plain": [
       "30"
      ]
     },
     "execution_count": 62,
     "metadata": {},
     "output_type": "execute_result"
    }
   ],
   "source": [
    "test1(a,b)"
   ]
  },
  {
   "cell_type": "code",
   "execution_count": 63,
   "id": "e90e3886",
   "metadata": {},
   "outputs": [],
   "source": [
    "m = lambda x,y : x+y"
   ]
  },
  {
   "cell_type": "code",
   "execution_count": 64,
   "id": "adbfa008",
   "metadata": {},
   "outputs": [
    {
     "data": {
      "text/plain": [
       "30"
      ]
     },
     "execution_count": 64,
     "metadata": {},
     "output_type": "execute_result"
    }
   ],
   "source": [
    "m(a,b)"
   ]
  },
  {
   "cell_type": "code",
   "execution_count": 65,
   "id": "1f879f8c",
   "metadata": {},
   "outputs": [
    {
     "data": {
      "text/plain": [
       "'harshalshinde436@gmail.com'"
      ]
     },
     "execution_count": 65,
     "metadata": {},
     "output_type": "execute_result"
    }
   ],
   "source": [
    "m('harshalshinde436','@gmail.com')"
   ]
  },
  {
   "cell_type": "code",
   "execution_count": 66,
   "id": "fb9095fb",
   "metadata": {},
   "outputs": [],
   "source": [
    "b = 'shinde'\n",
    "c = 'Harshal'\n",
    "n = lambda a1,a2: print(a1,a2)"
   ]
  },
  {
   "cell_type": "code",
   "execution_count": 67,
   "id": "4fce39c1",
   "metadata": {},
   "outputs": [
    {
     "name": "stdout",
     "output_type": "stream",
     "text": [
      "shinde Harshal\n"
     ]
    }
   ],
   "source": [
    "n(b,c)"
   ]
  },
  {
   "cell_type": "code",
   "execution_count": 68,
   "id": "fc4e4d43",
   "metadata": {},
   "outputs": [],
   "source": [
    "# Scope of variable\n",
    "r = 10 # global variable\n",
    "def test3(a,b):\n",
    "    r = a/b # local variable\n",
    "    return r"
   ]
  },
  {
   "cell_type": "code",
   "execution_count": 69,
   "id": "ad1b69dc",
   "metadata": {},
   "outputs": [
    {
     "data": {
      "text/plain": [
       "37.5"
      ]
     },
     "execution_count": 69,
     "metadata": {},
     "output_type": "execute_result"
    }
   ],
   "source": [
    "test3(150,4)"
   ]
  },
  {
   "cell_type": "markdown",
   "id": "fd11d000",
   "metadata": {},
   "source": [
    "### Docstring\n",
    "* In case of pythons pre defined functions like \"print()\" or \"input()\" When we press Shift + Tab on that function or execute line \"help(function_name)\", we can see the description of that function.\n",
    "* Same thing we can also see with user defined function as well, but their is no docstring is avaliavble.\n",
    "* So, we can create aur own docstring as shown in below"
   ]
  },
  {
   "cell_type": "code",
   "execution_count": 70,
   "id": "c7de6bd8",
   "metadata": {},
   "outputs": [],
   "source": [
    "def test4():\n",
    "#     this is docstring\n",
    "    '''\n",
    "    this function do nothing, just printing a one silly line.\n",
    "    '''\n",
    "    print(\"My name is harshal\")"
   ]
  },
  {
   "cell_type": "code",
   "execution_count": 71,
   "id": "e10cc3e9",
   "metadata": {},
   "outputs": [
    {
     "name": "stdout",
     "output_type": "stream",
     "text": [
      "Help on function test4 in module __main__:\n",
      "\n",
      "test4()\n",
      "    this function do nothing, just printing a one silly line.\n",
      "\n"
     ]
    }
   ],
   "source": [
    "help(test4)"
   ]
  },
  {
   "cell_type": "markdown",
   "id": "e24d572c",
   "metadata": {},
   "source": [
    "## iterable, iterator and generator"
   ]
  },
  {
   "cell_type": "code",
   "execution_count": 72,
   "id": "b2aa9f62",
   "metadata": {},
   "outputs": [],
   "source": [
    "# a = 'Harshal'\n",
    "a = 10"
   ]
  },
  {
   "cell_type": "code",
   "execution_count": 74,
   "id": "6cb4bc90",
   "metadata": {},
   "outputs": [],
   "source": [
    "# for i in a:\n",
    "#     print(i)"
   ]
  },
  {
   "cell_type": "markdown",
   "id": "83a32eb3",
   "metadata": {},
   "source": [
    "**if their is a condition to iterate a data without using a for loop or any slicing/indexing operation, how can we do that?**\n",
    "* their is a way to access data as follows"
   ]
  },
  {
   "cell_type": "code",
   "execution_count": 77,
   "id": "3727ecc1",
   "metadata": {},
   "outputs": [],
   "source": [
    "# s = 'Harshal'\n",
    "# next(s)"
   ]
  },
  {
   "cell_type": "markdown",
   "id": "5e8ba3c3",
   "metadata": {},
   "source": [
    "### Difference between \"iterable\" and \"iterator\"\n",
    "Sometimes we get 2 kinds of error\n",
    "1. ***'int' object is not iterable***\n",
    "2. ***'str' object is not an iterator***\n",
    "\n",
    "#### iterator : iterator is a kind of entity out of which i can extract a data with  the help of may be a indexes.\n",
    "#### iterable : iterable is a kind of a object from where i will be extract a data\n"
   ]
  },
  {
   "cell_type": "code",
   "execution_count": 78,
   "id": "1d93d5e4",
   "metadata": {},
   "outputs": [],
   "source": [
    "def test(**kwargs):\n",
    "    print(kwargs.items())"
   ]
  },
  {
   "cell_type": "code",
   "execution_count": 79,
   "id": "71348ce4",
   "metadata": {},
   "outputs": [
    {
     "name": "stdout",
     "output_type": "stream",
     "text": [
      "dict_items([('f', 'asd'), ('a', 'asdf'), ('g', 'asdfasdfd')])\n"
     ]
    }
   ],
   "source": [
    "test(f='asd',a=\n",
    "     'asdf',g=\n",
    "    'asdfasdfd',\n",
    ")"
   ]
  },
  {
   "cell_type": "code",
   "execution_count": null,
   "id": "6a578f9d",
   "metadata": {},
   "outputs": [],
   "source": []
  }
 ],
 "metadata": {
  "kernelspec": {
   "display_name": "Python 3",
   "language": "python",
   "name": "python3"
  },
  "language_info": {
   "codemirror_mode": {
    "name": "ipython",
    "version": 3
   },
   "file_extension": ".py",
   "mimetype": "text/x-python",
   "name": "python",
   "nbconvert_exporter": "python",
   "pygments_lexer": "ipython3",
   "version": "3.7.9"
  }
 },
 "nbformat": 4,
 "nbformat_minor": 5
}
