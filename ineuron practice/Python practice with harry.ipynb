{
 "cells": [
  {
   "cell_type": "markdown",
   "id": "bfa858ce",
   "metadata": {},
   "source": [
    "### Loops"
   ]
  },
  {
   "cell_type": "code",
   "execution_count": 1,
   "id": "27535ec3",
   "metadata": {},
   "outputs": [
    {
     "name": "stdout",
     "output_type": "stream",
     "text": [
      "Hello 0\n",
      "Hello 1\n",
      "Hello 2\n",
      "Hello 3\n",
      "Hello 4\n",
      "Hello 5\n",
      "Hello 6\n",
      "Hello 7\n",
      "Hello 8\n",
      "Hello 9\n"
     ]
    }
   ],
   "source": [
    "i = 0\n",
    "while i < 10:\n",
    "    print(\"Hello\",i)\n",
    "    i = i+1"
   ]
  },
  {
   "cell_type": "markdown",
   "id": "adc87ff8",
   "metadata": {},
   "source": [
    "# Quick Quizz\n",
    "### Print 0 to 50 using while loop"
   ]
  },
  {
   "cell_type": "code",
   "execution_count": 2,
   "id": "04592e48",
   "metadata": {},
   "outputs": [
    {
     "name": "stdout",
     "output_type": "stream",
     "text": [
      "0\n",
      "1\n",
      "2\n",
      "3\n",
      "4\n",
      "5\n",
      "6\n",
      "7\n",
      "8\n",
      "9\n",
      "10\n",
      "11\n",
      "12\n",
      "13\n",
      "14\n",
      "15\n",
      "16\n",
      "17\n",
      "18\n",
      "19\n",
      "20\n",
      "21\n",
      "22\n",
      "23\n",
      "24\n",
      "25\n",
      "26\n",
      "27\n",
      "28\n",
      "29\n",
      "30\n",
      "31\n",
      "32\n",
      "33\n",
      "34\n",
      "35\n",
      "36\n",
      "37\n",
      "38\n",
      "39\n",
      "40\n",
      "41\n",
      "42\n",
      "43\n",
      "44\n",
      "45\n",
      "46\n",
      "47\n",
      "48\n",
      "49\n",
      "50\n"
     ]
    }
   ],
   "source": [
    "i = 0\n",
    "while i<=50:\n",
    "    print(i)\n",
    "    i = i+1"
   ]
  },
  {
   "cell_type": "code",
   "execution_count": 3,
   "id": "624d87f4",
   "metadata": {},
   "outputs": [
    {
     "name": "stdout",
     "output_type": "stream",
     "text": [
      "Harshal\n",
      "Harshal\n",
      "Harshal\n",
      "Harshal\n",
      "Harshal\n",
      "Harshal\n"
     ]
    }
   ],
   "source": [
    "i = 0\n",
    "while i<=5:\n",
    "    print('Harshal')\n",
    "    i = i+1"
   ]
  },
  {
   "cell_type": "markdown",
   "id": "67ab8646",
   "metadata": {},
   "source": [
    "#### write a program to print contents of list using while loop"
   ]
  },
  {
   "cell_type": "code",
   "execution_count": 4,
   "id": "f85f5fda",
   "metadata": {},
   "outputs": [],
   "source": [
    "l = ['Harsh',123,'Python','Apache',310,'RR']"
   ]
  },
  {
   "cell_type": "code",
   "execution_count": 5,
   "id": "0c8626cb",
   "metadata": {},
   "outputs": [
    {
     "name": "stdout",
     "output_type": "stream",
     "text": [
      "Harsh\n",
      "123\n",
      "Python\n",
      "Apache\n",
      "310\n",
      "RR\n"
     ]
    }
   ],
   "source": [
    "i = 0\n",
    "while i<len(l):\n",
    "    print(l[i])\n",
    "    i=i+1"
   ]
  },
  {
   "cell_type": "code",
   "execution_count": 6,
   "id": "8f314675",
   "metadata": {},
   "outputs": [
    {
     "name": "stdout",
     "output_type": "stream",
     "text": [
      "Harsh\n",
      "123\n",
      "Python\n",
      "Apache\n",
      "310\n",
      "RR\n"
     ]
    }
   ],
   "source": [
    "for i in l:\n",
    "    print(i)"
   ]
  },
  {
   "cell_type": "code",
   "execution_count": 7,
   "id": "b59ed7de",
   "metadata": {},
   "outputs": [],
   "source": [
    "a=[i for i in range(1,500,2)]\n"
   ]
  },
  {
   "cell_type": "code",
   "execution_count": 8,
   "id": "a718921e",
   "metadata": {},
   "outputs": [
    {
     "name": "stdout",
     "output_type": "stream",
     "text": [
      "Even [0, 2, 4, 6, 8, 10, 12, 14]\n",
      "Odd [1, 3, 5, 7, 9, 11, 13]\n"
     ]
    }
   ],
   "source": [
    "even=[]\n",
    "odd =[]\n",
    "\n",
    "for i in range(0,15):\n",
    "    if i%2==0:\n",
    "        even.append(i)\n",
    "    else:\n",
    "        odd.append(i)\n",
    "        \n",
    "print('Even',even)\n",
    "print('Odd',odd)"
   ]
  },
  {
   "cell_type": "code",
   "execution_count": 9,
   "id": "a79243cc",
   "metadata": {},
   "outputs": [
    {
     "name": "stdout",
     "output_type": "stream",
     "text": [
      "Enter a number:4\n",
      " \n",
      " \n",
      "+  \n",
      "+ +  \n",
      "+ + + "
     ]
    }
   ],
   "source": [
    "n = int(input('Enter a number:'))\n",
    "for i in range(0,n):\n",
    "    print(' ',end='\\n')\n",
    "    for j in range(i):\n",
    "        print('+ ',end='')"
   ]
  },
  {
   "cell_type": "markdown",
   "id": "d3626528",
   "metadata": {},
   "source": [
    "#### write a program to print multiplication table of a given number using while loop"
   ]
  },
  {
   "cell_type": "code",
   "execution_count": 10,
   "id": "853ddfcc",
   "metadata": {},
   "outputs": [
    {
     "name": "stdout",
     "output_type": "stream",
     "text": [
      "Enter a number:5\n",
      "5\n",
      "10\n",
      "15\n",
      "20\n",
      "25\n",
      "30\n",
      "35\n",
      "40\n",
      "45\n",
      "50\n"
     ]
    }
   ],
   "source": [
    "n = int(input('Enter a number:'))\n",
    "i = 1\n",
    "while i<=10:\n",
    "    print(n*i)\n",
    "    i = i+1"
   ]
  },
  {
   "cell_type": "markdown",
   "id": "1117d846",
   "metadata": {},
   "source": [
    "#### write a program to print multiplication table of a given number using for loop"
   ]
  },
  {
   "cell_type": "code",
   "execution_count": 11,
   "id": "1968f251",
   "metadata": {},
   "outputs": [
    {
     "name": "stdout",
     "output_type": "stream",
     "text": [
      "Enter a number:6\n",
      "6 X 1 = 6\n",
      "6 X 2 = 12\n",
      "6 X 3 = 18\n",
      "6 X 4 = 24\n",
      "6 X 5 = 30\n",
      "6 X 6 = 36\n",
      "6 X 7 = 42\n",
      "6 X 8 = 48\n",
      "6 X 9 = 54\n",
      "6 X 10 = 60\n"
     ]
    }
   ],
   "source": [
    "n = int(input('Enter a number:'))\n",
    "\n",
    "for i in range(1,11):\n",
    "    print(f'{n} X {i} = {n*i}')"
   ]
  },
  {
   "cell_type": "markdown",
   "id": "7a5e9c45",
   "metadata": {},
   "source": [
    "### Write a program to greet a person name starts with \"S\""
   ]
  },
  {
   "cell_type": "code",
   "execution_count": 12,
   "id": "308761dd",
   "metadata": {},
   "outputs": [],
   "source": [
    "l1 = ['Harshal','Siddhi','Shivani','Neha','Dipali']"
   ]
  },
  {
   "cell_type": "code",
   "execution_count": 13,
   "id": "f6a78b0a",
   "metadata": {},
   "outputs": [
    {
     "name": "stdout",
     "output_type": "stream",
     "text": [
      "Hello Siddhi\n",
      "Hello Shivani\n"
     ]
    }
   ],
   "source": [
    "for i in l1:\n",
    "    if i.startswith('S'):\n",
    "        print(\"Hello\",i)\n"
   ]
  },
  {
   "cell_type": "markdown",
   "id": "85633dff",
   "metadata": {},
   "source": [
    "### Write a program to find whether a given no is prime or not"
   ]
  },
  {
   "cell_type": "code",
   "execution_count": 50,
   "id": "f5b7fa46",
   "metadata": {},
   "outputs": [
    {
     "name": "stdout",
     "output_type": "stream",
     "text": [
      "Enter a number:1\n",
      "prime\n"
     ]
    }
   ],
   "source": [
    "n = int(input('Enter a number:'))\n",
    "\n",
    "if n>=2:\n",
    "    for i in range(2,n):\n",
    "        if(n%i==0):\n",
    "            print(f'{n} is not prime')\n",
    "            break\n",
    "        else:\n",
    "            print(f'{n} is prime')\n",
    "            break\n",
    "else:\n",
    "    print(f'{n} not is prime')"
   ]
  },
  {
   "cell_type": "code",
   "execution_count": 48,
   "id": "e9192b0a",
   "metadata": {},
   "outputs": [
    {
     "name": "stdout",
     "output_type": "stream",
     "text": [
      "Enter a number:3\n",
      "3 is prime\n"
     ]
    }
   ],
   "source": [
    "n = int(input('Enter a number:'))\n",
    "\n",
    "if n<=1:\n",
    "    prime = False\n",
    "else:\n",
    "    prime = True\n",
    "for i in range(2, n):\n",
    "    if(n%i == 0):\n",
    "        prime = False\n",
    "        break\n",
    "if prime:\n",
    "    print(f'{n} is prime')\n",
    "else:\n",
    "    print(f'{n} is not prime')"
   ]
  },
  {
   "cell_type": "code",
   "execution_count": 28,
   "id": "20a34647",
   "metadata": {},
   "outputs": [
    {
     "name": "stdout",
     "output_type": "stream",
     "text": [
      "2\n",
      "3\n",
      "4\n",
      "5\n"
     ]
    }
   ],
   "source": [
    "for i in range(2,n+1):\n",
    "    print(i)"
   ]
  },
  {
   "cell_type": "code",
   "execution_count": null,
   "id": "81b71573",
   "metadata": {},
   "outputs": [],
   "source": []
  }
 ],
 "metadata": {
  "kernelspec": {
   "display_name": "Python 3",
   "language": "python",
   "name": "python3"
  },
  "language_info": {
   "codemirror_mode": {
    "name": "ipython",
    "version": 3
   },
   "file_extension": ".py",
   "mimetype": "text/x-python",
   "name": "python",
   "nbconvert_exporter": "python",
   "pygments_lexer": "ipython3",
   "version": "3.7.9"
  }
 },
 "nbformat": 4,
 "nbformat_minor": 5
}
