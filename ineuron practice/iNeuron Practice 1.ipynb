{
 "cells": [
  {
   "cell_type": "markdown",
   "id": "c3837cec",
   "metadata": {},
   "source": [
    "# 28th Feb live Class\n",
    "## Python Basics"
   ]
  },
  {
   "cell_type": "code",
   "execution_count": 1,
   "id": "6b6ba4a7",
   "metadata": {},
   "outputs": [
    {
     "name": "stdout",
     "output_type": "stream",
     "text": [
      "This is my first python program\n"
     ]
    }
   ],
   "source": [
    "print (\"This is my first python program\")"
   ]
  },
  {
   "cell_type": "code",
   "execution_count": 2,
   "id": "442d7d4c",
   "metadata": {},
   "outputs": [
    {
     "name": "stdout",
     "output_type": "stream",
     "text": [
      "asdfa\n",
      "asdfasdfsafa\n",
      "asdfasdfasfasfas\n",
      "asdfsadfasfdasfas\n"
     ]
    }
   ],
   "source": [
    "print('''asdfa\n",
    "asdfasdfsafa\n",
    "asdfasdfasfasfas\n",
    "asdfsadfasfdasfas''')"
   ]
  },
  {
   "cell_type": "code",
   "execution_count": 3,
   "id": "fca747ae",
   "metadata": {},
   "outputs": [],
   "source": [
    "a = 392.1"
   ]
  },
  {
   "cell_type": "code",
   "execution_count": 4,
   "id": "528ee7b2",
   "metadata": {
    "scrolled": true
   },
   "outputs": [
    {
     "name": "stdout",
     "output_type": "stream",
     "text": [
      "Value of a is 392.1\n"
     ]
    }
   ],
   "source": [
    "print (f\"Value of a is {a}\")"
   ]
  },
  {
   "cell_type": "code",
   "execution_count": 5,
   "id": "d8d94bf5",
   "metadata": {},
   "outputs": [
    {
     "name": "stdout",
     "output_type": "stream",
     "text": [
      "type of a is <class 'float'>\n"
     ]
    }
   ],
   "source": [
    "print(f\"type of a is {type(a)}\")"
   ]
  },
  {
   "cell_type": "code",
   "execution_count": 6,
   "id": "ec6d8abc",
   "metadata": {},
   "outputs": [
    {
     "name": "stdout",
     "output_type": "stream",
     "text": [
      "\"Hellooooo\"\n"
     ]
    }
   ],
   "source": [
    "b= '\"Hellooooo\"'\n",
    "print(b)"
   ]
  },
  {
   "cell_type": "code",
   "execution_count": 7,
   "id": "ccd01bb2",
   "metadata": {},
   "outputs": [
    {
     "data": {
      "text/plain": [
       "'JElloefasdfas'"
      ]
     },
     "execution_count": 7,
     "metadata": {},
     "output_type": "execute_result"
    }
   ],
   "source": [
    "'JElloefasdfas'"
   ]
  },
  {
   "cell_type": "code",
   "execution_count": 8,
   "id": "8d060f23",
   "metadata": {},
   "outputs": [],
   "source": [
    "name = \"Harshal\"\n",
    "userid = \"Harsh234\"\n",
    "passwd = \"harshanku\"\n",
    "mail = \"harshalshinde438@gmail.com\"\n"
   ]
  },
  {
   "cell_type": "code",
   "execution_count": 9,
   "id": "55e4d68d",
   "metadata": {},
   "outputs": [
    {
     "name": "stdout",
     "output_type": "stream",
     "text": [
      "4\n",
      "0\n"
     ]
    }
   ],
   "source": [
    "print(True + True + True + False + True)\n",
    "print(False - True + True)"
   ]
  },
  {
   "cell_type": "code",
   "execution_count": 10,
   "id": "29bfe219",
   "metadata": {},
   "outputs": [],
   "source": [
    "n = 34 - 6j"
   ]
  },
  {
   "cell_type": "code",
   "execution_count": 11,
   "id": "4f1f7fb6",
   "metadata": {},
   "outputs": [
    {
     "data": {
      "text/plain": [
       "complex"
      ]
     },
     "execution_count": 11,
     "metadata": {},
     "output_type": "execute_result"
    }
   ],
   "source": [
    "type(n)"
   ]
  },
  {
   "cell_type": "code",
   "execution_count": 12,
   "id": "69324186",
   "metadata": {},
   "outputs": [
    {
     "data": {
      "text/plain": [
       "(-6.0, 34.0)"
      ]
     },
     "execution_count": 12,
     "metadata": {},
     "output_type": "execute_result"
    }
   ],
   "source": [
    "n.imag, n.real"
   ]
  },
  {
   "cell_type": "code",
   "execution_count": 13,
   "id": "490b0879",
   "metadata": {},
   "outputs": [
    {
     "data": {
      "text/plain": [
       "'1Harsh'"
      ]
     },
     "execution_count": 13,
     "metadata": {},
     "output_type": "execute_result"
    }
   ],
   "source": [
    "str(1) + \"Harsh\""
   ]
  },
  {
   "cell_type": "code",
   "execution_count": 14,
   "id": "6f3738af",
   "metadata": {},
   "outputs": [
    {
     "data": {
      "text/plain": [
       "' Harshal  Harshal  Harshal  Harshal  Harshal '"
      ]
     },
     "execution_count": 14,
     "metadata": {},
     "output_type": "execute_result"
    }
   ],
   "source": [
    "\" Harshal \" * 5"
   ]
  },
  {
   "cell_type": "code",
   "execution_count": 15,
   "id": "526bc4fd",
   "metadata": {},
   "outputs": [],
   "source": [
    "# a = int(input(\"Enter a name:\"))"
   ]
  },
  {
   "cell_type": "markdown",
   "id": "822a3307",
   "metadata": {},
   "source": [
    "### Quick Quiz"
   ]
  },
  {
   "cell_type": "code",
   "execution_count": 16,
   "id": "efa72738",
   "metadata": {},
   "outputs": [],
   "source": [
    "# a = int(input(\"Enter a Number for a:\"))\n",
    "# b = int(input(\"Enter a Number for b:\"))\n",
    "# c = int(input(\"Enter a Number for c:\"))"
   ]
  },
  {
   "cell_type": "code",
   "execution_count": 17,
   "id": "f02d3f6e",
   "metadata": {},
   "outputs": [],
   "source": [
    "# o1 = a+b/c"
   ]
  },
  {
   "cell_type": "code",
   "execution_count": 18,
   "id": "be8de676",
   "metadata": {},
   "outputs": [],
   "source": [
    "# o2=o1 + 29 + 6j"
   ]
  },
  {
   "cell_type": "code",
   "execution_count": 19,
   "id": "f7b99e08",
   "metadata": {},
   "outputs": [],
   "source": [
    "# str(o2)+\" Harshal\""
   ]
  },
  {
   "cell_type": "markdown",
   "id": "48bf6cd1",
   "metadata": {},
   "source": [
    "## Decision Making statements"
   ]
  },
  {
   "cell_type": "code",
   "execution_count": 20,
   "id": "bbbd08ae",
   "metadata": {},
   "outputs": [],
   "source": [
    "# a = int(input(\"input a number lesser than 34 > \"))"
   ]
  },
  {
   "cell_type": "code",
   "execution_count": 21,
   "id": "d6b30a9c",
   "metadata": {},
   "outputs": [],
   "source": [
    "# if a < 34 :\n",
    "#     print(\"Great job\")\n",
    "# elif a == 34:\n",
    "#     print(\"good job\")\n",
    "# else:\n",
    "#     print(\"read condition again\")"
   ]
  },
  {
   "cell_type": "code",
   "execution_count": 22,
   "id": "bae4533a",
   "metadata": {},
   "outputs": [],
   "source": [
    "# salary = int(input(\"Enter your salary:\"))\n",
    "# if salary >= 1000:\n",
    "#     print(\"I will buy a car..\")\n",
    "# elif salary >= 500:\n",
    "#     print('I will go for bike..')\n",
    "# else:\n",
    "#     print('I will go for savings..')"
   ]
  },
  {
   "cell_type": "markdown",
   "id": "63627f15",
   "metadata": {},
   "source": [
    "#### Nested if else"
   ]
  },
  {
   "cell_type": "code",
   "execution_count": 23,
   "id": "c394062d",
   "metadata": {},
   "outputs": [],
   "source": [
    "# salary = int(input('Enter your salary:'))\n",
    "\n",
    "# if salary >= 1000:\n",
    "#     print('My salary is good...')\n",
    "#     if salary < 5000:\n",
    "#         print(\"I will go with maruti 800 \")\n",
    "#     elif salary < 10000:\n",
    "#         print(\"I will go for i20\")\n",
    "#     elif salary > 50000:\n",
    "#         print(\"I will go for toyota supra\")\n",
    "#     else:\n",
    "#         print(\" i will rent a car\")\n",
    "# elif salary >= 500:\n",
    "#     print('I will go for bike..')\n",
    "# else:\n",
    "#     print('I will go for savings..')"
   ]
  },
  {
   "cell_type": "code",
   "execution_count": 24,
   "id": "07461e29",
   "metadata": {},
   "outputs": [
    {
     "name": "stdout",
     "output_type": "stream",
     "text": [
      "This is valid statement\n"
     ]
    }
   ],
   "source": [
    "a = 10\n",
    "b = 20\n",
    "\n",
    "if a == 10 and b == 20:\n",
    "    print(\"This is valid statement\")\n",
    "elif a == 10 and b < 20:\n",
    "    print(\"This is valid inside the elif statement\")\n",
    "else:\n",
    "    print(\"This is Not valid statement\")"
   ]
  },
  {
   "cell_type": "code",
   "execution_count": 25,
   "id": "8eae7a8b",
   "metadata": {},
   "outputs": [
    {
     "name": "stdout",
     "output_type": "stream",
     "text": [
      "This is valid statement\n"
     ]
    }
   ],
   "source": [
    "# a = int(input(\"Enter 1st Number:\"))\n",
    "# b = int(input(\"Enter 2nd Number:\"))\n",
    "\n",
    "if a == 10 or b == 20:\n",
    "    print(\"This is valid statement\")\n",
    "elif a >= 10 and b < 20:\n",
    "    print(\"This is valid inside the elif statement\")\n",
    "else:\n",
    "    print(\"This is Not valid statement\")"
   ]
  },
  {
   "cell_type": "code",
   "execution_count": 26,
   "id": "399cd16f",
   "metadata": {},
   "outputs": [],
   "source": [
    "# # greater than 3 numbers\n",
    "# a = int(input('Enter a 1st number:'))\n",
    "# b = int(input('Enter a 2nd number:'))\n",
    "# c = int(input('Enter a 3rd number:'))\n",
    "\n",
    "# if a<b>c:\n",
    "#     print(f\"Number {b} is greater than {a} and {c}..\")\n",
    "# elif b<a>c:\n",
    "#     print(f\"Number {a} is greater than {b} and {c}..\")\n",
    "# elif a<c>b:\n",
    "#     print(f\"Number {c} is greater than {a} and {b}..\")\n",
    "# else:\n",
    "#     print(f\"greater is not found...\")"
   ]
  },
  {
   "cell_type": "markdown",
   "id": "0f51f8f6",
   "metadata": {},
   "source": [
    "## Loops"
   ]
  },
  {
   "cell_type": "markdown",
   "id": "a4839f1e",
   "metadata": {},
   "source": [
    "### While loop"
   ]
  },
  {
   "cell_type": "code",
   "execution_count": 27,
   "id": "fb7bde6c",
   "metadata": {},
   "outputs": [
    {
     "name": "stdout",
     "output_type": "stream",
     "text": [
      "10\n",
      "20\n",
      "30\n",
      "40\n",
      "50\n",
      "60\n",
      "70\n",
      "80\n",
      "90\n",
      "100\n"
     ]
    }
   ],
   "source": [
    "a = 0\n",
    "b = 10\n",
    "count = 1\n",
    "while a <= b:\n",
    "    print(count*b)\n",
    "    count = count+1\n",
    "    if count == 11:\n",
    "        break"
   ]
  },
  {
   "cell_type": "code",
   "execution_count": 28,
   "id": "3fe2f42f",
   "metadata": {},
   "outputs": [
    {
     "name": "stdout",
     "output_type": "stream",
     "text": [
      "0 x 1 = 0\n",
      "0 x 2 = 0\n",
      "0 x 3 = 0\n",
      "0 x 4 = 0\n",
      "0 x 5 = 0\n",
      "0 x 6 = 0\n",
      "0 x 7 = 0\n",
      "0 x 8 = 0\n",
      "0 x 9 = 0\n",
      "0 x 10 = 0\n",
      "0 x 11 = 0\n",
      "0 x 12 = 0\n"
     ]
    }
   ],
   "source": [
    "# take a number from user and print a table of that number\n",
    "# a = int(input(\"Enter a number:\"))\n",
    "i = 1\n",
    "while i < 13:\n",
    "    print(f\"{a} x {i} = {a*i}\")\n",
    "    i = i + 1"
   ]
  },
  {
   "cell_type": "code",
   "execution_count": 29,
   "id": "dd63f217",
   "metadata": {},
   "outputs": [],
   "source": [
    "greeting =\"Good Morning \"\n",
    "name = \"Harshal\"\n",
    "c = greeting + name\n"
   ]
  },
  {
   "cell_type": "code",
   "execution_count": 30,
   "id": "8cdb57bb",
   "metadata": {},
   "outputs": [
    {
     "data": {
      "text/plain": [
       "'Good Morning Harshal'"
      ]
     },
     "execution_count": 30,
     "metadata": {},
     "output_type": "execute_result"
    }
   ],
   "source": [
    "c"
   ]
  },
  {
   "cell_type": "code",
   "execution_count": 31,
   "id": "c127d95b",
   "metadata": {},
   "outputs": [],
   "source": [
    "# name = input(\"Enter name: \")\n",
    "# print(\"Good afternoon \"+ name)"
   ]
  },
  {
   "cell_type": "code",
   "execution_count": 32,
   "id": "80c8f652",
   "metadata": {},
   "outputs": [],
   "source": [
    "# name = input(\"Enter name: \")\n",
    "# date = input(\"Enter Date: \")\n",
    "\n",
    "# letter = '''Dear <name>\n",
    "# \\tYou are selected...!!\n",
    "# your joining date is\n",
    "# <date>'''\n",
    "# letter = letter.replace('<name>',name)\n",
    "# letter = letter.replace('<date>',date)"
   ]
  },
  {
   "cell_type": "code",
   "execution_count": 33,
   "id": "0c3e6908",
   "metadata": {},
   "outputs": [],
   "source": [
    "# print(letter)"
   ]
  },
  {
   "cell_type": "code",
   "execution_count": 34,
   "id": "089b7b2b",
   "metadata": {},
   "outputs": [],
   "source": [
    "b = \"This is a the string with double  spaces\""
   ]
  },
  {
   "cell_type": "code",
   "execution_count": 35,
   "id": "115c7afe",
   "metadata": {},
   "outputs": [
    {
     "data": {
      "text/plain": [
       "32"
      ]
     },
     "execution_count": 35,
     "metadata": {},
     "output_type": "execute_result"
    }
   ],
   "source": [
    "b.find(\"  \")"
   ]
  },
  {
   "cell_type": "code",
   "execution_count": 36,
   "id": "bb491ee2",
   "metadata": {},
   "outputs": [],
   "source": [
    "b = b.replace('  ',' ')"
   ]
  },
  {
   "cell_type": "code",
   "execution_count": 37,
   "id": "f23c1f83",
   "metadata": {},
   "outputs": [],
   "source": [
    "letter = 'Dear Harry\\n\\tYour Python course is nice..! \\nThanks..'"
   ]
  },
  {
   "cell_type": "code",
   "execution_count": 38,
   "id": "1ae2faff",
   "metadata": {},
   "outputs": [
    {
     "name": "stdout",
     "output_type": "stream",
     "text": [
      "Dear Harry\n",
      "\tYour Python course is nice..! \n",
      "Thanks..\n"
     ]
    }
   ],
   "source": [
    "print(letter)"
   ]
  },
  {
   "cell_type": "markdown",
   "id": "9623fa8d",
   "metadata": {},
   "source": [
    "### List"
   ]
  },
  {
   "cell_type": "code",
   "execution_count": 39,
   "id": "4449856a",
   "metadata": {},
   "outputs": [
    {
     "data": {
      "text/plain": [
       "6"
      ]
     },
     "execution_count": 39,
     "metadata": {},
     "output_type": "execute_result"
    }
   ],
   "source": [
    "a = [1,2,35,6,23,123]\n",
    "a[-3]"
   ]
  },
  {
   "cell_type": "code",
   "execution_count": 40,
   "id": "5a44e9a7",
   "metadata": {},
   "outputs": [],
   "source": [
    "a[-3]=28"
   ]
  },
  {
   "cell_type": "code",
   "execution_count": 41,
   "id": "3541fcf7",
   "metadata": {},
   "outputs": [
    {
     "data": {
      "text/plain": [
       "[1, 2, 35, 28, 23, 123]"
      ]
     },
     "execution_count": 41,
     "metadata": {},
     "output_type": "execute_result"
    }
   ],
   "source": [
    "a"
   ]
  },
  {
   "cell_type": "code",
   "execution_count": 42,
   "id": "e7014de6",
   "metadata": {},
   "outputs": [],
   "source": [
    "l = ['Apurva', 'Harshal', 23, True, 12.23]"
   ]
  },
  {
   "cell_type": "code",
   "execution_count": 43,
   "id": "7265d9cb",
   "metadata": {},
   "outputs": [
    {
     "data": {
      "text/plain": [
       "['Apurva', 'Harshal', 23, True, 12.23]"
      ]
     },
     "execution_count": 43,
     "metadata": {},
     "output_type": "execute_result"
    }
   ],
   "source": [
    "l"
   ]
  },
  {
   "cell_type": "code",
   "execution_count": 44,
   "id": "6a6de404",
   "metadata": {},
   "outputs": [
    {
     "data": {
      "text/plain": [
       "['Apurva', 'Harshal']"
      ]
     },
     "execution_count": 44,
     "metadata": {},
     "output_type": "execute_result"
    }
   ],
   "source": [
    "# list slicing\n",
    "l[0:2]"
   ]
  },
  {
   "cell_type": "code",
   "execution_count": 45,
   "id": "b8f92177",
   "metadata": {},
   "outputs": [],
   "source": [
    "l[0]='Dipali'"
   ]
  },
  {
   "cell_type": "code",
   "execution_count": 46,
   "id": "c26666fa",
   "metadata": {},
   "outputs": [
    {
     "data": {
      "text/plain": [
       "['Dipali', 'Harshal']"
      ]
     },
     "execution_count": 46,
     "metadata": {},
     "output_type": "execute_result"
    }
   ],
   "source": [
    "l[:2]"
   ]
  },
  {
   "cell_type": "code",
   "execution_count": 47,
   "id": "52be3869",
   "metadata": {},
   "outputs": [
    {
     "name": "stdout",
     "output_type": "stream",
     "text": [
      "[12.23, True, 23, 'Harshal', 'Dipali']\n"
     ]
    }
   ],
   "source": [
    "l.reverse()\n",
    "print(l)"
   ]
  },
  {
   "cell_type": "code",
   "execution_count": 48,
   "id": "e5abe737",
   "metadata": {},
   "outputs": [
    {
     "name": "stdout",
     "output_type": "stream",
     "text": [
      "[12.23, True, 23, 'Harshal', 'Dipali', 'want']\n"
     ]
    }
   ],
   "source": [
    "l.append('want')\n",
    "print(l)"
   ]
  },
  {
   "cell_type": "code",
   "execution_count": 49,
   "id": "d9934d47",
   "metadata": {},
   "outputs": [
    {
     "name": "stdout",
     "output_type": "stream",
     "text": [
      "[12.23, True, 23, 'Harshal', 'Loves', 'Dipali', 'want']\n"
     ]
    }
   ],
   "source": [
    "l.insert(4,'Loves')\n",
    "print(l)"
   ]
  },
  {
   "cell_type": "code",
   "execution_count": 50,
   "id": "660ce16c",
   "metadata": {},
   "outputs": [
    {
     "name": "stdout",
     "output_type": "stream",
     "text": [
      "[12.23, True, 23, 'Harshal', 'Loves', 'Dipali']\n"
     ]
    }
   ],
   "source": [
    "l.pop(-1)\n",
    "print(l)"
   ]
  },
  {
   "cell_type": "code",
   "execution_count": 51,
   "id": "da32f15e",
   "metadata": {},
   "outputs": [
    {
     "name": "stdout",
     "output_type": "stream",
     "text": [
      "[12.23, True, 'Harshal', 'Loves', 'Dipali']\n"
     ]
    }
   ],
   "source": [
    "l.remove(23)\n",
    "print(l)"
   ]
  },
  {
   "cell_type": "markdown",
   "id": "680bb69b",
   "metadata": {},
   "source": [
    "#### Tuples"
   ]
  },
  {
   "cell_type": "code",
   "execution_count": 52,
   "id": "1cfcf9a5",
   "metadata": {},
   "outputs": [],
   "source": [
    "t=(3,1,2,5,6,2,1,4,)"
   ]
  },
  {
   "cell_type": "code",
   "execution_count": 53,
   "id": "68085684",
   "metadata": {},
   "outputs": [],
   "source": [
    "t1=(1,)"
   ]
  },
  {
   "cell_type": "code",
   "execution_count": 54,
   "id": "4082f8f7",
   "metadata": {},
   "outputs": [
    {
     "data": {
      "text/plain": [
       "tuple"
      ]
     },
     "execution_count": 54,
     "metadata": {},
     "output_type": "execute_result"
    }
   ],
   "source": [
    "type(t1)"
   ]
  },
  {
   "cell_type": "code",
   "execution_count": 55,
   "id": "debbb499",
   "metadata": {},
   "outputs": [],
   "source": [
    "# f1 = input(\"Enter the fruit number 1:\")\n",
    "# f2 = input(\"Enter the fruit number 2:\")\n",
    "# f3 = input(\"Enter the fruit number 3:\")\n",
    "# f4 = input(\"Enter the fruit number 4:\")\n",
    "# f5 = input(\"Enter the fruit number 5:\")\n",
    "# f6 = input(\"Enter the fruit number 6:\")\n",
    "# f7 = input(\"Enter the fruit number 7:\")"
   ]
  },
  {
   "cell_type": "code",
   "execution_count": 56,
   "id": "e1dc8c9d",
   "metadata": {},
   "outputs": [],
   "source": [
    "# myFruitList = [f1,f2,f3,f4,f5,f6,f7]\n",
    "# print(myFruitList)"
   ]
  },
  {
   "cell_type": "code",
   "execution_count": 57,
   "id": "3729c79e",
   "metadata": {},
   "outputs": [],
   "source": [
    "# m1 = int(input(\"Enter the marks of student 1:\"))\n",
    "# m2 = int(input(\"Enter the marks of student 2:\"))\n",
    "# m3 = int(input(\"Enter the marks of student 3:\"))\n",
    "# m4 = int(input(\"Enter the marks of student 4:\"))\n",
    "# m5 = int(input(\"Enter the marks of student 5:\"))\n",
    "# m6 = int(input(\"Enter the marks of student 6:\"))\n",
    "# m7 = int(input(\"Enter the marks of student 7:\"))\n",
    "\n",
    "# marks = [m1,m2,m3,m4,m5,m6,m7]"
   ]
  },
  {
   "cell_type": "code",
   "execution_count": 58,
   "id": "5f2877de",
   "metadata": {},
   "outputs": [],
   "source": [
    "# print(marks)"
   ]
  },
  {
   "cell_type": "code",
   "execution_count": 59,
   "id": "31e894c6",
   "metadata": {},
   "outputs": [],
   "source": [
    "# a= [2,4,345,2,23]\n",
    "# print(sum(a))"
   ]
  },
  {
   "cell_type": "code",
   "execution_count": 60,
   "id": "fe58e18b",
   "metadata": {},
   "outputs": [],
   "source": [
    "# t = (7,0,8,0,0,9)\n",
    "# t.count(0)"
   ]
  },
  {
   "cell_type": "markdown",
   "id": "ca7d143e",
   "metadata": {},
   "source": [
    "# Dictionary and Sets"
   ]
  },
  {
   "cell_type": "markdown",
   "id": "1e983442",
   "metadata": {},
   "source": [
    "### Dictionary\n",
    "* pair of key and values"
   ]
  },
  {
   "cell_type": "code",
   "execution_count": 61,
   "id": "897d746e",
   "metadata": {},
   "outputs": [],
   "source": [
    "myDict = {\n",
    "    \"Fast\": 'In very quick manner',\n",
    "    'Harshal':'A Programmer',\n",
    "    'Marks':[23,34,12],\n",
    "    \"anotherdict\":{'Dipali':'true love of Harshal'}\n",
    "} "
   ]
  },
  {
   "cell_type": "code",
   "execution_count": 62,
   "id": "898c0a60",
   "metadata": {},
   "outputs": [
    {
     "name": "stdout",
     "output_type": "stream",
     "text": [
      "In very quick manner\n",
      "true love of Harshal\n"
     ]
    }
   ],
   "source": [
    "print(myDict['Fast'])\n",
    "print(myDict['anotherdict']['Dipali'])"
   ]
  },
  {
   "cell_type": "code",
   "execution_count": 63,
   "id": "39e0f622",
   "metadata": {},
   "outputs": [
    {
     "data": {
      "text/plain": [
       "{'Fast': 'In very quick manner',\n",
       " 'Harshal': 'A Programmer',\n",
       " 'Marks': [23, 34, 12],\n",
       " 'anotherdict': {'Dipali': 'true love of Harshal'}}"
      ]
     },
     "execution_count": 63,
     "metadata": {},
     "output_type": "execute_result"
    }
   ],
   "source": [
    "myDict"
   ]
  },
  {
   "cell_type": "code",
   "execution_count": 64,
   "id": "83fda8e5",
   "metadata": {},
   "outputs": [],
   "source": [
    "myDict['Marks']=[91,20]"
   ]
  },
  {
   "cell_type": "code",
   "execution_count": 65,
   "id": "88601312",
   "metadata": {},
   "outputs": [
    {
     "data": {
      "text/plain": [
       "{'Fast': 'In very quick manner',\n",
       " 'Harshal': 'A Programmer',\n",
       " 'Marks': [91, 20],\n",
       " 'anotherdict': {'Dipali': 'true love of Harshal'}}"
      ]
     },
     "execution_count": 65,
     "metadata": {},
     "output_type": "execute_result"
    }
   ],
   "source": [
    "myDict"
   ]
  },
  {
   "cell_type": "code",
   "execution_count": 66,
   "id": "36a3128a",
   "metadata": {},
   "outputs": [
    {
     "name": "stdout",
     "output_type": "stream",
     "text": [
      "['Fast', 'Harshal', 'Marks', 'anotherdict']\n"
     ]
    }
   ],
   "source": [
    "# we can typecast dict in list also\n",
    "print(list(myDict.keys()))"
   ]
  },
  {
   "cell_type": "code",
   "execution_count": 67,
   "id": "3cb486f0",
   "metadata": {},
   "outputs": [
    {
     "name": "stdout",
     "output_type": "stream",
     "text": [
      "<class 'dict'>\n",
      "dict_keys(['Fast', 'Harshal', 'Marks', 'anotherdict'])\n",
      "dict_values(['In very quick manner', 'A Programmer', [91, 20], {'Dipali': 'true love of Harshal'}])\n"
     ]
    }
   ],
   "source": [
    "print(type(myDict))\n",
    "print(myDict.keys())\n",
    "print(myDict.values())"
   ]
  },
  {
   "cell_type": "code",
   "execution_count": 68,
   "id": "4807ca36",
   "metadata": {},
   "outputs": [
    {
     "name": "stdout",
     "output_type": "stream",
     "text": [
      "dict_items([('Fast', 'In very quick manner'), ('Harshal', 'A Programmer'), ('Marks', [91, 20]), ('anotherdict', {'Dipali': 'true love of Harshal'})])\n"
     ]
    }
   ],
   "source": [
    "print(myDict.items())"
   ]
  },
  {
   "cell_type": "code",
   "execution_count": 69,
   "id": "c929d7d5",
   "metadata": {},
   "outputs": [],
   "source": [
    "updateDict = {\n",
    "    \"siddhi\":\"a good singer\",\n",
    "    \"dipali\":'true love of harshal and good fashion designer'\n",
    "}\n",
    "myDict.update(updateDict)"
   ]
  },
  {
   "cell_type": "code",
   "execution_count": 70,
   "id": "f4171da1",
   "metadata": {},
   "outputs": [
    {
     "name": "stdout",
     "output_type": "stream",
     "text": [
      "dict_keys(['Fast', 'Harshal', 'Marks', 'anotherdict', 'siddhi', 'dipali'])\n"
     ]
    }
   ],
   "source": [
    "print(myDict.keys())"
   ]
  },
  {
   "cell_type": "code",
   "execution_count": 71,
   "id": "8d6e58f6",
   "metadata": {},
   "outputs": [
    {
     "data": {
      "text/plain": [
       "'true love of harshal and good fashion designer'"
      ]
     },
     "execution_count": 71,
     "metadata": {},
     "output_type": "execute_result"
    }
   ],
   "source": [
    "myDict['dipali']"
   ]
  },
  {
   "cell_type": "code",
   "execution_count": 72,
   "id": "9dbe883c",
   "metadata": {},
   "outputs": [
    {
     "name": "stdout",
     "output_type": "stream",
     "text": [
      "1\n",
      "2\n",
      "3\n",
      "4\n",
      "5\n",
      "in the else\n"
     ]
    }
   ],
   "source": [
    "notes = 5\n",
    "i = 1\n",
    "j = 1\n",
    "while i<notes:\n",
    "    print(i)\n",
    "    i += 1\n",
    "else:\n",
    "    \n",
    "    while j < 2:\n",
    "        print(i)\n",
    "        j = j + 1\n",
    "    print(\"in the else\")"
   ]
  },
  {
   "cell_type": "code",
   "execution_count": 73,
   "id": "d6ba1a81",
   "metadata": {},
   "outputs": [
    {
     "data": {
      "text/plain": [
       "25"
      ]
     },
     "execution_count": 73,
     "metadata": {},
     "output_type": "execute_result"
    }
   ],
   "source": [
    "s = \"my name is Harshal shinde\"\n",
    "len(s)"
   ]
  },
  {
   "cell_type": "code",
   "execution_count": 74,
   "id": "a8b1589b",
   "metadata": {},
   "outputs": [
    {
     "data": {
      "text/plain": [
       "'my name is Hars'"
      ]
     },
     "execution_count": 74,
     "metadata": {},
     "output_type": "execute_result"
    }
   ],
   "source": [
    "s[:-10]"
   ]
  },
  {
   "cell_type": "code",
   "execution_count": 75,
   "id": "b2f6abf5",
   "metadata": {},
   "outputs": [
    {
     "name": "stdout",
     "output_type": "stream",
     "text": [
      "\tm\n",
      "\ty\n",
      "\t \n",
      "\tn\n",
      "\ta\n",
      "\tm\n",
      "\te\n",
      "\t \n",
      "\ti\n",
      "i got  's'\n"
     ]
    }
   ],
   "source": [
    "for i in s :\n",
    "    if i == 's':\n",
    "        print(\"i got  's'\")\n",
    "        break\n",
    "    print('\\t'+i)\n",
    "else:\n",
    "    if i == 'e':\n",
    "        print('last char was e')\n",
    "    print(\"this is a else condition\")"
   ]
  },
  {
   "cell_type": "code",
   "execution_count": 4,
   "id": "de3db33c",
   "metadata": {},
   "outputs": [
    {
     "name": "stdout",
     "output_type": "stream",
     "text": [
      "+ \r\n",
      "+ + \r\n",
      "+ + + \r\n",
      "+ + + + \r\n",
      "+ + + + + \r\n"
     ]
    }
   ],
   "source": [
    "n = 5\n",
    "for i in range (0,n):\n",
    "    for j in range (0, i+1):\n",
    "        print('+', end = ' ')\n",
    "    print('\\r')"
   ]
  },
  {
   "cell_type": "code",
   "execution_count": 77,
   "id": "6ca83d7b",
   "metadata": {},
   "outputs": [
    {
     "name": "stdout",
     "output_type": "stream",
     "text": [
      "+ + + + + + + + + \n",
      "  + + + + + + + \n",
      "    + + + + + \n",
      "      + + + \n",
      "        + \n"
     ]
    }
   ],
   "source": [
    "n = 5\n",
    "\n",
    "for i in range(n,0,-1):\n",
    "    for j in range(n-i):\n",
    "        print(' ', end =' ')\n",
    "\n",
    "    for j in range(2*i-1):\n",
    "        print('+',end=' ')\n",
    "    print()"
   ]
  },
  {
   "cell_type": "code",
   "execution_count": 78,
   "id": "c8cef43d",
   "metadata": {},
   "outputs": [
    {
     "name": "stdout",
     "output_type": "stream",
     "text": [
      "    + \n",
      "   + + \n",
      "  + + + \n",
      " + + + + \n",
      "+ + + + + \n"
     ]
    }
   ],
   "source": [
    "n = 5\n",
    "i = 0\n",
    "while i<n:\n",
    "    print(' '*(n-i-1)+'+ '*(i+1))\n",
    "    i +=1"
   ]
  },
  {
   "cell_type": "code",
   "execution_count": 79,
   "id": "a38f9ffe",
   "metadata": {},
   "outputs": [
    {
     "name": "stdout",
     "output_type": "stream",
     "text": [
      "5 5 5 5 5 5 5 5 5 \n",
      "  4 4 4 4 4 4 4 \n",
      "    3 3 3 3 3 \n",
      "      2 2 2 \n",
      "        1 \n"
     ]
    }
   ],
   "source": [
    "n = 5\n",
    "for i in range(n,0,-1):\n",
    "    for j in range(n-i):\n",
    "        print(' ',end=\" \")\n",
    "    \n",
    "    for j in range(2*i-1):\n",
    "        print(i,end=' ')\n",
    "    print()"
   ]
  },
  {
   "cell_type": "code",
   "execution_count": 80,
   "id": "9de5a2ee",
   "metadata": {},
   "outputs": [
    {
     "name": "stdout",
     "output_type": "stream",
     "text": [
      "  6 5 4 3 2 1 0 -1 -2 -3 -4 -5 -6 \n",
      "    5 4 3 2 1 0 -1 -2 -3 -4 -5 \n",
      "      4 3 2 1 0 -1 -2 -3 -4 \n",
      "        3 2 1 0 -1 -2 -3 \n",
      "          2 1 0 -1 -2 \n",
      "            1 0 -1 \n",
      "              0 \n"
     ]
    }
   ],
   "source": [
    "n = 7\n",
    "for i in range(n, 0, -1):\n",
    "#     print(i)\n",
    "    for j in range(n-i+1):\n",
    "        print(' ',end =\" \")\n",
    "    \n",
    "    for j in range(2*i-1):\n",
    "        print(i-j-1,end = ' ')\n",
    "    print()"
   ]
  },
  {
   "cell_type": "markdown",
   "id": "c0ca3404",
   "metadata": {},
   "source": [
    "#### list and tuples"
   ]
  },
  {
   "cell_type": "code",
   "execution_count": 81,
   "id": "a34fcd0c",
   "metadata": {},
   "outputs": [
    {
     "data": {
      "text/plain": [
       "'Write a program to store a seven fruits in a\\nlist entered by the user using for loop'"
      ]
     },
     "execution_count": 81,
     "metadata": {},
     "output_type": "execute_result"
    }
   ],
   "source": [
    "'''Write a program to store a seven fruits in a\n",
    "list entered by the user using for loop'''\n",
    "\n",
    "# fruits=[]\n",
    "# for i in range(0,7):\n",
    "#     a = input(f\"Enter a name of fruit {i+1}:\")\n",
    "#     fruits.append(a)\n",
    "\n",
    "# print('\\n',fruits)"
   ]
  },
  {
   "cell_type": "markdown",
   "id": "d1211d97",
   "metadata": {},
   "source": [
    "## String Manupulation"
   ]
  },
  {
   "cell_type": "code",
   "execution_count": 82,
   "id": "7e2145db",
   "metadata": {},
   "outputs": [],
   "source": [
    "s = 'My name is harshal shinde'"
   ]
  },
  {
   "cell_type": "code",
   "execution_count": 83,
   "id": "77ca07d3",
   "metadata": {},
   "outputs": [
    {
     "name": "stdout",
     "output_type": "stream",
     "text": [
      "M\n",
      "y\n",
      " \n",
      "n\n",
      "a\n",
      "m\n",
      "e\n",
      " \n",
      "i\n",
      "s\n",
      " \n",
      "h\n",
      "a\n",
      "r\n",
      "s\n",
      "h\n",
      "a\n",
      "l\n",
      " \n",
      "s\n",
      "h\n",
      "i\n",
      "n\n",
      "d\n",
      "e\n"
     ]
    }
   ],
   "source": [
    "for i in range(len(s)):\n",
    "    print(s[i])"
   ]
  },
  {
   "cell_type": "code",
   "execution_count": 84,
   "id": "860167fe",
   "metadata": {},
   "outputs": [],
   "source": [
    "a = s.index('harshal')"
   ]
  },
  {
   "cell_type": "code",
   "execution_count": 85,
   "id": "453050ea",
   "metadata": {},
   "outputs": [
    {
     "name": "stdout",
     "output_type": "stream",
     "text": [
      "3\n",
      "4\n",
      "5\n",
      "6\n"
     ]
    }
   ],
   "source": [
    "a = s.find(\"name\")\n",
    "for i in range(len('name')):\n",
    "    print(a+i)"
   ]
  },
  {
   "cell_type": "code",
   "execution_count": 86,
   "id": "82472cb5",
   "metadata": {},
   "outputs": [
    {
     "data": {
      "text/plain": [
       "'MY NAME IS HARSHAL SHINDE'"
      ]
     },
     "execution_count": 86,
     "metadata": {},
     "output_type": "execute_result"
    }
   ],
   "source": [
    "s.upper()"
   ]
  },
  {
   "cell_type": "code",
   "execution_count": 87,
   "id": "1fac83a8",
   "metadata": {},
   "outputs": [
    {
     "data": {
      "text/plain": [
       "'mY NAME IS HARSHAL SHINDE'"
      ]
     },
     "execution_count": 87,
     "metadata": {},
     "output_type": "execute_result"
    }
   ],
   "source": [
    "s.swapcase()"
   ]
  },
  {
   "cell_type": "code",
   "execution_count": 88,
   "id": "8cf7de30",
   "metadata": {},
   "outputs": [
    {
     "data": {
      "text/plain": [
       "'M y   n a m e   i s   h a r s h a l   s h i n d e'"
      ]
     },
     "execution_count": 88,
     "metadata": {},
     "output_type": "execute_result"
    }
   ],
   "source": [
    "\" \".join(s)"
   ]
  },
  {
   "cell_type": "code",
   "execution_count": 89,
   "id": "99ab9d71",
   "metadata": {},
   "outputs": [
    {
     "name": "stdout",
     "output_type": "stream",
     "text": [
      "e\n",
      "d\n",
      "n\n",
      "i\n",
      "h\n",
      "s\n",
      " \n",
      "l\n",
      "a\n",
      "h\n",
      "s\n",
      "r\n",
      "a\n",
      "h\n",
      " \n",
      "s\n",
      "i\n",
      " \n",
      "e\n",
      "m\n",
      "a\n",
      "n\n",
      " \n",
      "y\n",
      "M\n"
     ]
    }
   ],
   "source": [
    "for i in reversed(s):\n",
    "    print(i)"
   ]
  },
  {
   "cell_type": "code",
   "execution_count": 90,
   "id": "12a73940",
   "metadata": {},
   "outputs": [
    {
     "data": {
      "text/plain": [
       "'ednihs lahsrah si eman yM'"
      ]
     },
     "execution_count": 90,
     "metadata": {},
     "output_type": "execute_result"
    }
   ],
   "source": [
    "s[::-1]"
   ]
  },
  {
   "cell_type": "code",
   "execution_count": 91,
   "id": "a2569bdb",
   "metadata": {},
   "outputs": [
    {
     "data": {
      "text/plain": [
       "'My name is harshal shinde'"
      ]
     },
     "execution_count": 91,
     "metadata": {},
     "output_type": "execute_result"
    }
   ],
   "source": [
    "s.strip()"
   ]
  },
  {
   "cell_type": "code",
   "execution_count": 92,
   "id": "13c0703a",
   "metadata": {},
   "outputs": [
    {
     "data": {
      "text/plain": [
       "'+++++++++ Harshal +++++++++'"
      ]
     },
     "execution_count": 92,
     "metadata": {},
     "output_type": "execute_result"
    }
   ],
   "source": [
    "a = ' Harshal '\n",
    "a.center(27,'+')"
   ]
  },
  {
   "cell_type": "code",
   "execution_count": 93,
   "id": "3f2df9df",
   "metadata": {},
   "outputs": [
    {
     "data": {
      "text/plain": [
       "' Harshal '"
      ]
     },
     "execution_count": 93,
     "metadata": {},
     "output_type": "execute_result"
    }
   ],
   "source": [
    "a.expandtabs()"
   ]
  },
  {
   "cell_type": "code",
   "execution_count": 94,
   "id": "65c89a3d",
   "metadata": {},
   "outputs": [],
   "source": [
    "a = \"We Are A Part Of A Full Stack\""
   ]
  },
  {
   "cell_type": "code",
   "execution_count": 95,
   "id": "e0d45d4d",
   "metadata": {},
   "outputs": [
    {
     "name": "stdout",
     "output_type": "stream",
     "text": [
      "we are a part of a full stack\n"
     ]
    }
   ],
   "source": [
    "a = a.lower()\n",
    "print(a)"
   ]
  },
  {
   "cell_type": "code",
   "execution_count": 96,
   "id": "2c7d50e3",
   "metadata": {},
   "outputs": [
    {
     "data": {
      "text/plain": [
       "5"
      ]
     },
     "execution_count": 96,
     "metadata": {},
     "output_type": "execute_result"
    }
   ],
   "source": [
    "a.count('a')"
   ]
  },
  {
   "cell_type": "markdown",
   "id": "8c8aadc7",
   "metadata": {},
   "source": [
    "## Quick Quizz\n",
    "    a = \"We all are a part of Full Stack\"\n",
    "**Task list**\n",
    "1. Normalize all the string in lower case\n",
    "2. Find number of occurence of \"a\" in entire data\n",
    "3. Find all the location / index of \"a\" in string\n",
    "4. replace all the \"a\" with \"iNeuron\"\n",
    "5. print all the words as a list\n"
   ]
  },
  {
   "cell_type": "code",
   "execution_count": 97,
   "id": "8bf7fc5a",
   "metadata": {},
   "outputs": [
    {
     "name": "stdout",
     "output_type": "stream",
     "text": [
      "Data is: \"we all are a part of full stack\"\n",
      "\n",
      "Number of occurence of 'a' in string: 5\n",
      "3\n",
      "7\n",
      "11\n",
      "14\n",
      "28\n",
      "['we', 'iNeuronll', 'iNeuronre', 'iNeuron', 'piNeuronrt', 'of', 'full', 'stiNeuronck']\n"
     ]
    }
   ],
   "source": [
    "a = \"We all Are A Part Of Full Stack\"\n",
    "a = a.lower()\n",
    "print('Data is: \"'+a+'\"')\n",
    "print(\"\\nNumber of occurence of 'a' in string:\",a.count('a'))\n",
    "\n",
    "for i in range(len(a)):\n",
    "    if a[i]=='a':\n",
    "        print(i)\n",
    "a = a.replace('a', 'iNeuron')\n",
    "print(a.split())"
   ]
  },
  {
   "cell_type": "code",
   "execution_count": 98,
   "id": "6fd03d99",
   "metadata": {},
   "outputs": [
    {
     "name": "stdout",
     "output_type": "stream",
     "text": [
      "k\n",
      "c\n",
      "n\n",
      "o\n",
      "r\n",
      "u\n",
      "e\n",
      "N\n",
      "i\n",
      "t\n",
      "s\n",
      " \n",
      "l\n",
      "l\n",
      "u\n",
      "f\n",
      " \n",
      "f\n",
      "o\n",
      " \n",
      "t\n",
      "r\n",
      "n\n",
      "o\n",
      "r\n",
      "u\n",
      "e\n",
      "N\n",
      "i\n",
      "p\n",
      " \n",
      "n\n",
      "o\n",
      "r\n",
      "u\n",
      "e\n",
      "N\n",
      "i\n",
      " \n",
      "e\n",
      "r\n",
      "n\n",
      "o\n",
      "r\n",
      "u\n",
      "e\n",
      "N\n",
      "i\n",
      " \n",
      "l\n",
      "l\n",
      "n\n",
      "o\n",
      "r\n",
      "u\n",
      "e\n",
      "N\n",
      "i\n",
      " \n",
      "e\n",
      "w\n"
     ]
    }
   ],
   "source": [
    "ch = len(a) -1\n",
    "while ch >= 0:\n",
    "    print(a[ch])\n",
    "    ch = ch -1"
   ]
  },
  {
   "cell_type": "code",
   "execution_count": 99,
   "id": "cc026ce9",
   "metadata": {},
   "outputs": [
    {
     "name": "stdout",
     "output_type": "stream",
     "text": [
      "'i' is a vovel\n",
      "'N' is not vovel\n",
      "'e' is a vovel\n",
      "'u' is a vovel\n",
      "'r' is not vovel\n",
      "'o' is a vovel\n",
      "'n' is not vovel\n"
     ]
    }
   ],
   "source": [
    "name='iNeuron'\n",
    "vovels=\"AaEeIiOoUu\"\n",
    "\n",
    "for i in name:\n",
    "    if i in vovels:\n",
    "        print(f\"'{i}' is a vovel\")\n",
    "    elif i == \" \":\n",
    "        print('\\r')\n",
    "    else:\n",
    "        print(f\"'{i}' is not vovel\")"
   ]
  },
  {
   "cell_type": "code",
   "execution_count": 104,
   "id": "5d72935c",
   "metadata": {},
   "outputs": [
    {
     "name": "stdout",
     "output_type": "stream",
     "text": [
      "Enter a String: Nitin\n",
      "NITIN\n",
      "String is palindrome...\n"
     ]
    }
   ],
   "source": [
    "#palindrome\n",
    "\n",
    "a = input(\"Enter a String: \")\n",
    "a =a.upper()\n",
    "print(a)\n",
    "\n",
    "if a[0::1] == a[::-1]:\n",
    "    print(f\"String {a} is palindrome...\")\n",
    "else:\n",
    "    print(\"String {a} is not palindrome....\")"
   ]
  },
  {
   "cell_type": "code",
   "execution_count": null,
   "id": "39a7fe4a",
   "metadata": {},
   "outputs": [],
   "source": []
  },
  {
   "cell_type": "code",
   "execution_count": null,
   "id": "d2bc34c5",
   "metadata": {},
   "outputs": [],
   "source": []
  }
 ],
 "metadata": {
  "kernelspec": {
   "display_name": "Python 3",
   "language": "python",
   "name": "python3"
  },
  "language_info": {
   "codemirror_mode": {
    "name": "ipython",
    "version": 3
   },
   "file_extension": ".py",
   "mimetype": "text/x-python",
   "name": "python",
   "nbconvert_exporter": "python",
   "pygments_lexer": "ipython3",
   "version": "3.7.9"
  }
 },
 "nbformat": 4,
 "nbformat_minor": 5
}
