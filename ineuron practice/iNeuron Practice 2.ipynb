{
 "cells": [
  {
   "cell_type": "markdown",
   "id": "4ea5a064",
   "metadata": {},
   "source": [
    "# Python practice notebook"
   ]
  },
  {
   "cell_type": "markdown",
   "id": "d3454332",
   "metadata": {},
   "source": [
    "### for loop for accessing list items\n"
   ]
  },
  {
   "cell_type": "code",
   "execution_count": 1,
   "id": "041b801c",
   "metadata": {},
   "outputs": [],
   "source": [
    "l = ['Harshal', 143,'Dipali',True,23+3j,[2,34,4,2,'python'],2.3434]"
   ]
  },
  {
   "cell_type": "code",
   "execution_count": 2,
   "id": "57db51ae",
   "metadata": {},
   "outputs": [
    {
     "data": {
      "text/plain": [
       "[0, 1, 2, 3, 4, 5, 6, 7, 8, 9, 10, 11, 12, 13, 14, 15, 16, 17, 18]"
      ]
     },
     "execution_count": 2,
     "metadata": {},
     "output_type": "execute_result"
    }
   ],
   "source": [
    "list(range(19))"
   ]
  },
  {
   "cell_type": "code",
   "execution_count": 3,
   "id": "857ab4c7",
   "metadata": {},
   "outputs": [
    {
     "name": "stdout",
     "output_type": "stream",
     "text": [
      "<class 'str'>\n",
      "<class 'int'>\n",
      "<class 'str'>\n",
      "<class 'bool'>\n",
      "<class 'complex'>\n",
      "<class 'list'>\n",
      "<class 'float'>\n"
     ]
    }
   ],
   "source": [
    "# for printing the type of items in list\n",
    "for i in l:\n",
    "    print(type(i))"
   ]
  },
  {
   "cell_type": "code",
   "execution_count": 4,
   "id": "849ddcfc",
   "metadata": {},
   "outputs": [
    {
     "name": "stdout",
     "output_type": "stream",
     "text": [
      "42\n",
      "<class 'str'>\n"
     ]
    }
   ],
   "source": [
    "# for accessing the list in list 'l'\n",
    "for i in l:\n",
    "    if type(i)== list:\n",
    "        n = 0\n",
    "        for j in i:\n",
    "            if type(j) == int:\n",
    "                n = n+j\n",
    "        print(n)\n",
    "        print(type(j))"
   ]
  },
  {
   "cell_type": "code",
   "execution_count": 5,
   "id": "fabb6ed8",
   "metadata": {},
   "outputs": [
    {
     "name": "stdout",
     "output_type": "stream",
     "text": [
      "\n",
      " Hello Harshal,\n",
      "\t You are selected in our company as a Manager...\n",
      "Your Joining date is 3-AUG-2021\n",
      "Thank you, regards\n",
      "\n",
      " Hello Yogesh,\n",
      "\t You are selected in our company as a Manager...\n",
      "Your Joining date is 3-AUG-2021\n",
      "Thank you, regards\n",
      "\n",
      " Hello Tejas,\n",
      "\t You are selected in our company as a Manager...\n",
      "Your Joining date is 3-AUG-2021\n",
      "Thank you, regards\n",
      "\n",
      " Hello Ankush,\n",
      "\t You are selected in our company as a Manager...\n",
      "Your Joining date is 3-AUG-2021\n",
      "Thank you, regards\n"
     ]
    }
   ],
   "source": [
    "letter='''Hello <|name|>,\n",
    "\\t You are selected in our company as a Manager...\n",
    "Your Joining date is <|date|>\n",
    "Thank you, regards'''\n",
    "\n",
    "name=[\"Harshal\",\"Yogesh\",'Tejas',\"Ankush\"]\n",
    "date=[\"2-JUNE-2021\",\"14-JULY-2021\",'12-JUNE-2021','3-AUG-2021']\n",
    "\n",
    "for i in name:\n",
    "    letter1 = letter.replace('<|name|>',i)\n",
    "    for j in date:\n",
    "        letter2 = letter1.replace('<|date|>',j)\n",
    "    \n",
    "    print('\\n', letter2)"
   ]
  },
  {
   "cell_type": "code",
   "execution_count": 6,
   "id": "bda4ba94",
   "metadata": {},
   "outputs": [],
   "source": [
    "for i in name:\n",
    "    letter1 = letter.replace('<|name|>',i)\n"
   ]
  },
  {
   "cell_type": "code",
   "execution_count": 7,
   "id": "f172c850",
   "metadata": {},
   "outputs": [],
   "source": [
    "for j in date:\n",
    "    letter2 = letter1.replace('<|date|>',j)\n",
    "    "
   ]
  },
  {
   "cell_type": "code",
   "execution_count": 8,
   "id": "d26c621a",
   "metadata": {},
   "outputs": [
    {
     "name": "stdout",
     "output_type": "stream",
     "text": [
      "\n",
      " Hello Ankush,\n",
      "\t You are selected in our company as a Manager...\n",
      "Your Joining date is 3-AUG-2021\n",
      "Thank you, regards\n"
     ]
    }
   ],
   "source": [
    " print('\\n', letter2)"
   ]
  },
  {
   "cell_type": "markdown",
   "id": "c62d3220",
   "metadata": {},
   "source": [
    "### List manupulation functions"
   ]
  },
  {
   "cell_type": "code",
   "execution_count": 9,
   "id": "e4d3fedf",
   "metadata": {},
   "outputs": [],
   "source": [
    "l= ['Harshal',2334,13.34,True,[23,323]]"
   ]
  },
  {
   "cell_type": "code",
   "execution_count": 10,
   "id": "2621383f",
   "metadata": {},
   "outputs": [
    {
     "data": {
      "text/plain": [
       "'Harshal'"
      ]
     },
     "execution_count": 10,
     "metadata": {},
     "output_type": "execute_result"
    }
   ],
   "source": [
    "l[0]"
   ]
  },
  {
   "cell_type": "code",
   "execution_count": 11,
   "id": "24e46975",
   "metadata": {},
   "outputs": [
    {
     "data": {
      "text/plain": [
       "[[23, 323], True, 13.34, 2334, 'Harshal']"
      ]
     },
     "execution_count": 11,
     "metadata": {},
     "output_type": "execute_result"
    }
   ],
   "source": [
    "l[::-1]"
   ]
  },
  {
   "cell_type": "code",
   "execution_count": 12,
   "id": "888b7231",
   "metadata": {},
   "outputs": [
    {
     "data": {
      "text/plain": [
       "['Harshal', 2334, 13.34, True, [23, 323], 'H', 'a', 'r', 's', 'h']"
      ]
     },
     "execution_count": 12,
     "metadata": {},
     "output_type": "execute_result"
    }
   ],
   "source": [
    "h = 'Harsh'\n",
    "h = list(h)\n",
    "l+h"
   ]
  },
  {
   "cell_type": "code",
   "execution_count": 13,
   "id": "83161788",
   "metadata": {},
   "outputs": [
    {
     "data": {
      "text/plain": [
       "['Harshal', 2334, 13.34, True, [23, 323], 'Harsh']"
      ]
     },
     "execution_count": 13,
     "metadata": {},
     "output_type": "execute_result"
    }
   ],
   "source": [
    "h = ['Harsh']\n",
    "h = list(h)\n",
    "l+h"
   ]
  },
  {
   "cell_type": "code",
   "execution_count": 14,
   "id": "0ef019d9",
   "metadata": {},
   "outputs": [
    {
     "data": {
      "text/plain": [
       "False"
      ]
     },
     "execution_count": 14,
     "metadata": {},
     "output_type": "execute_result"
    }
   ],
   "source": [
    "\"Harsh\" in l"
   ]
  },
  {
   "cell_type": "code",
   "execution_count": 15,
   "id": "8e8d4848",
   "metadata": {},
   "outputs": [
    {
     "data": {
      "text/plain": [
       "['Harshal',\n",
       " 2334,\n",
       " 13.34,\n",
       " True,\n",
       " [23, 323],\n",
       " 'Harshal',\n",
       " 2334,\n",
       " 13.34,\n",
       " True,\n",
       " [23, 323]]"
      ]
     },
     "execution_count": 15,
     "metadata": {},
     "output_type": "execute_result"
    }
   ],
   "source": [
    "l*2"
   ]
  },
  {
   "cell_type": "code",
   "execution_count": 16,
   "id": "98c528a7",
   "metadata": {},
   "outputs": [
    {
     "name": "stdout",
     "output_type": "stream",
     "text": [
      "h\n",
      "c\n",
      "t\n",
      "a\n",
      "b\n",
      " \n",
      "k\n",
      "c\n",
      "a\n",
      "t\n",
      "s\n",
      " \n",
      "l\n",
      "l\n",
      "u\n",
      "f\n",
      " \n",
      "a\n",
      " \n",
      "s\n",
      "i\n",
      " \n",
      "s\n",
      "i\n",
      "h\n",
      "T\n"
     ]
    }
   ],
   "source": [
    "s = 'This is a full stack batch'\n",
    "for i in range(len(s)):\n",
    "    print(s[-i-1])"
   ]
  },
  {
   "cell_type": "code",
   "execution_count": 17,
   "id": "a506bdcd",
   "metadata": {},
   "outputs": [],
   "source": [
    "l = ['Harshal',234, 45.32, [23,45,56,'f'],True,534,123,'shinde']"
   ]
  },
  {
   "cell_type": "code",
   "execution_count": 18,
   "id": "0810fcf2",
   "metadata": {},
   "outputs": [
    {
     "data": {
      "text/plain": [
       "8"
      ]
     },
     "execution_count": 18,
     "metadata": {},
     "output_type": "execute_result"
    }
   ],
   "source": [
    "len(l)"
   ]
  },
  {
   "cell_type": "code",
   "execution_count": 19,
   "id": "615df945",
   "metadata": {},
   "outputs": [
    {
     "name": "stdout",
     "output_type": "stream",
     "text": [
      "Harshal\n",
      "234\n",
      "45.32\n",
      "Another List is avaliable... [23, 45, 56, 'f']\n",
      "True\n",
      "534\n",
      "123\n",
      "shinde\n"
     ]
    }
   ],
   "source": [
    "for i in l:\n",
    "    if type(i)==list:\n",
    "        print(\"Another List is avaliable...\",i)\n",
    "    else:\n",
    "        print(i)"
   ]
  },
  {
   "cell_type": "code",
   "execution_count": 20,
   "id": "06cb781c",
   "metadata": {},
   "outputs": [],
   "source": [
    "l =[1,3,4,2]"
   ]
  },
  {
   "cell_type": "code",
   "execution_count": 21,
   "id": "152324a8",
   "metadata": {},
   "outputs": [],
   "source": [
    "l.append(\"Harsh\")"
   ]
  },
  {
   "cell_type": "code",
   "execution_count": 22,
   "id": "3d4df054",
   "metadata": {},
   "outputs": [
    {
     "data": {
      "text/plain": [
       "[1, 3, 4, 2, 'Harsh']"
      ]
     },
     "execution_count": 22,
     "metadata": {},
     "output_type": "execute_result"
    }
   ],
   "source": [
    "l"
   ]
  },
  {
   "cell_type": "code",
   "execution_count": 23,
   "id": "18d11d9f",
   "metadata": {},
   "outputs": [],
   "source": [
    "l.extend('Test1')"
   ]
  },
  {
   "cell_type": "code",
   "execution_count": 24,
   "id": "94fa4bcd",
   "metadata": {},
   "outputs": [
    {
     "data": {
      "text/plain": [
       "[1, 3, 4, 2, 'Harsh', 'T', 'e', 's', 't', '1']"
      ]
     },
     "execution_count": 24,
     "metadata": {},
     "output_type": "execute_result"
    }
   ],
   "source": [
    "l"
   ]
  },
  {
   "cell_type": "code",
   "execution_count": 25,
   "id": "329cda6a",
   "metadata": {},
   "outputs": [],
   "source": [
    "l.insert(0,\"Data Science\")"
   ]
  },
  {
   "cell_type": "code",
   "execution_count": 26,
   "id": "6a5344b8",
   "metadata": {},
   "outputs": [
    {
     "data": {
      "text/plain": [
       "['Data Science', 1, 3, 4, 2, 'Harsh', 'T', 'e', 's', 't', '1']"
      ]
     },
     "execution_count": 26,
     "metadata": {},
     "output_type": "execute_result"
    }
   ],
   "source": [
    "l"
   ]
  },
  {
   "cell_type": "code",
   "execution_count": 27,
   "id": "0bfe3ce7",
   "metadata": {},
   "outputs": [
    {
     "data": {
      "text/plain": [
       "1"
      ]
     },
     "execution_count": 27,
     "metadata": {},
     "output_type": "execute_result"
    }
   ],
   "source": [
    "l.count(1)"
   ]
  },
  {
   "cell_type": "code",
   "execution_count": 28,
   "id": "b87edade",
   "metadata": {},
   "outputs": [],
   "source": [
    "l = [1,3,4,5]"
   ]
  },
  {
   "cell_type": "code",
   "execution_count": 29,
   "id": "15dc2724",
   "metadata": {},
   "outputs": [
    {
     "data": {
      "text/plain": [
       "[1, 3, 4, 5, 'Harshal']"
      ]
     },
     "execution_count": 29,
     "metadata": {},
     "output_type": "execute_result"
    }
   ],
   "source": [
    "l.append('Harshal')\n",
    "l"
   ]
  },
  {
   "cell_type": "code",
   "execution_count": 30,
   "id": "18cee8ea",
   "metadata": {},
   "outputs": [
    {
     "data": {
      "text/plain": [
       "[1, 3, 4, 5, 'Harshal', 1]"
      ]
     },
     "execution_count": 30,
     "metadata": {},
     "output_type": "execute_result"
    }
   ],
   "source": [
    "l.append(1)\n",
    "l"
   ]
  },
  {
   "cell_type": "code",
   "execution_count": 31,
   "id": "39a48260",
   "metadata": {},
   "outputs": [],
   "source": [
    "l.extend([1,4,6,7,2])"
   ]
  },
  {
   "cell_type": "code",
   "execution_count": 32,
   "id": "b47e6fa1",
   "metadata": {},
   "outputs": [
    {
     "data": {
      "text/plain": [
       "[1, 3, 4, 5, 'Harshal', 1, 1, 4, 6, 7, 2]"
      ]
     },
     "execution_count": 32,
     "metadata": {},
     "output_type": "execute_result"
    }
   ],
   "source": [
    "l"
   ]
  },
  {
   "cell_type": "code",
   "execution_count": 33,
   "id": "f5c7e4be",
   "metadata": {},
   "outputs": [
    {
     "data": {
      "text/plain": [
       "['t', 'e', 's', 't']"
      ]
     },
     "execution_count": 33,
     "metadata": {},
     "output_type": "execute_result"
    }
   ],
   "source": [
    "s = 'test'\n",
    "list(s)"
   ]
  },
  {
   "cell_type": "code",
   "execution_count": 34,
   "id": "353adfaa",
   "metadata": {},
   "outputs": [
    {
     "data": {
      "text/plain": [
       "[1, 3, 4, 5, 'Harshal', 1, 1, 4, 6, 7, 2]"
      ]
     },
     "execution_count": 34,
     "metadata": {},
     "output_type": "execute_result"
    }
   ],
   "source": [
    "l"
   ]
  },
  {
   "cell_type": "code",
   "execution_count": 35,
   "id": "4e98ac81",
   "metadata": {},
   "outputs": [
    {
     "name": "stdout",
     "output_type": "stream",
     "text": [
      "1\n",
      "Logical error\n",
      "Logical error\n",
      "Logical error\n",
      "Logical error\n",
      "1\n",
      "1\n",
      "Logical error\n",
      "Logical error\n",
      "Logical error\n",
      "Logical error\n"
     ]
    }
   ],
   "source": [
    "for i in l:\n",
    "    if i == 1:\n",
    "        print(l.index(i)+i)\n",
    "    else:\n",
    "        print(\"Logical error\")"
   ]
  },
  {
   "cell_type": "code",
   "execution_count": 36,
   "id": "dff1ac36",
   "metadata": {},
   "outputs": [
    {
     "data": {
      "text/plain": [
       "3"
      ]
     },
     "execution_count": 36,
     "metadata": {},
     "output_type": "execute_result"
    }
   ],
   "source": [
    "l.count(1)"
   ]
  },
  {
   "cell_type": "code",
   "execution_count": 37,
   "id": "d0c94fe4",
   "metadata": {},
   "outputs": [
    {
     "data": {
      "text/plain": [
       "[1, 3, 4, 5, 1, 1, 4, 6, 7, 2]"
      ]
     },
     "execution_count": 37,
     "metadata": {},
     "output_type": "execute_result"
    }
   ],
   "source": [
    "l.pop(4)\n",
    "l"
   ]
  },
  {
   "cell_type": "code",
   "execution_count": 38,
   "id": "b636ac49",
   "metadata": {},
   "outputs": [],
   "source": [
    "l.remove(1)"
   ]
  },
  {
   "cell_type": "code",
   "execution_count": 39,
   "id": "ffb82f8e",
   "metadata": {},
   "outputs": [
    {
     "data": {
      "text/plain": [
       "[3, 4, 5, 1, 1, 4, 6, 7, 2]"
      ]
     },
     "execution_count": 39,
     "metadata": {},
     "output_type": "execute_result"
    }
   ],
   "source": [
    "l"
   ]
  },
  {
   "cell_type": "code",
   "execution_count": 40,
   "id": "bd835724",
   "metadata": {},
   "outputs": [
    {
     "data": {
      "text/plain": [
       "[2, 7, 6, 4, 1, 1, 5, 4, 3]"
      ]
     },
     "execution_count": 40,
     "metadata": {},
     "output_type": "execute_result"
    }
   ],
   "source": [
    "l.reverse()\n",
    "l"
   ]
  },
  {
   "cell_type": "code",
   "execution_count": 41,
   "id": "409e2a74",
   "metadata": {},
   "outputs": [
    {
     "data": {
      "text/plain": [
       "[1, 1, 2, 3, 4, 4, 5, 6, 7]"
      ]
     },
     "execution_count": 41,
     "metadata": {},
     "output_type": "execute_result"
    }
   ],
   "source": [
    "l.sort()\n",
    "l"
   ]
  },
  {
   "cell_type": "markdown",
   "id": "dfae92ca",
   "metadata": {},
   "source": [
    "### Quick Quiz\n",
    "**l = [[],[],[]]**\n",
    "1. Append 2 more list one complex number in this list in between a existing list.\n",
    "2. if your nested list contain string then find and its index in nested list and print it. Then remove the string\n",
    "3. You have to extract 2nd element of each nested list\n"
   ]
  },
  {
   "cell_type": "code",
   "execution_count": 42,
   "id": "bfa30d95",
   "metadata": {},
   "outputs": [
    {
     "data": {
      "text/plain": [
       "[[1, 2, 3],\n",
       " [11, 12, 'b', 'b', 'b'],\n",
       " [21, 't', 223],\n",
       " [4, 5, 6],\n",
       " [7, 8, 9],\n",
       " 'demo',\n",
       " 12.5]"
      ]
     },
     "execution_count": 42,
     "metadata": {},
     "output_type": "execute_result"
    }
   ],
   "source": [
    "l1 = [[1,2,3],[4,5,6],[7,8,9],'demo',12.5]\n",
    "l2 = [11,12,'b','b','b']\n",
    "l3 = [21,'t',223]\n",
    "\n",
    "l1.insert(1,l2)\n",
    "l1.insert(2,l3)\n",
    "l1"
   ]
  },
  {
   "cell_type": "code",
   "execution_count": 44,
   "id": "ec831ec7",
   "metadata": {},
   "outputs": [
    {
     "name": "stdout",
     "output_type": "stream",
     "text": [
      "Index of string b is :2\n",
      "Index of string b is :3\n",
      "Index of string b is :4\n",
      "The string in the nested list is b\n",
      "The string in the nested list is b\n",
      "The string in the nested list is b\n",
      "Index of string t is :1\n",
      "The string in the nested list is t\n",
      "[[1, 2, 3], [11, 12], [21, 223], [4, 5, 6], [7, 8, 9], 'demo', 12.5]\n"
     ]
    }
   ],
   "source": [
    "for i in l1:\n",
    "    if type(i) == list:\n",
    "        j = 0\n",
    "        while j < len(i):\n",
    "            if type(i[j]) is str:\n",
    "                print(f\"Index of string {i[j]} is :{j}\")\n",
    "            j = j + 1\n",
    "        j = 0\n",
    "        while j < len(i):\n",
    "            if type(i[j]) is str:\n",
    "                print(f\"The string in the nested list is {i[j]}\")\n",
    "                i.remove(i[j])\n",
    "                continue\n",
    "            j = j +1\n",
    "print(l1)"
   ]
  },
  {
   "cell_type": "markdown",
   "id": "6f4a2708",
   "metadata": {},
   "source": [
    "## List comprehension"
   ]
  },
  {
   "cell_type": "code",
   "execution_count": 45,
   "id": "18a465d7",
   "metadata": {},
   "outputs": [],
   "source": [
    "l1 = []\n",
    "for i in \"Harshal\":\n",
    "    l1.append(i)"
   ]
  },
  {
   "cell_type": "code",
   "execution_count": 46,
   "id": "2226a4ad",
   "metadata": {},
   "outputs": [
    {
     "data": {
      "text/plain": [
       "['H', 'a', 'r', 's', 'h', 'a', 'l']"
      ]
     },
     "execution_count": 46,
     "metadata": {},
     "output_type": "execute_result"
    }
   ],
   "source": [
    "l1"
   ]
  },
  {
   "cell_type": "code",
   "execution_count": 47,
   "id": "5e124762",
   "metadata": {},
   "outputs": [
    {
     "data": {
      "text/plain": [
       "['H', 'a', 'r', 's', 'h', 'a', 'l']"
      ]
     },
     "execution_count": 47,
     "metadata": {},
     "output_type": "execute_result"
    }
   ],
   "source": [
    "# we can write above code using list comprehension\n",
    "[i for i in \"Harshal\"]"
   ]
  },
  {
   "cell_type": "code",
   "execution_count": 48,
   "id": "a75defb5",
   "metadata": {},
   "outputs": [
    {
     "data": {
      "text/plain": [
       "[['H'], ['a'], ['r'], ['s'], ['h'], ['a'], ['l']]"
      ]
     },
     "execution_count": 48,
     "metadata": {},
     "output_type": "execute_result"
    }
   ],
   "source": [
    "[[i] for i in 'Harshal']"
   ]
  },
  {
   "cell_type": "code",
   "execution_count": 49,
   "id": "46087e80",
   "metadata": {},
   "outputs": [],
   "source": [
    "l = []\n",
    "for i in range(20+1):\n",
    "    if i%2 ==0:\n",
    "        l.append(i)"
   ]
  },
  {
   "cell_type": "code",
   "execution_count": 50,
   "id": "b579b73a",
   "metadata": {},
   "outputs": [
    {
     "data": {
      "text/plain": [
       "[0, 2, 4, 6, 8, 10, 12, 14, 16, 18, 20]"
      ]
     },
     "execution_count": 50,
     "metadata": {},
     "output_type": "execute_result"
    }
   ],
   "source": [
    "l"
   ]
  },
  {
   "cell_type": "code",
   "execution_count": 51,
   "id": "157d8ce8",
   "metadata": {},
   "outputs": [
    {
     "data": {
      "text/plain": [
       "[0, 2, 4, 6, 8, 10, 12, 14, 16, 18]"
      ]
     },
     "execution_count": 51,
     "metadata": {},
     "output_type": "execute_result"
    }
   ],
   "source": [
    "[i for i in range(20) if i%2 ==0]"
   ]
  },
  {
   "cell_type": "code",
   "execution_count": 52,
   "id": "9b86b162",
   "metadata": {},
   "outputs": [
    {
     "name": "stdout",
     "output_type": "stream",
     "text": [
      "['Even 0', 'Odd 1', 'Even 2', 'Odd 3', 'Even 4', 'Odd 5', 'Even 6', 'Odd 7', 'Even 8', 'Odd 9', 'Even 10']\n"
     ]
    }
   ],
   "source": [
    "l1 = []\n",
    "for i in range(11):\n",
    "    if i%2 !=0:\n",
    "        l1.append(f\"Odd {i}\")\n",
    "    else:\n",
    "        l1.append(f\"Even {i}\")\n",
    "        \n",
    "print(l1)"
   ]
  },
  {
   "cell_type": "code",
   "execution_count": 53,
   "id": "60c1a239",
   "metadata": {},
   "outputs": [
    {
     "data": {
      "text/plain": [
       "['even', 'odd', 'even', 'odd', 'even', 'odd', 'even', 'odd', 'even', 'odd']"
      ]
     },
     "execution_count": 53,
     "metadata": {},
     "output_type": "execute_result"
    }
   ],
   "source": [
    "['odd' if i%2 !=0 else 'even' for i in range(10)]"
   ]
  },
  {
   "cell_type": "code",
   "execution_count": 54,
   "id": "208373ec",
   "metadata": {},
   "outputs": [
    {
     "data": {
      "text/plain": [
       "[[0, 1, 2], [0, 1, 2], [0, 1, 2]]"
      ]
     },
     "execution_count": 54,
     "metadata": {},
     "output_type": "execute_result"
    }
   ],
   "source": [
    "mat =[]\n",
    "for i in range(3):\n",
    "    mat.append([])\n",
    "    for j in range(3):\n",
    "        mat[i].append(j)\n",
    "mat"
   ]
  },
  {
   "cell_type": "code",
   "execution_count": 55,
   "id": "fd4ca3f6",
   "metadata": {},
   "outputs": [
    {
     "data": {
      "text/plain": [
       "[[0, 1, 2], [0, 1, 2], [0, 1, 2]]"
      ]
     },
     "execution_count": 55,
     "metadata": {},
     "output_type": "execute_result"
    }
   ],
   "source": [
    "[[j for j in range(3)]for i in range(3)]"
   ]
  },
  {
   "cell_type": "code",
   "execution_count": 56,
   "id": "6291584a",
   "metadata": {},
   "outputs": [
    {
     "data": {
      "text/plain": [
       "[0, 6]"
      ]
     },
     "execution_count": 56,
     "metadata": {},
     "output_type": "execute_result"
    }
   ],
   "source": [
    "[i for i in range(8) if i%2 ==0 if i%3 ==0]"
   ]
  },
  {
   "cell_type": "code",
   "execution_count": 57,
   "id": "ec1976cd",
   "metadata": {},
   "outputs": [
    {
     "data": {
      "text/plain": [
       "[0, 1, 2, 3, 4, 5, 6, 7, 8, 9]"
      ]
     },
     "execution_count": 57,
     "metadata": {},
     "output_type": "execute_result"
    }
   ],
   "source": [
    "l=[i for i in range(10)]\n",
    "l"
   ]
  },
  {
   "cell_type": "code",
   "execution_count": 58,
   "id": "166c12d6",
   "metadata": {},
   "outputs": [
    {
     "data": {
      "text/plain": [
       "['test', 'test', 'Yes', 'test', 'test', 'no', 'test', 'test', 'test', 'test']"
      ]
     },
     "execution_count": 58,
     "metadata": {},
     "output_type": "execute_result"
    }
   ],
   "source": [
    "['Yes' if i==2 else 'no' if i == 5 else 'test' for i in l]"
   ]
  },
  {
   "cell_type": "code",
   "execution_count": 59,
   "id": "696d6d98",
   "metadata": {},
   "outputs": [
    {
     "name": "stdout",
     "output_type": "stream",
     "text": [
      "['test', 'test', 'yes', 'test', 'test', 'no', 'test', 'test', 'test', 'test']\n"
     ]
    }
   ],
   "source": [
    "l1=[]\n",
    "for i in l:\n",
    "    if i ==2:\n",
    "        l1.append('yes')\n",
    "    elif i == 5:\n",
    "        l1.append('no')\n",
    "    else:\n",
    "        l1.append('test')\n",
    "print(l1)"
   ]
  },
  {
   "cell_type": "code",
   "execution_count": 60,
   "id": "3522d640",
   "metadata": {},
   "outputs": [
    {
     "name": "stdout",
     "output_type": "stream",
     "text": [
      "First conditon\n",
      "asdfas\n",
      "asdfas\n",
      "asdfas\n",
      "First conditon\n",
      "asdfas\n",
      "asdfas\n"
     ]
    }
   ],
   "source": [
    "for i in range(10):\n",
    "    if i%2==0 and i%3==0:\n",
    "        print(\"First conditon\")\n",
    "    if i%2==0:\n",
    "        print(\"asdfas\")\n"
   ]
  },
  {
   "cell_type": "code",
   "execution_count": 61,
   "id": "2b89fb82",
   "metadata": {},
   "outputs": [],
   "source": [
    "l = [1,3,5,2,4,7,2,8,9,10]"
   ]
  },
  {
   "cell_type": "code",
   "execution_count": 62,
   "id": "5c31390b",
   "metadata": {},
   "outputs": [
    {
     "name": "stdout",
     "output_type": "stream",
     "text": [
      "51\n"
     ]
    }
   ],
   "source": [
    "print(sum(l))"
   ]
  },
  {
   "cell_type": "code",
   "execution_count": 63,
   "id": "7388e825",
   "metadata": {},
   "outputs": [],
   "source": [
    "sum_list = 0\n",
    "for i in l:\n",
    "    sum_list =sum_list+(i)"
   ]
  },
  {
   "cell_type": "code",
   "execution_count": 64,
   "id": "ab4d74d8",
   "metadata": {},
   "outputs": [
    {
     "data": {
      "text/plain": [
       "51"
      ]
     },
     "execution_count": 64,
     "metadata": {},
     "output_type": "execute_result"
    }
   ],
   "source": [
    "sum_list"
   ]
  },
  {
   "cell_type": "markdown",
   "id": "e045ed70",
   "metadata": {},
   "source": [
    "# Tuple, Set and Dict\n",
    "## 20th March"
   ]
  },
  {
   "cell_type": "code",
   "execution_count": 65,
   "id": "308e2dfb",
   "metadata": {},
   "outputs": [
    {
     "data": {
      "text/plain": [
       "tuple"
      ]
     },
     "execution_count": 65,
     "metadata": {},
     "output_type": "execute_result"
    }
   ],
   "source": [
    "t = ()\n",
    "type(t)"
   ]
  },
  {
   "cell_type": "code",
   "execution_count": 66,
   "id": "821a415b",
   "metadata": {},
   "outputs": [],
   "source": [
    "t1 = (123,34,'Harsh',4.53,True,34,34,34)"
   ]
  },
  {
   "cell_type": "code",
   "execution_count": 67,
   "id": "f99777f7",
   "metadata": {},
   "outputs": [
    {
     "data": {
      "text/plain": [
       "(34, 34, 34, True, 4.53, 'Harsh', 34, 123)"
      ]
     },
     "execution_count": 67,
     "metadata": {},
     "output_type": "execute_result"
    }
   ],
   "source": [
    "t1[::-1]"
   ]
  },
  {
   "cell_type": "code",
   "execution_count": 68,
   "id": "bc8e165c",
   "metadata": {},
   "outputs": [],
   "source": [
    "l1 = [12,34,'Harsh',4.53,True]"
   ]
  },
  {
   "cell_type": "code",
   "execution_count": 69,
   "id": "c90711d5",
   "metadata": {},
   "outputs": [],
   "source": [
    "l1[0] = 'Dippi'"
   ]
  },
  {
   "cell_type": "code",
   "execution_count": 70,
   "id": "285503c6",
   "metadata": {},
   "outputs": [
    {
     "data": {
      "text/plain": [
       "['Dippi', 34, 'Harsh', 4.53, True]"
      ]
     },
     "execution_count": 70,
     "metadata": {},
     "output_type": "execute_result"
    }
   ],
   "source": [
    "l1"
   ]
  },
  {
   "cell_type": "code",
   "execution_count": 71,
   "id": "ace2d581",
   "metadata": {},
   "outputs": [],
   "source": [
    "# tuples are immutable\n",
    "# t1[0] = 'harsh'"
   ]
  },
  {
   "cell_type": "code",
   "execution_count": 72,
   "id": "f15af81b",
   "metadata": {},
   "outputs": [],
   "source": [
    "t2 = (23, 24, 45,34,54,65,34,True)"
   ]
  },
  {
   "cell_type": "code",
   "execution_count": 73,
   "id": "a282d552",
   "metadata": {},
   "outputs": [
    {
     "data": {
      "text/plain": [
       "(123, 34, 'Harsh', 4.53, True, 34, 34, 34, 23, 24, 45, 34, 54, 65, 34, True)"
      ]
     },
     "execution_count": 73,
     "metadata": {},
     "output_type": "execute_result"
    }
   ],
   "source": [
    "t1+t2"
   ]
  },
  {
   "cell_type": "code",
   "execution_count": 74,
   "id": "c9edd2b0",
   "metadata": {},
   "outputs": [
    {
     "data": {
      "text/plain": [
       "(123, 34, 'Harsh', 4.53, True, 34, 34, 34)"
      ]
     },
     "execution_count": 74,
     "metadata": {},
     "output_type": "execute_result"
    }
   ],
   "source": [
    "t1"
   ]
  },
  {
   "cell_type": "code",
   "execution_count": 75,
   "id": "2686e5d5",
   "metadata": {},
   "outputs": [
    {
     "data": {
      "text/plain": [
       "True"
      ]
     },
     "execution_count": 75,
     "metadata": {},
     "output_type": "execute_result"
    }
   ],
   "source": [
    "'Harsh' in t1"
   ]
  },
  {
   "cell_type": "code",
   "execution_count": 76,
   "id": "6684fd85",
   "metadata": {},
   "outputs": [
    {
     "data": {
      "text/plain": [
       "False"
      ]
     },
     "execution_count": 76,
     "metadata": {},
     "output_type": "execute_result"
    }
   ],
   "source": [
    "23 in t1"
   ]
  },
  {
   "cell_type": "code",
   "execution_count": 77,
   "id": "0a63b1de",
   "metadata": {},
   "outputs": [
    {
     "data": {
      "text/plain": [
       "65"
      ]
     },
     "execution_count": 77,
     "metadata": {},
     "output_type": "execute_result"
    }
   ],
   "source": [
    "max(t2)"
   ]
  },
  {
   "cell_type": "code",
   "execution_count": 78,
   "id": "5275cfac",
   "metadata": {},
   "outputs": [],
   "source": [
    "t3 = ('Harsh','Dipali','Siddhi','Neha')"
   ]
  },
  {
   "cell_type": "code",
   "execution_count": 79,
   "id": "d9861256",
   "metadata": {},
   "outputs": [
    {
     "data": {
      "text/plain": [
       "'Siddhi'"
      ]
     },
     "execution_count": 79,
     "metadata": {},
     "output_type": "execute_result"
    }
   ],
   "source": [
    "max(t3)"
   ]
  },
  {
   "cell_type": "code",
   "execution_count": 80,
   "id": "3e53c8e4",
   "metadata": {},
   "outputs": [
    {
     "data": {
      "text/plain": [
       "4"
      ]
     },
     "execution_count": 80,
     "metadata": {},
     "output_type": "execute_result"
    }
   ],
   "source": [
    "t1.count(34)"
   ]
  },
  {
   "cell_type": "code",
   "execution_count": 81,
   "id": "c00f2fe1",
   "metadata": {},
   "outputs": [
    {
     "data": {
      "text/plain": [
       "2"
      ]
     },
     "execution_count": 81,
     "metadata": {},
     "output_type": "execute_result"
    }
   ],
   "source": [
    "t1.index('Harsh')"
   ]
  },
  {
   "cell_type": "code",
   "execution_count": 82,
   "id": "a82424ce",
   "metadata": {},
   "outputs": [
    {
     "data": {
      "text/plain": [
       "tuple"
      ]
     },
     "execution_count": 82,
     "metadata": {},
     "output_type": "execute_result"
    }
   ],
   "source": [
    "# converting list in tuple\n",
    "type(t1)"
   ]
  },
  {
   "cell_type": "code",
   "execution_count": 83,
   "id": "1dc3921d",
   "metadata": {},
   "outputs": [
    {
     "data": {
      "text/plain": [
       "[123, 34, 'Harsh', 4.53, True, 34, 34, 34]"
      ]
     },
     "execution_count": 83,
     "metadata": {},
     "output_type": "execute_result"
    }
   ],
   "source": [
    "l1 = list(t1)\n",
    "l1"
   ]
  },
  {
   "cell_type": "code",
   "execution_count": 84,
   "id": "33faefdc",
   "metadata": {},
   "outputs": [],
   "source": [
    "# inserting a element in list converted tuple\n",
    "a = 23\n",
    "l1.insert(2,a)"
   ]
  },
  {
   "cell_type": "code",
   "execution_count": 85,
   "id": "946dcbcc",
   "metadata": {},
   "outputs": [
    {
     "data": {
      "text/plain": [
       "[123, 34, 23, 'Harsh', 4.53, True, 34, 34, 34]"
      ]
     },
     "execution_count": 85,
     "metadata": {},
     "output_type": "execute_result"
    }
   ],
   "source": [
    "l1"
   ]
  },
  {
   "cell_type": "code",
   "execution_count": 86,
   "id": "9bc96fec",
   "metadata": {},
   "outputs": [
    {
     "data": {
      "text/plain": [
       "(123, 34, 'Harsh', 4.53, True, 34, 34, 34, 78, 97)"
      ]
     },
     "execution_count": 86,
     "metadata": {},
     "output_type": "execute_result"
    }
   ],
   "source": [
    "# trying to append tuple in another tuple\n",
    "t4 = (78,97)\n",
    "t1+t4"
   ]
  },
  {
   "cell_type": "code",
   "execution_count": 87,
   "id": "53ef4086",
   "metadata": {},
   "outputs": [
    {
     "data": {
      "text/plain": [
       "(123, 34, 23, 'Harsh', 4.53, True, 34, 34, 34)"
      ]
     },
     "execution_count": 87,
     "metadata": {},
     "output_type": "execute_result"
    }
   ],
   "source": [
    "# now again converting list in back to tuple\n",
    "tuple(l1)"
   ]
  },
  {
   "cell_type": "code",
   "execution_count": 88,
   "id": "0bb5ebc3",
   "metadata": {},
   "outputs": [],
   "source": [
    "# we can also create nested tuple\n",
    "t = ((3,4,5,6,7),('ssdfsdf',34,56),('harsh',24),51,3,4,[1,3,5,77])"
   ]
  },
  {
   "cell_type": "code",
   "execution_count": 89,
   "id": "dc553629",
   "metadata": {},
   "outputs": [
    {
     "data": {
      "text/plain": [
       "[3, 5, 77]"
      ]
     },
     "execution_count": 89,
     "metadata": {},
     "output_type": "execute_result"
    }
   ],
   "source": [
    "t[6][1:4]"
   ]
  },
  {
   "cell_type": "code",
   "execution_count": 90,
   "id": "e7f00319",
   "metadata": {},
   "outputs": [
    {
     "name": "stdout",
     "output_type": "stream",
     "text": [
      "(3, 4, 5, 6, 7)\n",
      "('ssdfsdf', 34, 56)\n",
      "('harsh', 24)\n",
      "51\n",
      "3\n",
      "4\n",
      "[1, 3, 5, 77]\n"
     ]
    }
   ],
   "source": [
    "for i in t:\n",
    "    print(i)"
   ]
  },
  {
   "cell_type": "code",
   "execution_count": 91,
   "id": "aab46053",
   "metadata": {},
   "outputs": [
    {
     "name": "stdout",
     "output_type": "stream",
     "text": [
      "4\n",
      "34\n",
      "24\n"
     ]
    }
   ],
   "source": [
    "for i in t:\n",
    "    if type(i) == tuple:\n",
    "        print(i[1])"
   ]
  },
  {
   "cell_type": "code",
   "execution_count": 92,
   "id": "c519b6f5",
   "metadata": {},
   "outputs": [
    {
     "data": {
      "text/plain": [
       "(123, 34, 'Harsh', 4.53, True, 34, 34, 34)"
      ]
     },
     "execution_count": 92,
     "metadata": {},
     "output_type": "execute_result"
    }
   ],
   "source": [
    "t1"
   ]
  },
  {
   "cell_type": "code",
   "execution_count": 93,
   "id": "3079545f",
   "metadata": {},
   "outputs": [
    {
     "data": {
      "text/plain": [
       "(23, 24, 45, 34, 54, 65, 34, True)"
      ]
     },
     "execution_count": 93,
     "metadata": {},
     "output_type": "execute_result"
    }
   ],
   "source": [
    "t2"
   ]
  },
  {
   "cell_type": "code",
   "execution_count": 94,
   "id": "b55c978c",
   "metadata": {},
   "outputs": [
    {
     "name": "stdout",
     "output_type": "stream",
     "text": [
      "Yes, length is same...\n",
      "34 is found in both tuples\n"
     ]
    }
   ],
   "source": [
    "if len(t1) == len(t2):\n",
    "    print('Yes, length is same...')\n",
    "    for j in range(len(t1)):\n",
    "        if t1[j] != t2[j]:\n",
    "              continue\n",
    "        else:\n",
    "             print(f'{t1[j]} is found in both tuples')\n",
    "else:\n",
    "    print('Length is not same')"
   ]
  },
  {
   "cell_type": "code",
   "execution_count": 95,
   "id": "23ff15f0",
   "metadata": {},
   "outputs": [
    {
     "name": "stdout",
     "output_type": "stream",
     "text": [
      "Enter a element: Harshal\n",
      "Harshal is not avaliable in tuple\n"
     ]
    }
   ],
   "source": [
    "a = input(\"Enter a element: \")\n",
    "if a in t1:\n",
    "    print(f'{a} is avaliable inside tuple')\n",
    "else:\n",
    "    print(f'{a} is not avaliable in tuple')"
   ]
  },
  {
   "cell_type": "code",
   "execution_count": 96,
   "id": "5e775d34",
   "metadata": {},
   "outputs": [
    {
     "data": {
      "text/plain": [
       "(123, 34, 'Harsh', 4.53, True, 34, 34, 34)"
      ]
     },
     "execution_count": 96,
     "metadata": {},
     "output_type": "execute_result"
    }
   ],
   "source": [
    "t1"
   ]
  },
  {
   "cell_type": "code",
   "execution_count": 97,
   "id": "415ad30e",
   "metadata": {},
   "outputs": [],
   "source": [
    "# to delete list use del() function\n",
    "del(l1)"
   ]
  },
  {
   "cell_type": "markdown",
   "id": "a37f2422",
   "metadata": {},
   "source": [
    "### Sets"
   ]
  },
  {
   "cell_type": "code",
   "execution_count": 98,
   "id": "fbcdc055",
   "metadata": {},
   "outputs": [],
   "source": [
    "l = [23,434,12,34]"
   ]
  },
  {
   "cell_type": "code",
   "execution_count": 99,
   "id": "1c5c3b1e",
   "metadata": {},
   "outputs": [
    {
     "data": {
      "text/plain": [
       "(23, 24, 45, 34, 54, 65, 34, True)"
      ]
     },
     "execution_count": 99,
     "metadata": {},
     "output_type": "execute_result"
    }
   ],
   "source": [
    "t2"
   ]
  },
  {
   "cell_type": "code",
   "execution_count": 100,
   "id": "ae97dd5e",
   "metadata": {},
   "outputs": [
    {
     "data": {
      "text/plain": [
       "set"
      ]
     },
     "execution_count": 100,
     "metadata": {},
     "output_type": "execute_result"
    }
   ],
   "source": [
    "x = set()\n",
    "type(x)"
   ]
  },
  {
   "cell_type": "code",
   "execution_count": 101,
   "id": "e8502de5",
   "metadata": {},
   "outputs": [],
   "source": [
    "l = [34,45,45,45,45,67,34,56,78,'Harsh','Harsh','Shinde']"
   ]
  },
  {
   "cell_type": "code",
   "execution_count": 102,
   "id": "90aed495",
   "metadata": {},
   "outputs": [
    {
     "data": {
      "text/plain": [
       "{34, 45, 56, 67, 78, 'Harsh', 'Shinde'}"
      ]
     },
     "execution_count": 102,
     "metadata": {},
     "output_type": "execute_result"
    }
   ],
   "source": [
    "s=set(l)\n",
    "s"
   ]
  },
  {
   "cell_type": "code",
   "execution_count": 103,
   "id": "0246a248",
   "metadata": {},
   "outputs": [
    {
     "name": "stdout",
     "output_type": "stream",
     "text": [
      "34\n",
      "67\n",
      "45\n",
      "78\n",
      "Shinde\n",
      "Harsh\n",
      "56\n"
     ]
    }
   ],
   "source": [
    "for i in s:\n",
    "    print(i)"
   ]
  },
  {
   "cell_type": "code",
   "execution_count": 104,
   "id": "2d127cfd",
   "metadata": {},
   "outputs": [
    {
     "data": {
      "text/plain": [
       "True"
      ]
     },
     "execution_count": 104,
     "metadata": {},
     "output_type": "execute_result"
    }
   ],
   "source": [
    "'Harsh' in s"
   ]
  },
  {
   "cell_type": "code",
   "execution_count": 105,
   "id": "202cb5fb",
   "metadata": {},
   "outputs": [],
   "source": [
    "# we cant perform slicing on set\n",
    "# s[0]"
   ]
  },
  {
   "cell_type": "code",
   "execution_count": 106,
   "id": "39d51b4a",
   "metadata": {},
   "outputs": [],
   "source": [
    "s.add('Neha')"
   ]
  },
  {
   "cell_type": "code",
   "execution_count": 107,
   "id": "e5391949",
   "metadata": {},
   "outputs": [],
   "source": [
    "s.add(82)"
   ]
  },
  {
   "cell_type": "code",
   "execution_count": 108,
   "id": "a5a12aa9",
   "metadata": {},
   "outputs": [
    {
     "data": {
      "text/plain": [
       "{34, 45, 56, 67, 78, 82, 'Harsh', 'Neha', 'Shinde'}"
      ]
     },
     "execution_count": 108,
     "metadata": {},
     "output_type": "execute_result"
    }
   ],
   "source": [
    "s"
   ]
  },
  {
   "cell_type": "code",
   "execution_count": 109,
   "id": "77c4b87c",
   "metadata": {},
   "outputs": [],
   "source": [
    "# we cant add nested list in set\n",
    "# s.add([23,34,45])"
   ]
  },
  {
   "cell_type": "code",
   "execution_count": 110,
   "id": "efe056a0",
   "metadata": {},
   "outputs": [],
   "source": [
    "# for removing element from set\n",
    "s.remove('Shinde')"
   ]
  },
  {
   "cell_type": "code",
   "execution_count": 111,
   "id": "511c7985",
   "metadata": {},
   "outputs": [
    {
     "data": {
      "text/plain": [
       "{34, 45, 56, 67, 78, 82, 'Harsh', 'Neha'}"
      ]
     },
     "execution_count": 111,
     "metadata": {},
     "output_type": "execute_result"
    }
   ],
   "source": [
    "s"
   ]
  },
  {
   "cell_type": "code",
   "execution_count": 112,
   "id": "e4d9a227",
   "metadata": {},
   "outputs": [
    {
     "data": {
      "text/plain": [
       "False"
      ]
     },
     "execution_count": 112,
     "metadata": {},
     "output_type": "execute_result"
    }
   ],
   "source": [
    "'Shinde' in s"
   ]
  },
  {
   "cell_type": "code",
   "execution_count": 113,
   "id": "cacd4e49",
   "metadata": {},
   "outputs": [],
   "source": [
    "s.add('xyz')"
   ]
  },
  {
   "cell_type": "code",
   "execution_count": 114,
   "id": "6b0268b0",
   "metadata": {},
   "outputs": [],
   "source": [
    "s.add(234)"
   ]
  },
  {
   "cell_type": "code",
   "execution_count": 115,
   "id": "9353cc7e",
   "metadata": {},
   "outputs": [],
   "source": [
    "s.add(345)"
   ]
  },
  {
   "cell_type": "code",
   "execution_count": 116,
   "id": "e5529260",
   "metadata": {},
   "outputs": [],
   "source": [
    "s.add('abc')"
   ]
  },
  {
   "cell_type": "code",
   "execution_count": 117,
   "id": "9366b5f1",
   "metadata": {},
   "outputs": [
    {
     "data": {
      "text/plain": [
       "{234, 34, 345, 45, 56, 67, 78, 82, 'Harsh', 'Neha', 'abc', 'xyz'}"
      ]
     },
     "execution_count": 117,
     "metadata": {},
     "output_type": "execute_result"
    }
   ],
   "source": [
    "s"
   ]
  },
  {
   "cell_type": "code",
   "execution_count": 118,
   "id": "db5dda47",
   "metadata": {},
   "outputs": [],
   "source": [
    "l1 = [234,54,345,1234,545656,234,1234,5345]"
   ]
  },
  {
   "cell_type": "code",
   "execution_count": 119,
   "id": "d7eb566e",
   "metadata": {},
   "outputs": [],
   "source": [
    "s1 = set(l1)"
   ]
  },
  {
   "cell_type": "code",
   "execution_count": 120,
   "id": "80b02c28",
   "metadata": {},
   "outputs": [
    {
     "data": {
      "text/plain": [
       "{54, 234, 345, 1234, 5345, 545656}"
      ]
     },
     "execution_count": 120,
     "metadata": {},
     "output_type": "execute_result"
    }
   ],
   "source": [
    "s1"
   ]
  },
  {
   "cell_type": "code",
   "execution_count": 121,
   "id": "f692bb68",
   "metadata": {},
   "outputs": [],
   "source": [
    "# this kind of operation is not allowed in set, u can do that with list\n",
    "# s + s1"
   ]
  },
  {
   "cell_type": "code",
   "execution_count": 122,
   "id": "a7a56fad",
   "metadata": {},
   "outputs": [
    {
     "data": {
      "text/plain": [
       "(34, 67, 'abc', 234, 45, 78, 82, 'Harsh', 'xyz', 56, 345, 'Neha')"
      ]
     },
     "execution_count": 122,
     "metadata": {},
     "output_type": "execute_result"
    }
   ],
   "source": [
    "tuple(s)"
   ]
  },
  {
   "cell_type": "code",
   "execution_count": 123,
   "id": "1ef7659a",
   "metadata": {},
   "outputs": [
    {
     "data": {
      "text/plain": [
       "{234, 34, 345, 45, 56, 67, 78, 82, 'Harsh', 'Neha', 'abc', 'xyz'}"
      ]
     },
     "execution_count": 123,
     "metadata": {},
     "output_type": "execute_result"
    }
   ],
   "source": [
    "set(s)"
   ]
  },
  {
   "cell_type": "markdown",
   "id": "9f72cd66",
   "metadata": {},
   "source": [
    "### Dictionary"
   ]
  },
  {
   "cell_type": "code",
   "execution_count": 124,
   "id": "af9af881",
   "metadata": {},
   "outputs": [
    {
     "data": {
      "text/plain": [
       "dict"
      ]
     },
     "execution_count": 124,
     "metadata": {},
     "output_type": "execute_result"
    }
   ],
   "source": [
    "x={}\n",
    "type(x)"
   ]
  },
  {
   "cell_type": "code",
   "execution_count": 125,
   "id": "a3fa247c",
   "metadata": {},
   "outputs": [
    {
     "data": {
      "text/plain": [
       "set"
      ]
     },
     "execution_count": 125,
     "metadata": {},
     "output_type": "execute_result"
    }
   ],
   "source": [
    "x1 = {23,4}\n",
    "type(x1)"
   ]
  },
  {
   "cell_type": "code",
   "execution_count": 126,
   "id": "53d00397",
   "metadata": {},
   "outputs": [],
   "source": [
    "x = {'name':'Harshal','age':25,'name1':'Neha',True:'2343','key':False,5341:23432}"
   ]
  },
  {
   "cell_type": "code",
   "execution_count": 127,
   "id": "d25cb046",
   "metadata": {},
   "outputs": [
    {
     "data": {
      "text/plain": [
       "{'name': 'Harshal',\n",
       " 'age': 25,\n",
       " 'name1': 'Neha',\n",
       " True: '2343',\n",
       " 'key': False,\n",
       " 5341: 23432}"
      ]
     },
     "execution_count": 127,
     "metadata": {},
     "output_type": "execute_result"
    }
   ],
   "source": [
    "x"
   ]
  },
  {
   "cell_type": "code",
   "execution_count": 128,
   "id": "27f7c66e",
   "metadata": {},
   "outputs": [],
   "source": [
    "# you can't add list and set inside a dictionary at a \"Key\"\n",
    "#only tuple is allowed\n",
    "# x2={[3,4,5,2]:'szdfdsa','sdf':[223,4,4512,234]} #this list is not allowed\n",
    "# x2={{3,4,5,2}:'szdfdsa','sdf':[223,4,4512,234]} #set is not allowed"
   ]
  },
  {
   "cell_type": "code",
   "execution_count": 129,
   "id": "57313bfd",
   "metadata": {},
   "outputs": [],
   "source": [
    "x2={(3,4,5,2):'szdfdsa','k4':{'l1':'error_msg','k8':[231,53,93]},'sdf':[223,4,4512,234]}"
   ]
  },
  {
   "cell_type": "code",
   "execution_count": 130,
   "id": "129355ae",
   "metadata": {},
   "outputs": [
    {
     "data": {
      "text/plain": [
       "{(3, 4, 5, 2): 'szdfdsa',\n",
       " 'k4': {'l1': 'error_msg', 'k8': [231, 53, 93]},\n",
       " 'sdf': [223, 4, 4512, 234]}"
      ]
     },
     "execution_count": 130,
     "metadata": {},
     "output_type": "execute_result"
    }
   ],
   "source": [
    "x2"
   ]
  },
  {
   "cell_type": "code",
   "execution_count": 131,
   "id": "222bd32d",
   "metadata": {},
   "outputs": [
    {
     "data": {
      "text/plain": [
       "[223, 4, 4512, 234]"
      ]
     },
     "execution_count": 131,
     "metadata": {},
     "output_type": "execute_result"
    }
   ],
   "source": [
    "# this will help to fetch data using key\n",
    "x2['sdf']"
   ]
  },
  {
   "cell_type": "code",
   "execution_count": 132,
   "id": "bbcdc40e",
   "metadata": {},
   "outputs": [
    {
     "data": {
      "text/plain": [
       "234"
      ]
     },
     "execution_count": 132,
     "metadata": {},
     "output_type": "execute_result"
    }
   ],
   "source": [
    "# if you want to access the element of a LIST in VALUE then try this\n",
    "x2['sdf'][3]"
   ]
  },
  {
   "cell_type": "code",
   "execution_count": 133,
   "id": "948c03d4",
   "metadata": {},
   "outputs": [
    {
     "data": {
      "text/plain": [
       "53"
      ]
     },
     "execution_count": 133,
     "metadata": {},
     "output_type": "execute_result"
    }
   ],
   "source": [
    "# you can access nested data also using this\n",
    "x2['k4']['k8'][1]"
   ]
  },
  {
   "cell_type": "code",
   "execution_count": 134,
   "id": "b70299b4",
   "metadata": {},
   "outputs": [],
   "source": [
    "# following operation is not allowed using dictionary\n",
    "# x2 + x\n",
    "# x2 * 2"
   ]
  },
  {
   "cell_type": "code",
   "execution_count": 135,
   "id": "a07cbe93",
   "metadata": {},
   "outputs": [],
   "source": [
    "x1 = {5:'ver','k4':[23,34.4,12]}"
   ]
  },
  {
   "cell_type": "code",
   "execution_count": 136,
   "id": "29aa26d4",
   "metadata": {},
   "outputs": [],
   "source": [
    "# if i want to assign a data to particular value of key then\n",
    "x1['k4'][1]=\"Harsh\""
   ]
  },
  {
   "cell_type": "code",
   "execution_count": 137,
   "id": "c1262263",
   "metadata": {},
   "outputs": [],
   "source": [
    "# you can perform addition or subtraction to any numerical value\n",
    "x1['k4'][0] += 10"
   ]
  },
  {
   "cell_type": "code",
   "execution_count": 138,
   "id": "0c455163",
   "metadata": {},
   "outputs": [
    {
     "data": {
      "text/plain": [
       "{5: 'ver', 'k4': [33, 'Harsh', 12]}"
      ]
     },
     "execution_count": 138,
     "metadata": {},
     "output_type": "execute_result"
    }
   ],
   "source": [
    "x1"
   ]
  },
  {
   "cell_type": "code",
   "execution_count": 139,
   "id": "b448a31e",
   "metadata": {},
   "outputs": [
    {
     "data": {
      "text/plain": [
       "dict_keys([(3, 4, 5, 2), 'k4', 'sdf'])"
      ]
     },
     "execution_count": 139,
     "metadata": {},
     "output_type": "execute_result"
    }
   ],
   "source": [
    "x2.keys()"
   ]
  },
  {
   "cell_type": "code",
   "execution_count": 140,
   "id": "2533199f",
   "metadata": {},
   "outputs": [
    {
     "data": {
      "text/plain": [
       "True"
      ]
     },
     "execution_count": 140,
     "metadata": {},
     "output_type": "execute_result"
    }
   ],
   "source": [
    "'k4' in x1.keys()"
   ]
  },
  {
   "cell_type": "code",
   "execution_count": 141,
   "id": "b990d8cd",
   "metadata": {},
   "outputs": [
    {
     "name": "stdout",
     "output_type": "stream",
     "text": [
      "(3, 4, 5, 2)\n",
      "k4\n",
      "sdf\n"
     ]
    }
   ],
   "source": [
    "for i in x2:\n",
    "    print(i)"
   ]
  },
  {
   "cell_type": "code",
   "execution_count": 142,
   "id": "b31749ee",
   "metadata": {},
   "outputs": [
    {
     "data": {
      "text/plain": [
       "dict_items([((3, 4, 5, 2), 'szdfdsa'), ('k4', {'l1': 'error_msg', 'k8': [231, 53, 93]}), ('sdf', [223, 4, 4512, 234])])"
      ]
     },
     "execution_count": 142,
     "metadata": {},
     "output_type": "execute_result"
    }
   ],
   "source": [
    "x2.items()"
   ]
  },
  {
   "cell_type": "code",
   "execution_count": 143,
   "id": "2874e8e7",
   "metadata": {},
   "outputs": [
    {
     "name": "stdout",
     "output_type": "stream",
     "text": [
      "(3, 4, 5, 2)\n",
      "k4\n",
      "sdf\n"
     ]
    }
   ],
   "source": [
    "for i in x2.items():\n",
    "    print(i[0])"
   ]
  },
  {
   "cell_type": "code",
   "execution_count": 144,
   "id": "69298081",
   "metadata": {},
   "outputs": [
    {
     "data": {
      "text/plain": [
       "3"
      ]
     },
     "execution_count": 144,
     "metadata": {},
     "output_type": "execute_result"
    }
   ],
   "source": [
    "len(x2)"
   ]
  },
  {
   "cell_type": "code",
   "execution_count": 145,
   "id": "3e6cc5c7",
   "metadata": {},
   "outputs": [
    {
     "name": "stdout",
     "output_type": "stream",
     "text": [
      "<class 'str'>\n",
      "<class 'dict'>\n",
      "<class 'list'>\n"
     ]
    }
   ],
   "source": [
    "for i in x2.keys():\n",
    "    print(type(x2[i]))"
   ]
  },
  {
   "cell_type": "code",
   "execution_count": 146,
   "id": "744b4b0a",
   "metadata": {},
   "outputs": [
    {
     "data": {
      "text/plain": [
       "{(3, 4, 5, 2): 'szdfdsa',\n",
       " 'k4': {'l1': 'error_msg', 'k8': [231, 53, 93]},\n",
       " 'sdf': [223, 4, 4512, 234]}"
      ]
     },
     "execution_count": 146,
     "metadata": {},
     "output_type": "execute_result"
    }
   ],
   "source": [
    "x2"
   ]
  },
  {
   "cell_type": "code",
   "execution_count": 147,
   "id": "a008915b",
   "metadata": {},
   "outputs": [],
   "source": [
    "a = {34:{23,56,34}}"
   ]
  },
  {
   "cell_type": "code",
   "execution_count": 148,
   "id": "fda1c4c4",
   "metadata": {},
   "outputs": [
    {
     "data": {
      "text/plain": [
       "56"
      ]
     },
     "execution_count": 148,
     "metadata": {},
     "output_type": "execute_result"
    }
   ],
   "source": [
    "list(a[34])[0]"
   ]
  },
  {
   "cell_type": "markdown",
   "id": "9565e1fe",
   "metadata": {},
   "source": [
    "### Quick quiz\n",
    "**Take input as a paragraph using input function.**\n",
    "1. Convert all of this input into list of words\n",
    "2. Remove all the duplicate element from your list\n",
    "3. Use above distinct element as a key for dictionary and assign your name as a value of all the key for dictionary\n",
    "4. try to print tuple of all the values\n",
    "5. Try to print list of all keys"
   ]
  },
  {
   "cell_type": "code",
   "execution_count": 149,
   "id": "dacb2abe",
   "metadata": {},
   "outputs": [
    {
     "data": {
      "text/plain": [
       "'It is the science and engineering of making intelligent machines, especially intelligent computer programs. It is related to the similar task of using computers to understand human intelligence, but AI does not have to confine itself to methods that are biologically observable.'"
      ]
     },
     "execution_count": 149,
     "metadata": {},
     "output_type": "execute_result"
    }
   ],
   "source": [
    "'''It is the science and engineering of making intelligent machines, especially intelligent computer programs. It is related to the similar task of using computers to understand human intelligence, but AI does not have to confine itself to methods that are biologically observable.'''"
   ]
  },
  {
   "cell_type": "code",
   "execution_count": 150,
   "id": "40a26307",
   "metadata": {},
   "outputs": [
    {
     "name": "stdout",
     "output_type": "stream",
     "text": [
      "Enter a paragraph: It is the science and engineering of making intelligent machines, especially intelligent computer programs. It is related to the similar task of using computers to understand human intelligence, but AI does not have to confine itself to methods that are biologically observable.\n"
     ]
    }
   ],
   "source": [
    "p = input('''Enter a paragraph: ''')"
   ]
  },
  {
   "cell_type": "code",
   "execution_count": 151,
   "id": "fe305466",
   "metadata": {},
   "outputs": [],
   "source": [
    "# This is a 1st type of solution\n",
    "# # Q1\n",
    "# l = p.split()\n",
    "# print('length of l',len(l))\n",
    "\n",
    "# # Q2\n",
    "# l1 = set(l)\n",
    "# print('length of l1',len(l1))\n",
    "\n",
    "# # Q3\n",
    "# l2 = {}\n",
    "# for i in l1:\n",
    "#     l2[i] = 'Harshal'\n",
    "\n",
    "\n",
    "# # Q4\n",
    "# l3 = []\n",
    "# for i in l2.keys():\n",
    "#     l3.append(l2[i])\n",
    "# print(l3)\n",
    "\n",
    "# # Q5\n",
    "# l4 = []\n",
    "# for i in l2.keys():\n",
    "#     l4.append(i)\n",
    "\n",
    "# print(l4)"
   ]
  },
  {
   "cell_type": "code",
   "execution_count": 152,
   "id": "f93a9c02",
   "metadata": {},
   "outputs": [],
   "source": [
    "# This is second type of solution\n",
    "list1 = p.split()\n",
    "set1 = set(list1)\n",
    "dict1 = dict.fromkeys(list1,'Harshal Shinde')\n",
    "tup1 = tuple(dict1.values())\n",
    "list2 = list(dict1.keys())"
   ]
  },
  {
   "cell_type": "code",
   "execution_count": 153,
   "id": "6fb2c17e",
   "metadata": {},
   "outputs": [
    {
     "name": "stdout",
     "output_type": "stream",
     "text": [
      "['It', 'is', 'the', 'science', 'and', 'engineering', 'of', 'making', 'intelligent', 'machines,', 'especially', 'intelligent', 'computer', 'programs.', 'It', 'is', 'related', 'to', 'the', 'similar', 'task', 'of', 'using', 'computers', 'to', 'understand', 'human', 'intelligence,', 'but', 'AI', 'does', 'not', 'have', 'to', 'confine', 'itself', 'to', 'methods', 'that', 'are', 'biologically', 'observable.']\n"
     ]
    }
   ],
   "source": [
    "print(list1)"
   ]
  },
  {
   "cell_type": "code",
   "execution_count": 154,
   "id": "a0050ac7",
   "metadata": {},
   "outputs": [
    {
     "data": {
      "text/plain": [
       "{'It': 'Harshal Shinde',\n",
       " 'is': 'Harshal Shinde',\n",
       " 'the': 'Harshal Shinde',\n",
       " 'science': 'Harshal Shinde',\n",
       " 'and': 'Harshal Shinde',\n",
       " 'engineering': 'Harshal Shinde',\n",
       " 'of': 'Harshal Shinde',\n",
       " 'making': 'Harshal Shinde',\n",
       " 'intelligent': 'Harshal Shinde',\n",
       " 'machines,': 'Harshal Shinde',\n",
       " 'especially': 'Harshal Shinde',\n",
       " 'computer': 'Harshal Shinde',\n",
       " 'programs.': 'Harshal Shinde',\n",
       " 'related': 'Harshal Shinde',\n",
       " 'to': 'Harshal Shinde',\n",
       " 'similar': 'Harshal Shinde',\n",
       " 'task': 'Harshal Shinde',\n",
       " 'using': 'Harshal Shinde',\n",
       " 'computers': 'Harshal Shinde',\n",
       " 'understand': 'Harshal Shinde',\n",
       " 'human': 'Harshal Shinde',\n",
       " 'intelligence,': 'Harshal Shinde',\n",
       " 'but': 'Harshal Shinde',\n",
       " 'AI': 'Harshal Shinde',\n",
       " 'does': 'Harshal Shinde',\n",
       " 'not': 'Harshal Shinde',\n",
       " 'have': 'Harshal Shinde',\n",
       " 'confine': 'Harshal Shinde',\n",
       " 'itself': 'Harshal Shinde',\n",
       " 'methods': 'Harshal Shinde',\n",
       " 'that': 'Harshal Shinde',\n",
       " 'are': 'Harshal Shinde',\n",
       " 'biologically': 'Harshal Shinde',\n",
       " 'observable.': 'Harshal Shinde'}"
      ]
     },
     "execution_count": 154,
     "metadata": {},
     "output_type": "execute_result"
    }
   ],
   "source": [
    "dict1"
   ]
  },
  {
   "cell_type": "code",
   "execution_count": 155,
   "id": "f7d39dc2",
   "metadata": {},
   "outputs": [
    {
     "data": {
      "text/plain": [
       "['It',\n",
       " 'is',\n",
       " 'the',\n",
       " 'science',\n",
       " 'and',\n",
       " 'engineering',\n",
       " 'of',\n",
       " 'making',\n",
       " 'intelligent',\n",
       " 'machines,',\n",
       " 'especially',\n",
       " 'computer',\n",
       " 'programs.',\n",
       " 'related',\n",
       " 'to',\n",
       " 'similar',\n",
       " 'task',\n",
       " 'using',\n",
       " 'computers',\n",
       " 'understand',\n",
       " 'human',\n",
       " 'intelligence,',\n",
       " 'but',\n",
       " 'AI',\n",
       " 'does',\n",
       " 'not',\n",
       " 'have',\n",
       " 'confine',\n",
       " 'itself',\n",
       " 'methods',\n",
       " 'that',\n",
       " 'are',\n",
       " 'biologically',\n",
       " 'observable.']"
      ]
     },
     "execution_count": 155,
     "metadata": {},
     "output_type": "execute_result"
    }
   ],
   "source": [
    "list2"
   ]
  },
  {
   "cell_type": "markdown",
   "id": "a755000e",
   "metadata": {},
   "source": [
    "# Some more Dictionary iterartions"
   ]
  },
  {
   "cell_type": "code",
   "execution_count": 156,
   "id": "b9f9e0ee",
   "metadata": {},
   "outputs": [],
   "source": [
    "d = {'company': 'ineuron','course':'full stack data science', 'year':2021}"
   ]
  },
  {
   "cell_type": "code",
   "execution_count": 157,
   "id": "0810ed8f",
   "metadata": {},
   "outputs": [
    {
     "name": "stdout",
     "output_type": "stream",
     "text": [
      "key: company \tvalue: ineuron\n",
      "key: course \tvalue: full stack data science\n",
      "key: year \tvalue: 2021\n"
     ]
    }
   ],
   "source": [
    "for i in d :\n",
    "    print(f\"key: {i} \\tvalue: {d[i]}\")"
   ]
  },
  {
   "cell_type": "code",
   "execution_count": 158,
   "id": "27a2aa35",
   "metadata": {},
   "outputs": [
    {
     "data": {
      "text/plain": [
       "True"
      ]
     },
     "execution_count": 158,
     "metadata": {},
     "output_type": "execute_result"
    }
   ],
   "source": [
    "'course' in d"
   ]
  },
  {
   "cell_type": "code",
   "execution_count": 159,
   "id": "10b6630d",
   "metadata": {},
   "outputs": [],
   "source": [
    "for i in d:\n",
    "    if i == 'year':\n",
    "        if d[i]>2021:\n",
    "            print('Year is fine')\n",
    "        else:\n",
    "            d[i] =2022"
   ]
  },
  {
   "cell_type": "code",
   "execution_count": 160,
   "id": "86d555b8",
   "metadata": {},
   "outputs": [
    {
     "data": {
      "text/plain": [
       "{'company': 'ineuron', 'course': 'full stack data science', 'year': 2022}"
      ]
     },
     "execution_count": 160,
     "metadata": {},
     "output_type": "execute_result"
    }
   ],
   "source": [
    "d"
   ]
  },
  {
   "cell_type": "code",
   "execution_count": 161,
   "id": "eee538ad",
   "metadata": {},
   "outputs": [
    {
     "name": "stdout",
     "output_type": "stream",
     "text": [
      "Data is: ['full', 'stack', 'data', 'science']\n"
     ]
    }
   ],
   "source": [
    "for i in d:\n",
    "    if i == 'course':\n",
    "        if len(d[i]) > 8:\n",
    "            print('Data is:',d[i].split())\n",
    "        else:\n",
    "            print(\"data is short\")"
   ]
  },
  {
   "cell_type": "markdown",
   "id": "4c9b325e",
   "metadata": {},
   "source": [
    "### Dictionary comprehension"
   ]
  },
  {
   "cell_type": "code",
   "execution_count": 162,
   "id": "f7e3ca1d",
   "metadata": {},
   "outputs": [
    {
     "name": "stdout",
     "output_type": "stream",
     "text": [
      "{1: 1, 2: 4, 3: 9, 4: 16, 5: 25, 6: 36, 7: 49, 8: 64, 9: 81, 10: 100}\n"
     ]
    }
   ],
   "source": [
    "# print a dictionary which contains a key as a number and value is its square\n",
    "my_dict={}\n",
    "for i in range(1,11):\n",
    "    my_dict[i] = i *i\n",
    "\n",
    "print(my_dict)"
   ]
  },
  {
   "cell_type": "code",
   "execution_count": 163,
   "id": "2c545adb",
   "metadata": {},
   "outputs": [
    {
     "data": {
      "text/plain": [
       "{1: 1, 2: 4, 3: 9, 4: 16, 5: 25, 6: 36, 7: 49, 8: 64, 9: 81, 10: 100}"
      ]
     },
     "execution_count": 163,
     "metadata": {},
     "output_type": "execute_result"
    }
   ],
   "source": [
    "# same operation is perform in a single line\n",
    "{i:i*i for i in range(1,11)}"
   ]
  }
 ],
 "metadata": {
  "kernelspec": {
   "display_name": "Python 3",
   "language": "python",
   "name": "python3"
  },
  "language_info": {
   "codemirror_mode": {
    "name": "ipython",
    "version": 3
   },
   "file_extension": ".py",
   "mimetype": "text/x-python",
   "name": "python",
   "nbconvert_exporter": "python",
   "pygments_lexer": "ipython3",
   "version": "3.7.9"
  }
 },
 "nbformat": 4,
 "nbformat_minor": 5
}
