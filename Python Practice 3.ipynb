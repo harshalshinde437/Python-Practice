{
 "cells": [
  {
   "cell_type": "markdown",
   "id": "e67b9404",
   "metadata": {},
   "source": [
    "# 21st March Live Class\n",
    "---\n",
    "## Python Functions"
   ]
  },
  {
   "cell_type": "code",
   "execution_count": 1,
   "id": "9d789881",
   "metadata": {},
   "outputs": [
    {
     "data": {
      "text/plain": [
       "34"
      ]
     },
     "execution_count": 1,
     "metadata": {},
     "output_type": "execute_result"
    }
   ],
   "source": [
    "a = 13\n",
    "b = 21\n",
    "a+b"
   ]
  },
  {
   "cell_type": "code",
   "execution_count": 2,
   "id": "c55113dd",
   "metadata": {},
   "outputs": [],
   "source": [
    "def add(x=0,y=0):\n",
    "    '''you can add two numbers by giving two numerical values(x,y)'''\n",
    "    print (x+y) # we dont allowed to use print with in production"
   ]
  },
  {
   "cell_type": "code",
   "execution_count": 3,
   "id": "9294b98c",
   "metadata": {},
   "outputs": [
    {
     "name": "stdout",
     "output_type": "stream",
     "text": [
      "44\n"
     ]
    },
    {
     "data": {
      "text/plain": [
       "NoneType"
      ]
     },
     "execution_count": 3,
     "metadata": {},
     "output_type": "execute_result"
    }
   ],
   "source": [
    "type(add(32,12))"
   ]
  },
  {
   "cell_type": "code",
   "execution_count": 4,
   "id": "05fde345",
   "metadata": {},
   "outputs": [
    {
     "name": "stdout",
     "output_type": "stream",
     "text": [
      "222\n"
     ]
    }
   ],
   "source": [
    "add(-12,234)"
   ]
  },
  {
   "cell_type": "code",
   "execution_count": 5,
   "id": "7f0504d5",
   "metadata": {},
   "outputs": [],
   "source": [
    "def test(b,m):\n",
    "    return b*m"
   ]
  },
  {
   "cell_type": "code",
   "execution_count": 6,
   "id": "e0ccd57b",
   "metadata": {},
   "outputs": [
    {
     "data": {
      "text/plain": [
       "10"
      ]
     },
     "execution_count": 6,
     "metadata": {},
     "output_type": "execute_result"
    }
   ],
   "source": [
    "test(2,3)+4"
   ]
  },
  {
   "cell_type": "code",
   "execution_count": 7,
   "id": "32286ea7",
   "metadata": {},
   "outputs": [],
   "source": [
    "a = test(23,34)"
   ]
  },
  {
   "cell_type": "code",
   "execution_count": 8,
   "id": "a3c85fcb",
   "metadata": {},
   "outputs": [
    {
     "name": "stdout",
     "output_type": "stream",
     "text": [
      "57\n"
     ]
    }
   ],
   "source": [
    "b = add(23,34)"
   ]
  },
  {
   "cell_type": "code",
   "execution_count": 9,
   "id": "0db012ce",
   "metadata": {},
   "outputs": [
    {
     "data": {
      "text/plain": [
       "int"
      ]
     },
     "execution_count": 9,
     "metadata": {},
     "output_type": "execute_result"
    }
   ],
   "source": [
    "type(a)"
   ]
  },
  {
   "cell_type": "code",
   "execution_count": 10,
   "id": "1324359c",
   "metadata": {},
   "outputs": [
    {
     "data": {
      "text/plain": [
       "NoneType"
      ]
     },
     "execution_count": 10,
     "metadata": {},
     "output_type": "execute_result"
    }
   ],
   "source": [
    "type(b)"
   ]
  },
  {
   "cell_type": "code",
   "execution_count": 11,
   "id": "05a98696",
   "metadata": {},
   "outputs": [],
   "source": [
    "def test2(t,n,m):\n",
    "    return t + n "
   ]
  },
  {
   "cell_type": "code",
   "execution_count": 12,
   "id": "533c95d0",
   "metadata": {},
   "outputs": [],
   "source": [
    "# test2(2,8)\n",
    "# this will gives an error because we didn't passed 3rd argument"
   ]
  },
  {
   "cell_type": "code",
   "execution_count": 13,
   "id": "bc8ae9af",
   "metadata": {},
   "outputs": [],
   "source": [
    "def test3(n,m):\n",
    "    return n*10, m*40,m+n"
   ]
  },
  {
   "cell_type": "code",
   "execution_count": 14,
   "id": "27dd31db",
   "metadata": {},
   "outputs": [],
   "source": [
    "c = test3(5,4)"
   ]
  },
  {
   "cell_type": "code",
   "execution_count": 15,
   "id": "fea1c17e",
   "metadata": {},
   "outputs": [
    {
     "name": "stdout",
     "output_type": "stream",
     "text": [
      "Value of c[0] = 50\n",
      "Value of c[1] = 160\n",
      "Value of c[2] = 9\n"
     ]
    }
   ],
   "source": [
    "print(f\"Value of c[0] = {c[0]}\\nValue of c[1] = {c[1]}\\nValue of c[2] = {c[2]}\")"
   ]
  },
  {
   "cell_type": "code",
   "execution_count": 16,
   "id": "b5b96175",
   "metadata": {},
   "outputs": [
    {
     "data": {
      "text/plain": [
       "tuple"
      ]
     },
     "execution_count": 16,
     "metadata": {},
     "output_type": "execute_result"
    }
   ],
   "source": [
    "type(test3(3,2))\n",
    "# when function have to return a multiple value, then it will give you in form of tuple"
   ]
  },
  {
   "cell_type": "code",
   "execution_count": 17,
   "id": "db7b2fd1",
   "metadata": {},
   "outputs": [
    {
     "name": "stdout",
     "output_type": "stream",
     "text": [
      "Value of c: 20\n",
      "Value of x: 240\n",
      "Value of v: 8\n"
     ]
    }
   ],
   "source": [
    "# now i want those 3 values in 3 different variable, how can i get?\n",
    "c,x,v = test3(2,6)\n",
    "print(f\"Value of c: {c}\\nValue of x: {x}\\nValue of v: {v}\")"
   ]
  },
  {
   "cell_type": "code",
   "execution_count": 18,
   "id": "2cf34136",
   "metadata": {},
   "outputs": [],
   "source": [
    "def test4():\n",
    "    return(\"This is my function \")"
   ]
  },
  {
   "cell_type": "code",
   "execution_count": 19,
   "id": "952e6539",
   "metadata": {},
   "outputs": [],
   "source": [
    "a = test4()"
   ]
  },
  {
   "cell_type": "code",
   "execution_count": 20,
   "id": "578b8141",
   "metadata": {},
   "outputs": [
    {
     "data": {
      "text/plain": [
       "'This is my function hahahahaha'"
      ]
     },
     "execution_count": 20,
     "metadata": {},
     "output_type": "execute_result"
    }
   ],
   "source": [
    "a + 'hahahahaha'"
   ]
  },
  {
   "cell_type": "code",
   "execution_count": 21,
   "id": "9b04c278",
   "metadata": {},
   "outputs": [],
   "source": [
    "def test5():\n",
    "    print(\"This is my function \")"
   ]
  },
  {
   "cell_type": "code",
   "execution_count": 22,
   "id": "70ebe5eb",
   "metadata": {},
   "outputs": [
    {
     "name": "stdout",
     "output_type": "stream",
     "text": [
      "This is my function \n"
     ]
    }
   ],
   "source": [
    "a = test5()"
   ]
  },
  {
   "cell_type": "code",
   "execution_count": 23,
   "id": "4ba9571a",
   "metadata": {},
   "outputs": [
    {
     "name": "stdout",
     "output_type": "stream",
     "text": [
      "This will try to give an error..\n",
      "TypeError: unsupported operand type(s) for +: 'NoneType' and 'str' \n"
     ]
    }
   ],
   "source": [
    "# a + 'hahahaha'\n",
    "print(\"\"\"This will try to give an error..\n",
    "TypeError: unsupported operand type(s) for +: 'NoneType' and 'str' \"\"\")"
   ]
  },
  {
   "cell_type": "code",
   "execution_count": 24,
   "id": "fa73100c",
   "metadata": {},
   "outputs": [],
   "source": [
    "# if we are try to give an list as an arguments..\n",
    "def test6(n):\n",
    "    return n*2"
   ]
  },
  {
   "cell_type": "code",
   "execution_count": 25,
   "id": "94641e09",
   "metadata": {},
   "outputs": [
    {
     "data": {
      "text/plain": [
       "[23, 34, 54, 23, 34, 54]"
      ]
     },
     "execution_count": 25,
     "metadata": {},
     "output_type": "execute_result"
    }
   ],
   "source": [
    "test6([23,34,54])"
   ]
  },
  {
   "cell_type": "code",
   "execution_count": 26,
   "id": "1a835dc6",
   "metadata": {},
   "outputs": [],
   "source": [
    "def test7(n):\n",
    "    return n,n*3"
   ]
  },
  {
   "cell_type": "code",
   "execution_count": 27,
   "id": "c2fe6f74",
   "metadata": {},
   "outputs": [],
   "source": [
    "b = test7([12,23,45])  "
   ]
  },
  {
   "cell_type": "code",
   "execution_count": 28,
   "id": "05424a48",
   "metadata": {},
   "outputs": [
    {
     "data": {
      "text/plain": [
       "[12, 23, 45]"
      ]
     },
     "execution_count": 28,
     "metadata": {},
     "output_type": "execute_result"
    }
   ],
   "source": [
    "b[0]"
   ]
  },
  {
   "cell_type": "code",
   "execution_count": 29,
   "id": "4381d3a9",
   "metadata": {},
   "outputs": [
    {
     "data": {
      "text/plain": [
       "[12, 23, 45, 12, 23, 45, 12, 23, 45]"
      ]
     },
     "execution_count": 29,
     "metadata": {},
     "output_type": "execute_result"
    }
   ],
   "source": [
    "b[1]"
   ]
  },
  {
   "cell_type": "code",
   "execution_count": 30,
   "id": "59cb4f73",
   "metadata": {},
   "outputs": [
    {
     "data": {
      "text/plain": [
       "(23, 69)"
      ]
     },
     "execution_count": 30,
     "metadata": {},
     "output_type": "execute_result"
    }
   ],
   "source": [
    "test7(23)"
   ]
  },
  {
   "cell_type": "code",
   "execution_count": 31,
   "id": "e47033ec",
   "metadata": {},
   "outputs": [],
   "source": [
    "# we can set default value to the parameter aso\n",
    "def test8(n,m=10):\n",
    "    return n+m"
   ]
  },
  {
   "cell_type": "code",
   "execution_count": 32,
   "id": "f65ed69d",
   "metadata": {},
   "outputs": [
    {
     "data": {
      "text/plain": [
       "13"
      ]
     },
     "execution_count": 32,
     "metadata": {},
     "output_type": "execute_result"
    }
   ],
   "source": [
    "test8(9,4)"
   ]
  },
  {
   "cell_type": "code",
   "execution_count": 33,
   "id": "c3c064a2",
   "metadata": {},
   "outputs": [],
   "source": [
    "def boolx(x=True,y=False):\n",
    "    return x + y"
   ]
  },
  {
   "cell_type": "code",
   "execution_count": 34,
   "id": "7f51a571",
   "metadata": {},
   "outputs": [
    {
     "data": {
      "text/plain": [
       "1"
      ]
     },
     "execution_count": 34,
     "metadata": {},
     "output_type": "execute_result"
    }
   ],
   "source": [
    "boolx()"
   ]
  },
  {
   "cell_type": "code",
   "execution_count": 35,
   "id": "847e6ca4",
   "metadata": {},
   "outputs": [
    {
     "data": {
      "text/plain": [
       "0"
      ]
     },
     "execution_count": 35,
     "metadata": {},
     "output_type": "execute_result"
    }
   ],
   "source": [
    " boolx(False)"
   ]
  },
  {
   "cell_type": "code",
   "execution_count": 36,
   "id": "213512c5",
   "metadata": {},
   "outputs": [
    {
     "data": {
      "text/plain": [
       "8"
      ]
     },
     "execution_count": 36,
     "metadata": {},
     "output_type": "execute_result"
    }
   ],
   "source": [
    "boolx(False,8)"
   ]
  },
  {
   "cell_type": "code",
   "execution_count": 37,
   "id": "a2d5cbb0",
   "metadata": {},
   "outputs": [],
   "source": [
    "def travel(bike =True , car = False):\n",
    "    plan_travel = bike or car\n",
    "    return bike , car , plan_travel"
   ]
  },
  {
   "cell_type": "code",
   "execution_count": 38,
   "id": "4f76a60d",
   "metadata": {},
   "outputs": [
    {
     "data": {
      "text/plain": [
       "(True, False, True)"
      ]
     },
     "execution_count": 38,
     "metadata": {},
     "output_type": "execute_result"
    }
   ],
   "source": [
    "travel()"
   ]
  },
  {
   "cell_type": "code",
   "execution_count": 39,
   "id": "a25e8f54",
   "metadata": {},
   "outputs": [
    {
     "data": {
      "text/plain": [
       "(False, False, False)"
      ]
     },
     "execution_count": 39,
     "metadata": {},
     "output_type": "execute_result"
    }
   ],
   "source": [
    "travel(False)"
   ]
  },
  {
   "cell_type": "code",
   "execution_count": 40,
   "id": "8f3aeabd",
   "metadata": {},
   "outputs": [
    {
     "data": {
      "text/plain": [
       "(True, True, True)"
      ]
     },
     "execution_count": 40,
     "metadata": {},
     "output_type": "execute_result"
    }
   ],
   "source": [
    "# how to pass a one argument for second variable, for first variable it have to set default value\n",
    "\n",
    "travel(car = True)"
   ]
  },
  {
   "cell_type": "code",
   "execution_count": 41,
   "id": "2b811307",
   "metadata": {},
   "outputs": [
    {
     "data": {
      "text/plain": [
       "(False, True, True)"
      ]
     },
     "execution_count": 41,
     "metadata": {},
     "output_type": "execute_result"
    }
   ],
   "source": [
    "travel(False,True)"
   ]
  },
  {
   "cell_type": "code",
   "execution_count": 42,
   "id": "408212c8",
   "metadata": {},
   "outputs": [],
   "source": [
    "def test9(*args):\n",
    "    return args"
   ]
  },
  {
   "cell_type": "code",
   "execution_count": 43,
   "id": "a276ff23",
   "metadata": {},
   "outputs": [],
   "source": [
    "b=test9('harshalshininde','ineuron',23,[2,4,5,6])"
   ]
  },
  {
   "cell_type": "code",
   "execution_count": 44,
   "id": "8a089b91",
   "metadata": {},
   "outputs": [
    {
     "data": {
      "text/plain": [
       "('harshalshininde', 'ineuron', 23, [2, 4, 5, 6])"
      ]
     },
     "execution_count": 44,
     "metadata": {},
     "output_type": "execute_result"
    }
   ],
   "source": [
    "b"
   ]
  },
  {
   "cell_type": "markdown",
   "id": "3e4f7471",
   "metadata": {},
   "source": [
    "### Quick Quiz\n",
    "* Create a function which will take any no of values and 'return' a concatination of all list\n"
   ]
  },
  {
   "cell_type": "code",
   "execution_count": 45,
   "id": "a1688b02",
   "metadata": {},
   "outputs": [],
   "source": [
    "def qq2(*args):\n",
    "    l1=[]\n",
    "    for i in args:\n",
    "        if type(i) == list:\n",
    "            l1.extend(i)\n",
    "    return l1"
   ]
  },
  {
   "cell_type": "code",
   "execution_count": 46,
   "id": "f2431e60",
   "metadata": {},
   "outputs": [
    {
     "data": {
      "text/plain": [
       "[23, 34, 65, 23, 1, 4, 6, 8, 'harsh', 23, 45, 8, 9, 0]"
      ]
     },
     "execution_count": 46,
     "metadata": {},
     "output_type": "execute_result"
    }
   ],
   "source": [
    "qq2([23,34,65,23],[1,4,6,8],['harsh',23,45],[8,9,0],7,23)"
   ]
  },
  {
   "cell_type": "code",
   "execution_count": 47,
   "id": "f80e3dc9",
   "metadata": {},
   "outputs": [],
   "source": [
    "# This is a correct solution\n",
    "def qq1(*args):\n",
    "    l=[]\n",
    "    for i in args:\n",
    "        l = l + i\n",
    "    return l"
   ]
  },
  {
   "cell_type": "code",
   "execution_count": 48,
   "id": "e9a22e3d",
   "metadata": {},
   "outputs": [
    {
     "data": {
      "text/plain": [
       "[23, 34, 65, 23, 1, 4, 6, 8, 'harsh', 23, 45, 8, 9, 0]"
      ]
     },
     "execution_count": 48,
     "metadata": {},
     "output_type": "execute_result"
    }
   ],
   "source": [
    "qq1([23,34,65,23],[1,4,6,8],['harsh',23,45],[8,9,0])"
   ]
  },
  {
   "cell_type": "code",
   "execution_count": 49,
   "id": "b22a5338",
   "metadata": {},
   "outputs": [],
   "source": [
    "def qq(*args):\n",
    "    return [i for i in args]"
   ]
  },
  {
   "cell_type": "code",
   "execution_count": 50,
   "id": "5de2fa8f",
   "metadata": {},
   "outputs": [
    {
     "data": {
      "text/plain": [
       "[[23, 34, 65, 23], [1, 4, 6, 8], ['harsh', 23, 45], [8, 9, 0]]"
      ]
     },
     "execution_count": 50,
     "metadata": {},
     "output_type": "execute_result"
    }
   ],
   "source": [
    "qq([23,34,65,23],[1,4,6,8],['harsh',23,45],[8,9,0])"
   ]
  },
  {
   "cell_type": "markdown",
   "id": "e4770ea6",
   "metadata": {},
   "source": [
    "---\n",
    "****kwargs** : (keyword argument) \n",
    "* we can provide n number of data in a (\"Key\" : \"Value\") form\n",
    "* It try to return a data in form of dictionary"
   ]
  },
  {
   "cell_type": "code",
   "execution_count": 51,
   "id": "859a26a1",
   "metadata": {},
   "outputs": [],
   "source": [
    "def test10(**kwargs):\n",
    "    return kwargs"
   ]
  },
  {
   "cell_type": "code",
   "execution_count": 52,
   "id": "0f0744b0",
   "metadata": {},
   "outputs": [
    {
     "name": "stdout",
     "output_type": "stream",
     "text": [
      "This thing will give an error becasue we pass the 3 argument, but not in form of 'Key:Value'pair..\n",
      "This will give you TypeError:-\n",
      "\"TypeError: test10() takes 0 positional arguments but 3 were given\" \n"
     ]
    }
   ],
   "source": [
    "# test10(12,34,12)\n",
    "print(\"\"\"This thing will give an error becasue we pass the 3 argument, but not in form of 'Key:Value'pair..\n",
    "This will give you TypeError:-\n",
    "\"TypeError: test10() takes 0 positional arguments but 3 were given\" \"\"\")"
   ]
  },
  {
   "cell_type": "code",
   "execution_count": 53,
   "id": "98cd1bd9",
   "metadata": {},
   "outputs": [
    {
     "data": {
      "text/plain": [
       "dict"
      ]
     },
     "execution_count": 53,
     "metadata": {},
     "output_type": "execute_result"
    }
   ],
   "source": [
    "type(test10(a=14,b=14,c=52,d={'a': 14, 'b': 14, 'c': 52}))"
   ]
  },
  {
   "cell_type": "code",
   "execution_count": 54,
   "id": "dad62c75",
   "metadata": {},
   "outputs": [],
   "source": [
    "def test11(*args):\n",
    "    return args"
   ]
  },
  {
   "cell_type": "code",
   "execution_count": 55,
   "id": "25d57d62",
   "metadata": {},
   "outputs": [
    {
     "data": {
      "text/plain": [
       "(2, 45, 'Harsh', 23, [23, 5, 2, 0])"
      ]
     },
     "execution_count": 55,
     "metadata": {},
     "output_type": "execute_result"
    }
   ],
   "source": [
    "test11(2,45,'Harsh',23,[23,5,2,0])"
   ]
  },
  {
   "cell_type": "markdown",
   "id": "8ceb69f2",
   "metadata": {},
   "source": [
    "---\n",
    "### Quick Quizz\n",
    "1. Create a function to take any number of a mixed data and try to create a list of seperate data based on data type and return multiple result.\n",
    "2. Create a function which will be able to use *args and *kwargs and it will be able to do all the list value concatination and return a list."
   ]
  },
  {
   "cell_type": "code",
   "execution_count": 56,
   "id": "b28db2db",
   "metadata": {},
   "outputs": [],
   "source": [
    "def fun1(*args,**kwargs):\n",
    "    dt={}\n",
    "    for i in args:\n",
    "        if type(i) in dt:\n",
    "            dt[type(i)].append(i)\n",
    "        else:\n",
    "            dt[type(i)] = [i]\n",
    "            \n",
    "    for i in kwargs:\n",
    "        if type(i) in dt:\n",
    "            dt[type(i)].append(i)\n",
    "        else:\n",
    "            dt[type(i)] = [i]\n",
    "\n",
    "    return dt\n",
    "\n",
    "def fun2(*args, **kwargs):\n",
    "    l = []\n",
    "    for i in args:\n",
    "        if type(i) == list:\n",
    "            l.extend(i)\n",
    "    d = []\n",
    "    for j in kwargs.items():\n",
    "        if type(j)==list:\n",
    "            d.append(j)\n",
    "    return l,d"
   ]
  },
  {
   "cell_type": "code",
   "execution_count": 57,
   "id": "ad3ca941",
   "metadata": {},
   "outputs": [
    {
     "data": {
      "text/plain": [
       "{str: ['Harshal', 'Shinde'],\n",
       " int: [12, 34],\n",
       " list: [[12, 4, 5, 6], [243, 3, 21, 1]],\n",
       " float: [2.23, 19.4],\n",
       " tuple: [(2, 8, 1, 2)],\n",
       " bool: [True],\n",
       " complex: [(2+4j)]}"
      ]
     },
     "execution_count": 57,
     "metadata": {},
     "output_type": "execute_result"
    }
   ],
   "source": [
    "fun1('Harshal',12,34,[12,4,5,6],2.23,'Shinde',[243,3,21,1],(2,8,1,2),True,2+4j,19.4,)"
   ]
  },
  {
   "cell_type": "code",
   "execution_count": 58,
   "id": "f68161cf",
   "metadata": {},
   "outputs": [
    {
     "data": {
      "text/plain": [
       "([23, 2, 4, 56, 2, 5, 8, 2], [])"
      ]
     },
     "execution_count": 58,
     "metadata": {},
     "output_type": "execute_result"
    }
   ],
   "source": [
    "fun2([23,2,4,56],[2,5,8,2],3,4,5,6,d=[23,4,6,2],a=3,b=6,c=\"harshal\")"
   ]
  },
  {
   "cell_type": "markdown",
   "id": "e6f70966",
   "metadata": {},
   "source": [
    "---"
   ]
  },
  {
   "cell_type": "code",
   "execution_count": 59,
   "id": "55a7b880",
   "metadata": {},
   "outputs": [],
   "source": [
    "def test12(**kwargs):\n",
    "    return kwargs"
   ]
  },
  {
   "cell_type": "code",
   "execution_count": 60,
   "id": "855093e3",
   "metadata": {},
   "outputs": [
    {
     "data": {
      "text/plain": [
       "{'b': 12, 'c': 144, 'd': 10, 'a': 92}"
      ]
     },
     "execution_count": 60,
     "metadata": {},
     "output_type": "execute_result"
    }
   ],
   "source": [
    "test12(b=12,c=144,d=10,a=92)"
   ]
  },
  {
   "cell_type": "code",
   "execution_count": 61,
   "id": "b4a7d143",
   "metadata": {},
   "outputs": [],
   "source": [
    "def test12(**kwargs):\n",
    "    for i in kwargs.items():\n",
    "        if type(i[1]) == list:\n",
    "            if \"harshal\" in i[1]:\n",
    "                a=(f\"{i[1]} your name is avaliable inside list\")\n",
    "    return a"
   ]
  },
  {
   "cell_type": "code",
   "execution_count": 62,
   "id": "e976d1be",
   "metadata": {},
   "outputs": [
    {
     "data": {
      "text/plain": [
       "\"['harshal', 'shinde', 10.3] your name is avaliable inside list\""
      ]
     },
     "execution_count": 62,
     "metadata": {},
     "output_type": "execute_result"
    }
   ],
   "source": [
    "test12(b=6,c=[2,5,6.12,34],d=['harshal','shinde',10.3],n=6+4j)"
   ]
  },
  {
   "cell_type": "markdown",
   "id": "ada3c535",
   "metadata": {},
   "source": [
    "---\n",
    "# 3rd April Live Class\n",
    "### Continue on functions"
   ]
  },
  {
   "cell_type": "code",
   "execution_count": 63,
   "id": "c531c82b",
   "metadata": {},
   "outputs": [],
   "source": [
    "def test(**kwargs):\n",
    "    print(kwargs.items())"
   ]
  },
  {
   "cell_type": "code",
   "execution_count": 64,
   "id": "a7f4184e",
   "metadata": {},
   "outputs": [
    {
     "name": "stdout",
     "output_type": "stream",
     "text": [
      "dict_items([('a', 'test'), ('b', 23), ('c', 34.12), ('d', [2, 5, 1, 0])])\n"
     ]
    }
   ],
   "source": [
    "test(a='test',b=23,c=34.12,d=[2,5,1,0])"
   ]
  },
  {
   "cell_type": "markdown",
   "id": "910c8034",
   "metadata": {},
   "source": [
    "---\n",
    "### Lmabda Function / Anonymous function\n",
    "* Python anonymous functions are also known as **Lambda function.** The keyword used is **lambda** and they are written in one line and it can have only one expression. These functions don’t need to be defined or named and they are for one-time usage.\n",
    "* Python Lambda function is a one-liner function with no name & used for a one-time task.\n",
    "* One-time tasks like performing arithmetic operations, sorting names, loops, etc.\n",
    "* It makes the code really small but the code becomes less readable as lambda is an advanced feature."
   ]
  },
  {
   "cell_type": "code",
   "execution_count": 65,
   "id": "d30df89a",
   "metadata": {},
   "outputs": [],
   "source": [
    "def test(name, mail_id):\n",
    "    con = name + mail_id\n",
    "    return mail_id, name, con"
   ]
  },
  {
   "cell_type": "code",
   "execution_count": 66,
   "id": "e9758a6f",
   "metadata": {},
   "outputs": [
    {
     "data": {
      "text/plain": [
       "('@gmail.com', 'harshalshinde', 'harshalshinde@gmail.com')"
      ]
     },
     "execution_count": 66,
     "metadata": {},
     "output_type": "execute_result"
    }
   ],
   "source": [
    "test('harshalshinde','@gmail.com')"
   ]
  },
  {
   "cell_type": "code",
   "execution_count": 67,
   "id": "4bfa9aa1",
   "metadata": {},
   "outputs": [],
   "source": [
    "a = 10\n",
    "b = 20\n",
    "\n",
    "def test1(x,y):\n",
    "    return x + y"
   ]
  },
  {
   "cell_type": "code",
   "execution_count": 68,
   "id": "accb4933",
   "metadata": {},
   "outputs": [
    {
     "data": {
      "text/plain": [
       "30"
      ]
     },
     "execution_count": 68,
     "metadata": {},
     "output_type": "execute_result"
    }
   ],
   "source": [
    "test1(a,b)"
   ]
  },
  {
   "cell_type": "code",
   "execution_count": 69,
   "id": "85462917",
   "metadata": {},
   "outputs": [],
   "source": [
    "# same above task we can do with lambda function\n",
    "m = lambda x,y : x + y"
   ]
  },
  {
   "cell_type": "code",
   "execution_count": 70,
   "id": "d10637d4",
   "metadata": {},
   "outputs": [
    {
     "data": {
      "text/plain": [
       "35"
      ]
     },
     "execution_count": 70,
     "metadata": {},
     "output_type": "execute_result"
    }
   ],
   "source": [
    "m(23,12)"
   ]
  },
  {
   "cell_type": "code",
   "execution_count": 71,
   "id": "15d6fb8a",
   "metadata": {},
   "outputs": [
    {
     "data": {
      "text/plain": [
       "function"
      ]
     },
     "execution_count": 71,
     "metadata": {},
     "output_type": "execute_result"
    }
   ],
   "source": [
    "type(m)"
   ]
  },
  {
   "cell_type": "code",
   "execution_count": 72,
   "id": "ee7c49f8",
   "metadata": {},
   "outputs": [
    {
     "data": {
      "text/plain": [
       "function"
      ]
     },
     "execution_count": 72,
     "metadata": {},
     "output_type": "execute_result"
    }
   ],
   "source": [
    "type(test1)"
   ]
  },
  {
   "cell_type": "code",
   "execution_count": 73,
   "id": "67bc1e84",
   "metadata": {},
   "outputs": [],
   "source": [
    "m = 12"
   ]
  },
  {
   "cell_type": "markdown",
   "id": "42f2fd4f",
   "metadata": {},
   "source": [
    "* after assigning any other value to the variable which was we used to store lambda functions value we can see that function is not working properly, it will throwing an error,\n",
    "* We have to run function defination again, only then we can use that lambda function.\n",
    "\n",
    "* basically, it is only for one-time use..."
   ]
  },
  {
   "cell_type": "code",
   "execution_count": 74,
   "id": "051de028",
   "metadata": {},
   "outputs": [],
   "source": [
    "# m('harshalshinde','@gmail.com')"
   ]
  },
  {
   "cell_type": "code",
   "execution_count": 75,
   "id": "eb360961",
   "metadata": {},
   "outputs": [],
   "source": [
    "b = 'Harshal'\n",
    "c = 'Shinde'\n",
    "n = lambda x,y : print(x,y)"
   ]
  },
  {
   "cell_type": "code",
   "execution_count": 76,
   "id": "169f05d2",
   "metadata": {},
   "outputs": [
    {
     "name": "stdout",
     "output_type": "stream",
     "text": [
      "Harshal Shinde\n"
     ]
    }
   ],
   "source": [
    "n(b,c)"
   ]
  },
  {
   "cell_type": "markdown",
   "id": "87c99ae0",
   "metadata": {},
   "source": [
    "---\n",
    "### Scope of variable\n",
    "1. **Global Variable**\n",
    "    1. Global Variable is always define outside of function.\n",
    "    2. Global variable can be accessed inside or outside of the function.\n",
    "2. **Local Variable**\n",
    "    1. Local variable is always define inside the function.\n",
    "    2. Local variable only works inside function or local scope."
   ]
  },
  {
   "cell_type": "code",
   "execution_count": 77,
   "id": "3a2f8814",
   "metadata": {},
   "outputs": [],
   "source": [
    "r = 10 # This is Global variable\n",
    "def test3(a,b = 1):\n",
    "    r = a/b # This is Local variable\n",
    "    return r"
   ]
  },
  {
   "cell_type": "code",
   "execution_count": 78,
   "id": "766dd5b2",
   "metadata": {},
   "outputs": [
    {
     "data": {
      "text/plain": [
       "1.0"
      ]
     },
     "execution_count": 78,
     "metadata": {},
     "output_type": "execute_result"
    }
   ],
   "source": [
    "test3(10,10)"
   ]
  },
  {
   "cell_type": "code",
   "execution_count": 79,
   "id": "d71b18b8",
   "metadata": {},
   "outputs": [
    {
     "data": {
      "text/plain": [
       "10"
      ]
     },
     "execution_count": 79,
     "metadata": {},
     "output_type": "execute_result"
    }
   ],
   "source": [
    "# we can access this variable outside the function\n",
    "r "
   ]
  },
  {
   "cell_type": "markdown",
   "id": "2a0aba97",
   "metadata": {},
   "source": [
    "---\n",
    "### Docstring\n",
    "* Python docstrings are the string literals that appear right after the definition of a function, method, class, or module."
   ]
  },
  {
   "cell_type": "code",
   "execution_count": 80,
   "id": "e984149c",
   "metadata": {},
   "outputs": [],
   "source": [
    "def test4():\n",
    "    '''This is the sample function which is used to demonstrate docstring\n",
    "    This function just do nothing... only print some lines...\n",
    "    '''\n",
    "    return \"Excuse me Please... \\nMy name is Anthony Gonsalvis...!! \""
   ]
  },
  {
   "cell_type": "code",
   "execution_count": 81,
   "id": "310c3ecb",
   "metadata": {},
   "outputs": [
    {
     "name": "stdout",
     "output_type": "stream",
     "text": [
      "Excuse me Please... \n",
      "My name is Anthony Gonsalvis...!! Excuse Me Please...!!\n"
     ]
    }
   ],
   "source": [
    "a = test4()+'Excuse Me Please...!!'\n",
    "print(a)"
   ]
  },
  {
   "cell_type": "code",
   "execution_count": 82,
   "id": "f114a0d6",
   "metadata": {},
   "outputs": [
    {
     "name": "stdout",
     "output_type": "stream",
     "text": [
      "Help on function test4 in module __main__:\n",
      "\n",
      "test4()\n",
      "    This is the sample function which is used to demonstrate docstring\n",
      "    This function just do nothing... only print some lines...\n",
      "\n"
     ]
    }
   ],
   "source": [
    "help(test4)"
   ]
  },
  {
   "cell_type": "markdown",
   "id": "03785bae",
   "metadata": {},
   "source": [
    "___\n",
    "## Difference between ITERABLE, ITERATOR and GENERATOR\n",
    "\n",
    "1. **Iterable:**\n",
    "    1. **An object is called iterable if we can get an iterator from it.** Most built-in containers in Python like: list, tuple, string etc. are iterables.\n",
    "    1. **_An iteratable is a Python object that can be used as a sequence._**\n",
    "    2. You can go to the next item of the sequence using the **next()** method.\n",
    "\n",
    "    2. You can loop over an iterable, but you cannot access individual elements directly.\n",
    "    3. It’s a container object: it can only return one of its element at the time.\n",
    "2. **Iterator:**\n",
    "    1. Iterator in Python is simply an object that can be iterated upon. An object which will return data, one element at a time.\n",
    "    2. Python iterator object must implement two special methods, __iter__() and __next__(), collectively called the iterator protocol.\n",
    "3. **Generator:**\n",
    "    1. Generators are basically functions that return traversable objects or items. \n",
    "    2. These functions do not produce all the items at once, rather they produce them one at a time and only when required. Whenever the for statement is included to iterate over a set of items, a generator function is run. Generators have a number of advantages as well.\n",
    "    3. For generator we use **_yield_** built-in data type."
   ]
  },
  {
   "cell_type": "code",
   "execution_count": 83,
   "id": "f45161a0",
   "metadata": {},
   "outputs": [
    {
     "name": "stdout",
     "output_type": "stream",
     "text": [
      "This will be throw an error, because int object is not iterable,\n",
      "also we can't perform any slicing operation on 'int' object\n"
     ]
    }
   ],
   "source": [
    "print(\"\"\"This will be throw an error, because int object is not iterable,\n",
    "also we can't perform any slicing operation on 'int' object\"\"\")\n",
    "# a = 10\n",
    "# for i in a:\n",
    "#     print(i)"
   ]
  },
  {
   "cell_type": "code",
   "execution_count": 84,
   "id": "5d7c954e",
   "metadata": {},
   "outputs": [
    {
     "name": "stdout",
     "output_type": "stream",
     "text": [
      "H\n",
      "a\n",
      "r\n",
      "s\n",
      "h\n",
      "a\n",
      "l\n"
     ]
    }
   ],
   "source": [
    "for i in \"Harshal\":\n",
    "    print(i)"
   ]
  },
  {
   "cell_type": "code",
   "execution_count": 85,
   "id": "79e3dd4f",
   "metadata": {},
   "outputs": [
    {
     "data": {
      "text/plain": [
       "'H'"
      ]
     },
     "execution_count": 85,
     "metadata": {},
     "output_type": "execute_result"
    }
   ],
   "source": [
    "s = \"Harshal\" # Here 's' is iterable object\n",
    "s = iter(s)   # Here we converted 's' into iterator object\n",
    "next(s)       # Now we can access each element using next"
   ]
  },
  {
   "cell_type": "code",
   "execution_count": 86,
   "id": "28ca70d0",
   "metadata": {},
   "outputs": [
    {
     "data": {
      "text/plain": [
       "'a'"
      ]
     },
     "execution_count": 86,
     "metadata": {},
     "output_type": "execute_result"
    }
   ],
   "source": [
    "next(s)"
   ]
  },
  {
   "cell_type": "code",
   "execution_count": 87,
   "id": "5622682e",
   "metadata": {},
   "outputs": [
    {
     "data": {
      "text/plain": [
       "'r'"
      ]
     },
     "execution_count": 87,
     "metadata": {},
     "output_type": "execute_result"
    }
   ],
   "source": [
    "# once index is out of bound, it will throw an error \"StopIteration\"\n",
    "next(s)"
   ]
  },
  {
   "cell_type": "code",
   "execution_count": 88,
   "id": "98fa97bb",
   "metadata": {},
   "outputs": [
    {
     "name": "stdout",
     "output_type": "stream",
     "text": [
      "we can't convert \"int\" object into iterator, that's why it will be throw an error\n"
     ]
    }
   ],
   "source": [
    "print(\"\"\"we can't convert \"int\" object into iterator, that's why it will be throw an error\"\"\")\n",
    "# a = 10\n",
    "# s = iter(a)\n",
    "# next(s)"
   ]
  },
  {
   "cell_type": "code",
   "execution_count": 89,
   "id": "e3c3f93f",
   "metadata": {},
   "outputs": [
    {
     "name": "stdout",
     "output_type": "stream",
     "text": [
      "We can convert list object into iterator..\n",
      "also we can convert tuple,set,dict objects in iterator as well\n"
     ]
    },
    {
     "data": {
      "text/plain": [
       "'harsh'"
      ]
     },
     "execution_count": 89,
     "metadata": {},
     "output_type": "execute_result"
    }
   ],
   "source": [
    "print(\"\"\"We can convert list object into iterator..\n",
    "also we can convert tuple,set,dict objects in iterator as well\"\"\")\n",
    "items = ['harsh','shinde','xyz','abc']\n",
    "iterator = iter(items)\n",
    "next(iterator)"
   ]
  },
  {
   "cell_type": "code",
   "execution_count": 90,
   "id": "b42f9197",
   "metadata": {},
   "outputs": [
    {
     "name": "stdout",
     "output_type": "stream",
     "text": [
      "This will give you a next object in iterator..\n"
     ]
    },
    {
     "data": {
      "text/plain": [
       "'shinde'"
      ]
     },
     "execution_count": 90,
     "metadata": {},
     "output_type": "execute_result"
    }
   ],
   "source": [
    "print(\"This will give you a next object in iterator..\")\n",
    "next(iterator)"
   ]
  },
  {
   "cell_type": "code",
   "execution_count": 91,
   "id": "1d5083f6",
   "metadata": {},
   "outputs": [
    {
     "name": "stdout",
     "output_type": "stream",
     "text": [
      "We can access iterable using indexing operation\n"
     ]
    },
    {
     "data": {
      "text/plain": [
       "'harsh'"
      ]
     },
     "execution_count": 91,
     "metadata": {},
     "output_type": "execute_result"
    }
   ],
   "source": [
    "print(\"We can access iterable using indexing operation\")\n",
    "items[0]"
   ]
  },
  {
   "cell_type": "code",
   "execution_count": 92,
   "id": "42990fe0",
   "metadata": {},
   "outputs": [
    {
     "name": "stdout",
     "output_type": "stream",
     "text": [
      "but we can't access iterator using indexing operation \n",
      " it will throw an TypeError:'list_iterator' object is not subscriptable'\n"
     ]
    }
   ],
   "source": [
    "print(\"but we can't access iterator using indexing operation \\n it will throw an TypeError:'list_iterator' object is not subscriptable'\")\n",
    "# iterator[0]"
   ]
  },
  {
   "cell_type": "code",
   "execution_count": 93,
   "id": "03efb8bf",
   "metadata": {},
   "outputs": [
    {
     "name": "stdout",
     "output_type": "stream",
     "text": [
      "This function is try to demonstrate the concept of generator, and what if we don't use generator for this kind of function\n"
     ]
    }
   ],
   "source": [
    "print(\"\"\"This function is try to demonstrate the concept of generator, and what if we don't use generator for this kind of function\"\"\")\n",
    "def test5(n):\n",
    "    l=[]\n",
    "    for i in range(n):\n",
    "        l.append(i**3)\n",
    "    \n",
    "    return l"
   ]
  },
  {
   "cell_type": "code",
   "execution_count": 94,
   "id": "41fa0d79",
   "metadata": {
    "scrolled": false
   },
   "outputs": [
    {
     "name": "stdout",
     "output_type": "stream",
     "text": [
      "Don't run below line, This will going to burst your RAM.. \n",
      "this below line was just for explaining the concept of generator\n"
     ]
    }
   ],
   "source": [
    "print('''Don't run below line, This will going to burst your RAM.. \n",
    "this below line was just for explaining the concept of generator''')\n",
    "# test5(600000000)"
   ]
  },
  {
   "cell_type": "code",
   "execution_count": 95,
   "id": "5957435c",
   "metadata": {},
   "outputs": [
    {
     "name": "stdout",
     "output_type": "stream",
     "text": [
      "This code explains concept of generator..\n",
      "for create generator, we use 'yield' built-in keyword\n"
     ]
    }
   ],
   "source": [
    "print(\"\"\"This code explains concept of generator..\n",
    "for create generator, we use 'yield' built-in keyword\"\"\")\n",
    "\n",
    "def test6(n):\n",
    "    l = []\n",
    "    for i in range(n):\n",
    "        yield i**3"
   ]
  },
  {
   "cell_type": "code",
   "execution_count": 96,
   "id": "711795c7",
   "metadata": {},
   "outputs": [
    {
     "name": "stdout",
     "output_type": "stream",
     "text": [
      "<generator object test6 at 0x0000017ECB7AEA48>\n"
     ]
    }
   ],
   "source": [
    "print(test6(30))"
   ]
  },
  {
   "cell_type": "code",
   "execution_count": 97,
   "id": "ff4fb9cc",
   "metadata": {},
   "outputs": [
    {
     "data": {
      "text/plain": [
       "\"don't execute this below code, this will eat your lots of time.. \""
      ]
     },
     "execution_count": 97,
     "metadata": {},
     "output_type": "execute_result"
    }
   ],
   "source": [
    "'''don't execute this below code, this will eat your lots of time.. '''\n",
    "# for i in test6(600000000):\n",
    "#     print(i)"
   ]
  },
  {
   "cell_type": "code",
   "execution_count": 98,
   "id": "a2be456e",
   "metadata": {},
   "outputs": [
    {
     "data": {
      "text/plain": [
       "range(0, 20)"
      ]
     },
     "execution_count": 98,
     "metadata": {},
     "output_type": "execute_result"
    }
   ],
   "source": [
    "range(20)"
   ]
  },
  {
   "cell_type": "code",
   "execution_count": 99,
   "id": "a5a7e6b5",
   "metadata": {},
   "outputs": [
    {
     "data": {
      "text/plain": [
       "[0, 1, 2, 3, 4, 5, 6, 7, 8, 9, 10, 11, 12, 13, 14, 15, 16, 17, 18, 19]"
      ]
     },
     "execution_count": 99,
     "metadata": {},
     "output_type": "execute_result"
    }
   ],
   "source": [
    "list(range(20))"
   ]
  },
  {
   "cell_type": "code",
   "execution_count": 100,
   "id": "10362386",
   "metadata": {},
   "outputs": [
    {
     "data": {
      "text/plain": [
       "[0, 1, 2, 3, 4, 5, 6, 7, 8, 9, 10, 11, 12, 13, 14, 15, 16, 17, 18, 19]"
      ]
     },
     "execution_count": 100,
     "metadata": {},
     "output_type": "execute_result"
    }
   ],
   "source": [
    "[i for i in range(20)]"
   ]
  },
  {
   "cell_type": "code",
   "execution_count": 101,
   "id": "fdcd67d1",
   "metadata": {},
   "outputs": [],
   "source": [
    "# generating fibonaci series\n",
    "\n",
    "def fibo(n):\n",
    "    a = 1\n",
    "    b = 1\n",
    "    output = []\n",
    "    for i in range(n):\n",
    "        output.append(a)\n",
    "        a, b = b , a+b\n",
    "    return output"
   ]
  },
  {
   "cell_type": "code",
   "execution_count": 102,
   "id": "11e7fc4d",
   "metadata": {},
   "outputs": [
    {
     "data": {
      "text/plain": [
       "[1, 1, 2, 3, 5, 8, 13, 21, 34, 55, 89]"
      ]
     },
     "execution_count": 102,
     "metadata": {},
     "output_type": "execute_result"
    }
   ],
   "source": [
    "fibo(11)"
   ]
  },
  {
   "cell_type": "code",
   "execution_count": 103,
   "id": "4aa71fe3",
   "metadata": {},
   "outputs": [],
   "source": [
    "# same operation we can perform with yield\n",
    "# yield takes memory for print only one no. of fibonacci series\n",
    "\n",
    "\n",
    "def fibo(n):\n",
    "    a = 1\n",
    "    b = 1\n",
    "    for i in range(n):\n",
    "        yield a\n",
    "        a, b = b , a+b\n",
    "    "
   ]
  },
  {
   "cell_type": "code",
   "execution_count": 104,
   "id": "8603b596",
   "metadata": {},
   "outputs": [
    {
     "data": {
      "text/plain": [
       "<generator object fibo at 0x0000017ECB7B2448>"
      ]
     },
     "execution_count": 104,
     "metadata": {},
     "output_type": "execute_result"
    }
   ],
   "source": [
    "fibo(10)"
   ]
  },
  {
   "cell_type": "code",
   "execution_count": 105,
   "id": "91c8d03b",
   "metadata": {},
   "outputs": [
    {
     "name": "stdout",
     "output_type": "stream",
     "text": [
      "try to give input as 1000000\n",
      "1\n",
      "1\n",
      "2\n",
      "3\n",
      "5\n",
      "8\n",
      "13\n",
      "21\n",
      "34\n",
      "55\n"
     ]
    }
   ],
   "source": [
    "print('''try to give input as 1000000''')\n",
    "for i in fibo(10):\n",
    "    print(i)"
   ]
  },
  {
   "cell_type": "markdown",
   "id": "c3099185",
   "metadata": {},
   "source": [
    "---\n",
    "# File Manipulations\n",
    "### Modes of operations\n",
    "|**Character** |**Meaning** \n",
    "|:--:|:--\n",
    "|**'r'** |open for reading (default)\n",
    "|**'w'** |open for writing, truncating the file first\n",
    "|**'x'** |create a new file and open it for writing\n",
    "|**'a'** |open for writing, appending to the end of the file if it exists\n",
    "|**'b'** |binary mode\n",
    "|**'t'** |text mode (default)\n",
    "|**'+'** |open a disk file for updating (reading and writing)\n",
    "|**'U'** |universal newline mode (deprecated)\n",
    "\n",
    "---"
   ]
  },
  {
   "cell_type": "code",
   "execution_count": 106,
   "id": "9dda18e7",
   "metadata": {},
   "outputs": [],
   "source": [
    "# this is used for creating new file in a pertiocular directory.\n",
    "# if file is already present, then it will try to open that file\n",
    "import os\n",
    "os.mkdir(\"file_operations\")\n",
    "f = open('file_operations/test.txt',\"w\")"
   ]
  },
  {
   "cell_type": "code",
   "execution_count": 107,
   "id": "c54b81f5",
   "metadata": {},
   "outputs": [
    {
     "data": {
      "text/plain": [
       "70"
      ]
     },
     "execution_count": 107,
     "metadata": {},
     "output_type": "execute_result"
    }
   ],
   "source": [
    "# This is used to write someting in file\n",
    "# here in output, you'll able to see, how many total characters are present in the file\n",
    "f.write(r'My name is harshal shinde, \\nThis is the full stack data science class')"
   ]
  },
  {
   "cell_type": "code",
   "execution_count": 108,
   "id": "0977d14d",
   "metadata": {},
   "outputs": [],
   "source": [
    "# this is used to close the previously opend file\n",
    "# if you didn't closed that file, you can't see the changes you made in that file..\n",
    "# you'll not able to see last text you was written in that file\n",
    "f.close()"
   ]
  },
  {
   "cell_type": "code",
   "execution_count": 109,
   "id": "5aab58e3",
   "metadata": {},
   "outputs": [],
   "source": [
    "f = open('file_operations/test.txt')"
   ]
  },
  {
   "cell_type": "code",
   "execution_count": 110,
   "id": "fe638e33",
   "metadata": {},
   "outputs": [
    {
     "name": "stdout",
     "output_type": "stream",
     "text": [
      "My name is harshal shinde, \\nThis is the full stack data science class\n"
     ]
    }
   ],
   "source": [
    "print(f.read())"
   ]
  },
  {
   "cell_type": "code",
   "execution_count": 111,
   "id": "df4a6d4c",
   "metadata": {},
   "outputs": [
    {
     "data": {
      "text/plain": [
       "''"
      ]
     },
     "execution_count": 111,
     "metadata": {},
     "output_type": "execute_result"
    }
   ],
   "source": [
    "f.read()"
   ]
  },
  {
   "cell_type": "code",
   "execution_count": 112,
   "id": "e02a59db",
   "metadata": {},
   "outputs": [
    {
     "name": "stdout",
     "output_type": "stream",
     "text": [
      "It will try to set the current cursor position at the number you given in f.seek(0)\n"
     ]
    },
    {
     "data": {
      "text/plain": [
       "0"
      ]
     },
     "execution_count": 112,
     "metadata": {},
     "output_type": "execute_result"
    }
   ],
   "source": [
    "print(\"It will try to set the current cursor position at the number you given in f.seek(0)\")\n",
    "f.seek(0)"
   ]
  },
  {
   "cell_type": "code",
   "execution_count": 113,
   "id": "74237233",
   "metadata": {},
   "outputs": [
    {
     "name": "stdout",
     "output_type": "stream",
     "text": [
      "f.read(25) will give the 25 characters from the current position of cursor..\n"
     ]
    },
    {
     "data": {
      "text/plain": [
       "'My name is harshal shinde'"
      ]
     },
     "execution_count": 113,
     "metadata": {},
     "output_type": "execute_result"
    }
   ],
   "source": [
    "print(\"f.read(25) will give the 25 characters from the current position of cursor..\")\n",
    "f.read(25)"
   ]
  },
  {
   "cell_type": "code",
   "execution_count": 114,
   "id": "a81700fc",
   "metadata": {},
   "outputs": [
    {
     "data": {
      "text/plain": [
       "', \\\\nThis is the full stack data science class'"
      ]
     },
     "execution_count": 114,
     "metadata": {},
     "output_type": "execute_result"
    }
   ],
   "source": [
    "f.read()"
   ]
  },
  {
   "cell_type": "code",
   "execution_count": 115,
   "id": "05f7d137",
   "metadata": {},
   "outputs": [
    {
     "name": "stdout",
     "output_type": "stream",
     "text": [
      "Here we are trying to open test file in a 'r' mode(read mode)\n"
     ]
    }
   ],
   "source": [
    "print(\"Here we are trying to open test file in a 'r' mode(read mode)\")\n",
    "f = open('file_operations/test.txt','r')"
   ]
  },
  {
   "cell_type": "code",
   "execution_count": 116,
   "id": "8abf0bfa",
   "metadata": {},
   "outputs": [
    {
     "name": "stdout",
     "output_type": "stream",
     "text": [
      "We can't perform write operation here, because we opened this file in 'r' read mode.\n",
      "it will be throw an error as: \n",
      "UnsupportedOperation: not writable\n"
     ]
    }
   ],
   "source": [
    "print(\"\"\"We can't perform write operation here, because we opened this file in 'r' read mode.\n",
    "it will be throw an error as: \n",
    "UnsupportedOperation: not writable\"\"\")\n",
    "# f.write('sdfdsaf')"
   ]
  },
  {
   "cell_type": "code",
   "execution_count": 117,
   "id": "e86d0488",
   "metadata": {},
   "outputs": [
    {
     "data": {
      "text/plain": [
       "'My name is harshal shinde, \\\\nThis is the full stack data science class'"
      ]
     },
     "execution_count": 117,
     "metadata": {},
     "output_type": "execute_result"
    }
   ],
   "source": [
    "f.read()"
   ]
  },
  {
   "cell_type": "code",
   "execution_count": 118,
   "id": "d651f1ed",
   "metadata": {},
   "outputs": [],
   "source": [
    "f.close()"
   ]
  },
  {
   "cell_type": "code",
   "execution_count": 119,
   "id": "3c6ef026",
   "metadata": {},
   "outputs": [
    {
     "name": "stdout",
     "output_type": "stream",
     "text": [
      "We can't perfor read operation on closed file\n"
     ]
    }
   ],
   "source": [
    "print('''We can't perfor read operation on closed file''')\n",
    "# f.read()"
   ]
  },
  {
   "cell_type": "code",
   "execution_count": 120,
   "id": "29428784",
   "metadata": {},
   "outputs": [
    {
     "name": "stdout",
     "output_type": "stream",
     "text": [
      "'w':open for writing, truncating the file first..\n",
      "This mode will try to open a file, it will wipe out its previous data..\n"
     ]
    },
    {
     "data": {
      "text/plain": [
       "<_io.TextIOWrapper name='file_operations/test.txt' mode='w' encoding='cp1252'>"
      ]
     },
     "execution_count": 120,
     "metadata": {},
     "output_type": "execute_result"
    }
   ],
   "source": [
    "print(\"\"\"'w':open for writing, truncating the file first..\n",
    "This mode will try to open a file, it will wipe out its previous data..\"\"\")\n",
    "open(\"file_operations/test.txt\",'w')"
   ]
  },
  {
   "cell_type": "code",
   "execution_count": 121,
   "id": "6aa4e1ac",
   "metadata": {},
   "outputs": [
    {
     "name": "stdout",
     "output_type": "stream",
     "text": [
      "Here we are tried to open this file in a 'w' write mode.\n",
      "we inserted some of the data and closed it..\n"
     ]
    }
   ],
   "source": [
    "print(\"\"\"Here we are tried to open this file in a 'w' write mode.\n",
    "we inserted some of the data and closed it..\"\"\")\n",
    "f = open(\"file_operations/test.txt\",'w')\n",
    "f.write('...\\nMy name is harshal shinde, \\nThis is the full stack data science class')\n",
    "f.close()"
   ]
  },
  {
   "cell_type": "code",
   "execution_count": 122,
   "id": "b1f6c0a6",
   "metadata": {},
   "outputs": [
    {
     "name": "stdout",
     "output_type": "stream",
     "text": [
      "Here we are tried to open this file in a 'a' append mode.\n",
      "we inserted some new lines and closed it..\n"
     ]
    }
   ],
   "source": [
    "print(\"\"\"Here we are tried to open this file in a 'a' append mode.\n",
    "we inserted some new lines and closed it..\"\"\")\n",
    "f = open(\"file_operations/test.txt\",'a')\n",
    "f.write('...\\nWe are apended this line in the file.. \\nnow you can see new line here')\n",
    "f.close()"
   ]
  },
  {
   "cell_type": "code",
   "execution_count": 123,
   "id": "caf32d29",
   "metadata": {},
   "outputs": [
    {
     "name": "stdout",
     "output_type": "stream",
     "text": [
      "Here we are tried to create a new test1.txt file.\n",
      "we are trying to perform 'wb' operation(write in binary mode)...\n"
     ]
    }
   ],
   "source": [
    "print(\"\"\"Here we are tried to create a new test1.txt file.\n",
    "we are trying to perform 'wb' operation(write in binary mode)...\"\"\")\n",
    "f = open(\"file_operations/test1.txt\",'wb')"
   ]
  },
  {
   "cell_type": "code",
   "execution_count": 124,
   "id": "38ca4705",
   "metadata": {},
   "outputs": [
    {
     "name": "stdout",
     "output_type": "stream",
     "text": [
      "here we will receive an error message:\n",
      "TypeError: a bytes-like object is required, not 'str'\n"
     ]
    }
   ],
   "source": [
    "print(\"\"\"here we will receive an error message:\n",
    "TypeError: a bytes-like object is required, not 'str'\"\"\")\n",
    "# f.write(\"...\\nWe are adding binary data inside the file.. let's check out..\")"
   ]
  },
  {
   "cell_type": "code",
   "execution_count": 125,
   "id": "8619caaf",
   "metadata": {},
   "outputs": [
    {
     "name": "stdout",
     "output_type": "stream",
     "text": [
      "We appended same string, but this time it was not giving any error..\n",
      "because, we added 'b' before the string which we have to store..\n",
      "that 'b' stands for binary..\n"
     ]
    },
    {
     "data": {
      "text/plain": [
       "65"
      ]
     },
     "execution_count": 125,
     "metadata": {},
     "output_type": "execute_result"
    }
   ],
   "source": [
    "print(\"\"\"We appended same string, but this time it was not giving any error..\n",
    "because, we added 'b' before the string which we have to store..\n",
    "that 'b' stands for binary..\"\"\")\n",
    "f.write(b\"...\\nWe are adding binary data inside the file.. let's check out..\") "
   ]
  },
  {
   "cell_type": "code",
   "execution_count": 126,
   "id": "d0d62a0b",
   "metadata": {},
   "outputs": [],
   "source": [
    "f.close()"
   ]
  },
  {
   "cell_type": "code",
   "execution_count": 127,
   "id": "ed613b50",
   "metadata": {},
   "outputs": [
    {
     "name": "stdout",
     "output_type": "stream",
     "text": [
      "We are trying to open this file in byte mode.. \n",
      " 'rb' stand for read in binary/byte mode..\n"
     ]
    }
   ],
   "source": [
    "print(\"We are trying to open this file in byte mode.. \\n 'rb' stand for read in binary/byte mode..\")\n",
    "f = open(\"file_operations/test1.txt\",'rb')"
   ]
  },
  {
   "cell_type": "code",
   "execution_count": 128,
   "id": "fedf83bf",
   "metadata": {},
   "outputs": [
    {
     "data": {
      "text/plain": [
       "b\"We are adding binary data inside the file.. let's check out..\""
      ]
     },
     "execution_count": 128,
     "metadata": {},
     "output_type": "execute_result"
    }
   ],
   "source": [
    "f.seek(4)\n",
    "f.read()"
   ]
  },
  {
   "cell_type": "code",
   "execution_count": 129,
   "id": "15fb1e6a",
   "metadata": {},
   "outputs": [
    {
     "name": "stdout",
     "output_type": "stream",
     "text": [
      "This will try to set cursor at '-20'th position before end of the file..\n"
     ]
    },
    {
     "data": {
      "text/plain": [
       "b\".. let's check out..\""
      ]
     },
     "execution_count": 129,
     "metadata": {},
     "output_type": "execute_result"
    }
   ],
   "source": [
    "print(\"This will try to set cursor at '-20'th position before end of the file..\")\n",
    "f.seek(-20,2)\n",
    "f.read()"
   ]
  },
  {
   "cell_type": "code",
   "execution_count": 130,
   "id": "42af8ed2",
   "metadata": {},
   "outputs": [
    {
     "data": {
      "text/plain": [
       "0"
      ]
     },
     "execution_count": 130,
     "metadata": {},
     "output_type": "execute_result"
    }
   ],
   "source": [
    "f.seek(0)"
   ]
  },
  {
   "cell_type": "code",
   "execution_count": 131,
   "id": "89b4b81d",
   "metadata": {},
   "outputs": [],
   "source": [
    "f = open(\"file_operations/test2.txt\",'w')"
   ]
  },
  {
   "cell_type": "code",
   "execution_count": 132,
   "id": "f9a43c87",
   "metadata": {},
   "outputs": [
    {
     "data": {
      "text/plain": [
       "90"
      ]
     },
     "execution_count": 132,
     "metadata": {},
     "output_type": "execute_result"
    }
   ],
   "source": [
    "f.write(\"Hello... \\nMy name is Harshal Shinde... \\nHow are you all homies???\\nLet's Play python quiz..\")"
   ]
  },
  {
   "cell_type": "code",
   "execution_count": 133,
   "id": "720b1b0f",
   "metadata": {},
   "outputs": [],
   "source": [
    "f.close()"
   ]
  },
  {
   "cell_type": "code",
   "execution_count": 134,
   "id": "0816083a",
   "metadata": {},
   "outputs": [
    {
     "name": "stdout",
     "output_type": "stream",
     "text": [
      "This is the overall data of test2 file:\n",
      "\n",
      "Hello... \n",
      "My name is Harshal Shinde... \n",
      "How are you all homies???\n",
      "Let's Play python quiz..\n"
     ]
    }
   ],
   "source": [
    "f = open(\"file_operations/test2.txt\",'r')\n",
    "print(\"This is the overall data of test2 file:\\n\\n\"+f.read())"
   ]
  },
  {
   "cell_type": "code",
   "execution_count": 135,
   "id": "c46d6acc",
   "metadata": {},
   "outputs": [
    {
     "data": {
      "text/plain": [
       "\"Hello... \\nMy name is Harshal Shinde... \\nHow are you all homies???\\nLet's Play python quiz..\""
      ]
     },
     "execution_count": 135,
     "metadata": {},
     "output_type": "execute_result"
    }
   ],
   "source": [
    "'''f.read() is able to read complete data at a time..'''\n",
    "f.seek(0)\n",
    "f.read()"
   ]
  },
  {
   "cell_type": "code",
   "execution_count": 136,
   "id": "7dd4830c",
   "metadata": {},
   "outputs": [
    {
     "data": {
      "text/plain": [
       "'Hello... \\n'"
      ]
     },
     "execution_count": 136,
     "metadata": {},
     "output_type": "execute_result"
    }
   ],
   "source": [
    "f.seek(0)\n",
    "'''f.readline() is able to read only one line at a time'''\n",
    "f.readline()"
   ]
  },
  {
   "cell_type": "code",
   "execution_count": 137,
   "id": "bd0b2a87",
   "metadata": {},
   "outputs": [
    {
     "data": {
      "text/plain": [
       "'My name is Harshal Shinde... \\n'"
      ]
     },
     "execution_count": 137,
     "metadata": {},
     "output_type": "execute_result"
    }
   ],
   "source": [
    "f.readline()"
   ]
  },
  {
   "cell_type": "code",
   "execution_count": 138,
   "id": "a3d358e0",
   "metadata": {},
   "outputs": [
    {
     "data": {
      "text/plain": [
       "'How are you all homies???\\n'"
      ]
     },
     "execution_count": 138,
     "metadata": {},
     "output_type": "execute_result"
    }
   ],
   "source": [
    "f.readline()"
   ]
  },
  {
   "cell_type": "code",
   "execution_count": 139,
   "id": "0f18f039",
   "metadata": {},
   "outputs": [],
   "source": [
    "f.close()"
   ]
  },
  {
   "cell_type": "code",
   "execution_count": 140,
   "id": "938f4346",
   "metadata": {},
   "outputs": [],
   "source": [
    "f = open(\"file_operations/test2.txt\",'r')"
   ]
  },
  {
   "cell_type": "code",
   "execution_count": 141,
   "id": "b317bfbc",
   "metadata": {},
   "outputs": [
    {
     "name": "stdout",
     "output_type": "stream",
     "text": [
      "Hello... \n",
      "\n",
      "My name is Harshal Shinde... \n",
      "\n",
      "How are you all homies???\n",
      "\n",
      "Let's Play python quiz..\n"
     ]
    }
   ],
   "source": [
    "'''We can get all the data of file using for loop..\n",
    "it will print each line which is avaliable inside the file'''\n",
    "f.seek(0)\n",
    "for i in f:\n",
    "    print(i)"
   ]
  },
  {
   "cell_type": "code",
   "execution_count": 142,
   "id": "b2fa2a06",
   "metadata": {},
   "outputs": [],
   "source": [
    "f.close()"
   ]
  },
  {
   "cell_type": "code",
   "execution_count": 143,
   "id": "efaab2f6",
   "metadata": {},
   "outputs": [],
   "source": [
    "f = open(\"file_operations/test2.txt\",'r')"
   ]
  },
  {
   "cell_type": "code",
   "execution_count": 144,
   "id": "6e46bcd8",
   "metadata": {},
   "outputs": [
    {
     "data": {
      "text/plain": [
       "['Hello... \\n',\n",
       " 'My name is Harshal Shinde... \\n',\n",
       " 'How are you all homies???\\n',\n",
       " \"Let's Play python quiz..\"]"
      ]
     },
     "execution_count": 144,
     "metadata": {},
     "output_type": "execute_result"
    }
   ],
   "source": [
    "# Requirement is, try to store all the data of file inside the list\n",
    "list(f)\n",
    "# This is how we can do that"
   ]
  },
  {
   "cell_type": "code",
   "execution_count": 145,
   "id": "b1e38d3b",
   "metadata": {},
   "outputs": [
    {
     "data": {
      "text/plain": [
       "['Hello... \\n',\n",
       " 'My name is Harshal Shinde... \\n',\n",
       " 'How are you all homies???\\n',\n",
       " \"Let's Play python quiz..\"]"
      ]
     },
     "execution_count": 145,
     "metadata": {},
     "output_type": "execute_result"
    }
   ],
   "source": [
    "# another way to do the same above task is\n",
    "f.seek(0)\n",
    "f.readlines()\n",
    "# we can do this with 'readlines'"
   ]
  },
  {
   "cell_type": "code",
   "execution_count": 146,
   "id": "081378f5",
   "metadata": {},
   "outputs": [],
   "source": [
    "f.close()"
   ]
  },
  {
   "cell_type": "code",
   "execution_count": 147,
   "id": "a66359b0",
   "metadata": {},
   "outputs": [
    {
     "name": "stdout",
     "output_type": "stream",
     "text": [
      "let suppose, we have to open a file in read and write both mode..\n",
      "we can do that using 'r+' mode, which means read and write both mode\n"
     ]
    }
   ],
   "source": [
    "print(\"\"\"let suppose, we have to open a file in read and write both mode..\n",
    "we can do that using 'r+' mode, which means read and write both mode\"\"\")\n",
    "\n",
    "f = open(\"file_operations/test2.txt\",'r+')"
   ]
  },
  {
   "cell_type": "code",
   "execution_count": 148,
   "id": "2b5520ff",
   "metadata": {},
   "outputs": [
    {
     "data": {
      "text/plain": [
       "58"
      ]
     },
     "execution_count": 148,
     "metadata": {},
     "output_type": "execute_result"
    }
   ],
   "source": [
    "f.seek(91) # Here I set the cursor at the end of file\n",
    "f.write(\"\\nThis a the data added after the opening file in 'r+' mode\")"
   ]
  },
  {
   "cell_type": "code",
   "execution_count": 149,
   "id": "45cc5df7",
   "metadata": {},
   "outputs": [],
   "source": [
    "f.close()"
   ]
  },
  {
   "cell_type": "code",
   "execution_count": 150,
   "id": "33515860",
   "metadata": {},
   "outputs": [
    {
     "name": "stdout",
     "output_type": "stream",
     "text": [
      "Hello... \n",
      "My name is Harshal Shinde... \n",
      "How are you all homies???\n",
      "Let's Play python quiz\n",
      "This a the data added after the opening file in 'r+' mode\n",
      "Welcome again.. \n",
      "this is new writeline..\n"
     ]
    }
   ],
   "source": [
    "f = open(\"file_operations/test2.txt\",'r+')\n",
    "\n",
    "# Here I set the cursor at the end of file\n",
    "f.seek(150)\n",
    "\n",
    "'''writelines is use to Write a list of lines to stream.'''\n",
    "f.writelines(\"\\nWelcome again.. \\nthis is new writeline..\")\n",
    "\n",
    "f.seek(0)\n",
    "print(f.read()) # Performing a read operation\n",
    "\n",
    "f.close()"
   ]
  },
  {
   "cell_type": "code",
   "execution_count": 151,
   "id": "433a1ef2",
   "metadata": {},
   "outputs": [],
   "source": [
    "f = open(\"file_operations/test2.txt\",'r+')"
   ]
  },
  {
   "cell_type": "code",
   "execution_count": 152,
   "id": "e70f4fe5",
   "metadata": {},
   "outputs": [
    {
     "name": "stdout",
     "output_type": "stream",
     "text": [
      "Returns underlying file descriptor if one exists.\n",
      "\n",
      "File Descriptor: \n",
      "    A file descriptor is a number that uniquely identifies an open file\n",
      "in a computer's operating system. It describes a data resource, and how\n",
      "that resource may be accessed.\n"
     ]
    },
    {
     "data": {
      "text/plain": [
       "5"
      ]
     },
     "execution_count": 152,
     "metadata": {},
     "output_type": "execute_result"
    }
   ],
   "source": [
    "print('''Returns underlying file descriptor if one exists.\n",
    "\\nFile Descriptor: \n",
    "    A file descriptor is a number that uniquely identifies an open file\n",
    "in a computer's operating system. It describes a data resource, and how\n",
    "that resource may be accessed.''')\n",
    "\n",
    "f.fileno()"
   ]
  },
  {
   "cell_type": "code",
   "execution_count": 153,
   "id": "87fda593",
   "metadata": {},
   "outputs": [],
   "source": [
    "f.close()"
   ]
  },
  {
   "cell_type": "code",
   "execution_count": 154,
   "id": "eecd21bb",
   "metadata": {},
   "outputs": [
    {
     "name": "stdout",
     "output_type": "stream",
     "text": [
      "Writing file_operations\\test3.txt\n"
     ]
    }
   ],
   "source": [
    "%%writefile file_operations\\test3.txt\n",
    "This is another way of creating a file..\n",
    "this is not a standerd way, but we can try this..\n",
    "'%%writefile' is a command which help to create a file,\n",
    "if file is not exist, it will create a new file as given name,\n",
    "and if file is avaliable, it will overwrite this file..\n",
    "# this will try to create the file using magic cell of jupyter notebook.\n",
    "# Magic cells are avaliable for jupyter notebook, \n",
    "# you can't create file like this using any other IDE"
   ]
  },
  {
   "cell_type": "markdown",
   "id": "ddcace3f",
   "metadata": {},
   "source": [
    "---\n",
    "## Operating System commands\n",
    "### Lets see some operating system commands"
   ]
  },
  {
   "cell_type": "code",
   "execution_count": 155,
   "id": "fb6face0",
   "metadata": {},
   "outputs": [],
   "source": [
    "import os"
   ]
  },
  {
   "cell_type": "code",
   "execution_count": 156,
   "id": "74b0f247",
   "metadata": {},
   "outputs": [
    {
     "name": "stdout",
     "output_type": "stream",
     "text": [
      "'pwd()'is used to show present working directory or path..\n"
     ]
    }
   ],
   "source": [
    "print(\"\"\"'pwd()'is used to show present working directory or path..\"\"\")"
   ]
  },
  {
   "cell_type": "code",
   "execution_count": 157,
   "id": "c7695b10",
   "metadata": {},
   "outputs": [
    {
     "data": {
      "text/plain": [
       "'D:\\\\iNeuron\\\\Python'"
      ]
     },
     "execution_count": 157,
     "metadata": {},
     "output_type": "execute_result"
    }
   ],
   "source": [
    "pwd()"
   ]
  },
  {
   "cell_type": "code",
   "execution_count": 158,
   "id": "29a8817c",
   "metadata": {},
   "outputs": [
    {
     "data": {
      "text/plain": [
       "'D:\\\\iNeuron\\\\Python'"
      ]
     },
     "execution_count": 158,
     "metadata": {},
     "output_type": "execute_result"
    }
   ],
   "source": [
    "# both work same\n",
    "os.getcwd()"
   ]
  },
  {
   "cell_type": "code",
   "execution_count": 159,
   "id": "157f8f4d",
   "metadata": {},
   "outputs": [
    {
     "data": {
      "text/plain": [
       "['.ipynb_checkpoints',\n",
       " 'file_operations',\n",
       " 'ineuron practice',\n",
       " 'Python Practice 1.ipynb',\n",
       " 'Python Practice 2.ipynb',\n",
       " 'Python Practice 3.ipynb']"
      ]
     },
     "execution_count": 159,
     "metadata": {},
     "output_type": "execute_result"
    }
   ],
   "source": [
    "# it will show the list of all files in pwd\n",
    "os.listdir()"
   ]
  },
  {
   "cell_type": "code",
   "execution_count": 160,
   "id": "15cbd1c3",
   "metadata": {},
   "outputs": [
    {
     "data": {
      "text/plain": [
       "['1st installment iNeuron  HDSeCjzl79u6BH.jpg',\n",
       " 'Assignments',\n",
       " 'Data Science Interview Preparation',\n",
       " 'My Resume',\n",
       " 'Python',\n",
       " 'sample resume']"
      ]
     },
     "execution_count": 160,
     "metadata": {},
     "output_type": "execute_result"
    }
   ],
   "source": [
    "os.listdir(\"D:\\\\iNeuron\")"
   ]
  },
  {
   "cell_type": "code",
   "execution_count": 161,
   "id": "f5c137c4",
   "metadata": {},
   "outputs": [
    {
     "data": {
      "text/plain": [
       "'D:\\\\iNeuron\\\\Python'"
      ]
     },
     "execution_count": 161,
     "metadata": {},
     "output_type": "execute_result"
    }
   ],
   "source": [
    "pwd()"
   ]
  },
  {
   "cell_type": "code",
   "execution_count": 162,
   "id": "d41a9d2c",
   "metadata": {},
   "outputs": [],
   "source": [
    "os.chdir(\"D:\\\\\")"
   ]
  },
  {
   "cell_type": "code",
   "execution_count": 163,
   "id": "215e0501",
   "metadata": {},
   "outputs": [
    {
     "data": {
      "text/plain": [
       "'D:\\\\'"
      ]
     },
     "execution_count": 163,
     "metadata": {},
     "output_type": "execute_result"
    }
   ],
   "source": [
    "pwd()"
   ]
  },
  {
   "cell_type": "code",
   "execution_count": 164,
   "id": "0b3e19da",
   "metadata": {},
   "outputs": [
    {
     "data": {
      "text/plain": [
       "['$RECYCLE.BIN',\n",
       " 'Backup 23-05-2021',\n",
       " 'clone',\n",
       " 'Fast and Furious',\n",
       " 'GitRepo',\n",
       " 'iNeuron',\n",
       " 'Major project',\n",
       " 'major project (TYMCA)',\n",
       " 'MCA',\n",
       " 'MCA study',\n",
       " 'Min Pro',\n",
       " 'Movies',\n",
       " 'MySQL',\n",
       " 'Projects',\n",
       " 'Python (code with harry)',\n",
       " 'sys image',\n",
       " 'System Volume Information']"
      ]
     },
     "execution_count": 164,
     "metadata": {},
     "output_type": "execute_result"
    }
   ],
   "source": [
    "os.listdir()"
   ]
  },
  {
   "cell_type": "code",
   "execution_count": 165,
   "id": "71735a16",
   "metadata": {},
   "outputs": [],
   "source": [
    "os.chdir(\"D:\\\\iNeuron\\\\Python\")"
   ]
  },
  {
   "cell_type": "code",
   "execution_count": 166,
   "id": "f436b5ac",
   "metadata": {},
   "outputs": [
    {
     "data": {
      "text/plain": [
       "'D:\\\\iNeuron\\\\Python'"
      ]
     },
     "execution_count": 166,
     "metadata": {},
     "output_type": "execute_result"
    }
   ],
   "source": [
    "pwd()"
   ]
  },
  {
   "cell_type": "code",
   "execution_count": null,
   "id": "c48770d9",
   "metadata": {},
   "outputs": [],
   "source": []
  },
  {
   "cell_type": "code",
   "execution_count": 167,
   "id": "ef8be5a4",
   "metadata": {},
   "outputs": [
    {
     "name": "stdout",
     "output_type": "stream",
     "text": [
      "File is avaliable...\n",
      "\n",
      "Hello... \n",
      "My name is Harshal Shinde... \n",
      "How are you all homies???\n",
      "Let's Play python quiz\n",
      "This a the data added after the opening file in 'r+' mode\n",
      "Welcome again.. \n",
      "this is new writeline..\n"
     ]
    }
   ],
   "source": [
    "# if you have to check, whether your file is avaliable inside your pwd or not\n",
    "# you can check using conditional statement also..\n",
    "# if file is avaliable, then we have to open that file and read the data..\n",
    "\n",
    "if 'test2.txt' in os.listdir('D:\\\\iNeuron\\\\Python\\\\file_operations'):\n",
    "    print(\"File is avaliable...\\n\")\n",
    "    f = open(\"file_operations\\\\test2.txt\",\"r+\")\n",
    "    print(f.read())\n",
    "else:\n",
    "    print(\"file is not avaliable..\")"
   ]
  },
  {
   "cell_type": "code",
   "execution_count": 168,
   "id": "3eb7de05",
   "metadata": {},
   "outputs": [
    {
     "name": "stdout",
     "output_type": "stream",
     "text": [
      "directory is created..\n"
     ]
    }
   ],
   "source": [
    "if not os.path.isdir(\"harsh\"):\n",
    "#     os.mkdir() is use to create a new directory\n",
    "    os.mkdir(\"harsh\")\n",
    "    print('directory is created..')\n",
    "else:\n",
    "    print(\"Directory is already present..\")"
   ]
  },
  {
   "cell_type": "code",
   "execution_count": 169,
   "id": "87e193b1",
   "metadata": {},
   "outputs": [],
   "source": [
    "# this is used to remove perticular dir\n",
    "os.rmdir('harsh')"
   ]
  },
  {
   "cell_type": "code",
   "execution_count": 170,
   "id": "65b2c660",
   "metadata": {},
   "outputs": [],
   "source": [
    "# it is use to rename perticular directory or file\n",
    "os.rename(\"file_operations\\\\test1.txt\", \"file_operations\\\\abc.txt\")"
   ]
  },
  {
   "cell_type": "code",
   "execution_count": 171,
   "id": "f0adff64",
   "metadata": {},
   "outputs": [],
   "source": [
    "# this is use to create a new dir\n",
    "os.mkdir(\"harsh\")"
   ]
  },
  {
   "cell_type": "code",
   "execution_count": 172,
   "id": "b1d1b36c",
   "metadata": {},
   "outputs": [
    {
     "data": {
      "text/plain": [
       "'D://iNeuron//Python/file_operations/harsh'"
      ]
     },
     "execution_count": 172,
     "metadata": {},
     "output_type": "execute_result"
    }
   ],
   "source": [
    "# we can move dir also using this package\n",
    "import shutil\n",
    "# we have to give source then destination\n",
    "shutil.move(\"D:\\\\iNeuron\\\\Python\\\\harsh\",\"D://iNeuron//Python/file_operations/\")"
   ]
  },
  {
   "cell_type": "code",
   "execution_count": 173,
   "id": "5d6efff7",
   "metadata": {},
   "outputs": [
    {
     "data": {
      "text/plain": [
       "['.ipynb_checkpoints',\n",
       " 'file_operations',\n",
       " 'ineuron practice',\n",
       " 'Python Practice 1.ipynb',\n",
       " 'Python Practice 2.ipynb',\n",
       " 'Python Practice 3.ipynb']"
      ]
     },
     "execution_count": 173,
     "metadata": {},
     "output_type": "execute_result"
    }
   ],
   "source": [
    "os.listdir()"
   ]
  },
  {
   "cell_type": "markdown",
   "id": "c51cae8f",
   "metadata": {},
   "source": [
    "---\n",
    "### Quick Quizz\n",
    "1. Create a directory\n",
    "2. Create 10 txt file and write some data in all txt at a time.\n",
    "3. read all the data from this dir/file print in console\n",
    "4. hold all the data in a list\n",
    "5. write all the data in a new file from list\n",
    "6. keep only a new file in present dir and move rest in new dir"
   ]
  },
  {
   "cell_type": "code",
   "execution_count": 174,
   "id": "62317636",
   "metadata": {},
   "outputs": [
    {
     "name": "stdout",
     "output_type": "stream",
     "text": [
      "\n",
      "filename: table_of_10.txt\n",
      "10 x 1 = 10\n",
      "10 x 2 = 20\n",
      "10 x 3 = 30\n",
      "10 x 4 = 40\n",
      "10 x 5 = 50\n",
      "10 x 6 = 60\n",
      "10 x 7 = 70\n",
      "10 x 8 = 80\n",
      "10 x 9 = 90\n",
      "10 x 10 = 100\n",
      "\n",
      "filename: table_of_11.txt\n",
      "11 x 1 = 11\n",
      "11 x 2 = 22\n",
      "11 x 3 = 33\n",
      "11 x 4 = 44\n",
      "11 x 5 = 55\n",
      "11 x 6 = 66\n",
      "11 x 7 = 77\n",
      "11 x 8 = 88\n",
      "11 x 9 = 99\n",
      "11 x 10 = 110\n",
      "\n",
      "filename: table_of_2.txt\n",
      "2 x 1 = 2\n",
      "2 x 2 = 4\n",
      "2 x 3 = 6\n",
      "2 x 4 = 8\n",
      "2 x 5 = 10\n",
      "2 x 6 = 12\n",
      "2 x 7 = 14\n",
      "2 x 8 = 16\n",
      "2 x 9 = 18\n",
      "2 x 10 = 20\n",
      "\n",
      "filename: table_of_3.txt\n",
      "3 x 1 = 3\n",
      "3 x 2 = 6\n",
      "3 x 3 = 9\n",
      "3 x 4 = 12\n",
      "3 x 5 = 15\n",
      "3 x 6 = 18\n",
      "3 x 7 = 21\n",
      "3 x 8 = 24\n",
      "3 x 9 = 27\n",
      "3 x 10 = 30\n",
      "\n",
      "filename: table_of_4.txt\n",
      "4 x 1 = 4\n",
      "4 x 2 = 8\n",
      "4 x 3 = 12\n",
      "4 x 4 = 16\n",
      "4 x 5 = 20\n",
      "4 x 6 = 24\n",
      "4 x 7 = 28\n",
      "4 x 8 = 32\n",
      "4 x 9 = 36\n",
      "4 x 10 = 40\n",
      "\n",
      "filename: table_of_5.txt\n",
      "5 x 1 = 5\n",
      "5 x 2 = 10\n",
      "5 x 3 = 15\n",
      "5 x 4 = 20\n",
      "5 x 5 = 25\n",
      "5 x 6 = 30\n",
      "5 x 7 = 35\n",
      "5 x 8 = 40\n",
      "5 x 9 = 45\n",
      "5 x 10 = 50\n",
      "\n",
      "filename: table_of_6.txt\n",
      "6 x 1 = 6\n",
      "6 x 2 = 12\n",
      "6 x 3 = 18\n",
      "6 x 4 = 24\n",
      "6 x 5 = 30\n",
      "6 x 6 = 36\n",
      "6 x 7 = 42\n",
      "6 x 8 = 48\n",
      "6 x 9 = 54\n",
      "6 x 10 = 60\n",
      "\n",
      "filename: table_of_7.txt\n",
      "7 x 1 = 7\n",
      "7 x 2 = 14\n",
      "7 x 3 = 21\n",
      "7 x 4 = 28\n",
      "7 x 5 = 35\n",
      "7 x 6 = 42\n",
      "7 x 7 = 49\n",
      "7 x 8 = 56\n",
      "7 x 9 = 63\n",
      "7 x 10 = 70\n",
      "\n",
      "filename: table_of_8.txt\n",
      "8 x 1 = 8\n",
      "8 x 2 = 16\n",
      "8 x 3 = 24\n",
      "8 x 4 = 32\n",
      "8 x 5 = 40\n",
      "8 x 6 = 48\n",
      "8 x 7 = 56\n",
      "8 x 8 = 64\n",
      "8 x 9 = 72\n",
      "8 x 10 = 80\n",
      "\n",
      "filename: table_of_9.txt\n",
      "9 x 1 = 9\n",
      "9 x 2 = 18\n",
      "9 x 3 = 27\n",
      "9 x 4 = 36\n",
      "9 x 5 = 45\n",
      "9 x 6 = 54\n",
      "9 x 7 = 63\n",
      "9 x 8 = 72\n",
      "9 x 9 = 81\n",
      "9 x 10 = 90\n"
     ]
    }
   ],
   "source": [
    "import os\n",
    "\n",
    "#task 1\n",
    "os.mkdir(\"Task\")\n",
    "os.chdir(\"D:\\\\iNeuron\\\\Python\\\\Task\")\n",
    "\n",
    "# task 2\n",
    "for i in range(2,12):\n",
    "    with open(f\"table_of_{i}.txt\",'w') as f:\n",
    "        for j in range(1,11):\n",
    "            f.write(f\"{i} x {j} = {i*j}\")\n",
    "            if j!= 10:\n",
    "                f.write(\"\\n\")\n",
    "\n",
    "# task 3\n",
    "l=[]\n",
    "for i in os.listdir():\n",
    "    f = open(i,'r')\n",
    "    print(f\"\\nfilename: {i}\\n{f.read()}\")\n",
    "    \n",
    "    # task 4\n",
    "    f.seek(0)\n",
    "    l.append(f.readlines()) \n",
    "    f.close()\n",
    "\n",
    "# task 5\n",
    "f = open('new.txt','w')\n",
    "f.write(str(l))\n",
    "f.close()\n",
    "\n",
    "# task 6\n",
    "os.mkdir(\"D:\\\\iNeuron\\\\Python\\\\Task\\\\new_dir\")\n",
    "src=(\"D:\\\\iNeuron\\\\Python\\\\Task\\\\new_dir\")\n",
    "for i in os.listdir():\n",
    "    if i == 'new.txt':\n",
    "        continue\n",
    "    else:\n",
    "        shutil.move(i,src)"
   ]
  },
  {
   "cell_type": "code",
   "execution_count": 175,
   "id": "a2a962d6",
   "metadata": {},
   "outputs": [
    {
     "name": "stdout",
     "output_type": "stream",
     "text": [
      "[['10 x 1 = 10\\n', '10 x 2 = 20\\n', '10 x 3 = 30\\n', '10 x 4 = 40\\n', '10 x 5 = 50\\n', '10 x 6 = 60\\n', '10 x 7 = 70\\n', '10 x 8 = 80\\n', '10 x 9 = 90\\n', '10 x 10 = 100'], ['11 x 1 = 11\\n', '11 x 2 = 22\\n', '11 x 3 = 33\\n', '11 x 4 = 44\\n', '11 x 5 = 55\\n', '11 x 6 = 66\\n', '11 x 7 = 77\\n', '11 x 8 = 88\\n', '11 x 9 = 99\\n', '11 x 10 = 110'], ['2 x 1 = 2\\n', '2 x 2 = 4\\n', '2 x 3 = 6\\n', '2 x 4 = 8\\n', '2 x 5 = 10\\n', '2 x 6 = 12\\n', '2 x 7 = 14\\n', '2 x 8 = 16\\n', '2 x 9 = 18\\n', '2 x 10 = 20'], ['3 x 1 = 3\\n', '3 x 2 = 6\\n', '3 x 3 = 9\\n', '3 x 4 = 12\\n', '3 x 5 = 15\\n', '3 x 6 = 18\\n', '3 x 7 = 21\\n', '3 x 8 = 24\\n', '3 x 9 = 27\\n', '3 x 10 = 30'], ['4 x 1 = 4\\n', '4 x 2 = 8\\n', '4 x 3 = 12\\n', '4 x 4 = 16\\n', '4 x 5 = 20\\n', '4 x 6 = 24\\n', '4 x 7 = 28\\n', '4 x 8 = 32\\n', '4 x 9 = 36\\n', '4 x 10 = 40'], ['5 x 1 = 5\\n', '5 x 2 = 10\\n', '5 x 3 = 15\\n', '5 x 4 = 20\\n', '5 x 5 = 25\\n', '5 x 6 = 30\\n', '5 x 7 = 35\\n', '5 x 8 = 40\\n', '5 x 9 = 45\\n', '5 x 10 = 50'], ['6 x 1 = 6\\n', '6 x 2 = 12\\n', '6 x 3 = 18\\n', '6 x 4 = 24\\n', '6 x 5 = 30\\n', '6 x 6 = 36\\n', '6 x 7 = 42\\n', '6 x 8 = 48\\n', '6 x 9 = 54\\n', '6 x 10 = 60'], ['7 x 1 = 7\\n', '7 x 2 = 14\\n', '7 x 3 = 21\\n', '7 x 4 = 28\\n', '7 x 5 = 35\\n', '7 x 6 = 42\\n', '7 x 7 = 49\\n', '7 x 8 = 56\\n', '7 x 9 = 63\\n', '7 x 10 = 70'], ['8 x 1 = 8\\n', '8 x 2 = 16\\n', '8 x 3 = 24\\n', '8 x 4 = 32\\n', '8 x 5 = 40\\n', '8 x 6 = 48\\n', '8 x 7 = 56\\n', '8 x 8 = 64\\n', '8 x 9 = 72\\n', '8 x 10 = 80'], ['9 x 1 = 9\\n', '9 x 2 = 18\\n', '9 x 3 = 27\\n', '9 x 4 = 36\\n', '9 x 5 = 45\\n', '9 x 6 = 54\\n', '9 x 7 = 63\\n', '9 x 8 = 72\\n', '9 x 9 = 81\\n', '9 x 10 = 90']]\n"
     ]
    }
   ],
   "source": [
    "print(l)"
   ]
  },
  {
   "cell_type": "code",
   "execution_count": 176,
   "id": "0cc4a01e",
   "metadata": {},
   "outputs": [
    {
     "data": {
      "text/plain": [
       "'D:\\\\iNeuron\\\\Python\\\\Task'"
      ]
     },
     "execution_count": 176,
     "metadata": {},
     "output_type": "execute_result"
    }
   ],
   "source": [
    "pwd()"
   ]
  },
  {
   "cell_type": "code",
   "execution_count": 177,
   "id": "dfa42a22",
   "metadata": {},
   "outputs": [],
   "source": [
    "os.chdir('D:\\\\iNeuron\\\\Python')"
   ]
  },
  {
   "cell_type": "code",
   "execution_count": 178,
   "id": "59a62eaf",
   "metadata": {},
   "outputs": [
    {
     "data": {
      "text/plain": [
       "['.ipynb_checkpoints',\n",
       " 'file_operations',\n",
       " 'ineuron practice',\n",
       " 'Python Practice 1.ipynb',\n",
       " 'Python Practice 2.ipynb',\n",
       " 'Python Practice 3.ipynb',\n",
       " 'Task']"
      ]
     },
     "execution_count": 178,
     "metadata": {},
     "output_type": "execute_result"
    }
   ],
   "source": [
    "os.listdir()"
   ]
  },
  {
   "cell_type": "code",
   "execution_count": 180,
   "id": "e30bdb24",
   "metadata": {},
   "outputs": [
    {
     "ename": "TypeError",
     "evalue": "'tuple' object does not support item assignment",
     "output_type": "error",
     "traceback": [
      "\u001b[1;31m---------------------------------------------------------------------------\u001b[0m",
      "\u001b[1;31mTypeError\u001b[0m                                 Traceback (most recent call last)",
      "\u001b[1;32m<ipython-input-180-fd83d9cb0999>\u001b[0m in \u001b[0;36m<module>\u001b[1;34m\u001b[0m\n\u001b[0;32m      1\u001b[0m \u001b[0mtup\u001b[0m \u001b[1;33m=\u001b[0m \u001b[1;33m(\u001b[0m\u001b[1;36m1\u001b[0m\u001b[1;33m,\u001b[0m\u001b[1;33m[\u001b[0m\u001b[1;36m23\u001b[0m\u001b[1;33m,\u001b[0m\u001b[1;36m54\u001b[0m\u001b[1;33m,\u001b[0m\u001b[1;36m6\u001b[0m\u001b[1;33m]\u001b[0m\u001b[1;33m)\u001b[0m\u001b[1;33m\u001b[0m\u001b[1;33m\u001b[0m\u001b[0m\n\u001b[1;32m----> 2\u001b[1;33m \u001b[0mtup\u001b[0m\u001b[1;33m[\u001b[0m\u001b[1;36m0\u001b[0m\u001b[1;33m]\u001b[0m \u001b[1;33m=\u001b[0m \u001b[1;36m48\u001b[0m\u001b[1;33m\u001b[0m\u001b[1;33m\u001b[0m\u001b[0m\n\u001b[0m\u001b[0;32m      3\u001b[0m \u001b[0mprint\u001b[0m\u001b[1;33m(\u001b[0m\u001b[0mtup\u001b[0m\u001b[1;33m)\u001b[0m\u001b[1;33m\u001b[0m\u001b[1;33m\u001b[0m\u001b[0m\n",
      "\u001b[1;31mTypeError\u001b[0m: 'tuple' object does not support item assignment"
     ]
    }
   ],
   "source": [
    "tup = (1,[23,54,6],(3,5,7))\n",
    "tup[2][1] = 48\n",
    "print(tup)"
   ]
  },
  {
   "cell_type": "code",
   "execution_count": null,
   "id": "27148b21",
   "metadata": {},
   "outputs": [],
   "source": []
  }
 ],
 "metadata": {
  "kernelspec": {
   "display_name": "Python 3",
   "language": "python",
   "name": "python3"
  },
  "language_info": {
   "codemirror_mode": {
    "name": "ipython",
    "version": 3
   },
   "file_extension": ".py",
   "mimetype": "text/x-python",
   "name": "python",
   "nbconvert_exporter": "python",
   "pygments_lexer": "ipython3",
   "version": "3.7.9"
  }
 },
 "nbformat": 4,
 "nbformat_minor": 5
}
